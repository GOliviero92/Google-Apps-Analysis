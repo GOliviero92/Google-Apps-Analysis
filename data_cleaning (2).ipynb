{
 "cells": [
  {
   "cell_type": "markdown",
   "id": "a1cb0659",
   "metadata": {
    "id": "a1cb0659"
   },
   "source": [
    "# **Google Play Store Apps Analysis**\n",
    "\n",
    "This notebook includes the procedure of cleaning data with pandas methods on google play store apps data obtained from [Kaggle](https://www.kaggle.com/datasets/lava18/google-play-store-apps) and making a descriptive analysis of it with seaborn methods.\n",
    "\n",
    "## 1) Import Libraries"
   ]
  },
  {
   "cell_type": "code",
   "execution_count": 2,
   "id": "ec3287bb",
   "metadata": {
    "ExecuteTime": {
     "end_time": "2022-04-12T08:00:58.017793Z",
     "start_time": "2022-04-12T08:00:57.106402Z"
    },
    "id": "ec3287bb"
   },
   "outputs": [],
   "source": [
    "# import necessary libraries\n",
    "import numpy as np\n",
    "import pandas as pd\n",
    "import seaborn as sns\n",
    "import matplotlib.pyplot as plt\n",
    "import missingno as ms\n",
    "from IPython.display import display_html\n",
    "import os\n",
    "import re"
   ]
  },
  {
   "cell_type": "markdown",
   "id": "c0137843",
   "metadata": {
    "id": "c0137843"
   },
   "source": [
    "## 2) Data Acquisition\n",
    "\n",
    "Google play store apps data is acquired from [Kaggle](https://www.kaggle.com/datasets/lava18/google-play-store-apps) as two csv files *googleplaystore.csv* for app features and *googleplaystore_user_reviews.csv* for app reviews. We will load these datasets into two dataframes ***df_feature*** and ***df_review***.\n",
    "\n",
    "#### Feature Data:"
   ]
  },
  {
   "cell_type": "code",
   "execution_count": 3,
   "id": "c4b5315f",
   "metadata": {
    "ExecuteTime": {
     "end_time": "2022-04-12T08:00:59.172305Z",
     "start_time": "2022-04-12T08:00:59.125529Z"
    }
   },
   "outputs": [
    {
     "data": {
      "text/html": [
       "<div>\n",
       "<style scoped>\n",
       "    .dataframe tbody tr th:only-of-type {\n",
       "        vertical-align: middle;\n",
       "    }\n",
       "\n",
       "    .dataframe tbody tr th {\n",
       "        vertical-align: top;\n",
       "    }\n",
       "\n",
       "    .dataframe thead th {\n",
       "        text-align: right;\n",
       "    }\n",
       "</style>\n",
       "<table border=\"1\" class=\"dataframe\">\n",
       "  <thead>\n",
       "    <tr style=\"text-align: right;\">\n",
       "      <th></th>\n",
       "      <th>App</th>\n",
       "      <th>Category</th>\n",
       "      <th>Rating</th>\n",
       "      <th>Reviews</th>\n",
       "      <th>Size</th>\n",
       "      <th>Installs</th>\n",
       "      <th>Type</th>\n",
       "      <th>Price</th>\n",
       "      <th>Content Rating</th>\n",
       "      <th>Genres</th>\n",
       "      <th>Last Updated</th>\n",
       "      <th>Current Ver</th>\n",
       "      <th>Android Ver</th>\n",
       "    </tr>\n",
       "  </thead>\n",
       "  <tbody>\n",
       "    <tr>\n",
       "      <th>0</th>\n",
       "      <td>Photo Editor &amp; Candy Camera &amp; Grid &amp; ScrapBook</td>\n",
       "      <td>ART_AND_DESIGN</td>\n",
       "      <td>4.1</td>\n",
       "      <td>159</td>\n",
       "      <td>19M</td>\n",
       "      <td>10,000+</td>\n",
       "      <td>Free</td>\n",
       "      <td>0</td>\n",
       "      <td>Everyone</td>\n",
       "      <td>Art &amp; Design</td>\n",
       "      <td>January 7, 2018</td>\n",
       "      <td>1.0.0</td>\n",
       "      <td>4.0.3 and up</td>\n",
       "    </tr>\n",
       "    <tr>\n",
       "      <th>1</th>\n",
       "      <td>Coloring book moana</td>\n",
       "      <td>ART_AND_DESIGN</td>\n",
       "      <td>3.9</td>\n",
       "      <td>967</td>\n",
       "      <td>14M</td>\n",
       "      <td>500,000+</td>\n",
       "      <td>Free</td>\n",
       "      <td>0</td>\n",
       "      <td>Everyone</td>\n",
       "      <td>Art &amp; Design;Pretend Play</td>\n",
       "      <td>January 15, 2018</td>\n",
       "      <td>2.0.0</td>\n",
       "      <td>4.0.3 and up</td>\n",
       "    </tr>\n",
       "    <tr>\n",
       "      <th>2</th>\n",
       "      <td>U Launcher Lite – FREE Live Cool Themes, Hide ...</td>\n",
       "      <td>ART_AND_DESIGN</td>\n",
       "      <td>4.7</td>\n",
       "      <td>87510</td>\n",
       "      <td>8.7M</td>\n",
       "      <td>5,000,000+</td>\n",
       "      <td>Free</td>\n",
       "      <td>0</td>\n",
       "      <td>Everyone</td>\n",
       "      <td>Art &amp; Design</td>\n",
       "      <td>August 1, 2018</td>\n",
       "      <td>1.2.4</td>\n",
       "      <td>4.0.3 and up</td>\n",
       "    </tr>\n",
       "    <tr>\n",
       "      <th>3</th>\n",
       "      <td>Sketch - Draw &amp; Paint</td>\n",
       "      <td>ART_AND_DESIGN</td>\n",
       "      <td>4.5</td>\n",
       "      <td>215644</td>\n",
       "      <td>25M</td>\n",
       "      <td>50,000,000+</td>\n",
       "      <td>Free</td>\n",
       "      <td>0</td>\n",
       "      <td>Teen</td>\n",
       "      <td>Art &amp; Design</td>\n",
       "      <td>June 8, 2018</td>\n",
       "      <td>Varies with device</td>\n",
       "      <td>4.2 and up</td>\n",
       "    </tr>\n",
       "    <tr>\n",
       "      <th>4</th>\n",
       "      <td>Pixel Draw - Number Art Coloring Book</td>\n",
       "      <td>ART_AND_DESIGN</td>\n",
       "      <td>4.3</td>\n",
       "      <td>967</td>\n",
       "      <td>2.8M</td>\n",
       "      <td>100,000+</td>\n",
       "      <td>Free</td>\n",
       "      <td>0</td>\n",
       "      <td>Everyone</td>\n",
       "      <td>Art &amp; Design;Creativity</td>\n",
       "      <td>June 20, 2018</td>\n",
       "      <td>1.1</td>\n",
       "      <td>4.4 and up</td>\n",
       "    </tr>\n",
       "  </tbody>\n",
       "</table>\n",
       "</div>"
      ],
      "text/plain": [
       "                                                 App        Category  Rating  \\\n",
       "0     Photo Editor & Candy Camera & Grid & ScrapBook  ART_AND_DESIGN     4.1   \n",
       "1                                Coloring book moana  ART_AND_DESIGN     3.9   \n",
       "2  U Launcher Lite – FREE Live Cool Themes, Hide ...  ART_AND_DESIGN     4.7   \n",
       "3                              Sketch - Draw & Paint  ART_AND_DESIGN     4.5   \n",
       "4              Pixel Draw - Number Art Coloring Book  ART_AND_DESIGN     4.3   \n",
       "\n",
       "  Reviews  Size     Installs  Type Price Content Rating  \\\n",
       "0     159   19M      10,000+  Free     0       Everyone   \n",
       "1     967   14M     500,000+  Free     0       Everyone   \n",
       "2   87510  8.7M   5,000,000+  Free     0       Everyone   \n",
       "3  215644   25M  50,000,000+  Free     0           Teen   \n",
       "4     967  2.8M     100,000+  Free     0       Everyone   \n",
       "\n",
       "                      Genres      Last Updated         Current Ver  \\\n",
       "0               Art & Design   January 7, 2018               1.0.0   \n",
       "1  Art & Design;Pretend Play  January 15, 2018               2.0.0   \n",
       "2               Art & Design    August 1, 2018               1.2.4   \n",
       "3               Art & Design      June 8, 2018  Varies with device   \n",
       "4    Art & Design;Creativity     June 20, 2018                 1.1   \n",
       "\n",
       "    Android Ver  \n",
       "0  4.0.3 and up  \n",
       "1  4.0.3 and up  \n",
       "2  4.0.3 and up  \n",
       "3    4.2 and up  \n",
       "4    4.4 and up  "
      ]
     },
     "execution_count": 3,
     "metadata": {},
     "output_type": "execute_result"
    }
   ],
   "source": [
    "df_feature=pd.read_csv('googleplaystore.csv')\n",
    "df_feature.head()"
   ]
  },
  {
   "cell_type": "code",
   "execution_count": 5,
   "id": "d3379472",
   "metadata": {
    "ExecuteTime": {
     "end_time": "2022-04-12T08:05:53.425551Z",
     "start_time": "2022-04-12T08:05:53.406729Z"
    }
   },
   "outputs": [
    {
     "name": "stdout",
     "output_type": "stream",
     "text": [
      "<class 'pandas.core.frame.DataFrame'>\n",
      "RangeIndex: 10841 entries, 0 to 10840\n",
      "Data columns (total 13 columns):\n",
      " #   Column          Non-Null Count  Dtype  \n",
      "---  ------          --------------  -----  \n",
      " 0   App             10841 non-null  object \n",
      " 1   Category        10841 non-null  object \n",
      " 2   Rating          9367 non-null   float64\n",
      " 3   Reviews         10841 non-null  object \n",
      " 4   Size            10841 non-null  object \n",
      " 5   Installs        10841 non-null  object \n",
      " 6   Type            10840 non-null  object \n",
      " 7   Price           10841 non-null  object \n",
      " 8   Content Rating  10840 non-null  object \n",
      " 9   Genres          10841 non-null  object \n",
      " 10  Last Updated    10841 non-null  object \n",
      " 11  Current Ver     10833 non-null  object \n",
      " 12  Android Ver     10838 non-null  object \n",
      "dtypes: float64(1), object(12)\n",
      "memory usage: 1.1+ MB\n"
     ]
    }
   ],
   "source": [
    "df_feature.info()"
   ]
  },
  {
   "cell_type": "code",
   "execution_count": 6,
   "id": "0bb5029a",
   "metadata": {
    "ExecuteTime": {
     "end_time": "2022-04-12T08:06:04.085061Z",
     "start_time": "2022-04-12T08:06:04.067670Z"
    }
   },
   "outputs": [
    {
     "data": {
      "text/plain": [
       "App                  0\n",
       "Category             0\n",
       "Rating            1474\n",
       "Reviews              0\n",
       "Size                 0\n",
       "Installs             0\n",
       "Type                 1\n",
       "Price                0\n",
       "Content Rating       1\n",
       "Genres               0\n",
       "Last Updated         0\n",
       "Current Ver          8\n",
       "Android Ver          3\n",
       "dtype: int64"
      ]
     },
     "execution_count": 6,
     "metadata": {},
     "output_type": "execute_result"
    }
   ],
   "source": [
    "df_feature.isna().sum()"
   ]
  },
  {
   "cell_type": "code",
   "execution_count": 7,
   "id": "0446002c",
   "metadata": {
    "ExecuteTime": {
     "end_time": "2022-04-12T08:06:06.339535Z",
     "start_time": "2022-04-12T08:06:05.931916Z"
    }
   },
   "outputs": [
    {
     "data": {
      "text/plain": [
       "<AxesSubplot:>"
      ]
     },
     "execution_count": 7,
     "metadata": {},
     "output_type": "execute_result"
    },
    {
     "data": {
      "image/png": "[encoded data removed]",
      "text/plain": [
       "<Figure size 1800x720 with 2 Axes>"
      ]
     },
     "metadata": {
      "needs_background": "light"
     },
     "output_type": "display_data"
    }
   ],
   "source": [
    "#Missingno for features dataset. Confirms the observations from previous cell.\n",
    "ms.matrix(df_feature)\n",
    "#"
   ]
  },
  {
   "cell_type": "markdown",
   "id": "44f1907a",
   "metadata": {
    "id": "44f1907a"
   },
   "source": [
    "#### Review Data:"
   ]
  },
  {
   "cell_type": "code",
   "execution_count": 8,
   "id": "63251392",
   "metadata": {
    "ExecuteTime": {
     "end_time": "2022-04-12T08:06:08.514905Z",
     "start_time": "2022-04-12T08:06:08.421964Z"
    },
    "colab": {
     "base_uri": "https://localhost:8080/"
    },
    "executionInfo": {
     "elapsed": 237,
     "status": "ok",
     "timestamp": 1649701258251,
     "user": {
      "displayName": "Beste Ekmen",
      "userId": "11878826678536972208"
     },
     "user_tz": -180
    },
    "id": "63251392",
    "outputId": "a286ae94-f00a-4220-ecf0-c34fc3eab617"
   },
   "outputs": [
    {
     "data": {
      "text/html": [
       "<div>\n",
       "<style scoped>\n",
       "    .dataframe tbody tr th:only-of-type {\n",
       "        vertical-align: middle;\n",
       "    }\n",
       "\n",
       "    .dataframe tbody tr th {\n",
       "        vertical-align: top;\n",
       "    }\n",
       "\n",
       "    .dataframe thead th {\n",
       "        text-align: right;\n",
       "    }\n",
       "</style>\n",
       "<table border=\"1\" class=\"dataframe\">\n",
       "  <thead>\n",
       "    <tr style=\"text-align: right;\">\n",
       "      <th></th>\n",
       "      <th>App</th>\n",
       "      <th>Translated_Review</th>\n",
       "      <th>Sentiment</th>\n",
       "      <th>Sentiment_Polarity</th>\n",
       "      <th>Sentiment_Subjectivity</th>\n",
       "    </tr>\n",
       "  </thead>\n",
       "  <tbody>\n",
       "    <tr>\n",
       "      <th>0</th>\n",
       "      <td>10 Best Foods for You</td>\n",
       "      <td>I like eat delicious food. That's I'm cooking ...</td>\n",
       "      <td>Positive</td>\n",
       "      <td>1.00</td>\n",
       "      <td>0.533333</td>\n",
       "    </tr>\n",
       "    <tr>\n",
       "      <th>1</th>\n",
       "      <td>10 Best Foods for You</td>\n",
       "      <td>This help eating healthy exercise regular basis</td>\n",
       "      <td>Positive</td>\n",
       "      <td>0.25</td>\n",
       "      <td>0.288462</td>\n",
       "    </tr>\n",
       "    <tr>\n",
       "      <th>2</th>\n",
       "      <td>10 Best Foods for You</td>\n",
       "      <td>NaN</td>\n",
       "      <td>NaN</td>\n",
       "      <td>NaN</td>\n",
       "      <td>NaN</td>\n",
       "    </tr>\n",
       "    <tr>\n",
       "      <th>3</th>\n",
       "      <td>10 Best Foods for You</td>\n",
       "      <td>Works great especially going grocery store</td>\n",
       "      <td>Positive</td>\n",
       "      <td>0.40</td>\n",
       "      <td>0.875000</td>\n",
       "    </tr>\n",
       "    <tr>\n",
       "      <th>4</th>\n",
       "      <td>10 Best Foods for You</td>\n",
       "      <td>Best idea us</td>\n",
       "      <td>Positive</td>\n",
       "      <td>1.00</td>\n",
       "      <td>0.300000</td>\n",
       "    </tr>\n",
       "  </tbody>\n",
       "</table>\n",
       "</div>"
      ],
      "text/plain": [
       "                     App                                  Translated_Review  \\\n",
       "0  10 Best Foods for You  I like eat delicious food. That's I'm cooking ...   \n",
       "1  10 Best Foods for You    This help eating healthy exercise regular basis   \n",
       "2  10 Best Foods for You                                                NaN   \n",
       "3  10 Best Foods for You         Works great especially going grocery store   \n",
       "4  10 Best Foods for You                                       Best idea us   \n",
       "\n",
       "  Sentiment  Sentiment_Polarity  Sentiment_Subjectivity  \n",
       "0  Positive                1.00                0.533333  \n",
       "1  Positive                0.25                0.288462  \n",
       "2       NaN                 NaN                     NaN  \n",
       "3  Positive                0.40                0.875000  \n",
       "4  Positive                1.00                0.300000  "
      ]
     },
     "execution_count": 8,
     "metadata": {},
     "output_type": "execute_result"
    }
   ],
   "source": [
    "# load the review data\n",
    "df_review=pd.read_csv('googleplaystore_user_reviews.csv')\n",
    "df_review.head()"
   ]
  },
  {
   "cell_type": "code",
   "execution_count": 9,
   "id": "14d5b426",
   "metadata": {
    "ExecuteTime": {
     "end_time": "2022-04-12T08:06:10.960044Z",
     "start_time": "2022-04-12T08:06:10.933489Z"
    },
    "colab": {
     "base_uri": "https://localhost:8080/",
     "height": 206
    },
    "executionInfo": {
     "elapsed": 249,
     "status": "ok",
     "timestamp": 1649701260868,
     "user": {
      "displayName": "Beste Ekmen",
      "userId": "11878826678536972208"
     },
     "user_tz": -180
    },
    "id": "14d5b426",
    "outputId": "2ed8dc5b-5413-4636-a8f0-b83d8b4c1dc3"
   },
   "outputs": [
    {
     "name": "stdout",
     "output_type": "stream",
     "text": [
      "<class 'pandas.core.frame.DataFrame'>\n",
      "RangeIndex: 64295 entries, 0 to 64294\n",
      "Data columns (total 5 columns):\n",
      " #   Column                  Non-Null Count  Dtype  \n",
      "---  ------                  --------------  -----  \n",
      " 0   App                     64295 non-null  object \n",
      " 1   Translated_Review       37427 non-null  object \n",
      " 2   Sentiment               37432 non-null  object \n",
      " 3   Sentiment_Polarity      37432 non-null  float64\n",
      " 4   Sentiment_Subjectivity  37432 non-null  float64\n",
      "dtypes: float64(2), object(3)\n",
      "memory usage: 2.5+ MB\n"
     ]
    }
   ],
   "source": [
    "# observe the new dataframe details\n",
    "df_review.info(verbose=True)\n",
    "\n",
    "#Observations (Gaia): the last three column are very consistent. Interesting to notice that there are 5 translated reviews\n",
    "# less than the sentiment columns values, and yet still those 5 non-existent reviews have been evaluated. How is it possible?"
   ]
  },
  {
   "cell_type": "code",
   "execution_count": 10,
   "id": "40a0b24e",
   "metadata": {
    "ExecuteTime": {
     "end_time": "2022-04-12T08:06:13.043374Z",
     "start_time": "2022-04-12T08:06:13.019083Z"
    }
   },
   "outputs": [
    {
     "data": {
      "text/plain": [
       "App                           0\n",
       "Translated_Review         26868\n",
       "Sentiment                 26863\n",
       "Sentiment_Polarity        26863\n",
       "Sentiment_Subjectivity    26863\n",
       "dtype: int64"
      ]
     },
     "execution_count": 10,
     "metadata": {},
     "output_type": "execute_result"
    }
   ],
   "source": [
    "df_review.isna().sum()"
   ]
  },
  {
   "cell_type": "code",
   "execution_count": 11,
   "id": "177fb508",
   "metadata": {
    "ExecuteTime": {
     "end_time": "2022-04-12T08:06:15.521505Z",
     "start_time": "2022-04-12T08:06:15.169225Z"
    }
   },
   "outputs": [
    {
     "data": {
      "text/plain": [
       "<AxesSubplot:>"
      ]
     },
     "execution_count": 11,
     "metadata": {},
     "output_type": "execute_result"
    },
    {
     "data": {
      "image/png": "[encoded data removed]",
      "text/plain": [
       "<Figure size 1800x720 with 2 Axes>"
      ]
     },
     "metadata": {
      "needs_background": "light"
     },
     "output_type": "display_data"
    }
   ],
   "source": [
    "#Missingno for reviews dataset. Confirms the observations from previous cell.\n",
    "ms.matrix(df_review)"
   ]
  },
  {
   "cell_type": "code",
   "execution_count": null,
   "id": "d37e4a5d",
   "metadata": {
    "id": "d37e4a5d"
   },
   "outputs": [],
   "source": [
    "# THIS CODE CAN BE USED AFTER DATA CLEANING\n",
    "\n",
    "# save raw data for emergency uses\n",
    "if not os.path.exists('data'):\n",
    "    os.mkdir('data')\n",
    "df_feature.to_csv(os.path.join('data', 'raw_feature.csv'), encoding='utf-8-sig')\n",
    "df_review.to_csv(os.path.join('data', 'raw_review.csv'), encoding='utf-8-sig')"
   ]
  },
  {
   "cell_type": "markdown",
   "id": "50402843",
   "metadata": {
    "id": "50402843"
   },
   "source": [
    "## 3) Data Conversion\n",
    "We will convert the 'object' type columns into str or numeric to perform imputation later. We rename columns as code friendly for easier access."
   ]
  },
  {
   "cell_type": "code",
   "execution_count": 12,
   "id": "15248fe0",
   "metadata": {
    "ExecuteTime": {
     "end_time": "2022-04-12T08:06:20.759582Z",
     "start_time": "2022-04-12T08:06:20.750722Z"
    },
    "colab": {
     "base_uri": "https://localhost:8080/"
    },
    "executionInfo": {
     "elapsed": 307,
     "status": "ok",
     "timestamp": 1649701276065,
     "user": {
      "displayName": "Beste Ekmen",
      "userId": "11878826678536972208"
     },
     "user_tz": -180
    },
    "id": "15248fe0",
    "outputId": "eec93109-319b-41f5-ad56-1f19566fb60e"
   },
   "outputs": [
    {
     "name": "stdout",
     "output_type": "stream",
     "text": [
      "Feature: app, category, rating, reviews, size, installs, type, price, content_rating, genres, last_updated, current_ver, android_ver\n",
      "Review: app, translated_review, sentiment, sentiment_polarity, sentiment_subjectivity\n"
     ]
    }
   ],
   "source": [
    "# rename columns to remove spaces\n",
    "df_feature.columns = df_feature.columns.str.lower().str.replace(' ','_')\n",
    "df_review.columns = df_review.columns.str.lower().str.replace(' ','_')\n",
    "\n",
    "# show new column names\n",
    "print(\"Feature:\", end=\" \")\n",
    "print(*df_feature.columns.values, sep = \", \", end=\"\\n\")\n",
    "print(\"Review:\", end=\" \")\n",
    "print(*df_review.columns.values, sep = \", \", end=\"\\n\")"
   ]
  },
  {
   "cell_type": "code",
   "execution_count": 13,
   "id": "d9cf11cf",
   "metadata": {
    "ExecuteTime": {
     "end_time": "2022-04-12T08:06:24.416871Z",
     "start_time": "2022-04-12T08:06:24.295359Z"
    },
    "id": "d9cf11cf"
   },
   "outputs": [
    {
     "name": "stdout",
     "output_type": "stream",
     "text": [
      "<class 'pandas.core.frame.DataFrame'>\n",
      "RangeIndex: 10841 entries, 0 to 10840\n",
      "Data columns (total 13 columns):\n",
      " #   Column          Non-Null Count  Dtype  \n",
      "---  ------          --------------  -----  \n",
      " 0   app             10841 non-null  object \n",
      " 1   category        10841 non-null  object \n",
      " 2   rating          9367 non-null   float64\n",
      " 3   reviews         10840 non-null  float64\n",
      " 4   size            10841 non-null  object \n",
      " 5   installs        10841 non-null  object \n",
      " 6   type            10840 non-null  object \n",
      " 7   price           10841 non-null  object \n",
      " 8   content_rating  10840 non-null  object \n",
      " 9   genres          10841 non-null  object \n",
      " 10  last_updated    10841 non-null  object \n",
      " 11  current_ver     10833 non-null  object \n",
      " 12  android_ver     10838 non-null  object \n",
      "dtypes: float64(2), object(11)\n",
      "memory usage: 1.1+ MB\n"
     ]
    }
   ],
   "source": [
    "# numeric conversion of numeric data, reassign nonnumeric values as NaN (reviews, installs,price,)\n",
    "df_feature.reviews = df_feature.reviews.apply(pd.to_numeric, errors='coerce')\n",
    "\n",
    "df_feature.info()\n",
    "\n",
    "# string conversion of text data or numeric data with additional text\n",
    "\n",
    "# CODE HERE"
   ]
  },
  {
   "cell_type": "markdown",
   "id": "8446b12b",
   "metadata": {
    "id": "8446b12b"
   },
   "source": [
    "## 4) Data Imputation\n",
    "We check the initial empty cell rates per column within the data frame for further operations."
   ]
  },
  {
   "cell_type": "code",
   "execution_count": null,
   "id": "1eb58814",
   "metadata": {
    "ExecuteTime": {
     "end_time": "2022-04-12T06:29:36.899179Z",
     "start_time": "2022-04-12T06:29:36.892035Z"
    },
    "id": "1eb58814"
   },
   "outputs": [],
   "source": [
    "# TODO: Some parts are hardcoded, which is to be parametrized later\n",
    "\n",
    "def findEmpty(df):\n",
    "    percentages = []\n",
    "    labels = []\n",
    "    str_ = \"\"\n",
    "\n",
    "    # iterate over data\n",
    "    for col in df.columns:\n",
    "        # percentage of null cells in the whole column\n",
    "        p_missing = np.mean(df[col].isnull())\n",
    "        # sum of null cells in the whole column\n",
    "        missing = df[col].isnull().sum()\n",
    "        percentages.append(p_missing*100)\n",
    "        labels.append(col)\n",
    "        # generate a string to print out results with numbers\n",
    "        if(missing):\n",
    "            str_ += \"\\n\" + col + \" - \" + str(missing) + \" / \" + str(len(df[col]))\n",
    "    return percentages, labels, str_\n",
    "\n",
    "\n",
    "def plotEmpty(names, *dfs):\n",
    "    # common plot calls\n",
    "    text_kwargs = dict(ha='left', va='top', fontsize=12)\n",
    "    plt.figure(num=None, figsize=(len(dfs)*6, 4))\n",
    "    \n",
    "    # color list to change color on each graph\n",
    "    colors = ['skyblue','teal','pink','turquoise','maroon','navyblue']\n",
    "    \n",
    "    for idx, df in enumerate(dfs):\n",
    "        percentages, labels, str_ = findEmpty(df)\n",
    "        \n",
    "        # plot results with bar plot\n",
    "        ticks = list(range(1, len(labels)+1))\n",
    "        plt.subplot(1, len(dfs), idx+1)\n",
    "        plt.bar(ticks, percentages, color=colors[idx])\n",
    "        plt.xticks(ticks, labels, rotation=75)\n",
    "        plt.ylim(0, 120)\n",
    "        plt.text(4.8, 125, str_, **text_kwargs)\n",
    "        for index, value in enumerate(percentages):\n",
    "            plt.text(index+1, value, str(int(value)), ha='center', va='bottom')\n",
    "        plt.ylabel('Percentages')\n",
    "        plt.title(names[idx]+' Empty Cell Percentages')\n",
    "        \n",
    "    plt.show()"
   ]
  },
  {
   "cell_type": "code",
   "execution_count": null,
   "id": "662fbbd7",
   "metadata": {
    "id": "662fbbd7"
   },
   "outputs": [],
   "source": [
    "# plot empty columns of datasets\n",
    "plotEmpty([\"Feature\", \"Review\"], df_feature, df_review)"
   ]
  },
  {
   "cell_type": "markdown",
   "id": "16043ab3",
   "metadata": {
    "id": "16043ab3"
   },
   "source": [
    "### 4.1) Drop Empty Columns\n",
    "Drop the columns ..."
   ]
  },
  {
   "cell_type": "code",
   "execution_count": null,
   "id": "f6c6fc47",
   "metadata": {
    "id": "f6c6fc47"
   },
   "outputs": [],
   "source": [
    "# drop emtpy and unnecessary columns, perform operation inplace without creating copies\n",
    "'''df_anidb.drop(columns=['image', 'award', 'no'], inplace=True)\n",
    "df_boxof.drop(columns=['rank'], inplace=True)'''\n",
    "\n",
    "# CODE HERE"
   ]
  },
  {
   "cell_type": "markdown",
   "id": "32718fdc",
   "metadata": {
    "id": "32718fdc"
   },
   "source": [
    "In such case, tresholds can be used as well."
   ]
  },
  {
   "cell_type": "code",
   "execution_count": null,
   "id": "991408cc",
   "metadata": {
    "id": "991408cc"
   },
   "outputs": [],
   "source": [
    "# threshold = 0.7\n",
    "# drop columns with missing value rate higher than threshold\n",
    "# df_anidb = df_anidb[df_anidb.columns[df_anidb.isnull().mean() < threshold]]\n",
    "\n",
    "# drop rows with missing value rate higher than threshold\n",
    "# df_anidb = df_anidb.loc[df_anidb.isnull().mean(axis=1) < threshold]"
   ]
  },
  {
   "cell_type": "markdown",
   "id": "8855c870",
   "metadata": {
    "id": "8855c870"
   },
   "source": [
    "### 4.2) Numerical Imputation\n",
    "We may now fill NaN values with column specific solutions. \n",
    "\n",
    "#### Feature Data:"
   ]
  },
  {
   "cell_type": "code",
   "execution_count": null,
   "id": "c5808700",
   "metadata": {
    "id": "c5808700"
   },
   "outputs": [],
   "source": [
    "# Check locations for empty cells to view: np.where(df_anidb.isnull())\n",
    "# fill missing values of numerical column cells with medians of the columns\n",
    "'''df_boxof = df_boxof.fillna(df_boxof.median(numeric_only=True))'''\n",
    "\n",
    "# CODE HERE\n",
    "\n",
    "# recheck the previous samples\n",
    "\n",
    "# CODE HERE"
   ]
  },
  {
   "cell_type": "markdown",
   "id": "56089841",
   "metadata": {
    "id": "56089841"
   },
   "source": [
    "#### Review Data:"
   ]
  },
  {
   "cell_type": "code",
   "execution_count": null,
   "id": "340ab23a",
   "metadata": {
    "id": "340ab23a"
   },
   "outputs": [],
   "source": [
    "# Check locations for empty cells to view: np.where(df_anidb.isnull())\n",
    "# fill missing values of numerical column cells with medians of the columns\n",
    "\n",
    "# CODE HERE\n",
    "\n",
    "# recheck the previous samples\n",
    "\n",
    "# CODE HERE"
   ]
  },
  {
   "cell_type": "markdown",
   "id": "f4d7e5e1",
   "metadata": {
    "id": "f4d7e5e1"
   },
   "source": [
    "### 4.3) Categorical Imputation\n",
    "We will use the maximum occured valuefor missing text data."
   ]
  },
  {
   "cell_type": "code",
   "execution_count": null,
   "id": "56268339",
   "metadata": {
    "id": "56268339"
   },
   "outputs": [],
   "source": [
    "# max fill function for categorical columns\n",
    "'''df_anidb.aired.fillna(df_anidb.aired.value_counts().idxmax(), inplace=True)'''\n",
    "\n",
    "# CODE HERE"
   ]
  },
  {
   "cell_type": "markdown",
   "id": "a4588988",
   "metadata": {
    "id": "a4588988"
   },
   "source": [
    "After completing the imputation, we will check for the remaining empty cells."
   ]
  },
  {
   "cell_type": "code",
   "execution_count": null,
   "id": "638a3cc1",
   "metadata": {
    "id": "638a3cc1"
   },
   "outputs": [],
   "source": [
    "# check if there are any empty entries left\n",
    "# print(\"Anidb:\", df_anidb.isnull().values.sum(), \"empty entries.\")\n",
    "# print(\"Boxoffice:\", df_boxof.isnull().values.sum(), \"empty entries.\")"
   ]
  },
  {
   "cell_type": "code",
   "execution_count": null,
   "id": "f2cc6952",
   "metadata": {
    "id": "f2cc6952"
   },
   "outputs": [],
   "source": [
    "# check if there are any empty entries left\n",
    "plotEmpty([\"Feature\", \"Review\"], df_feature, df_review)"
   ]
  },
  {
   "cell_type": "code",
   "execution_count": null,
   "id": "cceb3b33",
   "metadata": {
    "id": "cceb3b33"
   },
   "outputs": [],
   "source": [
    "# create a function for side by side printing of dataframes\n",
    "def print_stacked(names, *dfs):\n",
    "    stacked = \"\"\n",
    "    for idx, df in enumerate(dfs):\n",
    "        stacked += df.style.set_table_attributes(\"style='display:inline'\").set_caption(names[idx])._repr_html_() + \"&nbsp;\"*10\n",
    "    display_html(stacked, raw=True)\n",
    "\n",
    "# observe numerical columns description of both tables\n",
    "print_stacked([\"Feature\", \"Review\"], df_feature.describe(), df_review.describe())"
   ]
  },
  {
   "cell_type": "markdown",
   "id": "85649514",
   "metadata": {
    "id": "85649514"
   },
   "source": [
    "### 4.4) Missing Date Values\n",
    "..."
   ]
  },
  {
   "cell_type": "code",
   "execution_count": null,
   "id": "c6765092",
   "metadata": {
    "id": "c6765092"
   },
   "outputs": [],
   "source": [
    "# replace missing dates"
   ]
  },
  {
   "cell_type": "markdown",
   "id": "111acfa5",
   "metadata": {
    "id": "111acfa5"
   },
   "source": [
    "## 5) Extract Date\n",
    "We will extract the date information from strings given in various formats.\n",
    "\n",
    "#### Feature Data:"
   ]
  },
  {
   "cell_type": "code",
   "execution_count": null,
   "id": "6185f43f",
   "metadata": {
    "id": "6185f43f"
   },
   "outputs": [],
   "source": [
    "# extract the year in a new column 'update_year'\n",
    "df_feature.insert(loc=(df_feature.columns.get_loc('last_updated')),\n",
    "                        column='update_year', \n",
    "                        value=df_feature.last_updated.dt.year)\n",
    "\n",
    "# extract the month in a new column 'update_month'\n",
    "df_feature.insert(loc=(df_feature.columns.get_loc('last_updated')),\n",
    "                        column='update_month', \n",
    "                        value=df_feature.last_updated.dt.month)\n",
    "\n",
    "# extract the day in a new column 'update_day'\n",
    "df_feature.insert(loc=(df_feature.columns.get_loc('last_updated')),\n",
    "                        column='update_day', \n",
    "                        value=df_feature.last_updated.dt.day)\n",
    "\n",
    "# extract the day name in a new column 'update_weekday'\n",
    "df_feature.insert(loc=(df_feature.columns.get_loc('last_updated')),\n",
    "                        column='update_weekday', \n",
    "                        value=df_feature.last_updated.dt.day_name())"
   ]
  },
  {
   "cell_type": "code",
   "execution_count": null,
   "id": "7f3dca2b",
   "metadata": {
    "id": "7f3dca2b"
   },
   "outputs": [],
   "source": [
    "# observe generated columns with datatime content\n",
    "\n",
    "# CODE HERE"
   ]
  },
  {
   "cell_type": "markdown",
   "id": "03f5bb32",
   "metadata": {
    "id": "03f5bb32"
   },
   "source": [
    "## 6) Feature Split\n",
    "We will split the columns with multiple meaningful contents into separate columns.\n",
    "\n",
    "#### Feature Data:\n",
    "\n",
    "* **Genres:** Since the genre includes one or more categories, we will split the column to be able to use these categorical tags. "
   ]
  },
  {
   "cell_type": "code",
   "execution_count": null,
   "id": "17d74021",
   "metadata": {
    "id": "17d74021"
   },
   "outputs": [],
   "source": [
    "# CODE HERE"
   ]
  },
  {
   "cell_type": "markdown",
   "id": "78487f6b",
   "metadata": {
    "id": "78487f6b"
   },
   "source": [
    "* **Price:** All price information include a numeric value and the currency sign. Thus, we will remove the currency sign and set the price information as float."
   ]
  },
  {
   "cell_type": "code",
   "execution_count": null,
   "id": "78bf3bc6",
   "metadata": {
    "id": "78bf3bc6"
   },
   "outputs": [],
   "source": [
    "# CODE HERE"
   ]
  },
  {
   "cell_type": "markdown",
   "id": "390f8206",
   "metadata": {
    "id": "390f8206"
   },
   "source": [
    "* Same fır other similar columns... (Size, Installs, Android ver, )"
   ]
  },
  {
   "cell_type": "markdown",
   "id": "7bb7a579",
   "metadata": {
    "id": "7bb7a579"
   },
   "source": [
    "## 7) Join Data\n",
    "\n",
    "The data sets **Feature** and **Review** include different information for common apps. Thus, we will match the titles for existing entries in both sets and obtain a final set with all the combined information."
   ]
  },
  {
   "cell_type": "code",
   "execution_count": null,
   "id": "a5b9dd8c",
   "metadata": {
    "id": "a5b9dd8c"
   },
   "outputs": [],
   "source": [
    "# CODE HERE"
   ]
  },
  {
   "cell_type": "code",
   "execution_count": null,
   "id": "c7492e2b",
   "metadata": {
    "id": "c7492e2b"
   },
   "outputs": [],
   "source": []
  }
 ],
 "metadata": {
  "colab": {
   "collapsed_sections": [],
   "name": "data_cleaning.ipynb",
   "provenance": []
  },
  "kernelspec": {
   "display_name": "Python 3 (ipykernel)",
   "language": "python",
   "name": "python3"
  },
  "language_info": {
   "codemirror_mode": {
    "name": "ipython",
    "version": 3
   },
   "file_extension": ".py",
   "mimetype": "text/x-python",
   "name": "python",
   "nbconvert_exporter": "python",
   "pygments_lexer": "ipython3",
   "version": "3.9.10"
  },
  "toc": {
   "base_numbering": 1,
   "nav_menu": {},
   "number_sections": true,
   "sideBar": true,
   "skip_h1_title": false,
   "title_cell": "Table of Contents",
   "title_sidebar": "Contents",
   "toc_cell": false,
   "toc_position": {},
   "toc_section_display": true,
   "toc_window_display": false
  },
  "varInspector": {
   "cols": {
    "lenName": 16,
    "lenType": 16,
    "lenVar": 40
   },
   "kernels_config": {
    "python": {
     "delete_cmd_postfix": "",
     "delete_cmd_prefix": "del ",
     "library": "var_list.py",
     "varRefreshCmd": "print(var_dic_list())"
    },
    "r": {
     "delete_cmd_postfix": ") ",
     "delete_cmd_prefix": "rm(",
     "library": "var_list.r",
     "varRefreshCmd": "cat(var_dic_list()) "
    }
   },
   "types_to_exclude": [
    "module",
    "function",
    "builtin_function_or_method",
    "instance",
    "_Feature"
   ],
   "window_display": false
  }
 },
 "nbformat": 4,
 "nbformat_minor": 5
}
