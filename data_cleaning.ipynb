{
 "cells": [
  {
   "cell_type": "markdown",
   "id": "a1cb0659",
   "metadata": {},
   "source": [
    "# **Google Play Store Apps** - Data Cleaning\n",
    "\n",
    "This notebook includes the procedure of cleaning data with pandas methods on google play store apps data obtained from [Kaggle](https://www.kaggle.com/datasets/lava18/google-play-store-apps).\n",
    "\n",
    "## 1) Import Libraries"
   ]
  },
  {
   "cell_type": "code",
   "execution_count": 1,
   "id": "ec3287bb",
   "metadata": {
    "ExecuteTime": {
     "end_time": "2022-04-13T06:52:59.269802Z",
     "start_time": "2022-04-13T06:52:58.290249Z"
    }
   },
   "outputs": [],
   "source": [
    "# import necessary libraries\n",
    "import numpy as np\n",
    "import pandas as pd\n",
    "import seaborn as sns\n",
    "import matplotlib.pyplot as plt\n",
    "import missingno as msno\n",
    "from IPython.display import display_html\n",
    "from packaging.version import parse, Version, LegacyVersion\n",
    "from packaging.utils import canonicalize_version\n",
    "from itertools import islice\n",
    "import os, re"
   ]
  },
  {
   "cell_type": "markdown",
   "id": "c0137843",
   "metadata": {},
   "source": [
    "## 2) Data Acquisition\n",
    "\n",
    "Google play store apps data is acquired from [Kaggle](https://www.kaggle.com/datasets/lava18/google-play-store-apps) as two csv files *googleplaystore.csv* for app features and *googleplaystore_user_reviews.csv* for app reviews. We will load these datasets into two dataframes ***df_feature*** and ***df_review***.\n",
    "\n",
    "#### Feature Data:"
   ]
  },
  {
   "cell_type": "code",
   "execution_count": 2,
   "id": "ed89d1f7",
   "metadata": {
    "ExecuteTime": {
     "end_time": "2022-04-13T06:53:03.154631Z",
     "start_time": "2022-04-13T06:53:03.111460Z"
    }
   },
   "outputs": [
    {
     "data": {
      "text/html": [
       "<div>\n",
       "<style scoped>\n",
       "    .dataframe tbody tr th:only-of-type {\n",
       "        vertical-align: middle;\n",
       "    }\n",
       "\n",
       "    .dataframe tbody tr th {\n",
       "        vertical-align: top;\n",
       "    }\n",
       "\n",
       "    .dataframe thead th {\n",
       "        text-align: right;\n",
       "    }\n",
       "</style>\n",
       "<table border=\"1\" class=\"dataframe\">\n",
       "  <thead>\n",
       "    <tr style=\"text-align: right;\">\n",
       "      <th></th>\n",
       "      <th>App</th>\n",
       "      <th>Category</th>\n",
       "      <th>Rating</th>\n",
       "      <th>Reviews</th>\n",
       "      <th>Size</th>\n",
       "      <th>Installs</th>\n",
       "      <th>Type</th>\n",
       "      <th>Price</th>\n",
       "      <th>Content Rating</th>\n",
       "      <th>Genres</th>\n",
       "      <th>Last Updated</th>\n",
       "      <th>Current Ver</th>\n",
       "      <th>Android Ver</th>\n",
       "    </tr>\n",
       "  </thead>\n",
       "  <tbody>\n",
       "    <tr>\n",
       "      <th>0</th>\n",
       "      <td>Photo Editor &amp; Candy Camera &amp; Grid &amp; ScrapBook</td>\n",
       "      <td>ART_AND_DESIGN</td>\n",
       "      <td>4.1</td>\n",
       "      <td>159</td>\n",
       "      <td>19M</td>\n",
       "      <td>10,000+</td>\n",
       "      <td>Free</td>\n",
       "      <td>0</td>\n",
       "      <td>Everyone</td>\n",
       "      <td>Art &amp; Design</td>\n",
       "      <td>January 7, 2018</td>\n",
       "      <td>1.0.0</td>\n",
       "      <td>4.0.3 and up</td>\n",
       "    </tr>\n",
       "    <tr>\n",
       "      <th>1</th>\n",
       "      <td>Coloring book moana</td>\n",
       "      <td>ART_AND_DESIGN</td>\n",
       "      <td>3.9</td>\n",
       "      <td>967</td>\n",
       "      <td>14M</td>\n",
       "      <td>500,000+</td>\n",
       "      <td>Free</td>\n",
       "      <td>0</td>\n",
       "      <td>Everyone</td>\n",
       "      <td>Art &amp; Design;Pretend Play</td>\n",
       "      <td>January 15, 2018</td>\n",
       "      <td>2.0.0</td>\n",
       "      <td>4.0.3 and up</td>\n",
       "    </tr>\n",
       "    <tr>\n",
       "      <th>2</th>\n",
       "      <td>U Launcher Lite – FREE Live Cool Themes, Hide ...</td>\n",
       "      <td>ART_AND_DESIGN</td>\n",
       "      <td>4.7</td>\n",
       "      <td>87510</td>\n",
       "      <td>8.7M</td>\n",
       "      <td>5,000,000+</td>\n",
       "      <td>Free</td>\n",
       "      <td>0</td>\n",
       "      <td>Everyone</td>\n",
       "      <td>Art &amp; Design</td>\n",
       "      <td>August 1, 2018</td>\n",
       "      <td>1.2.4</td>\n",
       "      <td>4.0.3 and up</td>\n",
       "    </tr>\n",
       "    <tr>\n",
       "      <th>3</th>\n",
       "      <td>Sketch - Draw &amp; Paint</td>\n",
       "      <td>ART_AND_DESIGN</td>\n",
       "      <td>4.5</td>\n",
       "      <td>215644</td>\n",
       "      <td>25M</td>\n",
       "      <td>50,000,000+</td>\n",
       "      <td>Free</td>\n",
       "      <td>0</td>\n",
       "      <td>Teen</td>\n",
       "      <td>Art &amp; Design</td>\n",
       "      <td>June 8, 2018</td>\n",
       "      <td>Varies with device</td>\n",
       "      <td>4.2 and up</td>\n",
       "    </tr>\n",
       "    <tr>\n",
       "      <th>4</th>\n",
       "      <td>Pixel Draw - Number Art Coloring Book</td>\n",
       "      <td>ART_AND_DESIGN</td>\n",
       "      <td>4.3</td>\n",
       "      <td>967</td>\n",
       "      <td>2.8M</td>\n",
       "      <td>100,000+</td>\n",
       "      <td>Free</td>\n",
       "      <td>0</td>\n",
       "      <td>Everyone</td>\n",
       "      <td>Art &amp; Design;Creativity</td>\n",
       "      <td>June 20, 2018</td>\n",
       "      <td>1.1</td>\n",
       "      <td>4.4 and up</td>\n",
       "    </tr>\n",
       "  </tbody>\n",
       "</table>\n",
       "</div>"
      ],
      "text/plain": [
       "                                                 App        Category  Rating  \\\n",
       "0     Photo Editor & Candy Camera & Grid & ScrapBook  ART_AND_DESIGN     4.1   \n",
       "1                                Coloring book moana  ART_AND_DESIGN     3.9   \n",
       "2  U Launcher Lite – FREE Live Cool Themes, Hide ...  ART_AND_DESIGN     4.7   \n",
       "3                              Sketch - Draw & Paint  ART_AND_DESIGN     4.5   \n",
       "4              Pixel Draw - Number Art Coloring Book  ART_AND_DESIGN     4.3   \n",
       "\n",
       "  Reviews  Size     Installs  Type Price Content Rating  \\\n",
       "0     159   19M      10,000+  Free     0       Everyone   \n",
       "1     967   14M     500,000+  Free     0       Everyone   \n",
       "2   87510  8.7M   5,000,000+  Free     0       Everyone   \n",
       "3  215644   25M  50,000,000+  Free     0           Teen   \n",
       "4     967  2.8M     100,000+  Free     0       Everyone   \n",
       "\n",
       "                      Genres      Last Updated         Current Ver  \\\n",
       "0               Art & Design   January 7, 2018               1.0.0   \n",
       "1  Art & Design;Pretend Play  January 15, 2018               2.0.0   \n",
       "2               Art & Design    August 1, 2018               1.2.4   \n",
       "3               Art & Design      June 8, 2018  Varies with device   \n",
       "4    Art & Design;Creativity     June 20, 2018                 1.1   \n",
       "\n",
       "    Android Ver  \n",
       "0  4.0.3 and up  \n",
       "1  4.0.3 and up  \n",
       "2  4.0.3 and up  \n",
       "3    4.2 and up  \n",
       "4    4.4 and up  "
      ]
     },
     "execution_count": 2,
     "metadata": {},
     "output_type": "execute_result"
    }
   ],
   "source": [
    "# load the feature data\n",
    "# df_feature = pd.read_csv('data/googleplaystore.csv', na_values = ['NaN', 'Varies with device'])\n",
    "df_feature = pd.read_csv('data/googleplaystore.csv')\n",
    "\n",
    "# sample feature data\n",
    "df_feature.head()"
   ]
  },
  {
   "cell_type": "code",
   "execution_count": 3,
   "id": "c6a22b55",
   "metadata": {
    "ExecuteTime": {
     "end_time": "2022-04-13T06:53:05.565295Z",
     "start_time": "2022-04-13T06:53:05.546951Z"
    }
   },
   "outputs": [
    {
     "name": "stdout",
     "output_type": "stream",
     "text": [
      "<class 'pandas.core.frame.DataFrame'>\n",
      "RangeIndex: 10841 entries, 0 to 10840\n",
      "Data columns (total 13 columns):\n",
      " #   Column          Non-Null Count  Dtype  \n",
      "---  ------          --------------  -----  \n",
      " 0   App             10841 non-null  object \n",
      " 1   Category        10841 non-null  object \n",
      " 2   Rating          9367 non-null   float64\n",
      " 3   Reviews         10841 non-null  object \n",
      " 4   Size            10841 non-null  object \n",
      " 5   Installs        10841 non-null  object \n",
      " 6   Type            10840 non-null  object \n",
      " 7   Price           10841 non-null  object \n",
      " 8   Content Rating  10840 non-null  object \n",
      " 9   Genres          10841 non-null  object \n",
      " 10  Last Updated    10841 non-null  object \n",
      " 11  Current Ver     10833 non-null  object \n",
      " 12  Android Ver     10838 non-null  object \n",
      "dtypes: float64(1), object(12)\n",
      "memory usage: 1.1+ MB\n"
     ]
    }
   ],
   "source": [
    "# observe the new dataframe details\n",
    "df_feature.info(verbose=True)"
   ]
  },
  {
   "cell_type": "code",
   "execution_count": 4,
   "id": "14e2e76e",
   "metadata": {
    "ExecuteTime": {
     "end_time": "2022-04-13T06:53:07.606513Z",
     "start_time": "2022-04-13T06:53:07.570369Z"
    }
   },
   "outputs": [
    {
     "data": {
      "text/plain": [
       "Rating            1474\n",
       "Type                 1\n",
       "Content Rating       1\n",
       "Current Ver          8\n",
       "Android Ver          3\n",
       "dtype: int64"
      ]
     },
     "execution_count": 4,
     "metadata": {},
     "output_type": "execute_result"
    }
   ],
   "source": [
    "# missing values, show only columns with some empty\n",
    "df_feature.isna().sum().iloc[df_feature.isna().sum().to_numpy().nonzero()]"
   ]
  },
  {
   "cell_type": "code",
   "execution_count": 5,
   "id": "b7b7b492",
   "metadata": {
    "ExecuteTime": {
     "end_time": "2022-04-13T06:53:09.537929Z",
     "start_time": "2022-04-13T06:53:09.121756Z"
    }
   },
   "outputs": [
    {
     "data": {
      "text/plain": [
       "<AxesSubplot:>"
      ]
     },
     "execution_count": 5,
     "metadata": {},
     "output_type": "execute_result"
    },
    {
     "data": {
      "image/png": "[encoded data removed]",
      "text/plain": [
       "<Figure size 576x288 with 3 Axes>"
      ]
     },
     "metadata": {
      "needs_background": "light"
     },
     "output_type": "display_data"
    }
   ],
   "source": [
    "# missingno for features dataset, confirms the observations from previous cell\n",
    "msno.bar(df_feature, figsize=(8, 4), fontsize=11)"
   ]
  },
  {
   "cell_type": "markdown",
   "id": "44f1907a",
   "metadata": {},
   "source": [
    "#### Review Data:"
   ]
  },
  {
   "cell_type": "code",
   "execution_count": 6,
   "id": "63251392",
   "metadata": {
    "ExecuteTime": {
     "end_time": "2022-04-13T06:53:11.346919Z",
     "start_time": "2022-04-13T06:53:11.254642Z"
    }
   },
   "outputs": [
    {
     "data": {
      "text/html": [
       "<div>\n",
       "<style scoped>\n",
       "    .dataframe tbody tr th:only-of-type {\n",
       "        vertical-align: middle;\n",
       "    }\n",
       "\n",
       "    .dataframe tbody tr th {\n",
       "        vertical-align: top;\n",
       "    }\n",
       "\n",
       "    .dataframe thead th {\n",
       "        text-align: right;\n",
       "    }\n",
       "</style>\n",
       "<table border=\"1\" class=\"dataframe\">\n",
       "  <thead>\n",
       "    <tr style=\"text-align: right;\">\n",
       "      <th></th>\n",
       "      <th>App</th>\n",
       "      <th>Translated_Review</th>\n",
       "      <th>Sentiment</th>\n",
       "      <th>Sentiment_Polarity</th>\n",
       "      <th>Sentiment_Subjectivity</th>\n",
       "    </tr>\n",
       "  </thead>\n",
       "  <tbody>\n",
       "    <tr>\n",
       "      <th>0</th>\n",
       "      <td>10 Best Foods for You</td>\n",
       "      <td>I like eat delicious food. That's I'm cooking ...</td>\n",
       "      <td>Positive</td>\n",
       "      <td>1.00</td>\n",
       "      <td>0.533333</td>\n",
       "    </tr>\n",
       "    <tr>\n",
       "      <th>1</th>\n",
       "      <td>10 Best Foods for You</td>\n",
       "      <td>This help eating healthy exercise regular basis</td>\n",
       "      <td>Positive</td>\n",
       "      <td>0.25</td>\n",
       "      <td>0.288462</td>\n",
       "    </tr>\n",
       "    <tr>\n",
       "      <th>2</th>\n",
       "      <td>10 Best Foods for You</td>\n",
       "      <td>NaN</td>\n",
       "      <td>NaN</td>\n",
       "      <td>NaN</td>\n",
       "      <td>NaN</td>\n",
       "    </tr>\n",
       "    <tr>\n",
       "      <th>3</th>\n",
       "      <td>10 Best Foods for You</td>\n",
       "      <td>Works great especially going grocery store</td>\n",
       "      <td>Positive</td>\n",
       "      <td>0.40</td>\n",
       "      <td>0.875000</td>\n",
       "    </tr>\n",
       "    <tr>\n",
       "      <th>4</th>\n",
       "      <td>10 Best Foods for You</td>\n",
       "      <td>Best idea us</td>\n",
       "      <td>Positive</td>\n",
       "      <td>1.00</td>\n",
       "      <td>0.300000</td>\n",
       "    </tr>\n",
       "  </tbody>\n",
       "</table>\n",
       "</div>"
      ],
      "text/plain": [
       "                     App                                  Translated_Review  \\\n",
       "0  10 Best Foods for You  I like eat delicious food. That's I'm cooking ...   \n",
       "1  10 Best Foods for You    This help eating healthy exercise regular basis   \n",
       "2  10 Best Foods for You                                                NaN   \n",
       "3  10 Best Foods for You         Works great especially going grocery store   \n",
       "4  10 Best Foods for You                                       Best idea us   \n",
       "\n",
       "  Sentiment  Sentiment_Polarity  Sentiment_Subjectivity  \n",
       "0  Positive                1.00                0.533333  \n",
       "1  Positive                0.25                0.288462  \n",
       "2       NaN                 NaN                     NaN  \n",
       "3  Positive                0.40                0.875000  \n",
       "4  Positive                1.00                0.300000  "
      ]
     },
     "execution_count": 6,
     "metadata": {},
     "output_type": "execute_result"
    }
   ],
   "source": [
    "# load the review data\n",
    "# df_review = pd.read_csv('data/googleplaystore_user_reviews.csv', na_values = ['nan'])\n",
    "df_review=pd.read_csv('data/googleplaystore_user_reviews.csv')\n",
    "\n",
    "# sample review data\n",
    "df_review.head()"
   ]
  },
  {
   "cell_type": "code",
   "execution_count": 7,
   "id": "14d5b426",
   "metadata": {
    "ExecuteTime": {
     "end_time": "2022-04-13T06:53:13.242479Z",
     "start_time": "2022-04-13T06:53:13.217786Z"
    }
   },
   "outputs": [
    {
     "name": "stdout",
     "output_type": "stream",
     "text": [
      "<class 'pandas.core.frame.DataFrame'>\n",
      "RangeIndex: 64295 entries, 0 to 64294\n",
      "Data columns (total 5 columns):\n",
      " #   Column                  Non-Null Count  Dtype  \n",
      "---  ------                  --------------  -----  \n",
      " 0   App                     64295 non-null  object \n",
      " 1   Translated_Review       37427 non-null  object \n",
      " 2   Sentiment               37432 non-null  object \n",
      " 3   Sentiment_Polarity      37432 non-null  float64\n",
      " 4   Sentiment_Subjectivity  37432 non-null  float64\n",
      "dtypes: float64(2), object(3)\n",
      "memory usage: 2.5+ MB\n"
     ]
    }
   ],
   "source": [
    "# observe the new dataframe details\n",
    "df_review.info(verbose=True)\n",
    "\n",
    "# Observations (Gaia): the last three column are very consistent. Interesting to notice that there are 5 translated reviews\n",
    "# less than the sentiment columns values, and yet still those 5 non-existent reviews have been evaluated. How is it possible?"
   ]
  },
  {
   "cell_type": "code",
   "execution_count": 8,
   "id": "74c43c93",
   "metadata": {
    "ExecuteTime": {
     "end_time": "2022-04-13T06:53:14.991414Z",
     "start_time": "2022-04-13T06:53:14.950810Z"
    }
   },
   "outputs": [
    {
     "data": {
      "text/plain": [
       "Translated_Review         26868\n",
       "Sentiment                 26863\n",
       "Sentiment_Polarity        26863\n",
       "Sentiment_Subjectivity    26863\n",
       "dtype: int64"
      ]
     },
     "execution_count": 8,
     "metadata": {},
     "output_type": "execute_result"
    }
   ],
   "source": [
    "# missing values, show only columns with some empty\n",
    "df_review.isna().sum().iloc[df_review.isna().sum().to_numpy().nonzero()]"
   ]
  },
  {
   "cell_type": "code",
   "execution_count": 9,
   "id": "422b4986",
   "metadata": {
    "ExecuteTime": {
     "end_time": "2022-04-13T06:53:16.733243Z",
     "start_time": "2022-04-13T06:53:16.497474Z"
    }
   },
   "outputs": [
    {
     "data": {
      "text/plain": [
       "<AxesSubplot:>"
      ]
     },
     "execution_count": 9,
     "metadata": {},
     "output_type": "execute_result"
    },
    {
     "data": {
      "image/png": "[encoded data removed]",
      "text/plain": [
       "<Figure size 144x288 with 3 Axes>"
      ]
     },
     "metadata": {
      "needs_background": "light"
     },
     "output_type": "display_data"
    }
   ],
   "source": [
    "# missingno for features dataset, confirms the observations from previous cell\n",
    "# ms.matrix(df_review)\n",
    "msno.bar(df_review, figsize=(2, 4), fontsize=11)"
   ]
  },
  {
   "cell_type": "markdown",
   "id": "50402843",
   "metadata": {},
   "source": [
    "## 3) Data Conversion and Feature Split\n",
    "We rename columns as code friendly for easier access. We will convert the 'object' type columns into str or numeric to perform imputation later by splitting the columns with multiple meaningful contents into separate columns."
   ]
  },
  {
   "cell_type": "code",
   "execution_count": 10,
   "id": "15248fe0",
   "metadata": {
    "ExecuteTime": {
     "end_time": "2022-04-13T06:53:19.322940Z",
     "start_time": "2022-04-13T06:53:19.316613Z"
    }
   },
   "outputs": [
    {
     "name": "stdout",
     "output_type": "stream",
     "text": [
      "Feature: app, category, rating, reviews, size, installs, type, price, content_rating, genres, last_updated, current_ver, android_ver\n",
      "Review: app, translated_review, sentiment, sentiment_polarity, sentiment_subjectivity\n"
     ]
    }
   ],
   "source": [
    "# rename columns to remove spaces\n",
    "df_feature.columns = df_feature.columns.str.lower().str.replace(' ','_')\n",
    "df_review.columns = df_review.columns.str.lower().str.replace(' ','_')\n",
    "\n",
    "# show new column names\n",
    "print(\"Feature:\", end=\" \")\n",
    "print(*df_feature.columns.values, sep = \", \", end=\"\\n\")\n",
    "print(\"Review:\", end=\" \")\n",
    "print(*df_review.columns.values, sep = \", \", end=\"\\n\")"
   ]
  },
  {
   "cell_type": "markdown",
   "id": "f36b5eed",
   "metadata": {},
   "source": [
    "### 3.1) Feature Data\n",
    "\n",
    "The columns **category**, **rating**, **type** were already available for further operations without any conversion or split with the exception of some erroneous lines which we have removed. We have worked on remaining columns of Feature data individually:\n",
    "\n",
    "#### Category, Rating, Type:"
   ]
  },
  {
   "cell_type": "code",
   "execution_count": 11,
   "id": "ab09b35c",
   "metadata": {},
   "outputs": [
    {
     "name": "stdout",
     "output_type": "stream",
     "text": [
      "Numeric entries in Category column: 1\n",
      "Nonnumeric entries in Rating column: 0\n",
      "Numeric entries in Type column: 1\n"
     ]
    }
   ],
   "source": [
    "# function to check floating numbers\n",
    "def isfloat(string):\n",
    "    try:\n",
    "        if(not string==string):\n",
    "            return False\n",
    "        else:\n",
    "            float(string)\n",
    "            return True\n",
    "    except ValueError:\n",
    "        return False\n",
    "\n",
    "# check if no elements of Category are numeric\n",
    "category_sum = sum(list(map(lambda x: isfloat(x), df_feature.category)))\n",
    "\n",
    "# check if no elements of Rating are nonnumeric\n",
    "rating_sum = sum(list(map(lambda x: not isfloat(x) and (x==x), df_feature.rating)))\n",
    "\n",
    "# check if no elements of Type are numeric\n",
    "type_sum = sum(list(map(lambda x: isfloat(x), df_feature.type)))\n",
    "\n",
    "print(\"Numeric entries in Category column:\", category_sum)\n",
    "print(\"Nonnumeric entries in Rating column:\", rating_sum)\n",
    "print(\"Numeric entries in Type column:\", type_sum)"
   ]
  },
  {
   "cell_type": "code",
   "execution_count": 12,
   "id": "d9fb8765",
   "metadata": {},
   "outputs": [],
   "source": [
    "# show the errors in Category and Type columns\n",
    "df_feature[\"out\"] = list(map(lambda x: isfloat(x), df_feature.type)) or list(map(lambda x: isfloat(x), df_feature.category))"
   ]
  },
  {
   "cell_type": "code",
   "execution_count": 13,
   "id": "8045fdea",
   "metadata": {},
   "outputs": [
    {
     "data": {
      "text/html": [
       "<div>\n",
       "<style scoped>\n",
       "    .dataframe tbody tr th:only-of-type {\n",
       "        vertical-align: middle;\n",
       "    }\n",
       "\n",
       "    .dataframe tbody tr th {\n",
       "        vertical-align: top;\n",
       "    }\n",
       "\n",
       "    .dataframe thead th {\n",
       "        text-align: right;\n",
       "    }\n",
       "</style>\n",
       "<table border=\"1\" class=\"dataframe\">\n",
       "  <thead>\n",
       "    <tr style=\"text-align: right;\">\n",
       "      <th></th>\n",
       "      <th>app</th>\n",
       "      <th>category</th>\n",
       "      <th>rating</th>\n",
       "      <th>reviews</th>\n",
       "      <th>size</th>\n",
       "      <th>installs</th>\n",
       "      <th>type</th>\n",
       "      <th>price</th>\n",
       "      <th>content_rating</th>\n",
       "      <th>genres</th>\n",
       "      <th>last_updated</th>\n",
       "      <th>current_ver</th>\n",
       "      <th>android_ver</th>\n",
       "      <th>out</th>\n",
       "    </tr>\n",
       "  </thead>\n",
       "  <tbody>\n",
       "    <tr>\n",
       "      <th>10472</th>\n",
       "      <td>Life Made WI-Fi Touchscreen Photo Frame</td>\n",
       "      <td>1.9</td>\n",
       "      <td>19.0</td>\n",
       "      <td>3.0M</td>\n",
       "      <td>1,000+</td>\n",
       "      <td>Free</td>\n",
       "      <td>0</td>\n",
       "      <td>Everyone</td>\n",
       "      <td>NaN</td>\n",
       "      <td>February 11, 2018</td>\n",
       "      <td>1.0.19</td>\n",
       "      <td>4.0 and up</td>\n",
       "      <td>NaN</td>\n",
       "      <td>True</td>\n",
       "    </tr>\n",
       "  </tbody>\n",
       "</table>\n",
       "</div>"
      ],
      "text/plain": [
       "                                           app category  rating reviews  \\\n",
       "10472  Life Made WI-Fi Touchscreen Photo Frame      1.9    19.0    3.0M   \n",
       "\n",
       "         size installs type     price content_rating             genres  \\\n",
       "10472  1,000+     Free    0  Everyone            NaN  February 11, 2018   \n",
       "\n",
       "      last_updated current_ver android_ver   out  \n",
       "10472       1.0.19  4.0 and up         NaN  True  "
      ]
     },
     "execution_count": 13,
     "metadata": {},
     "output_type": "execute_result"
    }
   ],
   "source": [
    "df_feature.iloc[np.where(df_feature.out)]"
   ]
  },
  {
   "cell_type": "code",
   "execution_count": 14,
   "id": "e53569c6",
   "metadata": {},
   "outputs": [],
   "source": [
    "# remove the errors and the additional column\n",
    "df_feature = df_feature.drop(df_feature.loc[np.where(df_feature.out)].index)\n",
    "df_feature = df_feature.drop(columns=['out'])"
   ]
  },
  {
   "cell_type": "code",
   "execution_count": 15,
   "id": "d5de86c6",
   "metadata": {},
   "outputs": [
    {
     "name": "stdout",
     "output_type": "stream",
     "text": [
      "Numeric entries in Category column: 0\n",
      "Nonnumeric entries in Rating column: 0\n",
      "Numeric entries in Type column: 0\n"
     ]
    }
   ],
   "source": [
    "# recheck the elements\n",
    "category_sum = sum(list(map(lambda x: isfloat(x), df_feature.category)))\n",
    "rating_sum = sum(list(map(lambda x: not isfloat(x) and (x==x), df_feature.rating)))\n",
    "type_sum = sum(list(map(lambda x: isfloat(x), df_feature.type)))\n",
    "\n",
    "print(\"Numeric entries in Category column:\", category_sum)\n",
    "print(\"Nonnumeric entries in Rating column:\", rating_sum)\n",
    "print(\"Numeric entries in Type column:\", type_sum)"
   ]
  },
  {
   "cell_type": "markdown",
   "id": "afaa6d51",
   "metadata": {},
   "source": [
    "#### Reviews:"
   ]
  },
  {
   "cell_type": "code",
   "execution_count": 16,
   "id": "9d5c6d9c",
   "metadata": {
    "ExecuteTime": {
     "end_time": "2022-04-13T06:53:21.791558Z",
     "start_time": "2022-04-13T06:53:21.693609Z"
    }
   },
   "outputs": [
    {
     "name": "stdout",
     "output_type": "stream",
     "text": [
      "<class 'pandas.core.series.Series'>\n",
      "Int64Index: 10840 entries, 0 to 10840\n",
      "Series name: reviews\n",
      "Non-Null Count  Dtype\n",
      "--------------  -----\n",
      "10840 non-null  int64\n",
      "dtypes: int64(1)\n",
      "memory usage: 169.4 KB\n"
     ]
    }
   ],
   "source": [
    "# convert to numeric by assigning errors as NaN\n",
    "df_feature.reviews = df_feature.reviews.apply(pd.to_numeric, errors='coerce')\n",
    "\n",
    "# recheck column info\n",
    "df_feature.reviews.info()"
   ]
  },
  {
   "cell_type": "markdown",
   "id": "03e52824",
   "metadata": {},
   "source": [
    "#### Size:"
   ]
  },
  {
   "cell_type": "code",
   "execution_count": 17,
   "id": "319f322d",
   "metadata": {
    "ExecuteTime": {
     "end_time": "2022-04-13T06:53:23.542044Z",
     "start_time": "2022-04-13T06:53:23.521523Z"
    }
   },
   "outputs": [
    {
     "name": "stdout",
     "output_type": "stream",
     "text": [
      "<class 'pandas.core.series.Series'>\n",
      "Int64Index: 10840 entries, 0 to 10840\n",
      "Series name: size\n",
      "Non-Null Count  Dtype \n",
      "--------------  ----- \n",
      "10524 non-null  object\n",
      "dtypes: object(1)\n",
      "memory usage: 169.4+ KB\n"
     ]
    }
   ],
   "source": [
    "# rename varying version with a shorter name\n",
    "df_feature['size'] = df_feature['size'].str.replace(r\"Varies with device\", \"Varies\", regex=True)\n",
    "\n",
    "# filter the rows except 'Varies' and remove the unit\n",
    "df_feature.loc[df_feature['size'] != \"Varies\",'size'] = pd.to_numeric(df_feature.loc[df_feature['size'] != \"Varies\",'size'].replace(r\"M\", \"\", regex=True), errors='coerce')\n",
    "\n",
    "# recheck column info\n",
    "df_feature[\"size\"].info()"
   ]
  },
  {
   "cell_type": "code",
   "execution_count": 18,
   "id": "0ba72913",
   "metadata": {
    "ExecuteTime": {
     "end_time": "2022-04-13T06:42:55.472209Z",
     "start_time": "2022-04-13T06:42:55.472195Z"
    }
   },
   "outputs": [
    {
     "data": {
      "text/html": [
       "<div>\n",
       "<style scoped>\n",
       "    .dataframe tbody tr th:only-of-type {\n",
       "        vertical-align: middle;\n",
       "    }\n",
       "\n",
       "    .dataframe tbody tr th {\n",
       "        vertical-align: top;\n",
       "    }\n",
       "\n",
       "    .dataframe thead th {\n",
       "        text-align: right;\n",
       "    }\n",
       "</style>\n",
       "<table border=\"1\" class=\"dataframe\">\n",
       "  <thead>\n",
       "    <tr style=\"text-align: right;\">\n",
       "      <th></th>\n",
       "      <th>app</th>\n",
       "      <th>category</th>\n",
       "      <th>rating</th>\n",
       "      <th>reviews</th>\n",
       "      <th>size</th>\n",
       "      <th>installs</th>\n",
       "      <th>type</th>\n",
       "      <th>price</th>\n",
       "      <th>content_rating</th>\n",
       "      <th>genres</th>\n",
       "      <th>last_updated</th>\n",
       "      <th>current_ver</th>\n",
       "      <th>android_ver</th>\n",
       "    </tr>\n",
       "  </thead>\n",
       "  <tbody>\n",
       "    <tr>\n",
       "      <th>1</th>\n",
       "      <td>Coloring book moana</td>\n",
       "      <td>ART_AND_DESIGN</td>\n",
       "      <td>3.9</td>\n",
       "      <td>967</td>\n",
       "      <td>14.0</td>\n",
       "      <td>500,000+</td>\n",
       "      <td>Free</td>\n",
       "      <td>0</td>\n",
       "      <td>Everyone</td>\n",
       "      <td>Art &amp; Design;Pretend Play</td>\n",
       "      <td>January 15, 2018</td>\n",
       "      <td>2.0.0</td>\n",
       "      <td>4.0.3 and up</td>\n",
       "    </tr>\n",
       "    <tr>\n",
       "      <th>1450</th>\n",
       "      <td>Real Estate sale &amp; rent Trovit</td>\n",
       "      <td>HOUSE_AND_HOME</td>\n",
       "      <td>4.1</td>\n",
       "      <td>65913</td>\n",
       "      <td>7.7</td>\n",
       "      <td>5,000,000+</td>\n",
       "      <td>Free</td>\n",
       "      <td>0</td>\n",
       "      <td>Everyone</td>\n",
       "      <td>House &amp; Home</td>\n",
       "      <td>July 16, 2018</td>\n",
       "      <td>4.47.3</td>\n",
       "      <td>4.0.3 and up</td>\n",
       "    </tr>\n",
       "    <tr>\n",
       "      <th>2144</th>\n",
       "      <td>Toddler Learning Games - Little Kids Games</td>\n",
       "      <td>FAMILY</td>\n",
       "      <td>4.2</td>\n",
       "      <td>731</td>\n",
       "      <td>Varies</td>\n",
       "      <td>100,000+</td>\n",
       "      <td>Free</td>\n",
       "      <td>0</td>\n",
       "      <td>Everyone</td>\n",
       "      <td>Educational;Education</td>\n",
       "      <td>July 28, 2018</td>\n",
       "      <td>3.7.2.7</td>\n",
       "      <td>4.2 and up</td>\n",
       "    </tr>\n",
       "    <tr>\n",
       "      <th>10473</th>\n",
       "      <td>osmino Wi-Fi: free WiFi</td>\n",
       "      <td>TOOLS</td>\n",
       "      <td>4.2</td>\n",
       "      <td>134203</td>\n",
       "      <td>4.1</td>\n",
       "      <td>10,000,000+</td>\n",
       "      <td>Free</td>\n",
       "      <td>0</td>\n",
       "      <td>Everyone</td>\n",
       "      <td>Tools</td>\n",
       "      <td>August 7, 2018</td>\n",
       "      <td>6.06.14</td>\n",
       "      <td>4.4 and up</td>\n",
       "    </tr>\n",
       "  </tbody>\n",
       "</table>\n",
       "</div>"
      ],
      "text/plain": [
       "                                              app        category  rating  \\\n",
       "1                             Coloring book moana  ART_AND_DESIGN     3.9   \n",
       "1450               Real Estate sale & rent Trovit  HOUSE_AND_HOME     4.1   \n",
       "2144   Toddler Learning Games - Little Kids Games          FAMILY     4.2   \n",
       "10473                     osmino Wi-Fi: free WiFi           TOOLS     4.2   \n",
       "\n",
       "       reviews    size     installs  type price content_rating  \\\n",
       "1          967    14.0     500,000+  Free     0       Everyone   \n",
       "1450     65913     7.7   5,000,000+  Free     0       Everyone   \n",
       "2144       731  Varies     100,000+  Free     0       Everyone   \n",
       "10473   134203     4.1  10,000,000+  Free     0       Everyone   \n",
       "\n",
       "                          genres      last_updated current_ver   android_ver  \n",
       "1      Art & Design;Pretend Play  January 15, 2018       2.0.0  4.0.3 and up  \n",
       "1450                House & Home     July 16, 2018      4.47.3  4.0.3 and up  \n",
       "2144       Educational;Education     July 28, 2018     3.7.2.7    4.2 and up  \n",
       "10473                      Tools    August 7, 2018     6.06.14    4.4 and up  "
      ]
     },
     "execution_count": 18,
     "metadata": {},
     "output_type": "execute_result"
    }
   ],
   "source": [
    "df_feature.iloc[[1,1450,2144,10472]]"
   ]
  },
  {
   "cell_type": "markdown",
   "id": "e315d923",
   "metadata": {},
   "source": [
    "#### Installs: "
   ]
  },
  {
   "cell_type": "code",
   "execution_count": 19,
   "id": "8f59ea20",
   "metadata": {
    "ExecuteTime": {
     "end_time": "2022-04-13T06:53:25.502132Z",
     "start_time": "2022-04-13T06:53:25.469515Z"
    }
   },
   "outputs": [
    {
     "name": "stdout",
     "output_type": "stream",
     "text": [
      "<class 'pandas.core.series.Series'>\n",
      "Int64Index: 10840 entries, 0 to 10840\n",
      "Series name: installs\n",
      "Non-Null Count  Dtype\n",
      "--------------  -----\n",
      "10840 non-null  int64\n",
      "dtypes: int64(1)\n",
      "memory usage: 169.4 KB\n"
     ]
    }
   ],
   "source": [
    "# replace plus sign and comma with empty to remove it\n",
    "df_feature.installs = pd.to_numeric(df_feature.installs.replace(('\\+|,|'), '', regex=True), errors='coerce')\n",
    "\n",
    "# recheck column info\n",
    "df_feature.installs.info()"
   ]
  },
  {
   "cell_type": "markdown",
   "id": "6cb15364",
   "metadata": {},
   "source": [
    "#### Price:\n",
    "All price information include a numeric value and the currency sign. Thus, we will remove the currency sign and set the price information as float."
   ]
  },
  {
   "cell_type": "code",
   "execution_count": 20,
   "id": "782806d6",
   "metadata": {
    "ExecuteTime": {
     "end_time": "2022-04-13T06:53:27.282193Z",
     "start_time": "2022-04-13T06:53:27.259002Z"
    }
   },
   "outputs": [
    {
     "data": {
      "text/html": [
       "<div>\n",
       "<style scoped>\n",
       "    .dataframe tbody tr th:only-of-type {\n",
       "        vertical-align: middle;\n",
       "    }\n",
       "\n",
       "    .dataframe tbody tr th {\n",
       "        vertical-align: top;\n",
       "    }\n",
       "\n",
       "    .dataframe thead th {\n",
       "        text-align: right;\n",
       "    }\n",
       "</style>\n",
       "<table border=\"1\" class=\"dataframe\">\n",
       "  <thead>\n",
       "    <tr style=\"text-align: right;\">\n",
       "      <th></th>\n",
       "      <th>app</th>\n",
       "      <th>category</th>\n",
       "      <th>rating</th>\n",
       "      <th>reviews</th>\n",
       "      <th>size</th>\n",
       "      <th>installs</th>\n",
       "      <th>type</th>\n",
       "      <th>price</th>\n",
       "      <th>content_rating</th>\n",
       "      <th>genres</th>\n",
       "      <th>last_updated</th>\n",
       "      <th>current_ver</th>\n",
       "      <th>android_ver</th>\n",
       "    </tr>\n",
       "  </thead>\n",
       "  <tbody>\n",
       "    <tr>\n",
       "      <th>475</th>\n",
       "      <td>KakaoTalk: Free Calls &amp; Text</td>\n",
       "      <td>COMMUNICATION</td>\n",
       "      <td>4.3</td>\n",
       "      <td>2546527</td>\n",
       "      <td>Varies</td>\n",
       "      <td>100000000</td>\n",
       "      <td>Free</td>\n",
       "      <td>0.00</td>\n",
       "      <td>Everyone</td>\n",
       "      <td>Communication</td>\n",
       "      <td>August 3, 2018</td>\n",
       "      <td>Varies with device</td>\n",
       "      <td>Varies with device</td>\n",
       "    </tr>\n",
       "    <tr>\n",
       "      <th>476</th>\n",
       "      <td>Moco+ - Chat, Meet People</td>\n",
       "      <td>DATING</td>\n",
       "      <td>4.2</td>\n",
       "      <td>1545</td>\n",
       "      <td>Varies</td>\n",
       "      <td>10000</td>\n",
       "      <td>Paid</td>\n",
       "      <td>3.99</td>\n",
       "      <td>Mature 17+</td>\n",
       "      <td>Dating</td>\n",
       "      <td>June 19, 2018</td>\n",
       "      <td>2.6.139</td>\n",
       "      <td>4.1 and up</td>\n",
       "    </tr>\n",
       "    <tr>\n",
       "      <th>477</th>\n",
       "      <td>Calculator</td>\n",
       "      <td>DATING</td>\n",
       "      <td>2.6</td>\n",
       "      <td>57</td>\n",
       "      <td>6.2</td>\n",
       "      <td>1000</td>\n",
       "      <td>Paid</td>\n",
       "      <td>6.99</td>\n",
       "      <td>Everyone</td>\n",
       "      <td>Dating</td>\n",
       "      <td>October 25, 2017</td>\n",
       "      <td>1.1.6</td>\n",
       "      <td>4.0 and up</td>\n",
       "    </tr>\n",
       "  </tbody>\n",
       "</table>\n",
       "</div>"
      ],
      "text/plain": [
       "                              app       category  rating  reviews    size  \\\n",
       "475  KakaoTalk: Free Calls & Text  COMMUNICATION     4.3  2546527  Varies   \n",
       "476     Moco+ - Chat, Meet People         DATING     4.2     1545  Varies   \n",
       "477                    Calculator         DATING     2.6       57     6.2   \n",
       "\n",
       "      installs  type  price content_rating         genres      last_updated  \\\n",
       "475  100000000  Free   0.00       Everyone  Communication    August 3, 2018   \n",
       "476      10000  Paid   3.99     Mature 17+         Dating     June 19, 2018   \n",
       "477       1000  Paid   6.99       Everyone         Dating  October 25, 2017   \n",
       "\n",
       "            current_ver         android_ver  \n",
       "475  Varies with device  Varies with device  \n",
       "476             2.6.139          4.1 and up  \n",
       "477               1.1.6          4.0 and up  "
      ]
     },
     "execution_count": 20,
     "metadata": {},
     "output_type": "execute_result"
    }
   ],
   "source": [
    "# replace currency sign with empty to remove it\n",
    "df_feature.price = pd.to_numeric(df_feature.price.str.replace(r\"$\", \"\", regex=True), errors='coerce')\n",
    "\n",
    "# recheck the previous samples\n",
    "df_feature.loc[475:477]"
   ]
  },
  {
   "cell_type": "markdown",
   "id": "dab8ec7e",
   "metadata": {},
   "source": [
    "#### Content Rating:\n",
    "Ref: https://www.esrb.org/ratings-guide/"
   ]
  },
  {
   "cell_type": "code",
   "execution_count": 21,
   "id": "64282b57",
   "metadata": {
    "ExecuteTime": {
     "end_time": "2022-04-13T06:53:35.387609Z",
     "start_time": "2022-04-13T06:53:35.381341Z"
    }
   },
   "outputs": [
    {
     "data": {
      "text/plain": [
       "array(['Everyone', 'Teen', 'Everyone 10+', 'Mature 17+',\n",
       "       'Adults only 18+', 'Unrated'], dtype=object)"
      ]
     },
     "execution_count": 21,
     "metadata": {},
     "output_type": "execute_result"
    }
   ],
   "source": [
    "# see unique content_rating types\n",
    "df_feature.content_rating.unique()"
   ]
  },
  {
   "cell_type": "code",
   "execution_count": 22,
   "id": "2b0b30ee",
   "metadata": {
    "ExecuteTime": {
     "end_time": "2022-04-13T06:53:36.826253Z",
     "start_time": "2022-04-13T06:53:36.816234Z"
    }
   },
   "outputs": [
    {
     "data": {
      "text/plain": [
       "(array([7312, 8266], dtype=int64),)"
      ]
     },
     "execution_count": 22,
     "metadata": {},
     "output_type": "execute_result"
    }
   ],
   "source": [
    "# find examples where it is \"Unrated\"\n",
    "np.where(df_feature.content_rating.str.contains(\"Unrated\"))"
   ]
  },
  {
   "cell_type": "code",
   "execution_count": 23,
   "id": "cf094f14",
   "metadata": {
    "ExecuteTime": {
     "end_time": "2022-04-13T06:53:38.291075Z",
     "start_time": "2022-04-13T06:53:38.275903Z"
    }
   },
   "outputs": [
    {
     "data": {
      "text/html": [
       "<div>\n",
       "<style scoped>\n",
       "    .dataframe tbody tr th:only-of-type {\n",
       "        vertical-align: middle;\n",
       "    }\n",
       "\n",
       "    .dataframe tbody tr th {\n",
       "        vertical-align: top;\n",
       "    }\n",
       "\n",
       "    .dataframe thead th {\n",
       "        text-align: right;\n",
       "    }\n",
       "</style>\n",
       "<table border=\"1\" class=\"dataframe\">\n",
       "  <thead>\n",
       "    <tr style=\"text-align: right;\">\n",
       "      <th></th>\n",
       "      <th>app</th>\n",
       "      <th>category</th>\n",
       "      <th>rating</th>\n",
       "      <th>reviews</th>\n",
       "      <th>size</th>\n",
       "      <th>installs</th>\n",
       "      <th>type</th>\n",
       "      <th>price</th>\n",
       "      <th>content_rating</th>\n",
       "      <th>genres</th>\n",
       "      <th>last_updated</th>\n",
       "      <th>current_ver</th>\n",
       "      <th>android_ver</th>\n",
       "    </tr>\n",
       "  </thead>\n",
       "  <tbody>\n",
       "    <tr>\n",
       "      <th>7311</th>\n",
       "      <td>My CG</td>\n",
       "      <td>PRODUCTIVITY</td>\n",
       "      <td>NaN</td>\n",
       "      <td>0</td>\n",
       "      <td>Varies</td>\n",
       "      <td>10</td>\n",
       "      <td>Free</td>\n",
       "      <td>0.0</td>\n",
       "      <td>Teen</td>\n",
       "      <td>Productivity</td>\n",
       "      <td>August 2, 2018</td>\n",
       "      <td>Varies with device</td>\n",
       "      <td>Varies with device</td>\n",
       "    </tr>\n",
       "    <tr>\n",
       "      <th>7312</th>\n",
       "      <td>Best CG Photography</td>\n",
       "      <td>FAMILY</td>\n",
       "      <td>NaN</td>\n",
       "      <td>1</td>\n",
       "      <td>2.5</td>\n",
       "      <td>500</td>\n",
       "      <td>Free</td>\n",
       "      <td>0.0</td>\n",
       "      <td>NaN</td>\n",
       "      <td>Entertainment</td>\n",
       "      <td>June 24, 2015</td>\n",
       "      <td>5.2</td>\n",
       "      <td>3.0 and up</td>\n",
       "    </tr>\n",
       "    <tr>\n",
       "      <th>7313</th>\n",
       "      <td>BF CG View Wallpapers</td>\n",
       "      <td>FAMILY</td>\n",
       "      <td>3.6</td>\n",
       "      <td>13</td>\n",
       "      <td>2.5</td>\n",
       "      <td>1000</td>\n",
       "      <td>Free</td>\n",
       "      <td>0.0</td>\n",
       "      <td>Teen</td>\n",
       "      <td>Entertainment</td>\n",
       "      <td>June 19, 2015</td>\n",
       "      <td>3.0</td>\n",
       "      <td>3.0 and up</td>\n",
       "    </tr>\n",
       "  </tbody>\n",
       "</table>\n",
       "</div>"
      ],
      "text/plain": [
       "                        app      category  rating  reviews    size  installs  \\\n",
       "7311                  My CG  PRODUCTIVITY     NaN        0  Varies        10   \n",
       "7312    Best CG Photography        FAMILY     NaN        1     2.5       500   \n",
       "7313  BF CG View Wallpapers        FAMILY     3.6       13     2.5      1000   \n",
       "\n",
       "      type  price content_rating         genres    last_updated  \\\n",
       "7311  Free    0.0           Teen   Productivity  August 2, 2018   \n",
       "7312  Free    0.0            NaN  Entertainment   June 24, 2015   \n",
       "7313  Free    0.0           Teen  Entertainment   June 19, 2015   \n",
       "\n",
       "             current_ver         android_ver  \n",
       "7311  Varies with device  Varies with device  \n",
       "7312                 5.2          3.0 and up  \n",
       "7313                 3.0          3.0 and up  "
      ]
     },
     "execution_count": 23,
     "metadata": {},
     "output_type": "execute_result"
    }
   ],
   "source": [
    "# replace Unrated as missing (np.nan)\n",
    "df_feature.content_rating.replace('Unrated', np.NaN, inplace=True)\n",
    "\n",
    "# recheck the previous samples\n",
    "df_feature.loc[7311:7313]"
   ]
  },
  {
   "cell_type": "code",
   "execution_count": 24,
   "id": "3c771b89",
   "metadata": {
    "ExecuteTime": {
     "end_time": "2022-04-13T06:53:39.911583Z",
     "start_time": "2022-04-13T06:53:39.906222Z"
    }
   },
   "outputs": [
    {
     "data": {
      "text/plain": [
       "array(['Everyone', 'Teen', 'Everyone 10+', 'Mature 17+',\n",
       "       'Adults only 18+', nan], dtype=object)"
      ]
     },
     "execution_count": 24,
     "metadata": {},
     "output_type": "execute_result"
    }
   ],
   "source": [
    "# see unique content_rating types\n",
    "df_feature.content_rating.unique()"
   ]
  },
  {
   "cell_type": "markdown",
   "id": "2770132c",
   "metadata": {},
   "source": [
    "#### Genres:\n",
    "Since the genre includes one or more categories, we will split the column to be able to use these categorical tags. "
   ]
  },
  {
   "cell_type": "code",
   "execution_count": 25,
   "id": "c7f8b3d8",
   "metadata": {
    "ExecuteTime": {
     "end_time": "2022-04-13T06:53:42.099396Z",
     "start_time": "2022-04-13T06:53:42.051373Z"
    }
   },
   "outputs": [
    {
     "data": {
      "text/html": [
       "<div>\n",
       "<style scoped>\n",
       "    .dataframe tbody tr th:only-of-type {\n",
       "        vertical-align: middle;\n",
       "    }\n",
       "\n",
       "    .dataframe tbody tr th {\n",
       "        vertical-align: top;\n",
       "    }\n",
       "\n",
       "    .dataframe thead th {\n",
       "        text-align: right;\n",
       "    }\n",
       "</style>\n",
       "<table border=\"1\" class=\"dataframe\">\n",
       "  <thead>\n",
       "    <tr style=\"text-align: right;\">\n",
       "      <th></th>\n",
       "      <th>app</th>\n",
       "      <th>category</th>\n",
       "      <th>rating</th>\n",
       "      <th>reviews</th>\n",
       "      <th>size</th>\n",
       "      <th>installs</th>\n",
       "      <th>type</th>\n",
       "      <th>price</th>\n",
       "      <th>content_rating</th>\n",
       "      <th>genres</th>\n",
       "      <th>last_updated</th>\n",
       "      <th>current_ver</th>\n",
       "      <th>android_ver</th>\n",
       "    </tr>\n",
       "  </thead>\n",
       "  <tbody>\n",
       "    <tr>\n",
       "      <th>1</th>\n",
       "      <td>Coloring book moana</td>\n",
       "      <td>ART_AND_DESIGN</td>\n",
       "      <td>3.9</td>\n",
       "      <td>967</td>\n",
       "      <td>14.0</td>\n",
       "      <td>500000</td>\n",
       "      <td>Free</td>\n",
       "      <td>0.0</td>\n",
       "      <td>Everyone</td>\n",
       "      <td>[Art, Pretend Play, Design]</td>\n",
       "      <td>January 15, 2018</td>\n",
       "      <td>2.0.0</td>\n",
       "      <td>4.0.3 and up</td>\n",
       "    </tr>\n",
       "    <tr>\n",
       "      <th>1450</th>\n",
       "      <td>Real Estate sale &amp; rent Trovit</td>\n",
       "      <td>HOUSE_AND_HOME</td>\n",
       "      <td>4.1</td>\n",
       "      <td>65913</td>\n",
       "      <td>7.7</td>\n",
       "      <td>5000000</td>\n",
       "      <td>Free</td>\n",
       "      <td>0.0</td>\n",
       "      <td>Everyone</td>\n",
       "      <td>[House]</td>\n",
       "      <td>July 16, 2018</td>\n",
       "      <td>4.47.3</td>\n",
       "      <td>4.0.3 and up</td>\n",
       "    </tr>\n",
       "    <tr>\n",
       "      <th>2144</th>\n",
       "      <td>Toddler Learning Games - Little Kids Games</td>\n",
       "      <td>FAMILY</td>\n",
       "      <td>4.2</td>\n",
       "      <td>731</td>\n",
       "      <td>Varies</td>\n",
       "      <td>100000</td>\n",
       "      <td>Free</td>\n",
       "      <td>0.0</td>\n",
       "      <td>Everyone</td>\n",
       "      <td>[Education]</td>\n",
       "      <td>July 28, 2018</td>\n",
       "      <td>3.7.2.7</td>\n",
       "      <td>4.2 and up</td>\n",
       "    </tr>\n",
       "    <tr>\n",
       "      <th>10473</th>\n",
       "      <td>osmino Wi-Fi: free WiFi</td>\n",
       "      <td>TOOLS</td>\n",
       "      <td>4.2</td>\n",
       "      <td>134203</td>\n",
       "      <td>4.1</td>\n",
       "      <td>10000000</td>\n",
       "      <td>Free</td>\n",
       "      <td>0.0</td>\n",
       "      <td>Everyone</td>\n",
       "      <td>[Tools]</td>\n",
       "      <td>August 7, 2018</td>\n",
       "      <td>6.06.14</td>\n",
       "      <td>4.4 and up</td>\n",
       "    </tr>\n",
       "  </tbody>\n",
       "</table>\n",
       "</div>"
      ],
      "text/plain": [
       "                                              app        category  rating  \\\n",
       "1                             Coloring book moana  ART_AND_DESIGN     3.9   \n",
       "1450               Real Estate sale & rent Trovit  HOUSE_AND_HOME     4.1   \n",
       "2144   Toddler Learning Games - Little Kids Games          FAMILY     4.2   \n",
       "10473                     osmino Wi-Fi: free WiFi           TOOLS     4.2   \n",
       "\n",
       "       reviews    size  installs  type  price content_rating  \\\n",
       "1          967    14.0    500000  Free    0.0       Everyone   \n",
       "1450     65913     7.7   5000000  Free    0.0       Everyone   \n",
       "2144       731  Varies    100000  Free    0.0       Everyone   \n",
       "10473   134203     4.1  10000000  Free    0.0       Everyone   \n",
       "\n",
       "                            genres      last_updated current_ver   android_ver  \n",
       "1      [Art, Pretend Play, Design]  January 15, 2018       2.0.0  4.0.3 and up  \n",
       "1450                       [House]     July 16, 2018      4.47.3  4.0.3 and up  \n",
       "2144                   [Education]     July 28, 2018     3.7.2.7    4.2 and up  \n",
       "10473                      [Tools]    August 7, 2018     6.06.14    4.4 and up  "
      ]
     },
     "execution_count": 25,
     "metadata": {},
     "output_type": "execute_result"
    }
   ],
   "source": [
    "# split genre tags as list items with delimeters ; and & and remove the items with comma (February 11, 2018)\n",
    "df_feature.genres = df_feature.genres.apply(lambda x: list(filter(lambda y:re.findall(r'^[^,]+$', y), list(set(list(map(str.strip, x.replace('&',';').split(';'))))))))\n",
    "\n",
    "# fix specific examples: \"Editors\", \"Home\" and \"Educational\"\n",
    "df_feature.genres = df_feature.genres.apply(lambda x: list(set([y.replace('Editors', 'Video Editors').replace('Home','House').replace('Educational','Education') for y in x])))\n",
    "\n",
    "# recheck the previous samples\n",
    "df_feature.iloc[[1,1450,2144,10472]]"
   ]
  },
  {
   "cell_type": "code",
   "execution_count": 26,
   "id": "3369e57f",
   "metadata": {
    "ExecuteTime": {
     "end_time": "2022-04-13T06:53:44.355157Z",
     "start_time": "2022-04-13T06:53:44.345907Z"
    }
   },
   "outputs": [
    {
     "data": {
      "text/plain": [
       "array(['Design', 'Art', 'Pretend Play', 'Creativity', 'Adventure',\n",
       "       'Action', 'Vehicles', 'Auto', 'Beauty', 'Books', 'Reference',\n",
       "       'Business', 'Comics', 'Communication', 'Dating', 'Education',\n",
       "       'Video', 'Music', 'Brain Games', 'Entertainment', 'Events',\n",
       "       'Finance', 'Drink', 'Food', 'Health', 'Fitness', 'House',\n",
       "       'Libraries', 'Demo', 'Lifestyle', 'Arcade', 'Casual', 'Card',\n",
       "       'Strategy', 'Puzzle', 'Sports', 'Word', 'Racing', 'Simulation',\n",
       "       'Board', 'Trivia', 'Role Playing', 'Audio', 'Video Players',\n",
       "       'Video Editors', 'Medical', 'Social', 'Shopping', 'Photography',\n",
       "       'Travel', 'Local', 'Tools', 'Personalization', 'Productivity',\n",
       "       'Parenting', 'Weather', 'News', 'Magazines', 'Navigation', 'Maps',\n",
       "       'Casino'], dtype=object)"
      ]
     },
     "execution_count": 26,
     "metadata": {},
     "output_type": "execute_result"
    }
   ],
   "source": [
    "# unique tags are below, should ve also separate at & and remove similar ones (education:educational, house:home)\n",
    "df_feature.genres.explode().unique()"
   ]
  },
  {
   "cell_type": "markdown",
   "id": "2b6f6177",
   "metadata": {},
   "source": [
    "#### Last Updated:"
   ]
  },
  {
   "cell_type": "code",
   "execution_count": 27,
   "id": "f9158910",
   "metadata": {
    "ExecuteTime": {
     "end_time": "2022-04-13T06:53:46.506187Z",
     "start_time": "2022-04-13T06:53:46.376515Z"
    }
   },
   "outputs": [
    {
     "data": {
      "text/html": [
       "<div>\n",
       "<style scoped>\n",
       "    .dataframe tbody tr th:only-of-type {\n",
       "        vertical-align: middle;\n",
       "    }\n",
       "\n",
       "    .dataframe tbody tr th {\n",
       "        vertical-align: top;\n",
       "    }\n",
       "\n",
       "    .dataframe thead th {\n",
       "        text-align: right;\n",
       "    }\n",
       "</style>\n",
       "<table border=\"1\" class=\"dataframe\">\n",
       "  <thead>\n",
       "    <tr style=\"text-align: right;\">\n",
       "      <th></th>\n",
       "      <th>update_year</th>\n",
       "      <th>update_month</th>\n",
       "      <th>update_day</th>\n",
       "      <th>update_weekday</th>\n",
       "      <th>last_updated</th>\n",
       "    </tr>\n",
       "  </thead>\n",
       "  <tbody>\n",
       "    <tr>\n",
       "      <th>0</th>\n",
       "      <td>2018</td>\n",
       "      <td>1</td>\n",
       "      <td>7</td>\n",
       "      <td>Sunday</td>\n",
       "      <td>2018-01-07</td>\n",
       "    </tr>\n",
       "    <tr>\n",
       "      <th>1</th>\n",
       "      <td>2018</td>\n",
       "      <td>1</td>\n",
       "      <td>15</td>\n",
       "      <td>Monday</td>\n",
       "      <td>2018-01-15</td>\n",
       "    </tr>\n",
       "    <tr>\n",
       "      <th>2</th>\n",
       "      <td>2018</td>\n",
       "      <td>8</td>\n",
       "      <td>1</td>\n",
       "      <td>Wednesday</td>\n",
       "      <td>2018-08-01</td>\n",
       "    </tr>\n",
       "    <tr>\n",
       "      <th>3</th>\n",
       "      <td>2018</td>\n",
       "      <td>6</td>\n",
       "      <td>8</td>\n",
       "      <td>Friday</td>\n",
       "      <td>2018-06-08</td>\n",
       "    </tr>\n",
       "    <tr>\n",
       "      <th>4</th>\n",
       "      <td>2018</td>\n",
       "      <td>6</td>\n",
       "      <td>20</td>\n",
       "      <td>Wednesday</td>\n",
       "      <td>2018-06-20</td>\n",
       "    </tr>\n",
       "  </tbody>\n",
       "</table>\n",
       "</div>"
      ],
      "text/plain": [
       "   update_year  update_month  update_day update_weekday last_updated\n",
       "0         2018             1           7         Sunday   2018-01-07\n",
       "1         2018             1          15         Monday   2018-01-15\n",
       "2         2018             8           1      Wednesday   2018-08-01\n",
       "3         2018             6           8         Friday   2018-06-08\n",
       "4         2018             6          20      Wednesday   2018-06-20"
      ]
     },
     "execution_count": 27,
     "metadata": {},
     "output_type": "execute_result"
    }
   ],
   "source": [
    "# transform not unique date string of the data into datetime form\n",
    "df_feature.last_updated = pd.to_datetime(df_feature.last_updated, errors='coerce')\n",
    "\n",
    "# extract the year in a new column 'update_year'\n",
    "df_feature.insert(loc=(df_feature.columns.get_loc('last_updated')),\n",
    "                        column='update_year', \n",
    "                        value=df_feature.last_updated.dt.year)\n",
    "\n",
    "# extract the month in a new column 'update_month'\n",
    "df_feature.insert(loc=(df_feature.columns.get_loc('last_updated')),\n",
    "                        column='update_month', \n",
    "                        value=df_feature.last_updated.dt.month)\n",
    "\n",
    "# extract the day in a new column 'update_day'\n",
    "df_feature.insert(loc=(df_feature.columns.get_loc('last_updated')),\n",
    "                        column='update_day', \n",
    "                        value=df_feature.last_updated.dt.day)\n",
    "\n",
    "# extract the day name in a new column 'update_weekday'\n",
    "df_feature.insert(loc=(df_feature.columns.get_loc('last_updated')),\n",
    "                        column='update_weekday', \n",
    "                        value=df_feature.last_updated.dt.day_name())\n",
    "\n",
    "# observe generated columns with datatime content (list of col vals to get the list of related column names)\n",
    "df_feature.loc[:,list(df_feature.columns.values)[10:15]].head()"
   ]
  },
  {
   "cell_type": "markdown",
   "id": "2b6de4e0",
   "metadata": {},
   "source": [
    "#### Current Version:"
   ]
  },
  {
   "cell_type": "code",
   "execution_count": 28,
   "id": "4ec8e706",
   "metadata": {
    "ExecuteTime": {
     "end_time": "2022-04-13T06:53:52.052680Z",
     "start_time": "2022-04-13T06:53:51.850545Z"
    }
   },
   "outputs": [],
   "source": [
    "# rename varying version with a shorter name\n",
    "df_feature.current_ver = df_feature.current_ver.str.replace(r\"Varies with device\", \"Varies\", regex=True)\n",
    "\n",
    "# set version string as version object (to be able to compare or sort later)\n",
    "df_feature.current_ver = df_feature.current_ver.apply(lambda x: x if pd.isna(x) else parse(canonicalize_version(x)))"
   ]
  },
  {
   "cell_type": "code",
   "execution_count": 29,
   "id": "f6446ea7",
   "metadata": {
    "ExecuteTime": {
     "end_time": "2022-04-13T06:53:53.798730Z",
     "start_time": "2022-04-13T06:53:53.785032Z"
    }
   },
   "outputs": [
    {
     "data": {
      "text/html": [
       "<div>\n",
       "<style scoped>\n",
       "    .dataframe tbody tr th:only-of-type {\n",
       "        vertical-align: middle;\n",
       "    }\n",
       "\n",
       "    .dataframe tbody tr th {\n",
       "        vertical-align: top;\n",
       "    }\n",
       "\n",
       "    .dataframe thead th {\n",
       "        text-align: right;\n",
       "    }\n",
       "</style>\n",
       "<table border=\"1\" class=\"dataframe\">\n",
       "  <thead>\n",
       "    <tr style=\"text-align: right;\">\n",
       "      <th></th>\n",
       "      <th>app</th>\n",
       "      <th>category</th>\n",
       "      <th>rating</th>\n",
       "      <th>reviews</th>\n",
       "      <th>size</th>\n",
       "      <th>installs</th>\n",
       "      <th>type</th>\n",
       "      <th>price</th>\n",
       "      <th>content_rating</th>\n",
       "      <th>genres</th>\n",
       "      <th>update_year</th>\n",
       "      <th>update_month</th>\n",
       "      <th>update_day</th>\n",
       "      <th>update_weekday</th>\n",
       "      <th>last_updated</th>\n",
       "      <th>current_ver</th>\n",
       "      <th>android_ver</th>\n",
       "    </tr>\n",
       "  </thead>\n",
       "  <tbody>\n",
       "    <tr>\n",
       "      <th>7311</th>\n",
       "      <td>My CG</td>\n",
       "      <td>PRODUCTIVITY</td>\n",
       "      <td>NaN</td>\n",
       "      <td>0</td>\n",
       "      <td>Varies</td>\n",
       "      <td>10</td>\n",
       "      <td>Free</td>\n",
       "      <td>0.0</td>\n",
       "      <td>Teen</td>\n",
       "      <td>[Productivity]</td>\n",
       "      <td>2018</td>\n",
       "      <td>8</td>\n",
       "      <td>2</td>\n",
       "      <td>Thursday</td>\n",
       "      <td>2018-08-02</td>\n",
       "      <td>Varies</td>\n",
       "      <td>Varies with device</td>\n",
       "    </tr>\n",
       "    <tr>\n",
       "      <th>7312</th>\n",
       "      <td>Best CG Photography</td>\n",
       "      <td>FAMILY</td>\n",
       "      <td>NaN</td>\n",
       "      <td>1</td>\n",
       "      <td>2.5</td>\n",
       "      <td>500</td>\n",
       "      <td>Free</td>\n",
       "      <td>0.0</td>\n",
       "      <td>NaN</td>\n",
       "      <td>[Entertainment]</td>\n",
       "      <td>2015</td>\n",
       "      <td>6</td>\n",
       "      <td>24</td>\n",
       "      <td>Wednesday</td>\n",
       "      <td>2015-06-24</td>\n",
       "      <td>5.2</td>\n",
       "      <td>3.0 and up</td>\n",
       "    </tr>\n",
       "    <tr>\n",
       "      <th>7313</th>\n",
       "      <td>BF CG View Wallpapers</td>\n",
       "      <td>FAMILY</td>\n",
       "      <td>3.6</td>\n",
       "      <td>13</td>\n",
       "      <td>2.5</td>\n",
       "      <td>1000</td>\n",
       "      <td>Free</td>\n",
       "      <td>0.0</td>\n",
       "      <td>Teen</td>\n",
       "      <td>[Entertainment]</td>\n",
       "      <td>2015</td>\n",
       "      <td>6</td>\n",
       "      <td>19</td>\n",
       "      <td>Friday</td>\n",
       "      <td>2015-06-19</td>\n",
       "      <td>3</td>\n",
       "      <td>3.0 and up</td>\n",
       "    </tr>\n",
       "    <tr>\n",
       "      <th>7314</th>\n",
       "      <td>CG Sanyukt Bharti Pariksha 2018</td>\n",
       "      <td>FAMILY</td>\n",
       "      <td>4.3</td>\n",
       "      <td>14</td>\n",
       "      <td>4.3</td>\n",
       "      <td>1000</td>\n",
       "      <td>Free</td>\n",
       "      <td>0.0</td>\n",
       "      <td>Teen</td>\n",
       "      <td>[Education]</td>\n",
       "      <td>2018</td>\n",
       "      <td>1</td>\n",
       "      <td>10</td>\n",
       "      <td>Wednesday</td>\n",
       "      <td>2018-01-10</td>\n",
       "      <td>7.4</td>\n",
       "      <td>2.3 and up</td>\n",
       "    </tr>\n",
       "  </tbody>\n",
       "</table>\n",
       "</div>"
      ],
      "text/plain": [
       "                                  app      category  rating  reviews    size  \\\n",
       "7311                            My CG  PRODUCTIVITY     NaN        0  Varies   \n",
       "7312              Best CG Photography        FAMILY     NaN        1     2.5   \n",
       "7313            BF CG View Wallpapers        FAMILY     3.6       13     2.5   \n",
       "7314  CG Sanyukt Bharti Pariksha 2018        FAMILY     4.3       14     4.3   \n",
       "\n",
       "      installs  type  price content_rating           genres  update_year  \\\n",
       "7311        10  Free    0.0           Teen   [Productivity]         2018   \n",
       "7312       500  Free    0.0            NaN  [Entertainment]         2015   \n",
       "7313      1000  Free    0.0           Teen  [Entertainment]         2015   \n",
       "7314      1000  Free    0.0           Teen      [Education]         2018   \n",
       "\n",
       "      update_month  update_day update_weekday last_updated current_ver  \\\n",
       "7311             8           2       Thursday   2018-08-02      Varies   \n",
       "7312             6          24      Wednesday   2015-06-24         5.2   \n",
       "7313             6          19         Friday   2015-06-19           3   \n",
       "7314             1          10      Wednesday   2018-01-10         7.4   \n",
       "\n",
       "             android_ver  \n",
       "7311  Varies with device  \n",
       "7312          3.0 and up  \n",
       "7313          3.0 and up  \n",
       "7314          2.3 and up  "
      ]
     },
     "execution_count": 29,
     "metadata": {},
     "output_type": "execute_result"
    }
   ],
   "source": [
    "# recheck the previous samples\n",
    "df_feature.loc[7311:7314]"
   ]
  },
  {
   "cell_type": "markdown",
   "id": "d5a6cf90",
   "metadata": {},
   "source": [
    "#### Android Version:"
   ]
  },
  {
   "cell_type": "code",
   "execution_count": 30,
   "id": "5b36f51a",
   "metadata": {
    "ExecuteTime": {
     "end_time": "2022-04-13T06:53:56.587643Z",
     "start_time": "2022-04-13T06:53:56.440390Z"
    }
   },
   "outputs": [],
   "source": [
    "# rename varying version with a shorter name\n",
    "df_feature.android_ver = df_feature.android_ver.str.replace(r\"Varies with device\", \"Varies\", regex=True)\n",
    "\n",
    "# crop \"and up\" from version number\n",
    "df_feature.android_ver = df_feature.android_ver.str.split(\"and up\", expand=True)[0]\n",
    "\n",
    "# set version string as version object (to be able to compare or sort later)\n",
    "df_feature.android_ver = df_feature.android_ver.apply(lambda x: x if pd.isna(x) else parse(canonicalize_version(x)))"
   ]
  },
  {
   "cell_type": "code",
   "execution_count": 31,
   "id": "5c2ff647",
   "metadata": {
    "ExecuteTime": {
     "end_time": "2022-04-13T06:53:58.262030Z",
     "start_time": "2022-04-13T06:53:58.248117Z"
    }
   },
   "outputs": [
    {
     "data": {
      "text/html": [
       "<div>\n",
       "<style scoped>\n",
       "    .dataframe tbody tr th:only-of-type {\n",
       "        vertical-align: middle;\n",
       "    }\n",
       "\n",
       "    .dataframe tbody tr th {\n",
       "        vertical-align: top;\n",
       "    }\n",
       "\n",
       "    .dataframe thead th {\n",
       "        text-align: right;\n",
       "    }\n",
       "</style>\n",
       "<table border=\"1\" class=\"dataframe\">\n",
       "  <thead>\n",
       "    <tr style=\"text-align: right;\">\n",
       "      <th></th>\n",
       "      <th>app</th>\n",
       "      <th>category</th>\n",
       "      <th>rating</th>\n",
       "      <th>reviews</th>\n",
       "      <th>size</th>\n",
       "      <th>installs</th>\n",
       "      <th>type</th>\n",
       "      <th>price</th>\n",
       "      <th>content_rating</th>\n",
       "      <th>genres</th>\n",
       "      <th>update_year</th>\n",
       "      <th>update_month</th>\n",
       "      <th>update_day</th>\n",
       "      <th>update_weekday</th>\n",
       "      <th>last_updated</th>\n",
       "      <th>current_ver</th>\n",
       "      <th>android_ver</th>\n",
       "    </tr>\n",
       "  </thead>\n",
       "  <tbody>\n",
       "    <tr>\n",
       "      <th>7311</th>\n",
       "      <td>My CG</td>\n",
       "      <td>PRODUCTIVITY</td>\n",
       "      <td>NaN</td>\n",
       "      <td>0</td>\n",
       "      <td>Varies</td>\n",
       "      <td>10</td>\n",
       "      <td>Free</td>\n",
       "      <td>0.0</td>\n",
       "      <td>Teen</td>\n",
       "      <td>[Productivity]</td>\n",
       "      <td>2018</td>\n",
       "      <td>8</td>\n",
       "      <td>2</td>\n",
       "      <td>Thursday</td>\n",
       "      <td>2018-08-02</td>\n",
       "      <td>Varies</td>\n",
       "      <td>Varies</td>\n",
       "    </tr>\n",
       "    <tr>\n",
       "      <th>7312</th>\n",
       "      <td>Best CG Photography</td>\n",
       "      <td>FAMILY</td>\n",
       "      <td>NaN</td>\n",
       "      <td>1</td>\n",
       "      <td>2.5</td>\n",
       "      <td>500</td>\n",
       "      <td>Free</td>\n",
       "      <td>0.0</td>\n",
       "      <td>NaN</td>\n",
       "      <td>[Entertainment]</td>\n",
       "      <td>2015</td>\n",
       "      <td>6</td>\n",
       "      <td>24</td>\n",
       "      <td>Wednesday</td>\n",
       "      <td>2015-06-24</td>\n",
       "      <td>5.2</td>\n",
       "      <td>3</td>\n",
       "    </tr>\n",
       "    <tr>\n",
       "      <th>7313</th>\n",
       "      <td>BF CG View Wallpapers</td>\n",
       "      <td>FAMILY</td>\n",
       "      <td>3.6</td>\n",
       "      <td>13</td>\n",
       "      <td>2.5</td>\n",
       "      <td>1000</td>\n",
       "      <td>Free</td>\n",
       "      <td>0.0</td>\n",
       "      <td>Teen</td>\n",
       "      <td>[Entertainment]</td>\n",
       "      <td>2015</td>\n",
       "      <td>6</td>\n",
       "      <td>19</td>\n",
       "      <td>Friday</td>\n",
       "      <td>2015-06-19</td>\n",
       "      <td>3</td>\n",
       "      <td>3</td>\n",
       "    </tr>\n",
       "    <tr>\n",
       "      <th>7314</th>\n",
       "      <td>CG Sanyukt Bharti Pariksha 2018</td>\n",
       "      <td>FAMILY</td>\n",
       "      <td>4.3</td>\n",
       "      <td>14</td>\n",
       "      <td>4.3</td>\n",
       "      <td>1000</td>\n",
       "      <td>Free</td>\n",
       "      <td>0.0</td>\n",
       "      <td>Teen</td>\n",
       "      <td>[Education]</td>\n",
       "      <td>2018</td>\n",
       "      <td>1</td>\n",
       "      <td>10</td>\n",
       "      <td>Wednesday</td>\n",
       "      <td>2018-01-10</td>\n",
       "      <td>7.4</td>\n",
       "      <td>2.3</td>\n",
       "    </tr>\n",
       "  </tbody>\n",
       "</table>\n",
       "</div>"
      ],
      "text/plain": [
       "                                  app      category  rating  reviews    size  \\\n",
       "7311                            My CG  PRODUCTIVITY     NaN        0  Varies   \n",
       "7312              Best CG Photography        FAMILY     NaN        1     2.5   \n",
       "7313            BF CG View Wallpapers        FAMILY     3.6       13     2.5   \n",
       "7314  CG Sanyukt Bharti Pariksha 2018        FAMILY     4.3       14     4.3   \n",
       "\n",
       "      installs  type  price content_rating           genres  update_year  \\\n",
       "7311        10  Free    0.0           Teen   [Productivity]         2018   \n",
       "7312       500  Free    0.0            NaN  [Entertainment]         2015   \n",
       "7313      1000  Free    0.0           Teen  [Entertainment]         2015   \n",
       "7314      1000  Free    0.0           Teen      [Education]         2018   \n",
       "\n",
       "      update_month  update_day update_weekday last_updated current_ver  \\\n",
       "7311             8           2       Thursday   2018-08-02      Varies   \n",
       "7312             6          24      Wednesday   2015-06-24         5.2   \n",
       "7313             6          19         Friday   2015-06-19           3   \n",
       "7314             1          10      Wednesday   2018-01-10         7.4   \n",
       "\n",
       "     android_ver  \n",
       "7311      Varies  \n",
       "7312           3  \n",
       "7313           3  \n",
       "7314         2.3  "
      ]
     },
     "execution_count": 31,
     "metadata": {},
     "output_type": "execute_result"
    }
   ],
   "source": [
    "# recheck the previous samples\n",
    "df_feature.loc[7311:7314]"
   ]
  },
  {
   "cell_type": "markdown",
   "id": "994d534a",
   "metadata": {},
   "source": [
    "### 3.2) Review Data\n",
    "All Review set columns were already available for further operations without any conversion or split. So we did not perform any column specific operation here. \n",
    "\n",
    "**NOTE:** *The sentiment function of textblob returns two properties, polarity, and subjectivity.*\n",
    "*Polarity is float which lies in the range of [-1,1] where 1 means positive statement and -1 means a negative statement. Subjective sentences generally refer to personal opinion, emotion or judgment whereas objective refers to factual information. Subjectivity is also a float which lies in the range of [0,1].*"
   ]
  },
  {
   "cell_type": "markdown",
   "id": "8446b12b",
   "metadata": {},
   "source": [
    "## 4) Data Imputation\n",
    "We check the initial empty cell rates per column within the data frame for further operations."
   ]
  },
  {
   "cell_type": "code",
   "execution_count": 32,
   "id": "37acdfb1",
   "metadata": {
    "ExecuteTime": {
     "end_time": "2022-04-13T06:54:01.475882Z",
     "start_time": "2022-04-13T06:54:00.884792Z"
    }
   },
   "outputs": [
    {
     "data": {
      "text/plain": [
       "<AxesSubplot:>"
      ]
     },
     "execution_count": 32,
     "metadata": {},
     "output_type": "execute_result"
    },
    {
     "data": {
      "image/png": "[encoded data removed]",
      "text/plain": [
       "<Figure size 1080x216 with 2 Axes>"
      ]
     },
     "metadata": {
      "needs_background": "light"
     },
     "output_type": "display_data"
    },
    {
     "data": {
      "image/png": "[encoded data removed]",
      "text/plain": [
       "<Figure size 1080x216 with 2 Axes>"
      ]
     },
     "metadata": {
      "needs_background": "light"
     },
     "output_type": "display_data"
    }
   ],
   "source": [
    "# using missingno library to review missing values\n",
    "msno.matrix(df_feature, figsize=(15, 3), fontsize=11)\n",
    "msno.matrix(df_review, figsize=(15, 3), fontsize=11)"
   ]
  },
  {
   "cell_type": "code",
   "execution_count": 33,
   "id": "1eb58814",
   "metadata": {
    "ExecuteTime": {
     "end_time": "2022-04-13T07:04:46.241624Z",
     "start_time": "2022-04-13T07:04:46.234499Z"
    }
   },
   "outputs": [],
   "source": [
    "# Additional plotting to see missing value percentage by columns\n",
    "# TODO: parametrize the text alignment and graph colors\n",
    "def findEmpty(df):\n",
    "    percentages = []\n",
    "    labels = []\n",
    "    str_ = \"\"\n",
    "\n",
    "    # iterate over data\n",
    "    for col in df.columns:\n",
    "        # percentage of null cells in the whole column\n",
    "        p_missing = np.mean(df[col].isnull())\n",
    "        # sum of null cells in the whole column\n",
    "        missing = df[col].isnull().sum()\n",
    "        percentages.append(p_missing*100)\n",
    "        labels.append(col)\n",
    "        # generate a string to print out results with numbers\n",
    "        if(missing):\n",
    "            str_ += \"\\n\" + col + \" - \" + str(missing) + \" / \" + str(len(df[col]))\n",
    "    return percentages, labels, str_\n",
    "\n",
    "def plotEmpty(names, *dfs):\n",
    "    # common plot calls\n",
    "    text_kwargs = dict(ha='left', va='top', fontsize=11)\n",
    "    plt.figure(num=None, figsize=(len(dfs)*6, 4))\n",
    "    \n",
    "    # color list to change color on each graph\n",
    "    colors = ['skyblue','teal','pink','turquoise','maroon','navyblue']\n",
    "    \n",
    "    for idx, df in enumerate(dfs):\n",
    "        percentages, labels, str_ = findEmpty(df)\n",
    "        \n",
    "        # plot results with bar plot\n",
    "        ticks = list(range(1, len(labels)+1))\n",
    "        plt.subplot(1, len(dfs), idx+1)\n",
    "        plt.bar(ticks, percentages, color=colors[idx])\n",
    "        plt.xticks(ticks, labels, rotation=75)\n",
    "        plt.ylim(0, 120)\n",
    "        plt.text(0.5, 125, str_, **text_kwargs)\n",
    "        for index, value in enumerate(percentages):\n",
    "            plt.text(index+1, value, str(int(value)), ha='center', va='bottom')\n",
    "        plt.ylabel('Percentages')\n",
    "        plt.title(names[idx]+' Empty Cell Percentages')\n",
    "        \n",
    "    plt.show()"
   ]
  },
  {
   "cell_type": "code",
   "execution_count": 34,
   "id": "662fbbd7",
   "metadata": {
    "ExecuteTime": {
     "end_time": "2022-04-13T07:04:48.276481Z",
     "start_time": "2022-04-13T07:04:47.994110Z"
    }
   },
   "outputs": [
    {
     "data": {
      "image/png": "[encoded data removed]",
      "text/plain": [
       "<Figure size 864x288 with 2 Axes>"
      ]
     },
     "metadata": {
      "needs_background": "light"
     },
     "output_type": "display_data"
    }
   ],
   "source": [
    "# plot empty columns of datasets\n",
    "plotEmpty([\"Feature\", \"Review\"], df_feature, df_review)"
   ]
  },
  {
   "cell_type": "markdown",
   "id": "169af953",
   "metadata": {},
   "source": [
    "Here we see that some columns of Features set have very few numbers of missing entries. For those, we will drop the rows with missing entries. For larger amount of missing entries (or not missing but unusual values as in \"Varies\") we will apply individual solutions."
   ]
  },
  {
   "cell_type": "code",
   "execution_count": 35,
   "id": "d6757e19",
   "metadata": {
    "ExecuteTime": {
     "end_time": "2022-04-13T06:54:14.718343Z",
     "start_time": "2022-04-13T06:54:14.223384Z"
    }
   },
   "outputs": [],
   "source": [
    "# drop rows with nan values in price, content_rating, last_updated, current_ver, android_ver \n",
    "nan_cols = df_feature.reviews.isnull() | df_feature.installs.isnull() | df_feature[\"type\"].isnull() | df_feature.price.isnull() | df_feature.content_rating.isnull() | df_feature.last_updated.isnull() | df_feature.current_ver.isnull() | df_feature.android_ver.isnull()\n",
    "df_feature.drop(df_feature[nan_cols].index, inplace=True)"
   ]
  },
  {
   "cell_type": "code",
   "execution_count": 36,
   "id": "2c6f4e94",
   "metadata": {},
   "outputs": [
    {
     "data": {
      "text/plain": [
       "<AxesSubplot:>"
      ]
     },
     "execution_count": 36,
     "metadata": {},
     "output_type": "execute_result"
    },
    {
     "data": {
      "image/png": "[encoded data removed]",
      "text/plain": [
       "<Figure size 576x288 with 3 Axes>"
      ]
     },
     "metadata": {
      "needs_background": "light"
     },
     "output_type": "display_data"
    }
   ],
   "source": [
    "# check missing values\n",
    "msno.bar(df_feature, figsize=(8, 4), fontsize=11)"
   ]
  },
  {
   "cell_type": "markdown",
   "id": "a336c2cf",
   "metadata": {},
   "source": [
    "For reviews, if a row misses translated_review we will drop the row sice the sentiment analysis is invalid without a text."
   ]
  },
  {
   "cell_type": "code",
   "execution_count": 37,
   "id": "dd05a456",
   "metadata": {
    "ExecuteTime": {
     "end_time": "2022-04-13T06:54:16.525949Z",
     "start_time": "2022-04-13T06:54:16.264780Z"
    }
   },
   "outputs": [
    {
     "data": {
      "text/plain": [
       "<AxesSubplot:>"
      ]
     },
     "execution_count": 37,
     "metadata": {},
     "output_type": "execute_result"
    },
    {
     "data": {
      "image/png": "[encoded data removed]",
      "text/plain": [
       "<Figure size 144x288 with 3 Axes>"
      ]
     },
     "metadata": {
      "needs_background": "light"
     },
     "output_type": "display_data"
    }
   ],
   "source": [
    "# drop rows with nan values in sentiment, sentiment_polarity and sentiment_subjectivity \n",
    "df_review.dropna(subset=['translated_review'], inplace=True)\n",
    "\n",
    "# check missing values\n",
    "msno.bar(df_review, figsize=(2, 4), fontsize=11)"
   ]
  },
  {
   "cell_type": "markdown",
   "id": "8855c870",
   "metadata": {},
   "source": [
    "After dropping the empty rows, we may now fill NaN values with column specific solutions. There is only rating column which require some imputation.\n",
    "\n",
    "### 4.1) Feature Data"
   ]
  },
  {
   "cell_type": "code",
   "execution_count": 38,
   "id": "099314f0",
   "metadata": {
    "ExecuteTime": {
     "end_time": "2022-04-13T06:54:19.551582Z",
     "start_time": "2022-04-13T06:54:19.532918Z"
    }
   },
   "outputs": [
    {
     "data": {
      "text/html": [
       "<div>\n",
       "<style scoped>\n",
       "    .dataframe tbody tr th:only-of-type {\n",
       "        vertical-align: middle;\n",
       "    }\n",
       "\n",
       "    .dataframe tbody tr th {\n",
       "        vertical-align: top;\n",
       "    }\n",
       "\n",
       "    .dataframe thead th {\n",
       "        text-align: right;\n",
       "    }\n",
       "</style>\n",
       "<table border=\"1\" class=\"dataframe\">\n",
       "  <thead>\n",
       "    <tr style=\"text-align: right;\">\n",
       "      <th></th>\n",
       "      <th>app</th>\n",
       "      <th>category</th>\n",
       "      <th>rating</th>\n",
       "      <th>reviews</th>\n",
       "      <th>size</th>\n",
       "      <th>installs</th>\n",
       "      <th>type</th>\n",
       "      <th>price</th>\n",
       "      <th>content_rating</th>\n",
       "      <th>genres</th>\n",
       "      <th>update_year</th>\n",
       "      <th>update_month</th>\n",
       "      <th>update_day</th>\n",
       "      <th>update_weekday</th>\n",
       "      <th>last_updated</th>\n",
       "      <th>current_ver</th>\n",
       "      <th>android_ver</th>\n",
       "    </tr>\n",
       "  </thead>\n",
       "  <tbody>\n",
       "    <tr>\n",
       "      <th>123</th>\n",
       "      <td>Manicure - nail design</td>\n",
       "      <td>BEAUTY</td>\n",
       "      <td>NaN</td>\n",
       "      <td>119</td>\n",
       "      <td>3.7</td>\n",
       "      <td>50000</td>\n",
       "      <td>Free</td>\n",
       "      <td>0.0</td>\n",
       "      <td>Everyone</td>\n",
       "      <td>[Beauty]</td>\n",
       "      <td>2018</td>\n",
       "      <td>7</td>\n",
       "      <td>23</td>\n",
       "      <td>Monday</td>\n",
       "      <td>2018-07-23</td>\n",
       "      <td>1.3</td>\n",
       "      <td>4.1</td>\n",
       "    </tr>\n",
       "    <tr>\n",
       "      <th>124</th>\n",
       "      <td>Sticker Camera - Selfie Filters, Beauty Camera</td>\n",
       "      <td>BEAUTY</td>\n",
       "      <td>3.9</td>\n",
       "      <td>2277</td>\n",
       "      <td>22.0</td>\n",
       "      <td>500000</td>\n",
       "      <td>Free</td>\n",
       "      <td>0.0</td>\n",
       "      <td>Everyone</td>\n",
       "      <td>[Beauty]</td>\n",
       "      <td>2018</td>\n",
       "      <td>7</td>\n",
       "      <td>12</td>\n",
       "      <td>Thursday</td>\n",
       "      <td>2018-07-12</td>\n",
       "      <td>1.1</td>\n",
       "      <td>4.0.3</td>\n",
       "    </tr>\n",
       "    <tr>\n",
       "      <th>125</th>\n",
       "      <td>Filters for B Live</td>\n",
       "      <td>BEAUTY</td>\n",
       "      <td>4.4</td>\n",
       "      <td>2280</td>\n",
       "      <td>24.0</td>\n",
       "      <td>500000</td>\n",
       "      <td>Free</td>\n",
       "      <td>0.0</td>\n",
       "      <td>Everyone</td>\n",
       "      <td>[Beauty]</td>\n",
       "      <td>2018</td>\n",
       "      <td>5</td>\n",
       "      <td>14</td>\n",
       "      <td>Monday</td>\n",
       "      <td>2018-05-14</td>\n",
       "      <td>1.1</td>\n",
       "      <td>4</td>\n",
       "    </tr>\n",
       "    <tr>\n",
       "      <th>126</th>\n",
       "      <td>Skin Care and Natural Beauty</td>\n",
       "      <td>BEAUTY</td>\n",
       "      <td>NaN</td>\n",
       "      <td>654</td>\n",
       "      <td>7.4</td>\n",
       "      <td>100000</td>\n",
       "      <td>Free</td>\n",
       "      <td>0.0</td>\n",
       "      <td>Teen</td>\n",
       "      <td>[Beauty]</td>\n",
       "      <td>2018</td>\n",
       "      <td>7</td>\n",
       "      <td>17</td>\n",
       "      <td>Tuesday</td>\n",
       "      <td>2018-07-17</td>\n",
       "      <td>1.15</td>\n",
       "      <td>4.1</td>\n",
       "    </tr>\n",
       "  </tbody>\n",
       "</table>\n",
       "</div>"
      ],
      "text/plain": [
       "                                                app category  rating  reviews  \\\n",
       "123                          Manicure - nail design   BEAUTY     NaN      119   \n",
       "124  Sticker Camera - Selfie Filters, Beauty Camera   BEAUTY     3.9     2277   \n",
       "125                              Filters for B Live   BEAUTY     4.4     2280   \n",
       "126                    Skin Care and Natural Beauty   BEAUTY     NaN      654   \n",
       "\n",
       "     size  installs  type  price content_rating    genres  update_year  \\\n",
       "123   3.7     50000  Free    0.0       Everyone  [Beauty]         2018   \n",
       "124  22.0    500000  Free    0.0       Everyone  [Beauty]         2018   \n",
       "125  24.0    500000  Free    0.0       Everyone  [Beauty]         2018   \n",
       "126   7.4    100000  Free    0.0           Teen  [Beauty]         2018   \n",
       "\n",
       "     update_month  update_day update_weekday last_updated current_ver  \\\n",
       "123             7          23         Monday   2018-07-23         1.3   \n",
       "124             7          12       Thursday   2018-07-12         1.1   \n",
       "125             5          14         Monday   2018-05-14         1.1   \n",
       "126             7          17        Tuesday   2018-07-17        1.15   \n",
       "\n",
       "    android_ver  \n",
       "123         4.1  \n",
       "124       4.0.3  \n",
       "125           4  \n",
       "126         4.1  "
      ]
     },
     "execution_count": 38,
     "metadata": {},
     "output_type": "execute_result"
    }
   ],
   "source": [
    "# check some sample row locations for empty cells to view: np.where(df_feature.isnull())\n",
    "# df_feature.iloc[np.unique(np.where(df_feature.isnull())[0])].head(3) # only rating is missing\n",
    "\n",
    "# print some interval with empties to check the imputation results later\n",
    "df_feature.loc[123:126]"
   ]
  },
  {
   "cell_type": "markdown",
   "id": "cebddbb5",
   "metadata": {},
   "source": [
    "#### Rating:\n",
    "\n",
    "To fill the missing rating values, we will group by category and type to get average and assign it to the same category and type missing samples."
   ]
  },
  {
   "cell_type": "code",
   "execution_count": 39,
   "id": "ee93c8a1",
   "metadata": {},
   "outputs": [
    {
     "data": {
      "text/plain": [
       "{('ART_AND_DESIGN', 'Free'): 4.358620689655172,\n",
       " ('ART_AND_DESIGN', 'Paid'): 4.733333333333333,\n",
       " ('AUTO_AND_VEHICLES', 'Free'): 4.184722222222223,\n",
       " ('AUTO_AND_VEHICLES', 'Paid'): 4.6}"
      ]
     },
     "execution_count": 39,
     "metadata": {},
     "output_type": "execute_result"
    }
   ],
   "source": [
    "# category and type averages\n",
    "filtered_avg = (df_feature.groupby(['category','type']).rating.mean()).to_dict()\n",
    "\n",
    "# sample dictionary items\n",
    "dict(islice(filtered_avg.items(), 0, 4))"
   ]
  },
  {
   "cell_type": "code",
   "execution_count": 40,
   "id": "57b565f1",
   "metadata": {},
   "outputs": [
    {
     "data": {
      "text/html": [
       "<div>\n",
       "<style scoped>\n",
       "    .dataframe tbody tr th:only-of-type {\n",
       "        vertical-align: middle;\n",
       "    }\n",
       "\n",
       "    .dataframe tbody tr th {\n",
       "        vertical-align: top;\n",
       "    }\n",
       "\n",
       "    .dataframe thead th {\n",
       "        text-align: right;\n",
       "    }\n",
       "</style>\n",
       "<table border=\"1\" class=\"dataframe\">\n",
       "  <thead>\n",
       "    <tr style=\"text-align: right;\">\n",
       "      <th></th>\n",
       "      <th>app</th>\n",
       "      <th>category</th>\n",
       "      <th>rating</th>\n",
       "      <th>reviews</th>\n",
       "      <th>size</th>\n",
       "      <th>installs</th>\n",
       "      <th>type</th>\n",
       "      <th>price</th>\n",
       "      <th>content_rating</th>\n",
       "      <th>genres</th>\n",
       "      <th>update_year</th>\n",
       "      <th>update_month</th>\n",
       "      <th>update_day</th>\n",
       "      <th>update_weekday</th>\n",
       "      <th>last_updated</th>\n",
       "      <th>current_ver</th>\n",
       "      <th>android_ver</th>\n",
       "    </tr>\n",
       "  </thead>\n",
       "  <tbody>\n",
       "    <tr>\n",
       "      <th>123</th>\n",
       "      <td>Manicure - nail design</td>\n",
       "      <td>BEAUTY</td>\n",
       "      <td>4.278571</td>\n",
       "      <td>119</td>\n",
       "      <td>3.7</td>\n",
       "      <td>50000</td>\n",
       "      <td>Free</td>\n",
       "      <td>0.0</td>\n",
       "      <td>Everyone</td>\n",
       "      <td>[Beauty]</td>\n",
       "      <td>2018</td>\n",
       "      <td>7</td>\n",
       "      <td>23</td>\n",
       "      <td>Monday</td>\n",
       "      <td>2018-07-23</td>\n",
       "      <td>1.3</td>\n",
       "      <td>4.1</td>\n",
       "    </tr>\n",
       "    <tr>\n",
       "      <th>124</th>\n",
       "      <td>Sticker Camera - Selfie Filters, Beauty Camera</td>\n",
       "      <td>BEAUTY</td>\n",
       "      <td>3.900000</td>\n",
       "      <td>2277</td>\n",
       "      <td>22.0</td>\n",
       "      <td>500000</td>\n",
       "      <td>Free</td>\n",
       "      <td>0.0</td>\n",
       "      <td>Everyone</td>\n",
       "      <td>[Beauty]</td>\n",
       "      <td>2018</td>\n",
       "      <td>7</td>\n",
       "      <td>12</td>\n",
       "      <td>Thursday</td>\n",
       "      <td>2018-07-12</td>\n",
       "      <td>1.1</td>\n",
       "      <td>4.0.3</td>\n",
       "    </tr>\n",
       "    <tr>\n",
       "      <th>125</th>\n",
       "      <td>Filters for B Live</td>\n",
       "      <td>BEAUTY</td>\n",
       "      <td>4.400000</td>\n",
       "      <td>2280</td>\n",
       "      <td>24.0</td>\n",
       "      <td>500000</td>\n",
       "      <td>Free</td>\n",
       "      <td>0.0</td>\n",
       "      <td>Everyone</td>\n",
       "      <td>[Beauty]</td>\n",
       "      <td>2018</td>\n",
       "      <td>5</td>\n",
       "      <td>14</td>\n",
       "      <td>Monday</td>\n",
       "      <td>2018-05-14</td>\n",
       "      <td>1.1</td>\n",
       "      <td>4</td>\n",
       "    </tr>\n",
       "    <tr>\n",
       "      <th>126</th>\n",
       "      <td>Skin Care and Natural Beauty</td>\n",
       "      <td>BEAUTY</td>\n",
       "      <td>4.278571</td>\n",
       "      <td>654</td>\n",
       "      <td>7.4</td>\n",
       "      <td>100000</td>\n",
       "      <td>Free</td>\n",
       "      <td>0.0</td>\n",
       "      <td>Teen</td>\n",
       "      <td>[Beauty]</td>\n",
       "      <td>2018</td>\n",
       "      <td>7</td>\n",
       "      <td>17</td>\n",
       "      <td>Tuesday</td>\n",
       "      <td>2018-07-17</td>\n",
       "      <td>1.15</td>\n",
       "      <td>4.1</td>\n",
       "    </tr>\n",
       "  </tbody>\n",
       "</table>\n",
       "</div>"
      ],
      "text/plain": [
       "                                                app category    rating  \\\n",
       "123                          Manicure - nail design   BEAUTY  4.278571   \n",
       "124  Sticker Camera - Selfie Filters, Beauty Camera   BEAUTY  3.900000   \n",
       "125                              Filters for B Live   BEAUTY  4.400000   \n",
       "126                    Skin Care and Natural Beauty   BEAUTY  4.278571   \n",
       "\n",
       "     reviews  size  installs  type  price content_rating    genres  \\\n",
       "123      119   3.7     50000  Free    0.0       Everyone  [Beauty]   \n",
       "124     2277  22.0    500000  Free    0.0       Everyone  [Beauty]   \n",
       "125     2280  24.0    500000  Free    0.0       Everyone  [Beauty]   \n",
       "126      654   7.4    100000  Free    0.0           Teen  [Beauty]   \n",
       "\n",
       "     update_year  update_month  update_day update_weekday last_updated  \\\n",
       "123         2018             7          23         Monday   2018-07-23   \n",
       "124         2018             7          12       Thursday   2018-07-12   \n",
       "125         2018             5          14         Monday   2018-05-14   \n",
       "126         2018             7          17        Tuesday   2018-07-17   \n",
       "\n",
       "    current_ver android_ver  \n",
       "123         1.3         4.1  \n",
       "124         1.1       4.0.3  \n",
       "125         1.1           4  \n",
       "126        1.15         4.1  "
      ]
     },
     "execution_count": 40,
     "metadata": {},
     "output_type": "execute_result"
    }
   ],
   "source": [
    "# create a series from matching dictionary items\n",
    "series_avg = pd.Series([filtered_avg[x] for x in list(zip(df_feature.category, df_feature['type']))])\n",
    "\n",
    "# assign each rating entry with NaN value using the series\n",
    "df_feature.rating = df_feature.rating.fillna(series_avg)\n",
    "\n",
    "# drop remaining missings (~3 samples which were below average)\n",
    "df_feature.drop(df_feature[df_feature.rating.isnull()].index, inplace=True)\n",
    "\n",
    "# recheck the previous samples\n",
    "df_feature.loc[123:126]"
   ]
  },
  {
   "cell_type": "markdown",
   "id": "e40e60d5",
   "metadata": {},
   "source": [
    "#### Size:\n",
    "\n",
    "Since the missing entires in size are much larger, we will first review highest rated and most downloaded samples to decide dropping or imputing. Below we see that there are somevery important samples, thus we will impute the missing size entries as \"Varies\"."
   ]
  },
  {
   "cell_type": "code",
   "execution_count": 41,
   "id": "7c0e52d8",
   "metadata": {},
   "outputs": [
    {
     "data": {
      "text/html": [
       "<div>\n",
       "<style scoped>\n",
       "    .dataframe tbody tr th:only-of-type {\n",
       "        vertical-align: middle;\n",
       "    }\n",
       "\n",
       "    .dataframe tbody tr th {\n",
       "        vertical-align: top;\n",
       "    }\n",
       "\n",
       "    .dataframe thead th {\n",
       "        text-align: right;\n",
       "    }\n",
       "</style>\n",
       "<table border=\"1\" class=\"dataframe\">\n",
       "  <thead>\n",
       "    <tr style=\"text-align: right;\">\n",
       "      <th></th>\n",
       "      <th>app</th>\n",
       "      <th>category</th>\n",
       "      <th>rating</th>\n",
       "      <th>reviews</th>\n",
       "      <th>size</th>\n",
       "      <th>installs</th>\n",
       "      <th>type</th>\n",
       "      <th>price</th>\n",
       "      <th>content_rating</th>\n",
       "      <th>genres</th>\n",
       "      <th>update_year</th>\n",
       "      <th>update_month</th>\n",
       "      <th>update_day</th>\n",
       "      <th>update_weekday</th>\n",
       "      <th>last_updated</th>\n",
       "      <th>current_ver</th>\n",
       "      <th>android_ver</th>\n",
       "    </tr>\n",
       "  </thead>\n",
       "  <tbody>\n",
       "    <tr>\n",
       "      <th>7223</th>\n",
       "      <td>Terminal Emulator for Android</td>\n",
       "      <td>TOOLS</td>\n",
       "      <td>4.4</td>\n",
       "      <td>113951</td>\n",
       "      <td>NaN</td>\n",
       "      <td>10000000</td>\n",
       "      <td>Free</td>\n",
       "      <td>0.0</td>\n",
       "      <td>Everyone</td>\n",
       "      <td>[Tools]</td>\n",
       "      <td>2015</td>\n",
       "      <td>4</td>\n",
       "      <td>15</td>\n",
       "      <td>Wednesday</td>\n",
       "      <td>2015-04-15</td>\n",
       "      <td>1.0.70</td>\n",
       "      <td>1.6</td>\n",
       "    </tr>\n",
       "    <tr>\n",
       "      <th>458</th>\n",
       "      <td>GO Notifier</td>\n",
       "      <td>COMMUNICATION</td>\n",
       "      <td>4.2</td>\n",
       "      <td>124346</td>\n",
       "      <td>NaN</td>\n",
       "      <td>10000000</td>\n",
       "      <td>Free</td>\n",
       "      <td>0.0</td>\n",
       "      <td>Everyone</td>\n",
       "      <td>[Communication]</td>\n",
       "      <td>2014</td>\n",
       "      <td>7</td>\n",
       "      <td>6</td>\n",
       "      <td>Sunday</td>\n",
       "      <td>2014-07-06</td>\n",
       "      <td>2.8</td>\n",
       "      <td>2</td>\n",
       "    </tr>\n",
       "    <tr>\n",
       "      <th>3350</th>\n",
       "      <td>Screen Off and Lock</td>\n",
       "      <td>TOOLS</td>\n",
       "      <td>4.1</td>\n",
       "      <td>172990</td>\n",
       "      <td>NaN</td>\n",
       "      <td>10000000</td>\n",
       "      <td>Free</td>\n",
       "      <td>0.0</td>\n",
       "      <td>Everyone</td>\n",
       "      <td>[Tools]</td>\n",
       "      <td>2017</td>\n",
       "      <td>12</td>\n",
       "      <td>2</td>\n",
       "      <td>Saturday</td>\n",
       "      <td>2017-12-02</td>\n",
       "      <td>1.17.4</td>\n",
       "      <td>2.2</td>\n",
       "    </tr>\n",
       "    <tr>\n",
       "      <th>3418</th>\n",
       "      <td>Galactic Core Free Wallpaper</td>\n",
       "      <td>PERSONALIZATION</td>\n",
       "      <td>4.1</td>\n",
       "      <td>69417</td>\n",
       "      <td>NaN</td>\n",
       "      <td>10000000</td>\n",
       "      <td>Free</td>\n",
       "      <td>0.0</td>\n",
       "      <td>Everyone</td>\n",
       "      <td>[Personalization]</td>\n",
       "      <td>2014</td>\n",
       "      <td>5</td>\n",
       "      <td>1</td>\n",
       "      <td>Thursday</td>\n",
       "      <td>2014-05-01</td>\n",
       "      <td>2.41</td>\n",
       "      <td>2.1</td>\n",
       "    </tr>\n",
       "    <tr>\n",
       "      <th>8312</th>\n",
       "      <td>Satellite Director</td>\n",
       "      <td>TOOLS</td>\n",
       "      <td>4.1</td>\n",
       "      <td>45610</td>\n",
       "      <td>NaN</td>\n",
       "      <td>10000000</td>\n",
       "      <td>Free</td>\n",
       "      <td>0.0</td>\n",
       "      <td>Everyone</td>\n",
       "      <td>[Tools]</td>\n",
       "      <td>2018</td>\n",
       "      <td>1</td>\n",
       "      <td>2</td>\n",
       "      <td>Tuesday</td>\n",
       "      <td>2018-01-02</td>\n",
       "      <td>1.56</td>\n",
       "      <td>1.6</td>\n",
       "    </tr>\n",
       "  </tbody>\n",
       "</table>\n",
       "</div>"
      ],
      "text/plain": [
       "                                app         category  rating  reviews size  \\\n",
       "7223  Terminal Emulator for Android            TOOLS     4.4   113951  NaN   \n",
       "458                     GO Notifier    COMMUNICATION     4.2   124346  NaN   \n",
       "3350            Screen Off and Lock            TOOLS     4.1   172990  NaN   \n",
       "3418   Galactic Core Free Wallpaper  PERSONALIZATION     4.1    69417  NaN   \n",
       "8312             Satellite Director            TOOLS     4.1    45610  NaN   \n",
       "\n",
       "      installs  type  price content_rating             genres  update_year  \\\n",
       "7223  10000000  Free    0.0       Everyone            [Tools]         2015   \n",
       "458   10000000  Free    0.0       Everyone    [Communication]         2014   \n",
       "3350  10000000  Free    0.0       Everyone            [Tools]         2017   \n",
       "3418  10000000  Free    0.0       Everyone  [Personalization]         2014   \n",
       "8312  10000000  Free    0.0       Everyone            [Tools]         2018   \n",
       "\n",
       "      update_month  update_day update_weekday last_updated current_ver  \\\n",
       "7223             4          15      Wednesday   2015-04-15      1.0.70   \n",
       "458              7           6         Sunday   2014-07-06         2.8   \n",
       "3350            12           2       Saturday   2017-12-02      1.17.4   \n",
       "3418             5           1       Thursday   2014-05-01        2.41   \n",
       "8312             1           2        Tuesday   2018-01-02        1.56   \n",
       "\n",
       "     android_ver  \n",
       "7223         1.6  \n",
       "458            2  \n",
       "3350         2.2  \n",
       "3418         2.1  \n",
       "8312         1.6  "
      ]
     },
     "execution_count": 41,
     "metadata": {},
     "output_type": "execute_result"
    }
   ],
   "source": [
    "# review highest rated and most downloaded samples\n",
    "df_feature.iloc[np.where(df_feature[\"size\"].isna())].sort_values(by=['installs','rating'], ascending=False).head()"
   ]
  },
  {
   "cell_type": "code",
   "execution_count": 42,
   "id": "23852186",
   "metadata": {},
   "outputs": [],
   "source": [
    "# impute missing size as varies\n",
    "df_feature[\"size\"] = df_feature[\"size\"].fillna(\"Varies\")"
   ]
  },
  {
   "cell_type": "markdown",
   "id": "a4588988",
   "metadata": {},
   "source": [
    "After completing the imputation, we will check for the remaining empty cells."
   ]
  },
  {
   "cell_type": "code",
   "execution_count": 43,
   "id": "638a3cc1",
   "metadata": {
    "ExecuteTime": {
     "end_time": "2022-04-13T06:54:24.116001Z",
     "start_time": "2022-04-13T06:54:24.087217Z"
    }
   },
   "outputs": [
    {
     "name": "stdout",
     "output_type": "stream",
     "text": [
      "Feature: 0 empty entries.\n",
      "Review: 0 empty entries.\n"
     ]
    }
   ],
   "source": [
    "# check if there are any empty entries left\n",
    "print(\"Feature:\", df_feature.isnull().values.sum(), \"empty entries.\")\n",
    "print(\"Review:\", df_review.isnull().values.sum(), \"empty entries.\")"
   ]
  },
  {
   "cell_type": "code",
   "execution_count": 44,
   "id": "f2cc6952",
   "metadata": {
    "ExecuteTime": {
     "end_time": "2022-04-13T07:04:52.706433Z",
     "start_time": "2022-04-13T07:04:52.422749Z"
    }
   },
   "outputs": [
    {
     "data": {
      "image/png": "[encoded data removed]",
      "text/plain": [
       "<Figure size 864x288 with 2 Axes>"
      ]
     },
     "metadata": {
      "needs_background": "light"
     },
     "output_type": "display_data"
    }
   ],
   "source": [
    "# check if there are any empty entries left\n",
    "plotEmpty([\"Feature\", \"Review\"], df_feature, df_review)"
   ]
  },
  {
   "cell_type": "code",
   "execution_count": 45,
   "id": "cceb3b33",
   "metadata": {
    "ExecuteTime": {
     "end_time": "2022-04-13T06:58:09.659841Z",
     "start_time": "2022-04-13T06:58:09.556128Z"
    }
   },
   "outputs": [
    {
     "data": {
      "text/html": [
       "<style type=\"text/css\">\n",
       "</style>\n",
       "<table id=\"T_54aba\" style='display:inline'>\n",
       "  <caption>Feature</caption>\n",
       "  <thead>\n",
       "    <tr>\n",
       "      <th class=\"blank level0\" >&nbsp;</th>\n",
       "      <th id=\"T_54aba_level0_col0\" class=\"col_heading level0 col0\" >rating</th>\n",
       "      <th id=\"T_54aba_level0_col1\" class=\"col_heading level0 col1\" >reviews</th>\n",
       "      <th id=\"T_54aba_level0_col2\" class=\"col_heading level0 col2\" >installs</th>\n",
       "      <th id=\"T_54aba_level0_col3\" class=\"col_heading level0 col3\" >price</th>\n",
       "    </tr>\n",
       "  </thead>\n",
       "  <tbody>\n",
       "    <tr>\n",
       "      <th id=\"T_54aba_level0_row0\" class=\"row_heading level0 row0\" >count</th>\n",
       "      <td id=\"T_54aba_row0_col0\" class=\"data row0 col0\" >10824.000000</td>\n",
       "      <td id=\"T_54aba_row0_col1\" class=\"data row0 col1\" >10824.000000</td>\n",
       "      <td id=\"T_54aba_row0_col2\" class=\"data row0 col2\" >10824.000000</td>\n",
       "      <td id=\"T_54aba_row0_col3\" class=\"data row0 col3\" >10824.000000</td>\n",
       "    </tr>\n",
       "    <tr>\n",
       "      <th id=\"T_54aba_level0_row1\" class=\"row_heading level0 row1\" >mean</th>\n",
       "      <td id=\"T_54aba_row1_col0\" class=\"data row1 col0\" >4.190556</td>\n",
       "      <td id=\"T_54aba_row1_col1\" class=\"data row1 col1\" >444807.031042</td>\n",
       "      <td id=\"T_54aba_row1_col2\" class=\"data row1 col2\" >15487047.290004</td>\n",
       "      <td id=\"T_54aba_row1_col3\" class=\"data row1 col3\" >1.028566</td>\n",
       "    </tr>\n",
       "    <tr>\n",
       "      <th id=\"T_54aba_level0_row2\" class=\"row_heading level0 row2\" >std</th>\n",
       "      <td id=\"T_54aba_row2_col0\" class=\"data row2 col0\" >0.480571</td>\n",
       "      <td id=\"T_54aba_row2_col1\" class=\"data row2 col1\" >2929874.424682</td>\n",
       "      <td id=\"T_54aba_row2_col2\" class=\"data row2 col2\" >85090135.364509</td>\n",
       "      <td id=\"T_54aba_row2_col3\" class=\"data row2 col3\" >15.961448</td>\n",
       "    </tr>\n",
       "    <tr>\n",
       "      <th id=\"T_54aba_level0_row3\" class=\"row_heading level0 row3\" >min</th>\n",
       "      <td id=\"T_54aba_row3_col0\" class=\"data row3 col0\" >1.000000</td>\n",
       "      <td id=\"T_54aba_row3_col1\" class=\"data row3 col1\" >0.000000</td>\n",
       "      <td id=\"T_54aba_row3_col2\" class=\"data row3 col2\" >0.000000</td>\n",
       "      <td id=\"T_54aba_row3_col3\" class=\"data row3 col3\" >0.000000</td>\n",
       "    </tr>\n",
       "    <tr>\n",
       "      <th id=\"T_54aba_level0_row4\" class=\"row_heading level0 row4\" >25%</th>\n",
       "      <td id=\"T_54aba_row4_col0\" class=\"data row4 col0\" >4.035575</td>\n",
       "      <td id=\"T_54aba_row4_col1\" class=\"data row4 col1\" >38.000000</td>\n",
       "      <td id=\"T_54aba_row4_col2\" class=\"data row4 col2\" >5000.000000</td>\n",
       "      <td id=\"T_54aba_row4_col3\" class=\"data row4 col3\" >0.000000</td>\n",
       "    </tr>\n",
       "    <tr>\n",
       "      <th id=\"T_54aba_level0_row5\" class=\"row_heading level0 row5\" >50%</th>\n",
       "      <td id=\"T_54aba_row5_col0\" class=\"data row5 col0\" >4.279804</td>\n",
       "      <td id=\"T_54aba_row5_col1\" class=\"data row5 col1\" >2106.000000</td>\n",
       "      <td id=\"T_54aba_row5_col2\" class=\"data row5 col2\" >100000.000000</td>\n",
       "      <td id=\"T_54aba_row5_col3\" class=\"data row5 col3\" >0.000000</td>\n",
       "    </tr>\n",
       "    <tr>\n",
       "      <th id=\"T_54aba_level0_row6\" class=\"row_heading level0 row6\" >75%</th>\n",
       "      <td id=\"T_54aba_row6_col0\" class=\"data row6 col0\" >4.500000</td>\n",
       "      <td id=\"T_54aba_row6_col1\" class=\"data row6 col1\" >55011.750000</td>\n",
       "      <td id=\"T_54aba_row6_col2\" class=\"data row6 col2\" >5000000.000000</td>\n",
       "      <td id=\"T_54aba_row6_col3\" class=\"data row6 col3\" >0.000000</td>\n",
       "    </tr>\n",
       "    <tr>\n",
       "      <th id=\"T_54aba_level0_row7\" class=\"row_heading level0 row7\" >max</th>\n",
       "      <td id=\"T_54aba_row7_col0\" class=\"data row7 col0\" >5.000000</td>\n",
       "      <td id=\"T_54aba_row7_col1\" class=\"data row7 col1\" >78158306.000000</td>\n",
       "      <td id=\"T_54aba_row7_col2\" class=\"data row7 col2\" >1000000000.000000</td>\n",
       "      <td id=\"T_54aba_row7_col3\" class=\"data row7 col3\" >400.000000</td>\n",
       "    </tr>\n",
       "  </tbody>\n",
       "</table>\n",
       "&nbsp;&nbsp;&nbsp;&nbsp;&nbsp;&nbsp;&nbsp;&nbsp;&nbsp;&nbsp;<style type=\"text/css\">\n",
       "</style>\n",
       "<table id=\"T_5fc17\" style='display:inline'>\n",
       "  <caption>Review</caption>\n",
       "  <thead>\n",
       "    <tr>\n",
       "      <th class=\"blank level0\" >&nbsp;</th>\n",
       "      <th id=\"T_5fc17_level0_col0\" class=\"col_heading level0 col0\" >sentiment_polarity</th>\n",
       "      <th id=\"T_5fc17_level0_col1\" class=\"col_heading level0 col1\" >sentiment_subjectivity</th>\n",
       "    </tr>\n",
       "  </thead>\n",
       "  <tbody>\n",
       "    <tr>\n",
       "      <th id=\"T_5fc17_level0_row0\" class=\"row_heading level0 row0\" >count</th>\n",
       "      <td id=\"T_5fc17_row0_col0\" class=\"data row0 col0\" >37427.000000</td>\n",
       "      <td id=\"T_5fc17_row0_col1\" class=\"data row0 col1\" >37427.000000</td>\n",
       "    </tr>\n",
       "    <tr>\n",
       "      <th id=\"T_5fc17_level0_row1\" class=\"row_heading level0 row1\" >mean</th>\n",
       "      <td id=\"T_5fc17_row1_col0\" class=\"data row1 col0\" >0.182171</td>\n",
       "      <td id=\"T_5fc17_row1_col1\" class=\"data row1 col1\" >0.492770</td>\n",
       "    </tr>\n",
       "    <tr>\n",
       "      <th id=\"T_5fc17_level0_row2\" class=\"row_heading level0 row2\" >std</th>\n",
       "      <td id=\"T_5fc17_row2_col0\" class=\"data row2 col0\" >0.351318</td>\n",
       "      <td id=\"T_5fc17_row2_col1\" class=\"data row2 col1\" >0.259904</td>\n",
       "    </tr>\n",
       "    <tr>\n",
       "      <th id=\"T_5fc17_level0_row3\" class=\"row_heading level0 row3\" >min</th>\n",
       "      <td id=\"T_5fc17_row3_col0\" class=\"data row3 col0\" >-1.000000</td>\n",
       "      <td id=\"T_5fc17_row3_col1\" class=\"data row3 col1\" >0.000000</td>\n",
       "    </tr>\n",
       "    <tr>\n",
       "      <th id=\"T_5fc17_level0_row4\" class=\"row_heading level0 row4\" >25%</th>\n",
       "      <td id=\"T_5fc17_row4_col0\" class=\"data row4 col0\" >0.000000</td>\n",
       "      <td id=\"T_5fc17_row4_col1\" class=\"data row4 col1\" >0.357143</td>\n",
       "    </tr>\n",
       "    <tr>\n",
       "      <th id=\"T_5fc17_level0_row5\" class=\"row_heading level0 row5\" >50%</th>\n",
       "      <td id=\"T_5fc17_row5_col0\" class=\"data row5 col0\" >0.150000</td>\n",
       "      <td id=\"T_5fc17_row5_col1\" class=\"data row5 col1\" >0.514286</td>\n",
       "    </tr>\n",
       "    <tr>\n",
       "      <th id=\"T_5fc17_level0_row6\" class=\"row_heading level0 row6\" >75%</th>\n",
       "      <td id=\"T_5fc17_row6_col0\" class=\"data row6 col0\" >0.400000</td>\n",
       "      <td id=\"T_5fc17_row6_col1\" class=\"data row6 col1\" >0.650000</td>\n",
       "    </tr>\n",
       "    <tr>\n",
       "      <th id=\"T_5fc17_level0_row7\" class=\"row_heading level0 row7\" >max</th>\n",
       "      <td id=\"T_5fc17_row7_col0\" class=\"data row7 col0\" >1.000000</td>\n",
       "      <td id=\"T_5fc17_row7_col1\" class=\"data row7 col1\" >1.000000</td>\n",
       "    </tr>\n",
       "  </tbody>\n",
       "</table>\n",
       "&nbsp;&nbsp;&nbsp;&nbsp;&nbsp;&nbsp;&nbsp;&nbsp;&nbsp;&nbsp;"
      ]
     },
     "metadata": {},
     "output_type": "display_data"
    }
   ],
   "source": [
    "# create a function for side by side printing of dataframes\n",
    "def print_stacked(names, *dfs):\n",
    "    stacked = \"\"\n",
    "    for idx, df in enumerate(dfs):\n",
    "        stacked += df.style.set_table_attributes(\"style='display:inline'\").set_caption(names[idx])._repr_html_() + \"&nbsp;\"*10\n",
    "    display_html(stacked, raw=True)\n",
    "\n",
    "# selected columns for Feature set\n",
    "sel_col = [\"rating\", \"reviews\", \"size\", \"installs\", \"price\"]\n",
    "\n",
    "# observe numerical columns description of both tables\n",
    "print_stacked([\"Feature\", \"Review\"], df_feature[sel_col].describe(), df_review.describe())"
   ]
  },
  {
   "cell_type": "markdown",
   "id": "7bb7a579",
   "metadata": {},
   "source": [
    "## 6) Join Data (& drop duplicates)\n",
    "\n",
    "The data sets **Feature** and **Review** include different information for common apps. Thus, we will match the titles for existing entries in both sets and obtain a final set with all the combined information."
   ]
  },
  {
   "cell_type": "code",
   "execution_count": 46,
   "id": "a5b9dd8c",
   "metadata": {
    "ExecuteTime": {
     "end_time": "2022-04-13T06:58:12.044096Z",
     "start_time": "2022-04-13T06:58:12.023982Z"
    }
   },
   "outputs": [
    {
     "name": "stdout",
     "output_type": "stream",
     "text": [
      "Initially duplicated entries in Feature set: 1181\n",
      "Remaining duplicated entries in Feature set: 0\n"
     ]
    }
   ],
   "source": [
    "# check for duplicated entries in Feature set\n",
    "print(\"Initially duplicated entries in Feature set:\", df_feature.duplicated(subset=['app']).sum())\n",
    "\n",
    "# drop duplicates of app in case any\n",
    "df_feature = df_feature.drop_duplicates(subset=['app'])\n",
    "unique_apps_f = df_feature['app'].tolist()\n",
    "\n",
    "# check for duplicated entries\n",
    "print(\"Remaining duplicated entries in Feature set:\", df_feature.duplicated(subset=['app']).sum())"
   ]
  },
  {
   "cell_type": "code",
   "execution_count": 47,
   "id": "e0659698",
   "metadata": {
    "ExecuteTime": {
     "end_time": "2022-04-13T06:58:13.660150Z",
     "start_time": "2022-04-13T06:58:13.595143Z"
    }
   },
   "outputs": [
    {
     "name": "stdout",
     "output_type": "stream",
     "text": [
      "Initially duplicated entries in Review set: 7735\n",
      "Remaining duplicated entries in Review set: 0\n"
     ]
    }
   ],
   "source": [
    "# check for duplicated entries in Review set\n",
    "print(\"Initially duplicated entries in Review set:\", df_review.duplicated().sum())\n",
    "\n",
    "# drop duplicates of titles in case any\n",
    "df_review = df_review.drop_duplicates()\n",
    "unique_apps_r = df_review['app'].tolist()\n",
    "\n",
    "# check for duplicated entries\n",
    "print(\"Remaining duplicated entries in Review set:\", df_review.duplicated().sum())"
   ]
  },
  {
   "cell_type": "code",
   "execution_count": 48,
   "id": "73195c04",
   "metadata": {
    "ExecuteTime": {
     "end_time": "2022-04-13T06:58:15.282033Z",
     "start_time": "2022-04-13T06:58:15.276050Z"
    }
   },
   "outputs": [
    {
     "name": "stdout",
     "output_type": "stream",
     "text": [
      "Unique app names with feature: 9643 \n",
      "Unique app names with review: 865 \n",
      "Matching unique apps with features and reviews 816\n"
     ]
    }
   ],
   "source": [
    "# get a list of intersecting apps\n",
    "matches = list(set(unique_apps_f) & set(unique_apps_r))\n",
    "\n",
    "print(\"Unique app names with feature:\",len(set(unique_apps_f)),\\\n",
    "      \"\\nUnique app names with review:\", len(set(unique_apps_r)),\\\n",
    "      \"\\nMatching unique apps with features and reviews\",len(matches))"
   ]
  },
  {
   "cell_type": "code",
   "execution_count": 49,
   "id": "7ce298b3",
   "metadata": {
    "ExecuteTime": {
     "end_time": "2022-04-13T06:58:17.504432Z",
     "start_time": "2022-04-13T06:58:17.493631Z"
    }
   },
   "outputs": [],
   "source": [
    "# filter dataframes for only matching apps\n",
    "df_f_part = df_feature[df_feature.app.isin(list(matches))]\n",
    "df_r_part = df_review[df_review.app.isin(list(matches))]"
   ]
  },
  {
   "cell_type": "markdown",
   "id": "d4374bfa",
   "metadata": {},
   "source": [
    "##### Merge 1: OUTER (keep repeated rows of features)"
   ]
  },
  {
   "cell_type": "code",
   "execution_count": 50,
   "id": "a350d83d",
   "metadata": {
    "ExecuteTime": {
     "end_time": "2022-04-13T06:58:18.939251Z",
     "start_time": "2022-04-13T06:58:18.897561Z"
    }
   },
   "outputs": [
    {
     "data": {
      "text/html": [
       "<div>\n",
       "<style scoped>\n",
       "    .dataframe tbody tr th:only-of-type {\n",
       "        vertical-align: middle;\n",
       "    }\n",
       "\n",
       "    .dataframe tbody tr th {\n",
       "        vertical-align: top;\n",
       "    }\n",
       "\n",
       "    .dataframe thead th {\n",
       "        text-align: right;\n",
       "    }\n",
       "</style>\n",
       "<table border=\"1\" class=\"dataframe\">\n",
       "  <thead>\n",
       "    <tr style=\"text-align: right;\">\n",
       "      <th></th>\n",
       "      <th>app</th>\n",
       "      <th>category</th>\n",
       "      <th>rating</th>\n",
       "      <th>reviews</th>\n",
       "      <th>size</th>\n",
       "      <th>installs</th>\n",
       "      <th>type</th>\n",
       "      <th>price</th>\n",
       "      <th>content_rating</th>\n",
       "      <th>genres</th>\n",
       "      <th>...</th>\n",
       "      <th>update_month</th>\n",
       "      <th>update_day</th>\n",
       "      <th>update_weekday</th>\n",
       "      <th>last_updated</th>\n",
       "      <th>current_ver</th>\n",
       "      <th>android_ver</th>\n",
       "      <th>translated_review</th>\n",
       "      <th>sentiment</th>\n",
       "      <th>sentiment_polarity</th>\n",
       "      <th>sentiment_subjectivity</th>\n",
       "    </tr>\n",
       "  </thead>\n",
       "  <tbody>\n",
       "    <tr>\n",
       "      <th>0</th>\n",
       "      <td>Coloring book moana</td>\n",
       "      <td>ART_AND_DESIGN</td>\n",
       "      <td>3.9</td>\n",
       "      <td>967</td>\n",
       "      <td>14.0</td>\n",
       "      <td>500000</td>\n",
       "      <td>Free</td>\n",
       "      <td>0.0</td>\n",
       "      <td>Everyone</td>\n",
       "      <td>[Art, Pretend Play, Design]</td>\n",
       "      <td>...</td>\n",
       "      <td>1</td>\n",
       "      <td>15</td>\n",
       "      <td>Monday</td>\n",
       "      <td>2018-01-15</td>\n",
       "      <td>2</td>\n",
       "      <td>4.0.3</td>\n",
       "      <td>A kid's excessive ads. The types ads allowed a...</td>\n",
       "      <td>Negative</td>\n",
       "      <td>-0.250</td>\n",
       "      <td>1.000000</td>\n",
       "    </tr>\n",
       "    <tr>\n",
       "      <th>1</th>\n",
       "      <td>Coloring book moana</td>\n",
       "      <td>ART_AND_DESIGN</td>\n",
       "      <td>3.9</td>\n",
       "      <td>967</td>\n",
       "      <td>14.0</td>\n",
       "      <td>500000</td>\n",
       "      <td>Free</td>\n",
       "      <td>0.0</td>\n",
       "      <td>Everyone</td>\n",
       "      <td>[Art, Pretend Play, Design]</td>\n",
       "      <td>...</td>\n",
       "      <td>1</td>\n",
       "      <td>15</td>\n",
       "      <td>Monday</td>\n",
       "      <td>2018-01-15</td>\n",
       "      <td>2</td>\n",
       "      <td>4.0.3</td>\n",
       "      <td>It bad &gt;:(</td>\n",
       "      <td>Negative</td>\n",
       "      <td>-0.725</td>\n",
       "      <td>0.833333</td>\n",
       "    </tr>\n",
       "    <tr>\n",
       "      <th>2</th>\n",
       "      <td>Coloring book moana</td>\n",
       "      <td>ART_AND_DESIGN</td>\n",
       "      <td>3.9</td>\n",
       "      <td>967</td>\n",
       "      <td>14.0</td>\n",
       "      <td>500000</td>\n",
       "      <td>Free</td>\n",
       "      <td>0.0</td>\n",
       "      <td>Everyone</td>\n",
       "      <td>[Art, Pretend Play, Design]</td>\n",
       "      <td>...</td>\n",
       "      <td>1</td>\n",
       "      <td>15</td>\n",
       "      <td>Monday</td>\n",
       "      <td>2018-01-15</td>\n",
       "      <td>2</td>\n",
       "      <td>4.0.3</td>\n",
       "      <td>like</td>\n",
       "      <td>Neutral</td>\n",
       "      <td>0.000</td>\n",
       "      <td>0.000000</td>\n",
       "    </tr>\n",
       "    <tr>\n",
       "      <th>3</th>\n",
       "      <td>Coloring book moana</td>\n",
       "      <td>ART_AND_DESIGN</td>\n",
       "      <td>3.9</td>\n",
       "      <td>967</td>\n",
       "      <td>14.0</td>\n",
       "      <td>500000</td>\n",
       "      <td>Free</td>\n",
       "      <td>0.0</td>\n",
       "      <td>Everyone</td>\n",
       "      <td>[Art, Pretend Play, Design]</td>\n",
       "      <td>...</td>\n",
       "      <td>1</td>\n",
       "      <td>15</td>\n",
       "      <td>Monday</td>\n",
       "      <td>2018-01-15</td>\n",
       "      <td>2</td>\n",
       "      <td>4.0.3</td>\n",
       "      <td>I love colors inspyering</td>\n",
       "      <td>Positive</td>\n",
       "      <td>0.500</td>\n",
       "      <td>0.600000</td>\n",
       "    </tr>\n",
       "    <tr>\n",
       "      <th>4</th>\n",
       "      <td>Coloring book moana</td>\n",
       "      <td>ART_AND_DESIGN</td>\n",
       "      <td>3.9</td>\n",
       "      <td>967</td>\n",
       "      <td>14.0</td>\n",
       "      <td>500000</td>\n",
       "      <td>Free</td>\n",
       "      <td>0.0</td>\n",
       "      <td>Everyone</td>\n",
       "      <td>[Art, Pretend Play, Design]</td>\n",
       "      <td>...</td>\n",
       "      <td>1</td>\n",
       "      <td>15</td>\n",
       "      <td>Monday</td>\n",
       "      <td>2018-01-15</td>\n",
       "      <td>2</td>\n",
       "      <td>4.0.3</td>\n",
       "      <td>I hate</td>\n",
       "      <td>Negative</td>\n",
       "      <td>-0.800</td>\n",
       "      <td>0.900000</td>\n",
       "    </tr>\n",
       "  </tbody>\n",
       "</table>\n",
       "<p>5 rows × 21 columns</p>\n",
       "</div>"
      ],
      "text/plain": [
       "                   app        category  rating  reviews  size  installs  type  \\\n",
       "0  Coloring book moana  ART_AND_DESIGN     3.9      967  14.0    500000  Free   \n",
       "1  Coloring book moana  ART_AND_DESIGN     3.9      967  14.0    500000  Free   \n",
       "2  Coloring book moana  ART_AND_DESIGN     3.9      967  14.0    500000  Free   \n",
       "3  Coloring book moana  ART_AND_DESIGN     3.9      967  14.0    500000  Free   \n",
       "4  Coloring book moana  ART_AND_DESIGN     3.9      967  14.0    500000  Free   \n",
       "\n",
       "   price content_rating                       genres  ...  update_month  \\\n",
       "0    0.0       Everyone  [Art, Pretend Play, Design]  ...             1   \n",
       "1    0.0       Everyone  [Art, Pretend Play, Design]  ...             1   \n",
       "2    0.0       Everyone  [Art, Pretend Play, Design]  ...             1   \n",
       "3    0.0       Everyone  [Art, Pretend Play, Design]  ...             1   \n",
       "4    0.0       Everyone  [Art, Pretend Play, Design]  ...             1   \n",
       "\n",
       "   update_day  update_weekday last_updated current_ver android_ver  \\\n",
       "0          15          Monday   2018-01-15           2       4.0.3   \n",
       "1          15          Monday   2018-01-15           2       4.0.3   \n",
       "2          15          Monday   2018-01-15           2       4.0.3   \n",
       "3          15          Monday   2018-01-15           2       4.0.3   \n",
       "4          15          Monday   2018-01-15           2       4.0.3   \n",
       "\n",
       "                                   translated_review sentiment  \\\n",
       "0  A kid's excessive ads. The types ads allowed a...  Negative   \n",
       "1                                         It bad >:(  Negative   \n",
       "2                                               like   Neutral   \n",
       "3                           I love colors inspyering  Positive   \n",
       "4                                             I hate  Negative   \n",
       "\n",
       "  sentiment_polarity  sentiment_subjectivity  \n",
       "0             -0.250                1.000000  \n",
       "1             -0.725                0.833333  \n",
       "2              0.000                0.000000  \n",
       "3              0.500                0.600000  \n",
       "4             -0.800                0.900000  \n",
       "\n",
       "[5 rows x 21 columns]"
      ]
     },
     "execution_count": 50,
     "metadata": {},
     "output_type": "execute_result"
    }
   ],
   "source": [
    "# MERGE TYPE 1: OUTER MERGE (keep repeated rows of features)\n",
    "result_outer = pd.merge(df_f_part, df_r_part, how=\"outer\", on=[\"app\", \"app\"])\n",
    "result_outer.head()"
   ]
  },
  {
   "cell_type": "markdown",
   "id": "136b4f61",
   "metadata": {},
   "source": [
    "##### Merge 2: AVERAGE (keep average of review sentiment columns)"
   ]
  },
  {
   "cell_type": "code",
   "execution_count": 51,
   "id": "cebe92f8",
   "metadata": {
    "ExecuteTime": {
     "end_time": "2022-04-13T06:58:23.832211Z",
     "start_time": "2022-04-13T06:58:23.815912Z"
    }
   },
   "outputs": [
    {
     "data": {
      "text/html": [
       "<div>\n",
       "<style scoped>\n",
       "    .dataframe tbody tr th:only-of-type {\n",
       "        vertical-align: middle;\n",
       "    }\n",
       "\n",
       "    .dataframe tbody tr th {\n",
       "        vertical-align: top;\n",
       "    }\n",
       "\n",
       "    .dataframe thead th {\n",
       "        text-align: right;\n",
       "    }\n",
       "</style>\n",
       "<table border=\"1\" class=\"dataframe\">\n",
       "  <thead>\n",
       "    <tr style=\"text-align: right;\">\n",
       "      <th></th>\n",
       "      <th>app</th>\n",
       "      <th>review_count</th>\n",
       "      <th>sentiment</th>\n",
       "      <th>sentiment_polarity</th>\n",
       "      <th>sentiment_subjectivity</th>\n",
       "    </tr>\n",
       "  </thead>\n",
       "  <tbody>\n",
       "    <tr>\n",
       "      <th>0</th>\n",
       "      <td>10 Best Foods for You</td>\n",
       "      <td>95</td>\n",
       "      <td>Positive</td>\n",
       "      <td>0.465906</td>\n",
       "      <td>0.493254</td>\n",
       "    </tr>\n",
       "    <tr>\n",
       "      <th>1</th>\n",
       "      <td>11st</td>\n",
       "      <td>39</td>\n",
       "      <td>Positive</td>\n",
       "      <td>0.185943</td>\n",
       "      <td>0.455340</td>\n",
       "    </tr>\n",
       "    <tr>\n",
       "      <th>2</th>\n",
       "      <td>1800 Contacts - Lens Store</td>\n",
       "      <td>40</td>\n",
       "      <td>Positive</td>\n",
       "      <td>0.318145</td>\n",
       "      <td>0.591098</td>\n",
       "    </tr>\n",
       "    <tr>\n",
       "      <th>3</th>\n",
       "      <td>1LINE – One Line with One Touch</td>\n",
       "      <td>38</td>\n",
       "      <td>Positive</td>\n",
       "      <td>0.196290</td>\n",
       "      <td>0.557315</td>\n",
       "    </tr>\n",
       "    <tr>\n",
       "      <th>4</th>\n",
       "      <td>2018Emoji Keyboard 😂 Emoticons Lite -sticker&amp;gif</td>\n",
       "      <td>29</td>\n",
       "      <td>Positive</td>\n",
       "      <td>0.423659</td>\n",
       "      <td>0.512356</td>\n",
       "    </tr>\n",
       "  </tbody>\n",
       "</table>\n",
       "</div>"
      ],
      "text/plain": [
       "                                                app  review_count sentiment  \\\n",
       "0                             10 Best Foods for You            95  Positive   \n",
       "1                                              11st            39  Positive   \n",
       "2                        1800 Contacts - Lens Store            40  Positive   \n",
       "3                   1LINE – One Line with One Touch            38  Positive   \n",
       "4  2018Emoji Keyboard 😂 Emoticons Lite -sticker&gif            29  Positive   \n",
       "\n",
       "   sentiment_polarity  sentiment_subjectivity  \n",
       "0            0.465906                0.493254  \n",
       "1            0.185943                0.455340  \n",
       "2            0.318145                0.591098  \n",
       "3            0.196290                0.557315  \n",
       "4            0.423659                0.512356  "
      ]
     },
     "execution_count": 51,
     "metadata": {},
     "output_type": "execute_result"
    }
   ],
   "source": [
    "# MERGE TYPE 2: AVERAGE MERGE (keep average of review sentiment columns)\n",
    "# groupby reviews on app name by taking average of numeric columns\n",
    "df_r_part_avg = df_r_part.groupby(\"app\", as_index=False).mean()\n",
    "\n",
    "# insert sentiment by average polarity as new column\n",
    "df_r_part_avg.insert(loc=(df_r_part_avg.columns.get_loc('sentiment_polarity')),\\\n",
    "                     column='sentiment',\\\n",
    "                     value=(np.where(df_r_part_avg.sentiment_polarity > 0,\"Positive\",\\\n",
    "                                     np.where(df_r_part_avg.sentiment_polarity < 0, \"Negative\", \"Neutral\"))))\n",
    "\n",
    "# insert review count per app as new column\n",
    "df_r_part_avg.insert(loc=(df_r_part_avg.columns.get_loc('sentiment')),\\\n",
    "                     column='review_count',\\\n",
    "                     value=(df_r_part.value_counts(subset=['app'], sort=False).values))\n",
    "\n",
    "# observe the averaged results for reviews\n",
    "df_r_part_avg.head()"
   ]
  },
  {
   "cell_type": "code",
   "execution_count": 52,
   "id": "65ac53d6",
   "metadata": {
    "ExecuteTime": {
     "end_time": "2022-04-13T06:58:25.973397Z",
     "start_time": "2022-04-13T06:58:25.952446Z"
    }
   },
   "outputs": [
    {
     "data": {
      "text/html": [
       "<div>\n",
       "<style scoped>\n",
       "    .dataframe tbody tr th:only-of-type {\n",
       "        vertical-align: middle;\n",
       "    }\n",
       "\n",
       "    .dataframe tbody tr th {\n",
       "        vertical-align: top;\n",
       "    }\n",
       "\n",
       "    .dataframe thead th {\n",
       "        text-align: right;\n",
       "    }\n",
       "</style>\n",
       "<table border=\"1\" class=\"dataframe\">\n",
       "  <thead>\n",
       "    <tr style=\"text-align: right;\">\n",
       "      <th></th>\n",
       "      <th>app</th>\n",
       "      <th>category</th>\n",
       "      <th>rating</th>\n",
       "      <th>reviews</th>\n",
       "      <th>size</th>\n",
       "      <th>installs</th>\n",
       "      <th>type</th>\n",
       "      <th>price</th>\n",
       "      <th>content_rating</th>\n",
       "      <th>genres</th>\n",
       "      <th>...</th>\n",
       "      <th>update_month</th>\n",
       "      <th>update_day</th>\n",
       "      <th>update_weekday</th>\n",
       "      <th>last_updated</th>\n",
       "      <th>current_ver</th>\n",
       "      <th>android_ver</th>\n",
       "      <th>review_count</th>\n",
       "      <th>sentiment</th>\n",
       "      <th>sentiment_polarity</th>\n",
       "      <th>sentiment_subjectivity</th>\n",
       "    </tr>\n",
       "  </thead>\n",
       "  <tbody>\n",
       "    <tr>\n",
       "      <th>0</th>\n",
       "      <td>Coloring book moana</td>\n",
       "      <td>ART_AND_DESIGN</td>\n",
       "      <td>3.9</td>\n",
       "      <td>967</td>\n",
       "      <td>14.0</td>\n",
       "      <td>500000</td>\n",
       "      <td>Free</td>\n",
       "      <td>0.0</td>\n",
       "      <td>Everyone</td>\n",
       "      <td>[Art, Pretend Play, Design]</td>\n",
       "      <td>...</td>\n",
       "      <td>1</td>\n",
       "      <td>15</td>\n",
       "      <td>Monday</td>\n",
       "      <td>2018-01-15</td>\n",
       "      <td>2</td>\n",
       "      <td>4.0.3</td>\n",
       "      <td>20</td>\n",
       "      <td>Positive</td>\n",
       "      <td>0.117917</td>\n",
       "      <td>0.645694</td>\n",
       "    </tr>\n",
       "    <tr>\n",
       "      <th>1</th>\n",
       "      <td>Garden Coloring Book</td>\n",
       "      <td>ART_AND_DESIGN</td>\n",
       "      <td>4.4</td>\n",
       "      <td>13791</td>\n",
       "      <td>33.0</td>\n",
       "      <td>1000000</td>\n",
       "      <td>Free</td>\n",
       "      <td>0.0</td>\n",
       "      <td>Everyone</td>\n",
       "      <td>[Design, Art]</td>\n",
       "      <td>...</td>\n",
       "      <td>9</td>\n",
       "      <td>20</td>\n",
       "      <td>Wednesday</td>\n",
       "      <td>2017-09-20</td>\n",
       "      <td>2.9.2</td>\n",
       "      <td>3</td>\n",
       "      <td>90</td>\n",
       "      <td>Positive</td>\n",
       "      <td>0.268483</td>\n",
       "      <td>0.523447</td>\n",
       "    </tr>\n",
       "    <tr>\n",
       "      <th>2</th>\n",
       "      <td>FlipaClip - Cartoon animation</td>\n",
       "      <td>ART_AND_DESIGN</td>\n",
       "      <td>4.3</td>\n",
       "      <td>194216</td>\n",
       "      <td>39.0</td>\n",
       "      <td>5000000</td>\n",
       "      <td>Free</td>\n",
       "      <td>0.0</td>\n",
       "      <td>Everyone</td>\n",
       "      <td>[Design, Art]</td>\n",
       "      <td>...</td>\n",
       "      <td>8</td>\n",
       "      <td>3</td>\n",
       "      <td>Friday</td>\n",
       "      <td>2018-08-03</td>\n",
       "      <td>2.2.5</td>\n",
       "      <td>4.0.3</td>\n",
       "      <td>4</td>\n",
       "      <td>Positive</td>\n",
       "      <td>0.412649</td>\n",
       "      <td>0.679226</td>\n",
       "    </tr>\n",
       "    <tr>\n",
       "      <th>3</th>\n",
       "      <td>Boys Photo Editor - Six Pack &amp; Men's Suit</td>\n",
       "      <td>ART_AND_DESIGN</td>\n",
       "      <td>4.1</td>\n",
       "      <td>654</td>\n",
       "      <td>12.0</td>\n",
       "      <td>100000</td>\n",
       "      <td>Free</td>\n",
       "      <td>0.0</td>\n",
       "      <td>Everyone</td>\n",
       "      <td>[Design, Art]</td>\n",
       "      <td>...</td>\n",
       "      <td>3</td>\n",
       "      <td>20</td>\n",
       "      <td>Tuesday</td>\n",
       "      <td>2018-03-20</td>\n",
       "      <td>1.1</td>\n",
       "      <td>4.0.3</td>\n",
       "      <td>36</td>\n",
       "      <td>Positive</td>\n",
       "      <td>0.260370</td>\n",
       "      <td>0.472593</td>\n",
       "    </tr>\n",
       "    <tr>\n",
       "      <th>4</th>\n",
       "      <td>Colorfit - Drawing &amp; Coloring</td>\n",
       "      <td>ART_AND_DESIGN</td>\n",
       "      <td>4.7</td>\n",
       "      <td>20260</td>\n",
       "      <td>25.0</td>\n",
       "      <td>500000</td>\n",
       "      <td>Free</td>\n",
       "      <td>0.0</td>\n",
       "      <td>Everyone</td>\n",
       "      <td>[Design, Art, Creativity]</td>\n",
       "      <td>...</td>\n",
       "      <td>10</td>\n",
       "      <td>11</td>\n",
       "      <td>Wednesday</td>\n",
       "      <td>2017-10-11</td>\n",
       "      <td>1.0.8</td>\n",
       "      <td>4.0.3</td>\n",
       "      <td>38</td>\n",
       "      <td>Positive</td>\n",
       "      <td>0.171836</td>\n",
       "      <td>0.572762</td>\n",
       "    </tr>\n",
       "  </tbody>\n",
       "</table>\n",
       "<p>5 rows × 21 columns</p>\n",
       "</div>"
      ],
      "text/plain": [
       "                                         app        category  rating  reviews  \\\n",
       "0                        Coloring book moana  ART_AND_DESIGN     3.9      967   \n",
       "1                       Garden Coloring Book  ART_AND_DESIGN     4.4    13791   \n",
       "2              FlipaClip - Cartoon animation  ART_AND_DESIGN     4.3   194216   \n",
       "3  Boys Photo Editor - Six Pack & Men's Suit  ART_AND_DESIGN     4.1      654   \n",
       "4              Colorfit - Drawing & Coloring  ART_AND_DESIGN     4.7    20260   \n",
       "\n",
       "   size  installs  type  price content_rating                       genres  \\\n",
       "0  14.0    500000  Free    0.0       Everyone  [Art, Pretend Play, Design]   \n",
       "1  33.0   1000000  Free    0.0       Everyone                [Design, Art]   \n",
       "2  39.0   5000000  Free    0.0       Everyone                [Design, Art]   \n",
       "3  12.0    100000  Free    0.0       Everyone                [Design, Art]   \n",
       "4  25.0    500000  Free    0.0       Everyone    [Design, Art, Creativity]   \n",
       "\n",
       "   ...  update_month  update_day  update_weekday last_updated current_ver  \\\n",
       "0  ...             1          15          Monday   2018-01-15           2   \n",
       "1  ...             9          20       Wednesday   2017-09-20       2.9.2   \n",
       "2  ...             8           3          Friday   2018-08-03       2.2.5   \n",
       "3  ...             3          20         Tuesday   2018-03-20         1.1   \n",
       "4  ...            10          11       Wednesday   2017-10-11       1.0.8   \n",
       "\n",
       "  android_ver review_count  sentiment sentiment_polarity  \\\n",
       "0       4.0.3           20   Positive           0.117917   \n",
       "1           3           90   Positive           0.268483   \n",
       "2       4.0.3            4   Positive           0.412649   \n",
       "3       4.0.3           36   Positive           0.260370   \n",
       "4       4.0.3           38   Positive           0.171836   \n",
       "\n",
       "   sentiment_subjectivity  \n",
       "0                0.645694  \n",
       "1                0.523447  \n",
       "2                0.679226  \n",
       "3                0.472593  \n",
       "4                0.572762  \n",
       "\n",
       "[5 rows x 21 columns]"
      ]
     },
     "execution_count": 52,
     "metadata": {},
     "output_type": "execute_result"
    }
   ],
   "source": [
    "# merge tables with inner to keep intersection\n",
    "result_avg = pd.merge(df_f_part, df_r_part_avg, how=\"inner\", on=[\"app\", \"app\"])\n",
    "result_avg.head()"
   ]
  },
  {
   "cell_type": "code",
   "execution_count": 53,
   "id": "9f9e69e6",
   "metadata": {
    "ExecuteTime": {
     "end_time": "2022-04-13T06:58:27.738699Z",
     "start_time": "2022-04-13T06:58:27.598996Z"
    }
   },
   "outputs": [
    {
     "name": "stdout",
     "output_type": "stream",
     "text": [
      "Stored 'df_feature' (DataFrame)\n",
      "Stored 'df_review' (DataFrame)\n",
      "Stored 'result_outer' (DataFrame)\n",
      "Stored 'result_avg' (DataFrame)\n"
     ]
    }
   ],
   "source": [
    "# store variables for dataframes in the IPython databaseto start analysis on a clear notebook\n",
    "%store df_feature\n",
    "%store df_review\n",
    "%store result_outer\n",
    "%store result_avg"
   ]
  },
  {
   "cell_type": "code",
   "execution_count": 54,
   "id": "d37e4a5d",
   "metadata": {
    "ExecuteTime": {
     "end_time": "2022-04-13T06:42:55.463331Z",
     "start_time": "2022-04-13T06:42:55.463315Z"
    }
   },
   "outputs": [],
   "source": [
    "# save raw data for emergency uses\n",
    "if not os.path.exists('data'):\n",
    "    os.mkdir('data')\n",
    "df_feature.to_csv(os.path.join('data', 'raw_feature.csv'), encoding='utf-8-sig')\n",
    "df_review.to_csv(os.path.join('data', 'raw_review.csv'), encoding='utf-8-sig')\n",
    "result_outer.to_csv(os.path.join('data', 'raw_outer_merge.csv'), encoding='utf-8-sig')\n",
    "result_avg.to_csv(os.path.join('data', 'raw_avg_merge.csv'), encoding='utf-8-sig')"
   ]
  },
  {
   "cell_type": "code",
   "execution_count": null,
   "id": "c1b11402",
   "metadata": {},
   "outputs": [],
   "source": []
  }
 ],
 "metadata": {
  "kernelspec": {
   "display_name": "Python 3 (ipykernel)",
   "language": "python",
   "name": "python3"
  },
  "language_info": {
   "codemirror_mode": {
    "name": "ipython",
    "version": 3
   },
   "file_extension": ".py",
   "mimetype": "text/x-python",
   "name": "python",
   "nbconvert_exporter": "python",
   "pygments_lexer": "ipython3",
   "version": "3.9.7"
  },
  "toc": {
   "base_numbering": 1,
   "nav_menu": {},
   "number_sections": true,
   "sideBar": true,
   "skip_h1_title": false,
   "title_cell": "Table of Contents",
   "title_sidebar": "Contents",
   "toc_cell": false,
   "toc_position": {},
   "toc_section_display": true,
   "toc_window_display": false
  },
  "varInspector": {
   "cols": {
    "lenName": 16,
    "lenType": 16,
    "lenVar": 40
   },
   "kernels_config": {
    "python": {
     "delete_cmd_postfix": "",
     "delete_cmd_prefix": "del ",
     "library": "var_list.py",
     "varRefreshCmd": "print(var_dic_list())"
    },
    "r": {
     "delete_cmd_postfix": ") ",
     "delete_cmd_prefix": "rm(",
     "library": "var_list.r",
     "varRefreshCmd": "cat(var_dic_list()) "
    }
   },
   "types_to_exclude": [
    "module",
    "function",
    "builtin_function_or_method",
    "instance",
    "_Feature"
   ],
   "window_display": false
  }
 },
 "nbformat": 4,
 "nbformat_minor": 5
}
