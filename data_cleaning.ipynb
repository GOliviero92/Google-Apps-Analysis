{
 "cells": [
  {
   "cell_type": "markdown",
   "id": "a1cb0659",
   "metadata": {},
   "source": [
    "# **Google Play Store Apps Analysis**\n",
    "\n",
    "This notebook includes the procedure of cleaning data with pandas methods on google play store apps data obtained from [Kaggle](https://www.kaggle.com/datasets/lava18/google-play-store-apps) and making a descriptive analysis of it with seaborn methods.\n",
    "\n",
    "## 1) Import Libraries"
   ]
  },
  {
   "cell_type": "code",
   "execution_count": 1,
   "id": "ec3287bb",
   "metadata": {},
   "outputs": [],
   "source": [
    "# import necessary libraries\n",
    "import numpy as np\n",
    "import pandas as pd\n",
    "import seaborn as sns\n",
    "import matplotlib.pyplot as plt\n",
    "import missingno as ms\n",
    "from IPython.display import display_html\n",
    "import os, re"
   ]
  },
  {
   "cell_type": "markdown",
   "id": "c0137843",
   "metadata": {},
   "source": [
    "## 2) Data Acquisition\n",
    "\n",
    "Google play store apps data is acquired from [Kaggle](https://www.kaggle.com/datasets/lava18/google-play-store-apps) as two csv files *googleplaystore.csv* for app features and *googleplaystore_user_reviews.csv* for app reviews. We will load these datasets into two dataframes ***df_feature*** and ***df_review***.\n",
    "\n",
    "#### Feature Data:"
   ]
  },
  {
   "cell_type": "code",
   "execution_count": 3,
   "id": "ed89d1f7",
   "metadata": {},
   "outputs": [
    {
     "data": {
      "text/html": [
       "<div>\n",
       "<style scoped>\n",
       "    .dataframe tbody tr th:only-of-type {\n",
       "        vertical-align: middle;\n",
       "    }\n",
       "\n",
       "    .dataframe tbody tr th {\n",
       "        vertical-align: top;\n",
       "    }\n",
       "\n",
       "    .dataframe thead th {\n",
       "        text-align: right;\n",
       "    }\n",
       "</style>\n",
       "<table border=\"1\" class=\"dataframe\">\n",
       "  <thead>\n",
       "    <tr style=\"text-align: right;\">\n",
       "      <th></th>\n",
       "      <th>App</th>\n",
       "      <th>Category</th>\n",
       "      <th>Rating</th>\n",
       "      <th>Reviews</th>\n",
       "      <th>Size</th>\n",
       "      <th>Installs</th>\n",
       "      <th>Type</th>\n",
       "      <th>Price</th>\n",
       "      <th>Content Rating</th>\n",
       "      <th>Genres</th>\n",
       "      <th>Last Updated</th>\n",
       "      <th>Current Ver</th>\n",
       "      <th>Android Ver</th>\n",
       "    </tr>\n",
       "  </thead>\n",
       "  <tbody>\n",
       "    <tr>\n",
       "      <th>0</th>\n",
       "      <td>Photo Editor &amp; Candy Camera &amp; Grid &amp; ScrapBook</td>\n",
       "      <td>ART_AND_DESIGN</td>\n",
       "      <td>4.1</td>\n",
       "      <td>159</td>\n",
       "      <td>19M</td>\n",
       "      <td>10,000+</td>\n",
       "      <td>Free</td>\n",
       "      <td>0</td>\n",
       "      <td>Everyone</td>\n",
       "      <td>Art &amp; Design</td>\n",
       "      <td>January 7, 2018</td>\n",
       "      <td>1.0.0</td>\n",
       "      <td>4.0.3 and up</td>\n",
       "    </tr>\n",
       "    <tr>\n",
       "      <th>1</th>\n",
       "      <td>Coloring book moana</td>\n",
       "      <td>ART_AND_DESIGN</td>\n",
       "      <td>3.9</td>\n",
       "      <td>967</td>\n",
       "      <td>14M</td>\n",
       "      <td>500,000+</td>\n",
       "      <td>Free</td>\n",
       "      <td>0</td>\n",
       "      <td>Everyone</td>\n",
       "      <td>Art &amp; Design;Pretend Play</td>\n",
       "      <td>January 15, 2018</td>\n",
       "      <td>2.0.0</td>\n",
       "      <td>4.0.3 and up</td>\n",
       "    </tr>\n",
       "    <tr>\n",
       "      <th>2</th>\n",
       "      <td>U Launcher Lite – FREE Live Cool Themes, Hide ...</td>\n",
       "      <td>ART_AND_DESIGN</td>\n",
       "      <td>4.7</td>\n",
       "      <td>87510</td>\n",
       "      <td>8.7M</td>\n",
       "      <td>5,000,000+</td>\n",
       "      <td>Free</td>\n",
       "      <td>0</td>\n",
       "      <td>Everyone</td>\n",
       "      <td>Art &amp; Design</td>\n",
       "      <td>August 1, 2018</td>\n",
       "      <td>1.2.4</td>\n",
       "      <td>4.0.3 and up</td>\n",
       "    </tr>\n",
       "    <tr>\n",
       "      <th>3</th>\n",
       "      <td>Sketch - Draw &amp; Paint</td>\n",
       "      <td>ART_AND_DESIGN</td>\n",
       "      <td>4.5</td>\n",
       "      <td>215644</td>\n",
       "      <td>25M</td>\n",
       "      <td>50,000,000+</td>\n",
       "      <td>Free</td>\n",
       "      <td>0</td>\n",
       "      <td>Teen</td>\n",
       "      <td>Art &amp; Design</td>\n",
       "      <td>June 8, 2018</td>\n",
       "      <td>Varies with device</td>\n",
       "      <td>4.2 and up</td>\n",
       "    </tr>\n",
       "    <tr>\n",
       "      <th>4</th>\n",
       "      <td>Pixel Draw - Number Art Coloring Book</td>\n",
       "      <td>ART_AND_DESIGN</td>\n",
       "      <td>4.3</td>\n",
       "      <td>967</td>\n",
       "      <td>2.8M</td>\n",
       "      <td>100,000+</td>\n",
       "      <td>Free</td>\n",
       "      <td>0</td>\n",
       "      <td>Everyone</td>\n",
       "      <td>Art &amp; Design;Creativity</td>\n",
       "      <td>June 20, 2018</td>\n",
       "      <td>1.1</td>\n",
       "      <td>4.4 and up</td>\n",
       "    </tr>\n",
       "  </tbody>\n",
       "</table>\n",
       "</div>"
      ],
      "text/plain": [
       "                                                 App        Category  Rating  \\\n",
       "0     Photo Editor & Candy Camera & Grid & ScrapBook  ART_AND_DESIGN     4.1   \n",
       "1                                Coloring book moana  ART_AND_DESIGN     3.9   \n",
       "2  U Launcher Lite – FREE Live Cool Themes, Hide ...  ART_AND_DESIGN     4.7   \n",
       "3                              Sketch - Draw & Paint  ART_AND_DESIGN     4.5   \n",
       "4              Pixel Draw - Number Art Coloring Book  ART_AND_DESIGN     4.3   \n",
       "\n",
       "  Reviews  Size     Installs  Type Price Content Rating  \\\n",
       "0     159   19M      10,000+  Free     0       Everyone   \n",
       "1     967   14M     500,000+  Free     0       Everyone   \n",
       "2   87510  8.7M   5,000,000+  Free     0       Everyone   \n",
       "3  215644   25M  50,000,000+  Free     0           Teen   \n",
       "4     967  2.8M     100,000+  Free     0       Everyone   \n",
       "\n",
       "                      Genres      Last Updated         Current Ver  \\\n",
       "0               Art & Design   January 7, 2018               1.0.0   \n",
       "1  Art & Design;Pretend Play  January 15, 2018               2.0.0   \n",
       "2               Art & Design    August 1, 2018               1.2.4   \n",
       "3               Art & Design      June 8, 2018  Varies with device   \n",
       "4    Art & Design;Creativity     June 20, 2018                 1.1   \n",
       "\n",
       "    Android Ver  \n",
       "0  4.0.3 and up  \n",
       "1  4.0.3 and up  \n",
       "2  4.0.3 and up  \n",
       "3    4.2 and up  \n",
       "4    4.4 and up  "
      ]
     },
     "execution_count": 3,
     "metadata": {},
     "output_type": "execute_result"
    }
   ],
   "source": [
    "# load the feature data\n",
    "# df_feature = pd.read_csv('data/googleplaystore.csv', na_values = ['NaN', 'Varies with device'])\n",
    "df_feature = pd.read_csv('googleplaystore.csv')\n",
    "\n",
    "# sample feature data\n",
    "df_feature.head()"
   ]
  },
  {
   "cell_type": "code",
   "execution_count": 4,
   "id": "c6a22b55",
   "metadata": {},
   "outputs": [
    {
     "name": "stdout",
     "output_type": "stream",
     "text": [
      "<class 'pandas.core.frame.DataFrame'>\n",
      "RangeIndex: 10841 entries, 0 to 10840\n",
      "Data columns (total 13 columns):\n",
      " #   Column          Non-Null Count  Dtype  \n",
      "---  ------          --------------  -----  \n",
      " 0   App             10841 non-null  object \n",
      " 1   Category        10841 non-null  object \n",
      " 2   Rating          9367 non-null   float64\n",
      " 3   Reviews         10841 non-null  object \n",
      " 4   Size            10841 non-null  object \n",
      " 5   Installs        10841 non-null  object \n",
      " 6   Type            10840 non-null  object \n",
      " 7   Price           10841 non-null  object \n",
      " 8   Content Rating  10840 non-null  object \n",
      " 9   Genres          10841 non-null  object \n",
      " 10  Last Updated    10841 non-null  object \n",
      " 11  Current Ver     10833 non-null  object \n",
      " 12  Android Ver     10838 non-null  object \n",
      "dtypes: float64(1), object(12)\n",
      "memory usage: 1.1+ MB\n"
     ]
    }
   ],
   "source": [
    "# observe the new dataframe details\n",
    "df_feature.info(verbose=True)"
   ]
  },
  {
   "cell_type": "code",
   "execution_count": 5,
   "id": "14e2e76e",
   "metadata": {},
   "outputs": [
    {
     "data": {
      "text/plain": [
       "App                  0\n",
       "Category             0\n",
       "Rating            1474\n",
       "Reviews              0\n",
       "Size                 0\n",
       "Installs             0\n",
       "Type                 1\n",
       "Price                0\n",
       "Content Rating       1\n",
       "Genres               0\n",
       "Last Updated         0\n",
       "Current Ver          8\n",
       "Android Ver          3\n",
       "dtype: int64"
      ]
     },
     "execution_count": 5,
     "metadata": {},
     "output_type": "execute_result"
    }
   ],
   "source": [
    "# missing values\n",
    "df_feature.isna().sum()"
   ]
  },
  {
   "cell_type": "code",
   "execution_count": 6,
   "id": "b7b7b492",
   "metadata": {},
   "outputs": [
    {
     "data": {
      "text/plain": [
       "<AxesSubplot:>"
      ]
     },
     "execution_count": 6,
     "metadata": {},
     "output_type": "execute_result"
    },
    {
     "data": {
      "image/png": "[encoded data removed]",
      "text/plain": [
       "<Figure size 1800x720 with 2 Axes>"
      ]
     },
     "metadata": {
      "needs_background": "light"
     },
     "output_type": "display_data"
    }
   ],
   "source": [
    "# missingno for features dataset, confirms the observations from previous cell\n",
    "ms.matrix(df_feature)"
   ]
  },
  {
   "cell_type": "markdown",
   "id": "44f1907a",
   "metadata": {},
   "source": [
    "#### Review Data:"
   ]
  },
  {
   "cell_type": "code",
   "execution_count": 7,
   "id": "63251392",
   "metadata": {},
   "outputs": [
    {
     "data": {
      "text/html": [
       "<div>\n",
       "<style scoped>\n",
       "    .dataframe tbody tr th:only-of-type {\n",
       "        vertical-align: middle;\n",
       "    }\n",
       "\n",
       "    .dataframe tbody tr th {\n",
       "        vertical-align: top;\n",
       "    }\n",
       "\n",
       "    .dataframe thead th {\n",
       "        text-align: right;\n",
       "    }\n",
       "</style>\n",
       "<table border=\"1\" class=\"dataframe\">\n",
       "  <thead>\n",
       "    <tr style=\"text-align: right;\">\n",
       "      <th></th>\n",
       "      <th>App</th>\n",
       "      <th>Translated_Review</th>\n",
       "      <th>Sentiment</th>\n",
       "      <th>Sentiment_Polarity</th>\n",
       "      <th>Sentiment_Subjectivity</th>\n",
       "    </tr>\n",
       "  </thead>\n",
       "  <tbody>\n",
       "    <tr>\n",
       "      <th>0</th>\n",
       "      <td>10 Best Foods for You</td>\n",
       "      <td>I like eat delicious food. That's I'm cooking ...</td>\n",
       "      <td>Positive</td>\n",
       "      <td>1.00</td>\n",
       "      <td>0.533333</td>\n",
       "    </tr>\n",
       "    <tr>\n",
       "      <th>1</th>\n",
       "      <td>10 Best Foods for You</td>\n",
       "      <td>This help eating healthy exercise regular basis</td>\n",
       "      <td>Positive</td>\n",
       "      <td>0.25</td>\n",
       "      <td>0.288462</td>\n",
       "    </tr>\n",
       "    <tr>\n",
       "      <th>2</th>\n",
       "      <td>10 Best Foods for You</td>\n",
       "      <td>NaN</td>\n",
       "      <td>NaN</td>\n",
       "      <td>NaN</td>\n",
       "      <td>NaN</td>\n",
       "    </tr>\n",
       "    <tr>\n",
       "      <th>3</th>\n",
       "      <td>10 Best Foods for You</td>\n",
       "      <td>Works great especially going grocery store</td>\n",
       "      <td>Positive</td>\n",
       "      <td>0.40</td>\n",
       "      <td>0.875000</td>\n",
       "    </tr>\n",
       "    <tr>\n",
       "      <th>4</th>\n",
       "      <td>10 Best Foods for You</td>\n",
       "      <td>Best idea us</td>\n",
       "      <td>Positive</td>\n",
       "      <td>1.00</td>\n",
       "      <td>0.300000</td>\n",
       "    </tr>\n",
       "  </tbody>\n",
       "</table>\n",
       "</div>"
      ],
      "text/plain": [
       "                     App                                  Translated_Review  \\\n",
       "0  10 Best Foods for You  I like eat delicious food. That's I'm cooking ...   \n",
       "1  10 Best Foods for You    This help eating healthy exercise regular basis   \n",
       "2  10 Best Foods for You                                                NaN   \n",
       "3  10 Best Foods for You         Works great especially going grocery store   \n",
       "4  10 Best Foods for You                                       Best idea us   \n",
       "\n",
       "  Sentiment  Sentiment_Polarity  Sentiment_Subjectivity  \n",
       "0  Positive                1.00                0.533333  \n",
       "1  Positive                0.25                0.288462  \n",
       "2       NaN                 NaN                     NaN  \n",
       "3  Positive                0.40                0.875000  \n",
       "4  Positive                1.00                0.300000  "
      ]
     },
     "execution_count": 7,
     "metadata": {},
     "output_type": "execute_result"
    }
   ],
   "source": [
    "# load the review data\n",
    "# df_review = pd.read_csv('data/googleplaystore_user_reviews.csv', na_values = ['nan'])\n",
    "df_review=pd.read_csv('googleplaystore_user_reviews.csv')\n",
    "\n",
    "# sample review data\n",
    "df_review.head()"
   ]
  },
  {
   "cell_type": "code",
   "execution_count": 8,
   "id": "14d5b426",
   "metadata": {},
   "outputs": [
    {
     "name": "stdout",
     "output_type": "stream",
     "text": [
      "<class 'pandas.core.frame.DataFrame'>\n",
      "RangeIndex: 64295 entries, 0 to 64294\n",
      "Data columns (total 5 columns):\n",
      " #   Column                  Non-Null Count  Dtype  \n",
      "---  ------                  --------------  -----  \n",
      " 0   App                     64295 non-null  object \n",
      " 1   Translated_Review       37427 non-null  object \n",
      " 2   Sentiment               37432 non-null  object \n",
      " 3   Sentiment_Polarity      37432 non-null  float64\n",
      " 4   Sentiment_Subjectivity  37432 non-null  float64\n",
      "dtypes: float64(2), object(3)\n",
      "memory usage: 2.5+ MB\n"
     ]
    }
   ],
   "source": [
    "# observe the new dataframe details\n",
    "df_review.info(verbose=True)\n",
    "\n",
    "# Observations (Gaia): the last three column are very consistent. Interesting to notice that there are 5 translated reviews\n",
    "# less than the sentiment columns values, and yet still those 5 non-existent reviews have been evaluated. How is it possible?"
   ]
  },
  {
   "cell_type": "code",
   "execution_count": 9,
   "id": "74c43c93",
   "metadata": {},
   "outputs": [
    {
     "data": {
      "text/plain": [
       "App                           0\n",
       "Translated_Review         26868\n",
       "Sentiment                 26863\n",
       "Sentiment_Polarity        26863\n",
       "Sentiment_Subjectivity    26863\n",
       "dtype: int64"
      ]
     },
     "execution_count": 9,
     "metadata": {},
     "output_type": "execute_result"
    }
   ],
   "source": [
    "# missing values\n",
    "df_review.isna().sum()"
   ]
  },
  {
   "cell_type": "code",
   "execution_count": 10,
   "id": "422b4986",
   "metadata": {},
   "outputs": [
    {
     "data": {
      "text/plain": [
       "<AxesSubplot:>"
      ]
     },
     "execution_count": 10,
     "metadata": {},
     "output_type": "execute_result"
    },
    {
     "data": {
      "image/png": "[encoded data removed]",
      "text/plain": [
       "<Figure size 1800x720 with 2 Axes>"
      ]
     },
     "metadata": {
      "needs_background": "light"
     },
     "output_type": "display_data"
    }
   ],
   "source": [
    "# missingno for features dataset, confirms the observations from previous cell\n",
    "ms.matrix(df_review)"
   ]
  },
  {
   "cell_type": "code",
   "execution_count": null,
   "id": "d37e4a5d",
   "metadata": {},
   "outputs": [],
   "source": [
    "# THIS CODE CAN BE USED AFTER DATA CLEANING, DO NOT RUN FOR NOW\n",
    "\n",
    "# save raw data for emergency uses\n",
    "if not os.path.exists('data'):\n",
    "    os.mkdir('data')\n",
    "df_feature.to_csv(os.path.join('data', 'raw_feature.csv'), encoding='utf-8-sig')\n",
    "df_review.to_csv(os.path.join('data', 'raw_review.csv'), encoding='utf-8-sig')"
   ]
  },
  {
   "cell_type": "markdown",
   "id": "50402843",
   "metadata": {},
   "source": [
    "## 3) Data Conversion and Feature Split\n",
    "We rename columns as code friendly for easier access. We will convert the 'object' type columns into str or numeric to perform imputation later by splitting the columns with multiple meaningful contents into separate columns."
   ]
  },
  {
   "cell_type": "code",
   "execution_count": 11,
   "id": "15248fe0",
   "metadata": {},
   "outputs": [
    {
     "name": "stdout",
     "output_type": "stream",
     "text": [
      "Feature: app, category, rating, reviews, size, installs, type, price, content_rating, genres, last_updated, current_ver, android_ver\n",
      "Review: app, translated_review, sentiment, sentiment_polarity, sentiment_subjectivity\n"
     ]
    }
   ],
   "source": [
    "# rename columns to remove spaces\n",
    "df_feature.columns = df_feature.columns.str.lower().str.replace(' ','_')\n",
    "df_review.columns = df_review.columns.str.lower().str.replace(' ','_')\n",
    "\n",
    "# show new column names\n",
    "print(\"Feature:\", end=\" \")\n",
    "print(*df_feature.columns.values, sep = \", \", end=\"\\n\")\n",
    "print(\"Review:\", end=\" \")\n",
    "print(*df_review.columns.values, sep = \", \", end=\"\\n\")"
   ]
  },
  {
   "cell_type": "markdown",
   "id": "f36b5eed",
   "metadata": {},
   "source": [
    "### 3.1) Feature Data\n",
    "\n",
    "#### Category: (Gaia)"
   ]
  },
  {
   "cell_type": "code",
   "execution_count": null,
   "id": "598e66b7",
   "metadata": {},
   "outputs": [],
   "source": []
  },
  {
   "cell_type": "markdown",
   "id": "df0447cb",
   "metadata": {},
   "source": [
    "#### Rating: (Gaia)"
   ]
  },
  {
   "cell_type": "code",
   "execution_count": null,
   "id": "c892257e",
   "metadata": {},
   "outputs": [],
   "source": []
  },
  {
   "cell_type": "markdown",
   "id": "afaa6d51",
   "metadata": {},
   "source": [
    "#### Reviews: (Gaia)"
   ]
  },
  {
   "cell_type": "code",
   "execution_count": null,
   "id": "9d5c6d9c",
   "metadata": {},
   "outputs": [],
   "source": []
  },
  {
   "cell_type": "markdown",
   "id": "03e52824",
   "metadata": {},
   "source": [
    "#### Size: (Gaia)"
   ]
  },
  {
   "cell_type": "code",
   "execution_count": null,
   "id": "319f322d",
   "metadata": {},
   "outputs": [],
   "source": []
  },
  {
   "cell_type": "markdown",
   "id": "e315d923",
   "metadata": {},
   "source": [
    "#### Installs: (Gaia)"
   ]
  },
  {
   "cell_type": "code",
   "execution_count": null,
   "id": "1c1ac662",
   "metadata": {},
   "outputs": [],
   "source": []
  },
  {
   "cell_type": "markdown",
   "id": "597b65dc",
   "metadata": {},
   "source": [
    "#### Type: (Gaia)"
   ]
  },
  {
   "cell_type": "code",
   "execution_count": null,
   "id": "a878ab07",
   "metadata": {},
   "outputs": [],
   "source": []
  },
  {
   "cell_type": "markdown",
   "id": "6cb15364",
   "metadata": {},
   "source": [
    "#### Price: (Beste)\n",
    "All price information include a numeric value and the currency sign. Thus, we will remove the currency sign and set the price information as float."
   ]
  },
  {
   "cell_type": "code",
   "execution_count": null,
   "id": "782806d6",
   "metadata": {},
   "outputs": [],
   "source": []
  },
  {
   "cell_type": "markdown",
   "id": "dab8ec7e",
   "metadata": {},
   "source": [
    "#### Content Rating: (Beste)"
   ]
  },
  {
   "cell_type": "code",
   "execution_count": null,
   "id": "64282b57",
   "metadata": {},
   "outputs": [],
   "source": []
  },
  {
   "cell_type": "markdown",
   "id": "2770132c",
   "metadata": {},
   "source": [
    "#### Genres: (Beste)\n",
    "Since the genre includes one or more categories, we will split the column to be able to use these categorical tags. "
   ]
  },
  {
   "cell_type": "code",
   "execution_count": null,
   "id": "3369e57f",
   "metadata": {},
   "outputs": [],
   "source": []
  },
  {
   "cell_type": "markdown",
   "id": "2b6f6177",
   "metadata": {},
   "source": [
    "#### Last Updated: (Beste)"
   ]
  },
  {
   "cell_type": "code",
   "execution_count": null,
   "id": "f9158910",
   "metadata": {},
   "outputs": [],
   "source": []
  },
  {
   "cell_type": "markdown",
   "id": "2b6de4e0",
   "metadata": {},
   "source": [
    "#### Current Version: (Beste)"
   ]
  },
  {
   "cell_type": "code",
   "execution_count": null,
   "id": "4ec8e706",
   "metadata": {},
   "outputs": [],
   "source": []
  },
  {
   "cell_type": "markdown",
   "id": "d5a6cf90",
   "metadata": {},
   "source": [
    "#### Android Version: (Beste)"
   ]
  },
  {
   "cell_type": "code",
   "execution_count": null,
   "id": "52cee588",
   "metadata": {},
   "outputs": [],
   "source": []
  },
  {
   "cell_type": "markdown",
   "id": "994d534a",
   "metadata": {},
   "source": [
    "### 3.2) Review Data\n",
    "\n",
    "#### Translated Review: (Gaia)"
   ]
  },
  {
   "cell_type": "code",
   "execution_count": null,
   "id": "a01b8ff7",
   "metadata": {},
   "outputs": [],
   "source": []
  },
  {
   "cell_type": "markdown",
   "id": "27f68ea6",
   "metadata": {},
   "source": [
    "#### Sentiment: (Gaia)"
   ]
  },
  {
   "cell_type": "code",
   "execution_count": null,
   "id": "9184d3b9",
   "metadata": {},
   "outputs": [],
   "source": []
  },
  {
   "cell_type": "markdown",
   "id": "19862f44",
   "metadata": {},
   "source": [
    "#### Sentiment Polarity: (Beste)"
   ]
  },
  {
   "cell_type": "code",
   "execution_count": null,
   "id": "30a5efa6",
   "metadata": {},
   "outputs": [],
   "source": []
  },
  {
   "cell_type": "markdown",
   "id": "de8fcd8e",
   "metadata": {},
   "source": [
    "#### Sentiment Subjectivity: (Beste)"
   ]
  },
  {
   "cell_type": "code",
   "execution_count": null,
   "id": "e68610fc",
   "metadata": {},
   "outputs": [],
   "source": []
  },
  {
   "cell_type": "code",
   "execution_count": null,
   "id": "d9cf11cf",
   "metadata": {},
   "outputs": [],
   "source": [
    "# ONLY CONVERSION OF OBJECT TO NUMERIC OR STR, NO SPLIT OR DROP HERE\n",
    "# numeric conversion of numeric data, reassign nonnumeric values as NaN\n",
    "''' an example of numeric column conversion while keeping nonnumeric as NaN with coerce \n",
    "num_cols = [\"eps\",\"user\"]\n",
    "df[num_cols] = df[num_cols].apply(pd.to_numeric, errors='coerce')'''\n",
    "\n",
    "# CODE HERE\n",
    "\n",
    "# string conversion of text data or numeric data with additional text (astype str)\n",
    "\n",
    "# CODE HERE"
   ]
  },
  {
   "cell_type": "markdown",
   "id": "8446b12b",
   "metadata": {},
   "source": [
    "## 4) Data Imputation\n",
    "We check the initial empty cell rates per column within the data frame for further operations."
   ]
  },
  {
   "cell_type": "code",
   "execution_count": null,
   "id": "8942634d",
   "metadata": {},
   "outputs": [],
   "source": [
    "# using missingno library to review missing values\n",
    "\n",
    "# CODE HERE"
   ]
  },
  {
   "cell_type": "code",
   "execution_count": 13,
   "id": "1eb58814",
   "metadata": {},
   "outputs": [],
   "source": [
    "# Additional plotting to see missing value percentage by columns\n",
    "\n",
    "# TODO: parametrize the text alignment and graph colors\n",
    "def findEmpty(df):\n",
    "    percentages = []\n",
    "    labels = []\n",
    "    str_ = \"\"\n",
    "\n",
    "    # iterate over data\n",
    "    for col in df.columns:\n",
    "        # percentage of null cells in the whole column\n",
    "        p_missing = np.mean(df[col].isnull())\n",
    "        # sum of null cells in the whole column\n",
    "        missing = df[col].isnull().sum()\n",
    "        percentages.append(p_missing*100)\n",
    "        labels.append(col)\n",
    "        # generate a string to print out results with numbers\n",
    "        if(missing):\n",
    "            str_ += \"\\n\" + col + \" - \" + str(missing) + \" / \" + str(len(df[col]))\n",
    "    return percentages, labels, str_\n",
    "\n",
    "def plotEmpty(names, *dfs):\n",
    "    # common plot calls\n",
    "    text_kwargs = dict(ha='left', va='top', fontsize=12)\n",
    "    plt.figure(num=None, figsize=(len(dfs)*6, 4))\n",
    "    \n",
    "    # color list to change color on each graph\n",
    "    colors = ['skyblue','teal','pink','turquoise','maroon','navyblue']\n",
    "    \n",
    "    for idx, df in enumerate(dfs):\n",
    "        percentages, labels, str_ = findEmpty(df)\n",
    "        \n",
    "        # plot results with bar plot\n",
    "        ticks = list(range(1, len(labels)+1))\n",
    "        plt.subplot(1, len(dfs), idx+1)\n",
    "        plt.bar(ticks, percentages, color=colors[idx])\n",
    "        plt.xticks(ticks, labels, rotation=75)\n",
    "        plt.ylim(0, 120)\n",
    "        plt.text(0.5, 125, str_, **text_kwargs)\n",
    "        for index, value in enumerate(percentages):\n",
    "            plt.text(index+1, value, str(int(value)), ha='center', va='bottom')\n",
    "        plt.ylabel('Percentages')\n",
    "        plt.title(names[idx]+' Empty Cell Percentages')\n",
    "        \n",
    "    plt.show()"
   ]
  },
  {
   "cell_type": "code",
   "execution_count": 14,
   "id": "662fbbd7",
   "metadata": {},
   "outputs": [
    {
     "data": {
      "image/png": "[encoded data removed]",
      "text/plain": [
       "<Figure size 864x288 with 2 Axes>"
      ]
     },
     "metadata": {
      "needs_background": "light"
     },
     "output_type": "display_data"
    }
   ],
   "source": [
    "# plot empty columns of datasets\n",
    "plotEmpty([\"Feature\", \"Review\"], df_feature, df_review)"
   ]
  },
  {
   "cell_type": "markdown",
   "id": "8855c870",
   "metadata": {},
   "source": [
    "We may now fill NaN values with column specific solutions. \n",
    "\n",
    "### 4.1) Feature Data"
   ]
  },
  {
   "cell_type": "code",
   "execution_count": 15,
   "id": "099314f0",
   "metadata": {},
   "outputs": [
    {
     "data": {
      "text/plain": [
       "array([   15,    23,   113, ..., 10831, 10835, 10838], dtype=int64)"
      ]
     },
     "execution_count": 15,
     "metadata": {},
     "output_type": "execute_result"
    }
   ],
   "source": [
    "# check some sample row locations for empty cells to view: np.where(df_feature.isnull())\n",
    "np.unique(np.where(df_feature.isnull())[0])"
   ]
  },
  {
   "cell_type": "code",
   "execution_count": 16,
   "id": "b6501007",
   "metadata": {},
   "outputs": [
    {
     "data": {
      "text/html": [
       "<div>\n",
       "<style scoped>\n",
       "    .dataframe tbody tr th:only-of-type {\n",
       "        vertical-align: middle;\n",
       "    }\n",
       "\n",
       "    .dataframe tbody tr th {\n",
       "        vertical-align: top;\n",
       "    }\n",
       "\n",
       "    .dataframe thead th {\n",
       "        text-align: right;\n",
       "    }\n",
       "</style>\n",
       "<table border=\"1\" class=\"dataframe\">\n",
       "  <thead>\n",
       "    <tr style=\"text-align: right;\">\n",
       "      <th></th>\n",
       "      <th>app</th>\n",
       "      <th>category</th>\n",
       "      <th>rating</th>\n",
       "      <th>reviews</th>\n",
       "      <th>size</th>\n",
       "      <th>installs</th>\n",
       "      <th>type</th>\n",
       "      <th>price</th>\n",
       "      <th>content_rating</th>\n",
       "      <th>genres</th>\n",
       "      <th>last_updated</th>\n",
       "      <th>current_ver</th>\n",
       "      <th>android_ver</th>\n",
       "    </tr>\n",
       "  </thead>\n",
       "  <tbody>\n",
       "    <tr>\n",
       "      <th>10837</th>\n",
       "      <td>Fr. Mike Schmitz Audio Teachings</td>\n",
       "      <td>FAMILY</td>\n",
       "      <td>5.0</td>\n",
       "      <td>4</td>\n",
       "      <td>3.6M</td>\n",
       "      <td>100+</td>\n",
       "      <td>Free</td>\n",
       "      <td>0</td>\n",
       "      <td>Everyone</td>\n",
       "      <td>Education</td>\n",
       "      <td>July 6, 2018</td>\n",
       "      <td>1.0</td>\n",
       "      <td>4.1 and up</td>\n",
       "    </tr>\n",
       "    <tr>\n",
       "      <th>10838</th>\n",
       "      <td>Parkinson Exercices FR</td>\n",
       "      <td>MEDICAL</td>\n",
       "      <td>NaN</td>\n",
       "      <td>3</td>\n",
       "      <td>9.5M</td>\n",
       "      <td>1,000+</td>\n",
       "      <td>Free</td>\n",
       "      <td>0</td>\n",
       "      <td>Everyone</td>\n",
       "      <td>Medical</td>\n",
       "      <td>January 20, 2017</td>\n",
       "      <td>1.0</td>\n",
       "      <td>2.2 and up</td>\n",
       "    </tr>\n",
       "    <tr>\n",
       "      <th>10839</th>\n",
       "      <td>The SCP Foundation DB fr nn5n</td>\n",
       "      <td>BOOKS_AND_REFERENCE</td>\n",
       "      <td>4.5</td>\n",
       "      <td>114</td>\n",
       "      <td>Varies with device</td>\n",
       "      <td>1,000+</td>\n",
       "      <td>Free</td>\n",
       "      <td>0</td>\n",
       "      <td>Mature 17+</td>\n",
       "      <td>Books &amp; Reference</td>\n",
       "      <td>January 19, 2015</td>\n",
       "      <td>Varies with device</td>\n",
       "      <td>Varies with device</td>\n",
       "    </tr>\n",
       "    <tr>\n",
       "      <th>10840</th>\n",
       "      <td>iHoroscope - 2018 Daily Horoscope &amp; Astrology</td>\n",
       "      <td>LIFESTYLE</td>\n",
       "      <td>4.5</td>\n",
       "      <td>398307</td>\n",
       "      <td>19M</td>\n",
       "      <td>10,000,000+</td>\n",
       "      <td>Free</td>\n",
       "      <td>0</td>\n",
       "      <td>Everyone</td>\n",
       "      <td>Lifestyle</td>\n",
       "      <td>July 25, 2018</td>\n",
       "      <td>Varies with device</td>\n",
       "      <td>Varies with device</td>\n",
       "    </tr>\n",
       "  </tbody>\n",
       "</table>\n",
       "</div>"
      ],
      "text/plain": [
       "                                                 app             category  \\\n",
       "10837               Fr. Mike Schmitz Audio Teachings               FAMILY   \n",
       "10838                         Parkinson Exercices FR              MEDICAL   \n",
       "10839                  The SCP Foundation DB fr nn5n  BOOKS_AND_REFERENCE   \n",
       "10840  iHoroscope - 2018 Daily Horoscope & Astrology            LIFESTYLE   \n",
       "\n",
       "       rating reviews                size     installs  type price  \\\n",
       "10837     5.0       4                3.6M         100+  Free     0   \n",
       "10838     NaN       3                9.5M       1,000+  Free     0   \n",
       "10839     4.5     114  Varies with device       1,000+  Free     0   \n",
       "10840     4.5  398307                 19M  10,000,000+  Free     0   \n",
       "\n",
       "      content_rating             genres      last_updated         current_ver  \\\n",
       "10837       Everyone          Education      July 6, 2018                 1.0   \n",
       "10838       Everyone            Medical  January 20, 2017                 1.0   \n",
       "10839     Mature 17+  Books & Reference  January 19, 2015  Varies with device   \n",
       "10840       Everyone          Lifestyle     July 25, 2018  Varies with device   \n",
       "\n",
       "              android_ver  \n",
       "10837          4.1 and up  \n",
       "10838          2.2 and up  \n",
       "10839  Varies with device  \n",
       "10840  Varies with device  "
      ]
     },
     "execution_count": 16,
     "metadata": {},
     "output_type": "execute_result"
    }
   ],
   "source": [
    "# print some interval with empties to check the imputation results later\n",
    "df_feature.loc[10837:10840]"
   ]
  },
  {
   "cell_type": "markdown",
   "id": "60799ea8",
   "metadata": {},
   "source": [
    "#### Category: (Gaia)"
   ]
  },
  {
   "cell_type": "code",
   "execution_count": null,
   "id": "e6020b1b",
   "metadata": {},
   "outputs": [],
   "source": [
    "# fill missing values with mean/median values of the columns or constant values\n",
    "'''sample usage (median-numeric) : df_boxof = df_boxof.fillna(df_boxof.median(numeric_only=True))'''\n",
    "'''sample usage (mod-categorical) : df_anidb.aired.fillna(df_anidb.aired.value_counts().idxmax(), inplace=True)'''\n",
    "\n",
    "# CODE HERE\n",
    "\n",
    "# recheck the previous samples\n",
    "\n",
    "# CODE HERE"
   ]
  },
  {
   "cell_type": "markdown",
   "id": "cebddbb5",
   "metadata": {},
   "source": [
    "#### Rating: (Gaia)"
   ]
  },
  {
   "cell_type": "code",
   "execution_count": null,
   "id": "cb2b96ba",
   "metadata": {},
   "outputs": [],
   "source": [
    "# fill missing values\n",
    "\n",
    "# CODE HERE\n",
    "\n",
    "# recheck the previous samples\n",
    "\n",
    "# CODE HERE"
   ]
  },
  {
   "cell_type": "markdown",
   "id": "ece88a6e",
   "metadata": {},
   "source": [
    "#### Reviews: (Gaia)"
   ]
  },
  {
   "cell_type": "code",
   "execution_count": null,
   "id": "531ef221",
   "metadata": {},
   "outputs": [],
   "source": [
    "# fill missing values\n",
    "\n",
    "# CODE HERE\n",
    "\n",
    "# recheck the previous samples\n",
    "\n",
    "# CODE HERE"
   ]
  },
  {
   "cell_type": "markdown",
   "id": "db9e18bf",
   "metadata": {},
   "source": [
    "#### Size: (Gaia)"
   ]
  },
  {
   "cell_type": "code",
   "execution_count": null,
   "id": "051b5af7",
   "metadata": {},
   "outputs": [],
   "source": [
    "# fill missing values\n",
    "\n",
    "# CODE HERE\n",
    "\n",
    "# recheck the previous samples\n",
    "\n",
    "# CODE HERE"
   ]
  },
  {
   "cell_type": "markdown",
   "id": "1b8e345c",
   "metadata": {},
   "source": [
    "#### Installs: (Gaia)"
   ]
  },
  {
   "cell_type": "code",
   "execution_count": null,
   "id": "6e3d28a6",
   "metadata": {},
   "outputs": [],
   "source": [
    "# fill missing values\n",
    "\n",
    "# CODE HERE\n",
    "\n",
    "# recheck the previous samples\n",
    "\n",
    "# CODE HERE"
   ]
  },
  {
   "cell_type": "markdown",
   "id": "2046bd03",
   "metadata": {},
   "source": [
    "#### Type: (Gaia)"
   ]
  },
  {
   "cell_type": "code",
   "execution_count": null,
   "id": "b3474271",
   "metadata": {},
   "outputs": [],
   "source": [
    "# fill missing values\n",
    "\n",
    "# CODE HERE\n",
    "\n",
    "# recheck the previous samples\n",
    "\n",
    "# CODE HERE"
   ]
  },
  {
   "cell_type": "markdown",
   "id": "fcb787a9",
   "metadata": {},
   "source": [
    "#### Price: (Beste)"
   ]
  },
  {
   "cell_type": "code",
   "execution_count": 17,
   "id": "495195b6",
   "metadata": {},
   "outputs": [],
   "source": [
    "# fill missing values\n",
    "df_feature.price.fillna(df_feature.price.value_counts().idxmax(), inplace=True)"
   ]
  },
  {
   "cell_type": "markdown",
   "id": "78a2751d",
   "metadata": {},
   "source": [
    "#### Content Rating: (Beste)"
   ]
  },
  {
   "cell_type": "code",
   "execution_count": null,
   "id": "46f7c597",
   "metadata": {},
   "outputs": [],
   "source": [
    "# fill missing values\n",
    "df_feature.content_rating.fillna((df_feature.content_rating.mean()), inplace=True)\n",
    "\n",
    "# recheck the previous samples\n",
    "df_feature.loc[10837:10840]"
   ]
  },
  {
   "cell_type": "markdown",
   "id": "009975b9",
   "metadata": {},
   "source": [
    "#### Genres: (Beste)"
   ]
  },
  {
   "cell_type": "code",
   "execution_count": null,
   "id": "9ccc93e3",
   "metadata": {},
   "outputs": [],
   "source": [
    "# fill missing values\n",
    "\n",
    "# CODE HERE\n",
    "\n",
    "# recheck the previous samples\n",
    "\n",
    "# CODE HERE"
   ]
  },
  {
   "cell_type": "markdown",
   "id": "d01f4ac4",
   "metadata": {},
   "source": [
    "#### Last Updated: (Beste)"
   ]
  },
  {
   "cell_type": "code",
   "execution_count": null,
   "id": "cf703ea7",
   "metadata": {},
   "outputs": [],
   "source": [
    "# fill missing values\n",
    "\n",
    "# CODE HERE\n",
    "\n",
    "# recheck the previous samples\n",
    "\n",
    "# CODE HERE"
   ]
  },
  {
   "cell_type": "markdown",
   "id": "8c730ee1",
   "metadata": {},
   "source": [
    "#### Current Verison: (Beste)"
   ]
  },
  {
   "cell_type": "code",
   "execution_count": null,
   "id": "930e9a8c",
   "metadata": {},
   "outputs": [],
   "source": [
    "# fill missing values\n",
    "\n",
    "# CODE HERE\n",
    "\n",
    "# recheck the previous samples\n",
    "\n",
    "# CODE HERE"
   ]
  },
  {
   "cell_type": "markdown",
   "id": "1478c751",
   "metadata": {},
   "source": [
    "#### Android Version: (Beste)"
   ]
  },
  {
   "cell_type": "code",
   "execution_count": null,
   "id": "eda2ecd7",
   "metadata": {},
   "outputs": [],
   "source": [
    "# fill missing values\n",
    "\n",
    "# CODE HERE\n",
    "\n",
    "# recheck the previous samples\n",
    "\n",
    "# CODE HERE"
   ]
  },
  {
   "cell_type": "markdown",
   "id": "56089841",
   "metadata": {},
   "source": [
    "### 4.2) Review Data"
   ]
  },
  {
   "cell_type": "code",
   "execution_count": 11,
   "id": "340ab23a",
   "metadata": {},
   "outputs": [
    {
     "data": {
      "text/plain": [
       "array([    2,     7,    15, ..., 64292, 64293, 64294], dtype=int64)"
      ]
     },
     "execution_count": 11,
     "metadata": {},
     "output_type": "execute_result"
    }
   ],
   "source": [
    "# check some sample row locations for empty cells to view: np.where(df_feature.isnull())\n",
    "np.unique(np.where(df_review.isnull())[0])"
   ]
  },
  {
   "cell_type": "code",
   "execution_count": 12,
   "id": "cafbcee9",
   "metadata": {},
   "outputs": [
    {
     "data": {
      "text/html": [
       "<div>\n",
       "<style scoped>\n",
       "    .dataframe tbody tr th:only-of-type {\n",
       "        vertical-align: middle;\n",
       "    }\n",
       "\n",
       "    .dataframe tbody tr th {\n",
       "        vertical-align: top;\n",
       "    }\n",
       "\n",
       "    .dataframe thead th {\n",
       "        text-align: right;\n",
       "    }\n",
       "</style>\n",
       "<table border=\"1\" class=\"dataframe\">\n",
       "  <thead>\n",
       "    <tr style=\"text-align: right;\">\n",
       "      <th></th>\n",
       "      <th>app</th>\n",
       "      <th>translated_review</th>\n",
       "      <th>sentiment</th>\n",
       "      <th>sentiment_polarity</th>\n",
       "      <th>sentiment_subjectivity</th>\n",
       "    </tr>\n",
       "  </thead>\n",
       "  <tbody>\n",
       "    <tr>\n",
       "      <th>2</th>\n",
       "      <td>10 Best Foods for You</td>\n",
       "      <td>NaN</td>\n",
       "      <td>NaN</td>\n",
       "      <td>NaN</td>\n",
       "      <td>NaN</td>\n",
       "    </tr>\n",
       "    <tr>\n",
       "      <th>3</th>\n",
       "      <td>10 Best Foods for You</td>\n",
       "      <td>Works great especially going grocery store</td>\n",
       "      <td>Positive</td>\n",
       "      <td>0.4</td>\n",
       "      <td>0.875</td>\n",
       "    </tr>\n",
       "    <tr>\n",
       "      <th>4</th>\n",
       "      <td>10 Best Foods for You</td>\n",
       "      <td>Best idea us</td>\n",
       "      <td>Positive</td>\n",
       "      <td>1.0</td>\n",
       "      <td>0.300</td>\n",
       "    </tr>\n",
       "    <tr>\n",
       "      <th>5</th>\n",
       "      <td>10 Best Foods for You</td>\n",
       "      <td>Best way</td>\n",
       "      <td>Positive</td>\n",
       "      <td>1.0</td>\n",
       "      <td>0.300</td>\n",
       "    </tr>\n",
       "    <tr>\n",
       "      <th>6</th>\n",
       "      <td>10 Best Foods for You</td>\n",
       "      <td>Amazing</td>\n",
       "      <td>Positive</td>\n",
       "      <td>0.6</td>\n",
       "      <td>0.900</td>\n",
       "    </tr>\n",
       "    <tr>\n",
       "      <th>7</th>\n",
       "      <td>10 Best Foods for You</td>\n",
       "      <td>NaN</td>\n",
       "      <td>NaN</td>\n",
       "      <td>NaN</td>\n",
       "      <td>NaN</td>\n",
       "    </tr>\n",
       "  </tbody>\n",
       "</table>\n",
       "</div>"
      ],
      "text/plain": [
       "                     app                           translated_review  \\\n",
       "2  10 Best Foods for You                                         NaN   \n",
       "3  10 Best Foods for You  Works great especially going grocery store   \n",
       "4  10 Best Foods for You                                Best idea us   \n",
       "5  10 Best Foods for You                                    Best way   \n",
       "6  10 Best Foods for You                                     Amazing   \n",
       "7  10 Best Foods for You                                         NaN   \n",
       "\n",
       "  sentiment  sentiment_polarity  sentiment_subjectivity  \n",
       "2       NaN                 NaN                     NaN  \n",
       "3  Positive                 0.4                   0.875  \n",
       "4  Positive                 1.0                   0.300  \n",
       "5  Positive                 1.0                   0.300  \n",
       "6  Positive                 0.6                   0.900  \n",
       "7       NaN                 NaN                     NaN  "
      ]
     },
     "execution_count": 12,
     "metadata": {},
     "output_type": "execute_result"
    }
   ],
   "source": [
    "# print some interval with empties to check the imputation results later\n",
    "df_review.loc[2:7]"
   ]
  },
  {
   "cell_type": "markdown",
   "id": "d03d0513",
   "metadata": {},
   "source": [
    "#### Translated Review: (Gaia)"
   ]
  },
  {
   "cell_type": "code",
   "execution_count": null,
   "id": "2f6c7987",
   "metadata": {},
   "outputs": [],
   "source": [
    "# fill missing values\n",
    "\n",
    "# CODE HERE\n",
    "\n",
    "# recheck the previous samples\n",
    "\n",
    "# CODE HERE"
   ]
  },
  {
   "cell_type": "markdown",
   "id": "c9e01afe",
   "metadata": {},
   "source": [
    "#### Sentiment: (Gaia)"
   ]
  },
  {
   "cell_type": "code",
   "execution_count": null,
   "id": "a866dfcf",
   "metadata": {},
   "outputs": [],
   "source": [
    "# fill missing values\n",
    "\n",
    "# CODE HERE\n",
    "\n",
    "# recheck the previous samples\n",
    "\n",
    "# CODE HERE"
   ]
  },
  {
   "cell_type": "markdown",
   "id": "f52cf5c1",
   "metadata": {},
   "source": [
    "#### Sentiment Polarity: (Beste)"
   ]
  },
  {
   "cell_type": "code",
   "execution_count": null,
   "id": "de5ef1f3",
   "metadata": {},
   "outputs": [],
   "source": [
    "# fill missing values\n",
    "\n",
    "# CODE HERE\n",
    "\n",
    "# recheck the previous samples\n",
    "\n",
    "# CODE HERE"
   ]
  },
  {
   "cell_type": "markdown",
   "id": "bf42d4fa",
   "metadata": {},
   "source": [
    "#### Sentiment Subjectivity: (Beste)"
   ]
  },
  {
   "cell_type": "code",
   "execution_count": null,
   "id": "c8c72f34",
   "metadata": {},
   "outputs": [],
   "source": [
    "# fill missing values\n",
    "\n",
    "# CODE HERE\n",
    "\n",
    "# recheck the previous samples\n",
    "\n",
    "# CODE HERE"
   ]
  },
  {
   "cell_type": "markdown",
   "id": "a4588988",
   "metadata": {},
   "source": [
    "After completing the imputation, we will check for the remaining empty cells."
   ]
  },
  {
   "cell_type": "code",
   "execution_count": null,
   "id": "638a3cc1",
   "metadata": {},
   "outputs": [],
   "source": [
    "# check if there are any empty entries left\n",
    "# print(\"Anidb:\", df_anidb.isnull().values.sum(), \"empty entries.\")\n",
    "# print(\"Boxoffice:\", df_boxof.isnull().values.sum(), \"empty entries.\")"
   ]
  },
  {
   "cell_type": "code",
   "execution_count": null,
   "id": "f2cc6952",
   "metadata": {},
   "outputs": [],
   "source": [
    "# check if there are any empty entries left\n",
    "plotEmpty([\"Feature\", \"Review\"], df_feature, df_review)"
   ]
  },
  {
   "cell_type": "code",
   "execution_count": 13,
   "id": "cceb3b33",
   "metadata": {},
   "outputs": [
    {
     "data": {
      "text/html": [
       "<style type=\"text/css\">\n",
       "</style>\n",
       "<table id=\"T_580be_\" style='display:inline'>\n",
       "  <caption>Feature</caption>\n",
       "  <thead>\n",
       "    <tr>\n",
       "      <th class=\"blank level0\" >&nbsp;</th>\n",
       "      <th class=\"col_heading level0 col0\" >rating</th>\n",
       "    </tr>\n",
       "  </thead>\n",
       "  <tbody>\n",
       "    <tr>\n",
       "      <th id=\"T_580be_level0_row0\" class=\"row_heading level0 row0\" >count</th>\n",
       "      <td id=\"T_580be_row0_col0\" class=\"data row0 col0\" >9367.000000</td>\n",
       "    </tr>\n",
       "    <tr>\n",
       "      <th id=\"T_580be_level0_row1\" class=\"row_heading level0 row1\" >mean</th>\n",
       "      <td id=\"T_580be_row1_col0\" class=\"data row1 col0\" >4.193338</td>\n",
       "    </tr>\n",
       "    <tr>\n",
       "      <th id=\"T_580be_level0_row2\" class=\"row_heading level0 row2\" >std</th>\n",
       "      <td id=\"T_580be_row2_col0\" class=\"data row2 col0\" >0.537431</td>\n",
       "    </tr>\n",
       "    <tr>\n",
       "      <th id=\"T_580be_level0_row3\" class=\"row_heading level0 row3\" >min</th>\n",
       "      <td id=\"T_580be_row3_col0\" class=\"data row3 col0\" >1.000000</td>\n",
       "    </tr>\n",
       "    <tr>\n",
       "      <th id=\"T_580be_level0_row4\" class=\"row_heading level0 row4\" >25%</th>\n",
       "      <td id=\"T_580be_row4_col0\" class=\"data row4 col0\" >4.000000</td>\n",
       "    </tr>\n",
       "    <tr>\n",
       "      <th id=\"T_580be_level0_row5\" class=\"row_heading level0 row5\" >50%</th>\n",
       "      <td id=\"T_580be_row5_col0\" class=\"data row5 col0\" >4.300000</td>\n",
       "    </tr>\n",
       "    <tr>\n",
       "      <th id=\"T_580be_level0_row6\" class=\"row_heading level0 row6\" >75%</th>\n",
       "      <td id=\"T_580be_row6_col0\" class=\"data row6 col0\" >4.500000</td>\n",
       "    </tr>\n",
       "    <tr>\n",
       "      <th id=\"T_580be_level0_row7\" class=\"row_heading level0 row7\" >max</th>\n",
       "      <td id=\"T_580be_row7_col0\" class=\"data row7 col0\" >19.000000</td>\n",
       "    </tr>\n",
       "  </tbody>\n",
       "</table>\n",
       "&nbsp;&nbsp;&nbsp;&nbsp;&nbsp;&nbsp;&nbsp;&nbsp;&nbsp;&nbsp;<style type=\"text/css\">\n",
       "</style>\n",
       "<table id=\"T_4c047_\" style='display:inline'>\n",
       "  <caption>Review</caption>\n",
       "  <thead>\n",
       "    <tr>\n",
       "      <th class=\"blank level0\" >&nbsp;</th>\n",
       "      <th class=\"col_heading level0 col0\" >sentiment_polarity</th>\n",
       "      <th class=\"col_heading level0 col1\" >sentiment_subjectivity</th>\n",
       "    </tr>\n",
       "  </thead>\n",
       "  <tbody>\n",
       "    <tr>\n",
       "      <th id=\"T_4c047_level0_row0\" class=\"row_heading level0 row0\" >count</th>\n",
       "      <td id=\"T_4c047_row0_col0\" class=\"data row0 col0\" >37432.000000</td>\n",
       "      <td id=\"T_4c047_row0_col1\" class=\"data row0 col1\" >37432.000000</td>\n",
       "    </tr>\n",
       "    <tr>\n",
       "      <th id=\"T_4c047_level0_row1\" class=\"row_heading level0 row1\" >mean</th>\n",
       "      <td id=\"T_4c047_row1_col0\" class=\"data row1 col0\" >0.182146</td>\n",
       "      <td id=\"T_4c047_row1_col1\" class=\"data row1 col1\" >0.492704</td>\n",
       "    </tr>\n",
       "    <tr>\n",
       "      <th id=\"T_4c047_level0_row2\" class=\"row_heading level0 row2\" >std</th>\n",
       "      <td id=\"T_4c047_row2_col0\" class=\"data row2 col0\" >0.351301</td>\n",
       "      <td id=\"T_4c047_row2_col1\" class=\"data row2 col1\" >0.259949</td>\n",
       "    </tr>\n",
       "    <tr>\n",
       "      <th id=\"T_4c047_level0_row3\" class=\"row_heading level0 row3\" >min</th>\n",
       "      <td id=\"T_4c047_row3_col0\" class=\"data row3 col0\" >-1.000000</td>\n",
       "      <td id=\"T_4c047_row3_col1\" class=\"data row3 col1\" >0.000000</td>\n",
       "    </tr>\n",
       "    <tr>\n",
       "      <th id=\"T_4c047_level0_row4\" class=\"row_heading level0 row4\" >25%</th>\n",
       "      <td id=\"T_4c047_row4_col0\" class=\"data row4 col0\" >0.000000</td>\n",
       "      <td id=\"T_4c047_row4_col1\" class=\"data row4 col1\" >0.357143</td>\n",
       "    </tr>\n",
       "    <tr>\n",
       "      <th id=\"T_4c047_level0_row5\" class=\"row_heading level0 row5\" >50%</th>\n",
       "      <td id=\"T_4c047_row5_col0\" class=\"data row5 col0\" >0.150000</td>\n",
       "      <td id=\"T_4c047_row5_col1\" class=\"data row5 col1\" >0.514286</td>\n",
       "    </tr>\n",
       "    <tr>\n",
       "      <th id=\"T_4c047_level0_row6\" class=\"row_heading level0 row6\" >75%</th>\n",
       "      <td id=\"T_4c047_row6_col0\" class=\"data row6 col0\" >0.400000</td>\n",
       "      <td id=\"T_4c047_row6_col1\" class=\"data row6 col1\" >0.650000</td>\n",
       "    </tr>\n",
       "    <tr>\n",
       "      <th id=\"T_4c047_level0_row7\" class=\"row_heading level0 row7\" >max</th>\n",
       "      <td id=\"T_4c047_row7_col0\" class=\"data row7 col0\" >1.000000</td>\n",
       "      <td id=\"T_4c047_row7_col1\" class=\"data row7 col1\" >1.000000</td>\n",
       "    </tr>\n",
       "  </tbody>\n",
       "</table>\n",
       "&nbsp;&nbsp;&nbsp;&nbsp;&nbsp;&nbsp;&nbsp;&nbsp;&nbsp;&nbsp;"
      ]
     },
     "metadata": {},
     "output_type": "display_data"
    }
   ],
   "source": [
    "# create a function for side by side printing of dataframes\n",
    "def print_stacked(names, *dfs):\n",
    "    stacked = \"\"\n",
    "    for idx, df in enumerate(dfs):\n",
    "        stacked += df.style.set_table_attributes(\"style='display:inline'\").set_caption(names[idx])._repr_html_() + \"&nbsp;\"*10\n",
    "    display_html(stacked, raw=True)\n",
    "\n",
    "# observe numerical columns description of both tables\n",
    "print_stacked([\"Feature\", \"Review\"], df_feature.describe(), df_review.describe())"
   ]
  },
  {
   "cell_type": "markdown",
   "id": "111acfa5",
   "metadata": {},
   "source": [
    "## 5) Extract Date\n",
    "We will extract the date information from strings given in various formats.\n",
    "\n",
    "#### Feature Data:"
   ]
  },
  {
   "cell_type": "code",
   "execution_count": null,
   "id": "c6765092",
   "metadata": {},
   "outputs": [],
   "source": [
    "# replace missing dates"
   ]
  },
  {
   "cell_type": "code",
   "execution_count": null,
   "id": "6185f43f",
   "metadata": {},
   "outputs": [],
   "source": [
    "# extract the year in a new column 'update_year'\n",
    "df_feature.insert(loc=(df_feature.columns.get_loc('last_updated')),\n",
    "                        column='update_year', \n",
    "                        value=df_feature.last_updated.dt.year)\n",
    "\n",
    "# extract the month in a new column 'update_month'\n",
    "df_feature.insert(loc=(df_feature.columns.get_loc('last_updated')),\n",
    "                        column='update_month', \n",
    "                        value=df_feature.last_updated.dt.month)\n",
    "\n",
    "# extract the day in a new column 'update_day'\n",
    "df_feature.insert(loc=(df_feature.columns.get_loc('last_updated')),\n",
    "                        column='update_day', \n",
    "                        value=df_feature.last_updated.dt.day)\n",
    "\n",
    "# extract the day name in a new column 'update_weekday'\n",
    "df_feature.insert(loc=(df_feature.columns.get_loc('last_updated')),\n",
    "                        column='update_weekday', \n",
    "                        value=df_feature.last_updated.dt.day_name())"
   ]
  },
  {
   "cell_type": "code",
   "execution_count": null,
   "id": "7f3dca2b",
   "metadata": {},
   "outputs": [],
   "source": [
    "# observe generated columns with datatime content\n",
    "\n",
    "# CODE HERE"
   ]
  },
  {
   "cell_type": "markdown",
   "id": "7bb7a579",
   "metadata": {},
   "source": [
    "## 6) Join Data\n",
    "\n",
    "The data sets **Feature** and **Review** include different information for common apps. Thus, we will match the titles for existing entries in both sets and obtain a final set with all the combined information."
   ]
  },
  {
   "cell_type": "code",
   "execution_count": null,
   "id": "a5b9dd8c",
   "metadata": {},
   "outputs": [],
   "source": [
    "# create a copy to do not alter the original data\n",
    "temp = df_feature[['app']].copy()\n",
    "\n",
    "# drop duplicates of app in case any --> unnecessary, can be removed\n",
    "temp = temp.drop_duplicates(subset=['app'])\n",
    "unique_apps_f = temp['app'].tolist()\n",
    "\n",
    "# print sorted unique app\n",
    "temp.sort_values(by=['app'], ascending=True)"
   ]
  },
  {
   "cell_type": "code",
   "execution_count": null,
   "id": "e0659698",
   "metadata": {},
   "outputs": [],
   "source": [
    "# similarly create a copy of review set to do not alter the original data\n",
    "temp_r = df_review[['app']].copy()\n",
    "\n",
    "# drop duplicates of titles in case any --> unnecessary, can be removed\n",
    "temp_r = temp_r.drop_duplicates(subset=['app'])\n",
    "unique_apps_r = temp_r['app'].tolist()\n",
    "\n",
    "# print sorted unique titles\n",
    "temp_r.sort_values(by=['app'], ascending=True)"
   ]
  },
  {
   "cell_type": "code",
   "execution_count": null,
   "id": "ca6e0718",
   "metadata": {},
   "outputs": [],
   "source": [
    "# get a list of intersecting apps\n",
    "matches = list(set(unique_apps_f) & set(unique_apps_r))"
   ]
  },
  {
   "cell_type": "code",
   "execution_count": null,
   "id": "7ce298b3",
   "metadata": {},
   "outputs": [],
   "source": [
    "# filter dataframes for only matching apps\n",
    "df_f_part = df_feature[df_feature.app.isin(list(matches.values()))]\n",
    "df_r_part = df_review[df_review.app.isin(list(matches.keys()))]\n",
    "\n",
    "# merge two tables using the app column\n",
    "# TODO: 2 join with all and with avg from review part\n",
    "result = pd.merge(df_f_part, df_r_part, on=\"app\")"
   ]
  }
 ],
 "metadata": {
  "kernelspec": {
   "display_name": "Python 3 (ipykernel)",
   "language": "python",
   "name": "python3"
  },
  "language_info": {
   "codemirror_mode": {
    "name": "ipython",
    "version": 3
   },
   "file_extension": ".py",
   "mimetype": "text/x-python",
   "name": "python",
   "nbconvert_exporter": "python",
   "pygments_lexer": "ipython3",
   "version": "3.10.0"
  }
 },
 "nbformat": 4,
 "nbformat_minor": 5
}
