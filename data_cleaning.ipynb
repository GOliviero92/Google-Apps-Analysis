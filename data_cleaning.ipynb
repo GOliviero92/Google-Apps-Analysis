{
 "cells": [
  {
   "cell_type": "markdown",
   "id": "a1cb0659",
   "metadata": {},
   "source": [
    "# **Google Play Store Apps Analysis**\n",
    "\n",
    "This notebook includes the procedure of cleaning data with pandas methods on google play store apps data obtained from [Kaggle](https://www.kaggle.com/datasets/lava18/google-play-store-apps) and making a descriptive analysis of it with seaborn methods.\n",
    "\n",
    "## 1) Import Libraries"
   ]
  },
  {
   "cell_type": "code",
   "execution_count": 1,
   "id": "ec3287bb",
   "metadata": {
    "ExecuteTime": {
     "end_time": "2022-04-12T18:28:02.606549Z",
     "start_time": "2022-04-12T18:28:01.560072Z"
    }
   },
   "outputs": [],
   "source": [
    "# import necessary libraries\n",
    "import numpy as np\n",
    "import pandas as pd\n",
    "import seaborn as sns\n",
    "import matplotlib.pyplot as plt\n",
    "import missingno as ms\n",
    "from IPython.display import display_html\n",
    "import os, re"
   ]
  },
  {
   "cell_type": "markdown",
   "id": "c0137843",
   "metadata": {},
   "source": [
    "## 2) Data Acquisition\n",
    "\n",
    "Google play store apps data is acquired from [Kaggle](https://www.kaggle.com/datasets/lava18/google-play-store-apps) as two csv files *googleplaystore.csv* for app features and *googleplaystore_user_reviews.csv* for app reviews. We will load these datasets into two dataframes ***df_feature*** and ***df_review***.\n",
    "\n",
    "#### Feature Data:"
   ]
  },
  {
   "cell_type": "code",
   "execution_count": 2,
   "id": "ed89d1f7",
   "metadata": {
    "ExecuteTime": {
     "end_time": "2022-04-12T18:28:03.708674Z",
     "start_time": "2022-04-12T18:28:03.659471Z"
    }
   },
   "outputs": [
    {
     "data": {
      "text/html": [
       "<div>\n",
       "<style scoped>\n",
       "    .dataframe tbody tr th:only-of-type {\n",
       "        vertical-align: middle;\n",
       "    }\n",
       "\n",
       "    .dataframe tbody tr th {\n",
       "        vertical-align: top;\n",
       "    }\n",
       "\n",
       "    .dataframe thead th {\n",
       "        text-align: right;\n",
       "    }\n",
       "</style>\n",
       "<table border=\"1\" class=\"dataframe\">\n",
       "  <thead>\n",
       "    <tr style=\"text-align: right;\">\n",
       "      <th></th>\n",
       "      <th>App</th>\n",
       "      <th>Category</th>\n",
       "      <th>Rating</th>\n",
       "      <th>Reviews</th>\n",
       "      <th>Size</th>\n",
       "      <th>Installs</th>\n",
       "      <th>Type</th>\n",
       "      <th>Price</th>\n",
       "      <th>Content Rating</th>\n",
       "      <th>Genres</th>\n",
       "      <th>Last Updated</th>\n",
       "      <th>Current Ver</th>\n",
       "      <th>Android Ver</th>\n",
       "    </tr>\n",
       "  </thead>\n",
       "  <tbody>\n",
       "    <tr>\n",
       "      <th>0</th>\n",
       "      <td>Photo Editor &amp; Candy Camera &amp; Grid &amp; ScrapBook</td>\n",
       "      <td>ART_AND_DESIGN</td>\n",
       "      <td>4.1</td>\n",
       "      <td>159</td>\n",
       "      <td>19M</td>\n",
       "      <td>10,000+</td>\n",
       "      <td>Free</td>\n",
       "      <td>0</td>\n",
       "      <td>Everyone</td>\n",
       "      <td>Art &amp; Design</td>\n",
       "      <td>January 7, 2018</td>\n",
       "      <td>1.0.0</td>\n",
       "      <td>4.0.3 and up</td>\n",
       "    </tr>\n",
       "    <tr>\n",
       "      <th>1</th>\n",
       "      <td>Coloring book moana</td>\n",
       "      <td>ART_AND_DESIGN</td>\n",
       "      <td>3.9</td>\n",
       "      <td>967</td>\n",
       "      <td>14M</td>\n",
       "      <td>500,000+</td>\n",
       "      <td>Free</td>\n",
       "      <td>0</td>\n",
       "      <td>Everyone</td>\n",
       "      <td>Art &amp; Design;Pretend Play</td>\n",
       "      <td>January 15, 2018</td>\n",
       "      <td>2.0.0</td>\n",
       "      <td>4.0.3 and up</td>\n",
       "    </tr>\n",
       "    <tr>\n",
       "      <th>2</th>\n",
       "      <td>U Launcher Lite – FREE Live Cool Themes, Hide ...</td>\n",
       "      <td>ART_AND_DESIGN</td>\n",
       "      <td>4.7</td>\n",
       "      <td>87510</td>\n",
       "      <td>8.7M</td>\n",
       "      <td>5,000,000+</td>\n",
       "      <td>Free</td>\n",
       "      <td>0</td>\n",
       "      <td>Everyone</td>\n",
       "      <td>Art &amp; Design</td>\n",
       "      <td>August 1, 2018</td>\n",
       "      <td>1.2.4</td>\n",
       "      <td>4.0.3 and up</td>\n",
       "    </tr>\n",
       "    <tr>\n",
       "      <th>3</th>\n",
       "      <td>Sketch - Draw &amp; Paint</td>\n",
       "      <td>ART_AND_DESIGN</td>\n",
       "      <td>4.5</td>\n",
       "      <td>215644</td>\n",
       "      <td>25M</td>\n",
       "      <td>50,000,000+</td>\n",
       "      <td>Free</td>\n",
       "      <td>0</td>\n",
       "      <td>Teen</td>\n",
       "      <td>Art &amp; Design</td>\n",
       "      <td>June 8, 2018</td>\n",
       "      <td>Varies with device</td>\n",
       "      <td>4.2 and up</td>\n",
       "    </tr>\n",
       "    <tr>\n",
       "      <th>4</th>\n",
       "      <td>Pixel Draw - Number Art Coloring Book</td>\n",
       "      <td>ART_AND_DESIGN</td>\n",
       "      <td>4.3</td>\n",
       "      <td>967</td>\n",
       "      <td>2.8M</td>\n",
       "      <td>100,000+</td>\n",
       "      <td>Free</td>\n",
       "      <td>0</td>\n",
       "      <td>Everyone</td>\n",
       "      <td>Art &amp; Design;Creativity</td>\n",
       "      <td>June 20, 2018</td>\n",
       "      <td>1.1</td>\n",
       "      <td>4.4 and up</td>\n",
       "    </tr>\n",
       "  </tbody>\n",
       "</table>\n",
       "</div>"
      ],
      "text/plain": [
       "                                                 App        Category  Rating  \\\n",
       "0     Photo Editor & Candy Camera & Grid & ScrapBook  ART_AND_DESIGN     4.1   \n",
       "1                                Coloring book moana  ART_AND_DESIGN     3.9   \n",
       "2  U Launcher Lite – FREE Live Cool Themes, Hide ...  ART_AND_DESIGN     4.7   \n",
       "3                              Sketch - Draw & Paint  ART_AND_DESIGN     4.5   \n",
       "4              Pixel Draw - Number Art Coloring Book  ART_AND_DESIGN     4.3   \n",
       "\n",
       "  Reviews  Size     Installs  Type Price Content Rating  \\\n",
       "0     159   19M      10,000+  Free     0       Everyone   \n",
       "1     967   14M     500,000+  Free     0       Everyone   \n",
       "2   87510  8.7M   5,000,000+  Free     0       Everyone   \n",
       "3  215644   25M  50,000,000+  Free     0           Teen   \n",
       "4     967  2.8M     100,000+  Free     0       Everyone   \n",
       "\n",
       "                      Genres      Last Updated         Current Ver  \\\n",
       "0               Art & Design   January 7, 2018               1.0.0   \n",
       "1  Art & Design;Pretend Play  January 15, 2018               2.0.0   \n",
       "2               Art & Design    August 1, 2018               1.2.4   \n",
       "3               Art & Design      June 8, 2018  Varies with device   \n",
       "4    Art & Design;Creativity     June 20, 2018                 1.1   \n",
       "\n",
       "    Android Ver  \n",
       "0  4.0.3 and up  \n",
       "1  4.0.3 and up  \n",
       "2  4.0.3 and up  \n",
       "3    4.2 and up  \n",
       "4    4.4 and up  "
      ]
     },
     "execution_count": 2,
     "metadata": {},
     "output_type": "execute_result"
    }
   ],
   "source": [
    "# load the feature data\n",
    "# df_feature = pd.read_csv('data/googleplaystore.csv', na_values = ['NaN', 'Varies with device'])\n",
    "df_feature = pd.read_csv('googleplaystore.csv')\n",
    "\n",
    "# sample feature data\n",
    "df_feature.head()"
   ]
  },
  {
   "cell_type": "code",
   "execution_count": 3,
   "id": "c6a22b55",
   "metadata": {
    "ExecuteTime": {
     "end_time": "2022-04-12T18:23:50.554962Z",
     "start_time": "2022-04-12T18:23:50.528875Z"
    }
   },
   "outputs": [
    {
     "name": "stdout",
     "output_type": "stream",
     "text": [
      "<class 'pandas.core.frame.DataFrame'>\n",
      "RangeIndex: 10841 entries, 0 to 10840\n",
      "Data columns (total 13 columns):\n",
      " #   Column          Non-Null Count  Dtype  \n",
      "---  ------          --------------  -----  \n",
      " 0   App             10841 non-null  object \n",
      " 1   Category        10841 non-null  object \n",
      " 2   Rating          9367 non-null   float64\n",
      " 3   Reviews         10841 non-null  object \n",
      " 4   Size            10841 non-null  object \n",
      " 5   Installs        10841 non-null  object \n",
      " 6   Type            10840 non-null  object \n",
      " 7   Price           10841 non-null  object \n",
      " 8   Content Rating  10840 non-null  object \n",
      " 9   Genres          10841 non-null  object \n",
      " 10  Last Updated    10841 non-null  object \n",
      " 11  Current Ver     10833 non-null  object \n",
      " 12  Android Ver     10838 non-null  object \n",
      "dtypes: float64(1), object(12)\n",
      "memory usage: 1.1+ MB\n"
     ]
    }
   ],
   "source": [
    "# observe the new dataframe details\n",
    "df_feature.info(verbose=True)"
   ]
  },
  {
   "cell_type": "code",
   "execution_count": 5,
   "id": "14e2e76e",
   "metadata": {
    "ExecuteTime": {
     "end_time": "2022-04-12T17:58:25.727983Z",
     "start_time": "2022-04-12T17:58:25.712034Z"
    }
   },
   "outputs": [
    {
     "data": {
      "text/plain": [
       "App                  0\n",
       "Category             0\n",
       "Rating            1474\n",
       "Reviews              0\n",
       "Size                 0\n",
       "Installs             0\n",
       "Type                 1\n",
       "Price                0\n",
       "Content Rating       1\n",
       "Genres               0\n",
       "Last Updated         0\n",
       "Current Ver          8\n",
       "Android Ver          3\n",
       "dtype: int64"
      ]
     },
     "execution_count": 5,
     "metadata": {},
     "output_type": "execute_result"
    }
   ],
   "source": [
    "# missing values\n",
    "df_feature.isna().sum()"
   ]
  },
  {
   "cell_type": "code",
   "execution_count": null,
   "id": "b7b7b492",
   "metadata": {},
   "outputs": [],
   "source": []
  },
  {
   "cell_type": "markdown",
   "id": "44f1907a",
   "metadata": {},
   "source": [
    "#### Review Data:"
   ]
  },
  {
   "cell_type": "code",
   "execution_count": 3,
   "id": "63251392",
   "metadata": {
    "ExecuteTime": {
     "end_time": "2022-04-12T18:28:09.054536Z",
     "start_time": "2022-04-12T18:28:08.956704Z"
    }
   },
   "outputs": [
    {
     "data": {
      "text/html": [
       "<div>\n",
       "<style scoped>\n",
       "    .dataframe tbody tr th:only-of-type {\n",
       "        vertical-align: middle;\n",
       "    }\n",
       "\n",
       "    .dataframe tbody tr th {\n",
       "        vertical-align: top;\n",
       "    }\n",
       "\n",
       "    .dataframe thead th {\n",
       "        text-align: right;\n",
       "    }\n",
       "</style>\n",
       "<table border=\"1\" class=\"dataframe\">\n",
       "  <thead>\n",
       "    <tr style=\"text-align: right;\">\n",
       "      <th></th>\n",
       "      <th>App</th>\n",
       "      <th>Translated_Review</th>\n",
       "      <th>Sentiment</th>\n",
       "      <th>Sentiment_Polarity</th>\n",
       "      <th>Sentiment_Subjectivity</th>\n",
       "    </tr>\n",
       "  </thead>\n",
       "  <tbody>\n",
       "    <tr>\n",
       "      <th>0</th>\n",
       "      <td>10 Best Foods for You</td>\n",
       "      <td>I like eat delicious food. That's I'm cooking ...</td>\n",
       "      <td>Positive</td>\n",
       "      <td>1.00</td>\n",
       "      <td>0.533333</td>\n",
       "    </tr>\n",
       "    <tr>\n",
       "      <th>1</th>\n",
       "      <td>10 Best Foods for You</td>\n",
       "      <td>This help eating healthy exercise regular basis</td>\n",
       "      <td>Positive</td>\n",
       "      <td>0.25</td>\n",
       "      <td>0.288462</td>\n",
       "    </tr>\n",
       "    <tr>\n",
       "      <th>2</th>\n",
       "      <td>10 Best Foods for You</td>\n",
       "      <td>NaN</td>\n",
       "      <td>NaN</td>\n",
       "      <td>NaN</td>\n",
       "      <td>NaN</td>\n",
       "    </tr>\n",
       "    <tr>\n",
       "      <th>3</th>\n",
       "      <td>10 Best Foods for You</td>\n",
       "      <td>Works great especially going grocery store</td>\n",
       "      <td>Positive</td>\n",
       "      <td>0.40</td>\n",
       "      <td>0.875000</td>\n",
       "    </tr>\n",
       "    <tr>\n",
       "      <th>4</th>\n",
       "      <td>10 Best Foods for You</td>\n",
       "      <td>Best idea us</td>\n",
       "      <td>Positive</td>\n",
       "      <td>1.00</td>\n",
       "      <td>0.300000</td>\n",
       "    </tr>\n",
       "  </tbody>\n",
       "</table>\n",
       "</div>"
      ],
      "text/plain": [
       "                     App                                  Translated_Review  \\\n",
       "0  10 Best Foods for You  I like eat delicious food. That's I'm cooking ...   \n",
       "1  10 Best Foods for You    This help eating healthy exercise regular basis   \n",
       "2  10 Best Foods for You                                                NaN   \n",
       "3  10 Best Foods for You         Works great especially going grocery store   \n",
       "4  10 Best Foods for You                                       Best idea us   \n",
       "\n",
       "  Sentiment  Sentiment_Polarity  Sentiment_Subjectivity  \n",
       "0  Positive                1.00                0.533333  \n",
       "1  Positive                0.25                0.288462  \n",
       "2       NaN                 NaN                     NaN  \n",
       "3  Positive                0.40                0.875000  \n",
       "4  Positive                1.00                0.300000  "
      ]
     },
     "execution_count": 3,
     "metadata": {},
     "output_type": "execute_result"
    }
   ],
   "source": [
    "# load the review data\n",
    "# df_review = pd.read_csv('data/googleplaystore_user_reviews.csv', na_values = ['nan'])\n",
    "df_review=pd.read_csv('googleplaystore_user_reviews.csv')\n",
    "\n",
    "# sample review data\n",
    "df_review.head()"
   ]
  },
  {
   "cell_type": "code",
   "execution_count": 7,
   "id": "14d5b426",
   "metadata": {
    "ExecuteTime": {
     "end_time": "2022-04-12T17:58:29.698878Z",
     "start_time": "2022-04-12T17:58:29.673911Z"
    }
   },
   "outputs": [
    {
     "name": "stdout",
     "output_type": "stream",
     "text": [
      "<class 'pandas.core.frame.DataFrame'>\n",
      "RangeIndex: 64295 entries, 0 to 64294\n",
      "Data columns (total 5 columns):\n",
      " #   Column                  Non-Null Count  Dtype  \n",
      "---  ------                  --------------  -----  \n",
      " 0   App                     64295 non-null  object \n",
      " 1   Translated_Review       37427 non-null  object \n",
      " 2   Sentiment               37432 non-null  object \n",
      " 3   Sentiment_Polarity      37432 non-null  float64\n",
      " 4   Sentiment_Subjectivity  37432 non-null  float64\n",
      "dtypes: float64(2), object(3)\n",
      "memory usage: 2.5+ MB\n"
     ]
    }
   ],
   "source": [
    "# observe the new dataframe details\n",
    "df_review.info(verbose=True)\n",
    "\n",
    "# Observations (Gaia): the last three column are very consistent. Interesting to notice that there are 5 translated reviews\n",
    "# less than the sentiment columns values, and yet still those 5 non-existent reviews have been evaluated. How is it possible?"
   ]
  },
  {
   "cell_type": "code",
   "execution_count": 8,
   "id": "74c43c93",
   "metadata": {
    "ExecuteTime": {
     "end_time": "2022-04-12T17:58:32.010589Z",
     "start_time": "2022-04-12T17:58:31.989378Z"
    }
   },
   "outputs": [
    {
     "data": {
      "text/plain": [
       "App                           0\n",
       "Translated_Review         26868\n",
       "Sentiment                 26863\n",
       "Sentiment_Polarity        26863\n",
       "Sentiment_Subjectivity    26863\n",
       "dtype: int64"
      ]
     },
     "execution_count": 8,
     "metadata": {},
     "output_type": "execute_result"
    }
   ],
   "source": [
    "# missing values\n",
    "df_review.isna().sum()"
   ]
  },
  {
   "cell_type": "code",
   "execution_count": null,
   "id": "422b4986",
   "metadata": {},
   "outputs": [],
   "source": []
  },
  {
   "cell_type": "code",
   "execution_count": null,
   "id": "d37e4a5d",
   "metadata": {},
   "outputs": [],
   "source": [
    "# THIS CODE CAN BE USED AFTER DATA CLEANING, DO NOT RUN FOR NOW\n",
    "\n",
    "# save raw data for emergency uses\n",
    "if not os.path.exists('data'):\n",
    "    os.mkdir('data')\n",
    "df_feature.to_csv(os.path.join('data', 'raw_feature.csv'), encoding='utf-8-sig')\n",
    "df_review.to_csv(os.path.join('data', 'raw_review.csv'), encoding='utf-8-sig')"
   ]
  },
  {
   "cell_type": "markdown",
   "id": "50402843",
   "metadata": {},
   "source": [
    "## 3) Data Conversion and Feature Split\n",
    "We rename columns as code friendly for easier access. We will convert the 'object' type columns into str or numeric to perform imputation later by splitting the columns with multiple meaningful contents into separate columns."
   ]
  },
  {
   "cell_type": "code",
   "execution_count": 4,
   "id": "15248fe0",
   "metadata": {
    "ExecuteTime": {
     "end_time": "2022-04-12T18:28:12.857475Z",
     "start_time": "2022-04-12T18:28:12.850934Z"
    }
   },
   "outputs": [
    {
     "name": "stdout",
     "output_type": "stream",
     "text": [
      "Feature: app, category, rating, reviews, size, installs, type, price, content_rating, genres, last_updated, current_ver, android_ver\n",
      "Review: app, translated_review, sentiment, sentiment_polarity, sentiment_subjectivity\n"
     ]
    }
   ],
   "source": [
    "# rename columns to remove spaces\n",
    "df_feature.columns = df_feature.columns.str.lower().str.replace(' ','_')\n",
    "df_review.columns = df_review.columns.str.lower().str.replace(' ','_')\n",
    "\n",
    "# show new column names\n",
    "print(\"Feature:\", end=\" \")\n",
    "print(*df_feature.columns.values, sep = \", \", end=\"\\n\")\n",
    "print(\"Review:\", end=\" \")\n",
    "print(*df_review.columns.values, sep = \", \", end=\"\\n\")"
   ]
  },
  {
   "cell_type": "markdown",
   "id": "f36b5eed",
   "metadata": {},
   "source": [
    "### 3.1) Feature Data\n",
    "\n",
    "#### Category: (Gaia)"
   ]
  },
  {
   "cell_type": "code",
   "execution_count": null,
   "id": "598e66b7",
   "metadata": {},
   "outputs": [],
   "source": [
    "# no need for modification - it's already str"
   ]
  },
  {
   "cell_type": "markdown",
   "id": "df0447cb",
   "metadata": {},
   "source": [
    "#### Rating: (Gaia)"
   ]
  },
  {
   "cell_type": "code",
   "execution_count": null,
   "id": "c892257e",
   "metadata": {},
   "outputs": [],
   "source": [
    "# no need for modification - it's already a float"
   ]
  },
  {
   "cell_type": "markdown",
   "id": "afaa6d51",
   "metadata": {},
   "source": [
    "#### Reviews: (Gaia)"
   ]
  },
  {
   "cell_type": "code",
   "execution_count": 12,
   "id": "9d5c6d9c",
   "metadata": {
    "ExecuteTime": {
     "end_time": "2022-04-12T17:59:16.763605Z",
     "start_time": "2022-04-12T17:59:16.738557Z"
    }
   },
   "outputs": [
    {
     "name": "stdout",
     "output_type": "stream",
     "text": [
      "<class 'pandas.core.series.Series'>\n",
      "RangeIndex: 10841 entries, 0 to 10840\n",
      "Series name: reviews\n",
      "Non-Null Count  Dtype  \n",
      "--------------  -----  \n",
      "10840 non-null  float64\n",
      "dtypes: float64(1)\n",
      "memory usage: 84.8 KB\n"
     ]
    }
   ],
   "source": [
    "df_feature.reviews = df_feature.reviews.apply(pd.to_numeric, errors='coerce')\n",
    "df_feature.reviews.info()"
   ]
  },
  {
   "cell_type": "markdown",
   "id": "03e52824",
   "metadata": {},
   "source": [
    "#### Size: (Gaia)"
   ]
  },
  {
   "cell_type": "code",
   "execution_count": 24,
   "id": "319f322d",
   "metadata": {
    "ExecuteTime": {
     "end_time": "2022-04-12T13:33:01.617238Z",
     "start_time": "2022-04-12T13:33:01.611886Z"
    }
   },
   "outputs": [
    {
     "data": {
      "text/plain": [
       "numpy.int64"
      ]
     },
     "execution_count": 24,
     "metadata": {},
     "output_type": "execute_result"
    }
   ],
   "source": [
    "type(df_feature.size)\n",
    "#df_feature.size = df_feature.size.apply(pd.to_numeric, errors='coerce')"
   ]
  },
  {
   "cell_type": "markdown",
   "id": "e315d923",
   "metadata": {},
   "source": [
    "#### Installs: (Gaia)"
   ]
  },
  {
   "cell_type": "code",
   "execution_count": 18,
   "id": "1c1ac662",
   "metadata": {
    "ExecuteTime": {
     "end_time": "2022-04-12T18:00:43.647622Z",
     "start_time": "2022-04-12T18:00:42.865101Z"
    }
   },
   "outputs": [
    {
     "ename": "ValueError",
     "evalue": "invalid literal for int() with base 10: 'Free'",
     "output_type": "error",
     "traceback": [
      "\u001b[0;31m---------------------------------------------------------------------------\u001b[0m",
      "\u001b[0;31mValueError\u001b[0m                                Traceback (most recent call last)",
      "Input \u001b[0;32mIn [18]\u001b[0m, in \u001b[0;36m<module>\u001b[0;34m\u001b[0m\n\u001b[1;32m      1\u001b[0m \u001b[38;5;66;03m# replace plus sign and comma with empty to remove it\u001b[39;00m\n\u001b[1;32m      2\u001b[0m df_feature\u001b[38;5;241m.\u001b[39minstalls \u001b[38;5;241m=\u001b[39m df_feature\u001b[38;5;241m.\u001b[39minstalls\u001b[38;5;241m.\u001b[39mreplace((\u001b[38;5;124m'\u001b[39m\u001b[38;5;124m\\\u001b[39m\u001b[38;5;124m+|,|\u001b[39m\u001b[38;5;124m'\u001b[39m), \u001b[38;5;124m'\u001b[39m\u001b[38;5;124m'\u001b[39m, regex\u001b[38;5;241m=\u001b[39m\u001b[38;5;28;01mTrue\u001b[39;00m) \u001b[38;5;66;03m#now it's still a string\u001b[39;00m\n\u001b[0;32m----> 3\u001b[0m df_feature\u001b[38;5;241m.\u001b[39minstalls\u001b[38;5;241m=\u001b[39m \u001b[43mdf_feature\u001b[49m\u001b[38;5;241;43m.\u001b[39;49m\u001b[43minstalls\u001b[49m\u001b[38;5;241;43m.\u001b[39;49m\u001b[43mastype\u001b[49m\u001b[43m(\u001b[49m\u001b[38;5;28;43mint\u001b[39;49m\u001b[43m)\u001b[49m\n\u001b[1;32m      4\u001b[0m \u001b[38;5;66;03m# recheck the previous samples\u001b[39;00m\n\u001b[1;32m      5\u001b[0m \u001b[38;5;66;03m#df_feature.loc[474:478]\u001b[39;00m\n\u001b[1;32m      6\u001b[0m df_feature\u001b[38;5;241m.\u001b[39minstalls\u001b[38;5;241m.\u001b[39minfo()\n",
      "File \u001b[0;32m~/miniconda3/lib/python3.9/site-packages/pandas/core/generic.py:5920\u001b[0m, in \u001b[0;36mNDFrame.astype\u001b[0;34m(self, dtype, copy, errors)\u001b[0m\n\u001b[1;32m   5913\u001b[0m     results \u001b[38;5;241m=\u001b[39m [\n\u001b[1;32m   5914\u001b[0m         \u001b[38;5;28mself\u001b[39m\u001b[38;5;241m.\u001b[39miloc[:, i]\u001b[38;5;241m.\u001b[39mastype(dtype, copy\u001b[38;5;241m=\u001b[39mcopy)\n\u001b[1;32m   5915\u001b[0m         \u001b[38;5;28;01mfor\u001b[39;00m i \u001b[38;5;129;01min\u001b[39;00m \u001b[38;5;28mrange\u001b[39m(\u001b[38;5;28mlen\u001b[39m(\u001b[38;5;28mself\u001b[39m\u001b[38;5;241m.\u001b[39mcolumns))\n\u001b[1;32m   5916\u001b[0m     ]\n\u001b[1;32m   5918\u001b[0m \u001b[38;5;28;01melse\u001b[39;00m:\n\u001b[1;32m   5919\u001b[0m     \u001b[38;5;66;03m# else, only a single dtype is given\u001b[39;00m\n\u001b[0;32m-> 5920\u001b[0m     new_data \u001b[38;5;241m=\u001b[39m \u001b[38;5;28;43mself\u001b[39;49m\u001b[38;5;241;43m.\u001b[39;49m\u001b[43m_mgr\u001b[49m\u001b[38;5;241;43m.\u001b[39;49m\u001b[43mastype\u001b[49m\u001b[43m(\u001b[49m\u001b[43mdtype\u001b[49m\u001b[38;5;241;43m=\u001b[39;49m\u001b[43mdtype\u001b[49m\u001b[43m,\u001b[49m\u001b[43m \u001b[49m\u001b[43mcopy\u001b[49m\u001b[38;5;241;43m=\u001b[39;49m\u001b[43mcopy\u001b[49m\u001b[43m,\u001b[49m\u001b[43m \u001b[49m\u001b[43merrors\u001b[49m\u001b[38;5;241;43m=\u001b[39;49m\u001b[43merrors\u001b[49m\u001b[43m)\u001b[49m\n\u001b[1;32m   5921\u001b[0m     \u001b[38;5;28;01mreturn\u001b[39;00m \u001b[38;5;28mself\u001b[39m\u001b[38;5;241m.\u001b[39m_constructor(new_data)\u001b[38;5;241m.\u001b[39m__finalize__(\u001b[38;5;28mself\u001b[39m, method\u001b[38;5;241m=\u001b[39m\u001b[38;5;124m\"\u001b[39m\u001b[38;5;124mastype\u001b[39m\u001b[38;5;124m\"\u001b[39m)\n\u001b[1;32m   5923\u001b[0m \u001b[38;5;66;03m# GH 33113: handle empty frame or series\u001b[39;00m\n",
      "File \u001b[0;32m~/miniconda3/lib/python3.9/site-packages/pandas/core/internals/managers.py:419\u001b[0m, in \u001b[0;36mBaseBlockManager.astype\u001b[0;34m(self, dtype, copy, errors)\u001b[0m\n\u001b[1;32m    418\u001b[0m \u001b[38;5;28;01mdef\u001b[39;00m \u001b[38;5;21mastype\u001b[39m(\u001b[38;5;28mself\u001b[39m: T, dtype, copy: \u001b[38;5;28mbool\u001b[39m \u001b[38;5;241m=\u001b[39m \u001b[38;5;28;01mFalse\u001b[39;00m, errors: \u001b[38;5;28mstr\u001b[39m \u001b[38;5;241m=\u001b[39m \u001b[38;5;124m\"\u001b[39m\u001b[38;5;124mraise\u001b[39m\u001b[38;5;124m\"\u001b[39m) \u001b[38;5;241m-\u001b[39m\u001b[38;5;241m>\u001b[39m T:\n\u001b[0;32m--> 419\u001b[0m     \u001b[38;5;28;01mreturn\u001b[39;00m \u001b[38;5;28;43mself\u001b[39;49m\u001b[38;5;241;43m.\u001b[39;49m\u001b[43mapply\u001b[49m\u001b[43m(\u001b[49m\u001b[38;5;124;43m\"\u001b[39;49m\u001b[38;5;124;43mastype\u001b[39;49m\u001b[38;5;124;43m\"\u001b[39;49m\u001b[43m,\u001b[49m\u001b[43m \u001b[49m\u001b[43mdtype\u001b[49m\u001b[38;5;241;43m=\u001b[39;49m\u001b[43mdtype\u001b[49m\u001b[43m,\u001b[49m\u001b[43m \u001b[49m\u001b[43mcopy\u001b[49m\u001b[38;5;241;43m=\u001b[39;49m\u001b[43mcopy\u001b[49m\u001b[43m,\u001b[49m\u001b[43m \u001b[49m\u001b[43merrors\u001b[49m\u001b[38;5;241;43m=\u001b[39;49m\u001b[43merrors\u001b[49m\u001b[43m)\u001b[49m\n",
      "File \u001b[0;32m~/miniconda3/lib/python3.9/site-packages/pandas/core/internals/managers.py:304\u001b[0m, in \u001b[0;36mBaseBlockManager.apply\u001b[0;34m(self, f, align_keys, ignore_failures, **kwargs)\u001b[0m\n\u001b[1;32m    302\u001b[0m         applied \u001b[38;5;241m=\u001b[39m b\u001b[38;5;241m.\u001b[39mapply(f, \u001b[38;5;241m*\u001b[39m\u001b[38;5;241m*\u001b[39mkwargs)\n\u001b[1;32m    303\u001b[0m     \u001b[38;5;28;01melse\u001b[39;00m:\n\u001b[0;32m--> 304\u001b[0m         applied \u001b[38;5;241m=\u001b[39m \u001b[38;5;28;43mgetattr\u001b[39;49m\u001b[43m(\u001b[49m\u001b[43mb\u001b[49m\u001b[43m,\u001b[49m\u001b[43m \u001b[49m\u001b[43mf\u001b[49m\u001b[43m)\u001b[49m\u001b[43m(\u001b[49m\u001b[38;5;241;43m*\u001b[39;49m\u001b[38;5;241;43m*\u001b[39;49m\u001b[43mkwargs\u001b[49m\u001b[43m)\u001b[49m\n\u001b[1;32m    305\u001b[0m \u001b[38;5;28;01mexcept\u001b[39;00m (\u001b[38;5;167;01mTypeError\u001b[39;00m, \u001b[38;5;167;01mNotImplementedError\u001b[39;00m):\n\u001b[1;32m    306\u001b[0m     \u001b[38;5;28;01mif\u001b[39;00m \u001b[38;5;129;01mnot\u001b[39;00m ignore_failures:\n",
      "File \u001b[0;32m~/miniconda3/lib/python3.9/site-packages/pandas/core/internals/blocks.py:580\u001b[0m, in \u001b[0;36mBlock.astype\u001b[0;34m(self, dtype, copy, errors)\u001b[0m\n\u001b[1;32m    562\u001b[0m \u001b[38;5;124;03m\"\"\"\u001b[39;00m\n\u001b[1;32m    563\u001b[0m \u001b[38;5;124;03mCoerce to the new dtype.\u001b[39;00m\n\u001b[1;32m    564\u001b[0m \n\u001b[0;32m   (...)\u001b[0m\n\u001b[1;32m    576\u001b[0m \u001b[38;5;124;03mBlock\u001b[39;00m\n\u001b[1;32m    577\u001b[0m \u001b[38;5;124;03m\"\"\"\u001b[39;00m\n\u001b[1;32m    578\u001b[0m values \u001b[38;5;241m=\u001b[39m \u001b[38;5;28mself\u001b[39m\u001b[38;5;241m.\u001b[39mvalues\n\u001b[0;32m--> 580\u001b[0m new_values \u001b[38;5;241m=\u001b[39m \u001b[43mastype_array_safe\u001b[49m\u001b[43m(\u001b[49m\u001b[43mvalues\u001b[49m\u001b[43m,\u001b[49m\u001b[43m \u001b[49m\u001b[43mdtype\u001b[49m\u001b[43m,\u001b[49m\u001b[43m \u001b[49m\u001b[43mcopy\u001b[49m\u001b[38;5;241;43m=\u001b[39;49m\u001b[43mcopy\u001b[49m\u001b[43m,\u001b[49m\u001b[43m \u001b[49m\u001b[43merrors\u001b[49m\u001b[38;5;241;43m=\u001b[39;49m\u001b[43merrors\u001b[49m\u001b[43m)\u001b[49m\n\u001b[1;32m    582\u001b[0m new_values \u001b[38;5;241m=\u001b[39m maybe_coerce_values(new_values)\n\u001b[1;32m    583\u001b[0m newb \u001b[38;5;241m=\u001b[39m \u001b[38;5;28mself\u001b[39m\u001b[38;5;241m.\u001b[39mmake_block(new_values)\n",
      "File \u001b[0;32m~/miniconda3/lib/python3.9/site-packages/pandas/core/dtypes/cast.py:1292\u001b[0m, in \u001b[0;36mastype_array_safe\u001b[0;34m(values, dtype, copy, errors)\u001b[0m\n\u001b[1;32m   1289\u001b[0m     dtype \u001b[38;5;241m=\u001b[39m dtype\u001b[38;5;241m.\u001b[39mnumpy_dtype\n\u001b[1;32m   1291\u001b[0m \u001b[38;5;28;01mtry\u001b[39;00m:\n\u001b[0;32m-> 1292\u001b[0m     new_values \u001b[38;5;241m=\u001b[39m \u001b[43mastype_array\u001b[49m\u001b[43m(\u001b[49m\u001b[43mvalues\u001b[49m\u001b[43m,\u001b[49m\u001b[43m \u001b[49m\u001b[43mdtype\u001b[49m\u001b[43m,\u001b[49m\u001b[43m \u001b[49m\u001b[43mcopy\u001b[49m\u001b[38;5;241;43m=\u001b[39;49m\u001b[43mcopy\u001b[49m\u001b[43m)\u001b[49m\n\u001b[1;32m   1293\u001b[0m \u001b[38;5;28;01mexcept\u001b[39;00m (\u001b[38;5;167;01mValueError\u001b[39;00m, \u001b[38;5;167;01mTypeError\u001b[39;00m):\n\u001b[1;32m   1294\u001b[0m     \u001b[38;5;66;03m# e.g. astype_nansafe can fail on object-dtype of strings\u001b[39;00m\n\u001b[1;32m   1295\u001b[0m     \u001b[38;5;66;03m#  trying to convert to float\u001b[39;00m\n\u001b[1;32m   1296\u001b[0m     \u001b[38;5;28;01mif\u001b[39;00m errors \u001b[38;5;241m==\u001b[39m \u001b[38;5;124m\"\u001b[39m\u001b[38;5;124mignore\u001b[39m\u001b[38;5;124m\"\u001b[39m:\n",
      "File \u001b[0;32m~/miniconda3/lib/python3.9/site-packages/pandas/core/dtypes/cast.py:1237\u001b[0m, in \u001b[0;36mastype_array\u001b[0;34m(values, dtype, copy)\u001b[0m\n\u001b[1;32m   1234\u001b[0m     values \u001b[38;5;241m=\u001b[39m values\u001b[38;5;241m.\u001b[39mastype(dtype, copy\u001b[38;5;241m=\u001b[39mcopy)\n\u001b[1;32m   1236\u001b[0m \u001b[38;5;28;01melse\u001b[39;00m:\n\u001b[0;32m-> 1237\u001b[0m     values \u001b[38;5;241m=\u001b[39m \u001b[43mastype_nansafe\u001b[49m\u001b[43m(\u001b[49m\u001b[43mvalues\u001b[49m\u001b[43m,\u001b[49m\u001b[43m \u001b[49m\u001b[43mdtype\u001b[49m\u001b[43m,\u001b[49m\u001b[43m \u001b[49m\u001b[43mcopy\u001b[49m\u001b[38;5;241;43m=\u001b[39;49m\u001b[43mcopy\u001b[49m\u001b[43m)\u001b[49m\n\u001b[1;32m   1239\u001b[0m \u001b[38;5;66;03m# in pandas we don't store numpy str dtypes, so convert to object\u001b[39;00m\n\u001b[1;32m   1240\u001b[0m \u001b[38;5;28;01mif\u001b[39;00m \u001b[38;5;28misinstance\u001b[39m(dtype, np\u001b[38;5;241m.\u001b[39mdtype) \u001b[38;5;129;01mand\u001b[39;00m \u001b[38;5;28missubclass\u001b[39m(values\u001b[38;5;241m.\u001b[39mdtype\u001b[38;5;241m.\u001b[39mtype, \u001b[38;5;28mstr\u001b[39m):\n",
      "File \u001b[0;32m~/miniconda3/lib/python3.9/site-packages/pandas/core/dtypes/cast.py:1154\u001b[0m, in \u001b[0;36mastype_nansafe\u001b[0;34m(arr, dtype, copy, skipna)\u001b[0m\n\u001b[1;32m   1150\u001b[0m \u001b[38;5;28;01melif\u001b[39;00m is_object_dtype(arr\u001b[38;5;241m.\u001b[39mdtype):\n\u001b[1;32m   1151\u001b[0m \n\u001b[1;32m   1152\u001b[0m     \u001b[38;5;66;03m# work around NumPy brokenness, #1987\u001b[39;00m\n\u001b[1;32m   1153\u001b[0m     \u001b[38;5;28;01mif\u001b[39;00m np\u001b[38;5;241m.\u001b[39missubdtype(dtype\u001b[38;5;241m.\u001b[39mtype, np\u001b[38;5;241m.\u001b[39minteger):\n\u001b[0;32m-> 1154\u001b[0m         \u001b[38;5;28;01mreturn\u001b[39;00m \u001b[43mlib\u001b[49m\u001b[38;5;241;43m.\u001b[39;49m\u001b[43mastype_intsafe\u001b[49m\u001b[43m(\u001b[49m\u001b[43marr\u001b[49m\u001b[43m,\u001b[49m\u001b[43m \u001b[49m\u001b[43mdtype\u001b[49m\u001b[43m)\u001b[49m\n\u001b[1;32m   1156\u001b[0m     \u001b[38;5;66;03m# if we have a datetime/timedelta array of objects\u001b[39;00m\n\u001b[1;32m   1157\u001b[0m     \u001b[38;5;66;03m# then coerce to a proper dtype and recall astype_nansafe\u001b[39;00m\n\u001b[1;32m   1159\u001b[0m     \u001b[38;5;28;01melif\u001b[39;00m is_datetime64_dtype(dtype):\n",
      "File \u001b[0;32m~/miniconda3/lib/python3.9/site-packages/pandas/_libs/lib.pyx:668\u001b[0m, in \u001b[0;36mpandas._libs.lib.astype_intsafe\u001b[0;34m()\u001b[0m\n",
      "\u001b[0;31mValueError\u001b[0m: invalid literal for int() with base 10: 'Free'"
     ]
    }
   ],
   "source": [
    "# replace plus sign and comma with empty to remove it\n",
    "df_feature.installs = df_feature.installs.replace(('\\+|,|'), '', regex=True) #now it's still a string\n",
    "df_feature.installs= df_feature.installs.astype(int)\n",
    "# recheck the previous samples\n",
    "#df_feature.loc[474:478]\n",
    "df_feature.installs.info()"
   ]
  },
  {
   "cell_type": "markdown",
   "id": "597b65dc",
   "metadata": {},
   "source": [
    "#### Type: (Gaia)"
   ]
  },
  {
   "cell_type": "code",
   "execution_count": null,
   "id": "a878ab07",
   "metadata": {},
   "outputs": [],
   "source": [
    "# no need for modification - it's already a str"
   ]
  },
  {
   "cell_type": "markdown",
   "id": "6cb15364",
   "metadata": {},
   "source": [
    "#### Price: (Beste)\n",
    "All price information include a numeric value and the currency sign. Thus, we will remove the currency sign and set the price information as float."
   ]
  },
  {
   "cell_type": "code",
   "execution_count": null,
   "id": "782806d6",
   "metadata": {},
   "outputs": [],
   "source": []
  },
  {
   "cell_type": "markdown",
   "id": "dab8ec7e",
   "metadata": {},
   "source": [
    "#### Content Rating: (Beste)"
   ]
  },
  {
   "cell_type": "code",
   "execution_count": null,
   "id": "64282b57",
   "metadata": {},
   "outputs": [],
   "source": []
  },
  {
   "cell_type": "markdown",
   "id": "2770132c",
   "metadata": {},
   "source": [
    "#### Genres: (Beste)\n",
    "Since the genre includes one or more categories, we will split the column to be able to use these categorical tags. "
   ]
  },
  {
   "cell_type": "code",
   "execution_count": null,
   "id": "3369e57f",
   "metadata": {},
   "outputs": [],
   "source": []
  },
  {
   "cell_type": "markdown",
   "id": "2b6f6177",
   "metadata": {},
   "source": [
    "#### Last Updated: (Beste)"
   ]
  },
  {
   "cell_type": "code",
   "execution_count": null,
   "id": "f9158910",
   "metadata": {},
   "outputs": [],
   "source": []
  },
  {
   "cell_type": "markdown",
   "id": "2b6de4e0",
   "metadata": {},
   "source": [
    "#### Current Version: (Beste)"
   ]
  },
  {
   "cell_type": "code",
   "execution_count": null,
   "id": "4ec8e706",
   "metadata": {},
   "outputs": [],
   "source": []
  },
  {
   "cell_type": "markdown",
   "id": "d5a6cf90",
   "metadata": {},
   "source": [
    "#### Android Version: (Beste)"
   ]
  },
  {
   "cell_type": "code",
   "execution_count": null,
   "id": "52cee588",
   "metadata": {},
   "outputs": [],
   "source": []
  },
  {
   "cell_type": "markdown",
   "id": "994d534a",
   "metadata": {},
   "source": [
    "### 3.2) Review Data\n",
    "\n",
    "#### Translated Review: (Gaia)"
   ]
  },
  {
   "cell_type": "code",
   "execution_count": null,
   "id": "a01b8ff7",
   "metadata": {},
   "outputs": [],
   "source": [
    "#no need for modification"
   ]
  },
  {
   "cell_type": "markdown",
   "id": "27f68ea6",
   "metadata": {},
   "source": [
    "#### Sentiment: (Gaia)"
   ]
  },
  {
   "cell_type": "code",
   "execution_count": null,
   "id": "9184d3b9",
   "metadata": {},
   "outputs": [],
   "source": [
    "#no need for modification"
   ]
  },
  {
   "cell_type": "markdown",
   "id": "19862f44",
   "metadata": {},
   "source": [
    "#### Sentiment Polarity: (Beste)"
   ]
  },
  {
   "cell_type": "code",
   "execution_count": null,
   "id": "30a5efa6",
   "metadata": {},
   "outputs": [],
   "source": []
  },
  {
   "cell_type": "markdown",
   "id": "de8fcd8e",
   "metadata": {},
   "source": [
    "#### Sentiment Subjectivity: (Beste)"
   ]
  },
  {
   "cell_type": "code",
   "execution_count": null,
   "id": "e68610fc",
   "metadata": {},
   "outputs": [],
   "source": []
  },
  {
   "cell_type": "code",
   "execution_count": null,
   "id": "d9cf11cf",
   "metadata": {},
   "outputs": [],
   "source": [
    "# ONLY CONVERSION OF OBJECT TO NUMERIC OR STR, NO SPLIT OR DROP HERE\n",
    "# numeric conversion of numeric data, reassign nonnumeric values as NaN\n",
    "''' an example of numeric column conversion while keeping nonnumeric as NaN with coerce \n",
    "num_cols = [\"eps\",\"user\"]\n",
    "df[num_cols] = df[num_cols].apply(pd.to_numeric, errors='coerce')'''\n",
    "\n",
    "# CODE HERE\n",
    "\n",
    "# string conversion of text data or numeric data with additional text (astype str)\n",
    "\n",
    "# CODE HERE"
   ]
  },
  {
   "cell_type": "markdown",
   "id": "8446b12b",
   "metadata": {},
   "source": [
    "## 4) Data Imputation\n",
    "We check the initial empty cell rates per column within the data frame for further operations."
   ]
  },
  {
   "cell_type": "code",
   "execution_count": 19,
   "id": "8942634d",
   "metadata": {
    "ExecuteTime": {
     "end_time": "2022-04-12T18:01:18.771642Z",
     "start_time": "2022-04-12T18:01:17.942300Z"
    }
   },
   "outputs": [
    {
     "data": {
      "text/plain": [
       "<AxesSubplot:>"
      ]
     },
     "execution_count": 19,
     "metadata": {},
     "output_type": "execute_result"
    },
    {
     "data": {
      "image/png": "[encoded data removed]",
      "text/plain": [
       "<Figure size 1800x720 with 2 Axes>"
      ]
     },
     "metadata": {
      "needs_background": "light"
     },
     "output_type": "display_data"
    },
    {
     "data": {
      "image/png": "[encoded data removed]",
      "text/plain": [
       "<Figure size 1800x720 with 2 Axes>"
      ]
     },
     "metadata": {
      "needs_background": "light"
     },
     "output_type": "display_data"
    }
   ],
   "source": [
    "# using missingno library to review missing values\n",
    "\n",
    "ms.matrix(df_feature)\n",
    "ms.matrix(df_review)"
   ]
  },
  {
   "cell_type": "code",
   "execution_count": 13,
   "id": "1eb58814",
   "metadata": {},
   "outputs": [],
   "source": [
    "# Additional plotting to see missing value percentage by columns\n",
    "\n",
    "# TODO: parametrize the text alignment and graph colors\n",
    "def findEmpty(df):\n",
    "    percentages = []\n",
    "    labels = []\n",
    "    str_ = \"\"\n",
    "\n",
    "    # iterate over data\n",
    "    for col in df.columns:\n",
    "        # percentage of null cells in the whole column\n",
    "        p_missing = np.mean(df[col].isnull())\n",
    "        # sum of null cells in the whole column\n",
    "        missing = df[col].isnull().sum()\n",
    "        percentages.append(p_missing*100)\n",
    "        labels.append(col)\n",
    "        # generate a string to print out results with numbers\n",
    "        if(missing):\n",
    "            str_ += \"\\n\" + col + \" - \" + str(missing) + \" / \" + str(len(df[col]))\n",
    "    return percentages, labels, str_\n",
    "\n",
    "def plotEmpty(names, *dfs):\n",
    "    # common plot calls\n",
    "    text_kwargs = dict(ha='left', va='top', fontsize=12)\n",
    "    plt.figure(num=None, figsize=(len(dfs)*6, 4))\n",
    "    \n",
    "    # color list to change color on each graph\n",
    "    colors = ['skyblue','teal','pink','turquoise','maroon','navyblue']\n",
    "    \n",
    "    for idx, df in enumerate(dfs):\n",
    "        percentages, labels, str_ = findEmpty(df)\n",
    "        \n",
    "        # plot results with bar plot\n",
    "        ticks = list(range(1, len(labels)+1))\n",
    "        plt.subplot(1, len(dfs), idx+1)\n",
    "        plt.bar(ticks, percentages, color=colors[idx])\n",
    "        plt.xticks(ticks, labels, rotation=75)\n",
    "        plt.ylim(0, 120)\n",
    "        plt.text(0.5, 125, str_, **text_kwargs)\n",
    "        for index, value in enumerate(percentages):\n",
    "            plt.text(index+1, value, str(int(value)), ha='center', va='bottom')\n",
    "        plt.ylabel('Percentages')\n",
    "        plt.title(names[idx]+' Empty Cell Percentages')\n",
    "        \n",
    "    plt.show()"
   ]
  },
  {
   "cell_type": "code",
   "execution_count": 14,
   "id": "662fbbd7",
   "metadata": {},
   "outputs": [
    {
     "data": {
      "image/png": "[encoded data removed]",
      "text/plain": [
       "<Figure size 864x288 with 2 Axes>"
      ]
     },
     "metadata": {
      "needs_background": "light"
     },
     "output_type": "display_data"
    }
   ],
   "source": [
    "# plot empty columns of datasets\n",
    "plotEmpty([\"Feature\", \"Review\"], df_feature, df_review)"
   ]
  },
  {
   "cell_type": "markdown",
   "id": "8855c870",
   "metadata": {},
   "source": [
    "We may now fill NaN values with column specific solutions. \n",
    "\n",
    "### 4.1) Feature Data"
   ]
  },
  {
   "cell_type": "code",
   "execution_count": 15,
   "id": "099314f0",
   "metadata": {},
   "outputs": [
    {
     "data": {
      "text/plain": [
       "array([   15,    23,   113, ..., 10831, 10835, 10838], dtype=int64)"
      ]
     },
     "execution_count": 15,
     "metadata": {},
     "output_type": "execute_result"
    }
   ],
   "source": [
    "# check some sample row locations for empty cells to view: np.where(df_feature.isnull())\n",
    "np.unique(np.where(df_feature.isnull())[0])"
   ]
  },
  {
   "cell_type": "code",
   "execution_count": 16,
   "id": "b6501007",
   "metadata": {},
   "outputs": [
    {
     "data": {
      "text/html": [
       "<div>\n",
       "<style scoped>\n",
       "    .dataframe tbody tr th:only-of-type {\n",
       "        vertical-align: middle;\n",
       "    }\n",
       "\n",
       "    .dataframe tbody tr th {\n",
       "        vertical-align: top;\n",
       "    }\n",
       "\n",
       "    .dataframe thead th {\n",
       "        text-align: right;\n",
       "    }\n",
       "</style>\n",
       "<table border=\"1\" class=\"dataframe\">\n",
       "  <thead>\n",
       "    <tr style=\"text-align: right;\">\n",
       "      <th></th>\n",
       "      <th>app</th>\n",
       "      <th>category</th>\n",
       "      <th>rating</th>\n",
       "      <th>reviews</th>\n",
       "      <th>size</th>\n",
       "      <th>installs</th>\n",
       "      <th>type</th>\n",
       "      <th>price</th>\n",
       "      <th>content_rating</th>\n",
       "      <th>genres</th>\n",
       "      <th>last_updated</th>\n",
       "      <th>current_ver</th>\n",
       "      <th>android_ver</th>\n",
       "    </tr>\n",
       "  </thead>\n",
       "  <tbody>\n",
       "    <tr>\n",
       "      <th>10837</th>\n",
       "      <td>Fr. Mike Schmitz Audio Teachings</td>\n",
       "      <td>FAMILY</td>\n",
       "      <td>5.0</td>\n",
       "      <td>4</td>\n",
       "      <td>3.6M</td>\n",
       "      <td>100+</td>\n",
       "      <td>Free</td>\n",
       "      <td>0</td>\n",
       "      <td>Everyone</td>\n",
       "      <td>Education</td>\n",
       "      <td>July 6, 2018</td>\n",
       "      <td>1.0</td>\n",
       "      <td>4.1 and up</td>\n",
       "    </tr>\n",
       "    <tr>\n",
       "      <th>10838</th>\n",
       "      <td>Parkinson Exercices FR</td>\n",
       "      <td>MEDICAL</td>\n",
       "      <td>NaN</td>\n",
       "      <td>3</td>\n",
       "      <td>9.5M</td>\n",
       "      <td>1,000+</td>\n",
       "      <td>Free</td>\n",
       "      <td>0</td>\n",
       "      <td>Everyone</td>\n",
       "      <td>Medical</td>\n",
       "      <td>January 20, 2017</td>\n",
       "      <td>1.0</td>\n",
       "      <td>2.2 and up</td>\n",
       "    </tr>\n",
       "    <tr>\n",
       "      <th>10839</th>\n",
       "      <td>The SCP Foundation DB fr nn5n</td>\n",
       "      <td>BOOKS_AND_REFERENCE</td>\n",
       "      <td>4.5</td>\n",
       "      <td>114</td>\n",
       "      <td>Varies with device</td>\n",
       "      <td>1,000+</td>\n",
       "      <td>Free</td>\n",
       "      <td>0</td>\n",
       "      <td>Mature 17+</td>\n",
       "      <td>Books &amp; Reference</td>\n",
       "      <td>January 19, 2015</td>\n",
       "      <td>Varies with device</td>\n",
       "      <td>Varies with device</td>\n",
       "    </tr>\n",
       "    <tr>\n",
       "      <th>10840</th>\n",
       "      <td>iHoroscope - 2018 Daily Horoscope &amp; Astrology</td>\n",
       "      <td>LIFESTYLE</td>\n",
       "      <td>4.5</td>\n",
       "      <td>398307</td>\n",
       "      <td>19M</td>\n",
       "      <td>10,000,000+</td>\n",
       "      <td>Free</td>\n",
       "      <td>0</td>\n",
       "      <td>Everyone</td>\n",
       "      <td>Lifestyle</td>\n",
       "      <td>July 25, 2018</td>\n",
       "      <td>Varies with device</td>\n",
       "      <td>Varies with device</td>\n",
       "    </tr>\n",
       "  </tbody>\n",
       "</table>\n",
       "</div>"
      ],
      "text/plain": [
       "                                                 app             category  \\\n",
       "10837               Fr. Mike Schmitz Audio Teachings               FAMILY   \n",
       "10838                         Parkinson Exercices FR              MEDICAL   \n",
       "10839                  The SCP Foundation DB fr nn5n  BOOKS_AND_REFERENCE   \n",
       "10840  iHoroscope - 2018 Daily Horoscope & Astrology            LIFESTYLE   \n",
       "\n",
       "       rating reviews                size     installs  type price  \\\n",
       "10837     5.0       4                3.6M         100+  Free     0   \n",
       "10838     NaN       3                9.5M       1,000+  Free     0   \n",
       "10839     4.5     114  Varies with device       1,000+  Free     0   \n",
       "10840     4.5  398307                 19M  10,000,000+  Free     0   \n",
       "\n",
       "      content_rating             genres      last_updated         current_ver  \\\n",
       "10837       Everyone          Education      July 6, 2018                 1.0   \n",
       "10838       Everyone            Medical  January 20, 2017                 1.0   \n",
       "10839     Mature 17+  Books & Reference  January 19, 2015  Varies with device   \n",
       "10840       Everyone          Lifestyle     July 25, 2018  Varies with device   \n",
       "\n",
       "              android_ver  \n",
       "10837          4.1 and up  \n",
       "10838          2.2 and up  \n",
       "10839  Varies with device  \n",
       "10840  Varies with device  "
      ]
     },
     "execution_count": 16,
     "metadata": {},
     "output_type": "execute_result"
    }
   ],
   "source": [
    "# print some interval with empties to check the imputation results later\n",
    "df_feature.loc[10837:10840]"
   ]
  },
  {
   "cell_type": "markdown",
   "id": "60799ea8",
   "metadata": {},
   "source": [
    "#### Category: (Gaia)"
   ]
  },
  {
   "cell_type": "code",
   "execution_count": 23,
   "id": "e6020b1b",
   "metadata": {
    "ExecuteTime": {
     "end_time": "2022-04-12T18:02:30.721087Z",
     "start_time": "2022-04-12T18:02:30.102866Z"
    }
   },
   "outputs": [
    {
     "ename": "ValueError",
     "evalue": "attempt to get argmax of an empty sequence",
     "output_type": "error",
     "traceback": [
      "\u001b[0;31m---------------------------------------------------------------------------\u001b[0m",
      "\u001b[0;31mValueError\u001b[0m                                Traceback (most recent call last)",
      "Input \u001b[0;32mIn [23]\u001b[0m, in \u001b[0;36m<module>\u001b[0;34m\u001b[0m\n\u001b[1;32m      1\u001b[0m \u001b[38;5;66;03m# fill missing values with mean/median values of the columns or constant values\u001b[39;00m\n\u001b[1;32m      2\u001b[0m \u001b[38;5;66;03m#'''sample usage (median-numeric) : df_boxof = df_boxof.fillna(df_boxof.median(numeric_only=True))'''\u001b[39;00m\n\u001b[1;32m      3\u001b[0m \u001b[38;5;66;03m#'''sample usage (mod-categorical) : df_anidb.aired.fillna(df_anidb.aired.value_counts().idxmax(), inplace=True)'''\u001b[39;00m\n\u001b[1;32m      4\u001b[0m \u001b[38;5;66;03m# recheck the previous samples\u001b[39;00m\n\u001b[0;32m----> 7\u001b[0m df_feature\u001b[38;5;241m.\u001b[39mcategory\u001b[38;5;241m=\u001b[39mdf_feature\u001b[38;5;241m.\u001b[39mcategory\u001b[38;5;241m.\u001b[39mfillna(\u001b[43mdf_feature\u001b[49m\u001b[38;5;241;43m.\u001b[39;49m\u001b[43mcategory\u001b[49m\u001b[38;5;241;43m.\u001b[39;49m\u001b[43mvalue_counts\u001b[49m\u001b[43m(\u001b[49m\u001b[43m)\u001b[49m\u001b[38;5;241;43m.\u001b[39;49m\u001b[43midxmax\u001b[49m\u001b[43m(\u001b[49m\u001b[43m)\u001b[49m, inplace\u001b[38;5;241m=\u001b[39m\u001b[38;5;28;01mTrue\u001b[39;00m)\n\u001b[1;32m      8\u001b[0m df_feature\u001b[38;5;241m.\u001b[39mloc[\u001b[38;5;241m10837\u001b[39m:\u001b[38;5;241m10840\u001b[39m]\n",
      "File \u001b[0;32m~/miniconda3/lib/python3.9/site-packages/pandas/core/series.py:2404\u001b[0m, in \u001b[0;36mSeries.idxmax\u001b[0;34m(self, axis, skipna, *args, **kwargs)\u001b[0m\n\u001b[1;32m   2339\u001b[0m \u001b[38;5;28;01mdef\u001b[39;00m \u001b[38;5;21midxmax\u001b[39m(\u001b[38;5;28mself\u001b[39m, axis\u001b[38;5;241m=\u001b[39m\u001b[38;5;241m0\u001b[39m, skipna\u001b[38;5;241m=\u001b[39m\u001b[38;5;28;01mTrue\u001b[39;00m, \u001b[38;5;241m*\u001b[39margs, \u001b[38;5;241m*\u001b[39m\u001b[38;5;241m*\u001b[39mkwargs):\n\u001b[1;32m   2340\u001b[0m     \u001b[38;5;124;03m\"\"\"\u001b[39;00m\n\u001b[1;32m   2341\u001b[0m \u001b[38;5;124;03m    Return the row label of the maximum value.\u001b[39;00m\n\u001b[1;32m   2342\u001b[0m \n\u001b[0;32m   (...)\u001b[0m\n\u001b[1;32m   2402\u001b[0m \u001b[38;5;124;03m    nan\u001b[39;00m\n\u001b[1;32m   2403\u001b[0m \u001b[38;5;124;03m    \"\"\"\u001b[39;00m\n\u001b[0;32m-> 2404\u001b[0m     i \u001b[38;5;241m=\u001b[39m \u001b[38;5;28;43mself\u001b[39;49m\u001b[38;5;241;43m.\u001b[39;49m\u001b[43margmax\u001b[49m\u001b[43m(\u001b[49m\u001b[43maxis\u001b[49m\u001b[43m,\u001b[49m\u001b[43m \u001b[49m\u001b[43mskipna\u001b[49m\u001b[43m,\u001b[49m\u001b[43m \u001b[49m\u001b[38;5;241;43m*\u001b[39;49m\u001b[43margs\u001b[49m\u001b[43m,\u001b[49m\u001b[43m \u001b[49m\u001b[38;5;241;43m*\u001b[39;49m\u001b[38;5;241;43m*\u001b[39;49m\u001b[43mkwargs\u001b[49m\u001b[43m)\u001b[49m\n\u001b[1;32m   2405\u001b[0m     \u001b[38;5;28;01mif\u001b[39;00m i \u001b[38;5;241m==\u001b[39m \u001b[38;5;241m-\u001b[39m\u001b[38;5;241m1\u001b[39m:\n\u001b[1;32m   2406\u001b[0m         \u001b[38;5;28;01mreturn\u001b[39;00m np\u001b[38;5;241m.\u001b[39mnan\n",
      "File \u001b[0;32m~/miniconda3/lib/python3.9/site-packages/pandas/core/base.py:657\u001b[0m, in \u001b[0;36mIndexOpsMixin.argmax\u001b[0;34m(self, axis, skipna, *args, **kwargs)\u001b[0m\n\u001b[1;32m    653\u001b[0m         \u001b[38;5;28;01mreturn\u001b[39;00m delegate\u001b[38;5;241m.\u001b[39margmax()\n\u001b[1;32m    654\u001b[0m \u001b[38;5;28;01melse\u001b[39;00m:\n\u001b[1;32m    655\u001b[0m     \u001b[38;5;66;03m# error: Incompatible return value type (got \"Union[int, ndarray]\", expected\u001b[39;00m\n\u001b[1;32m    656\u001b[0m     \u001b[38;5;66;03m# \"int\")\u001b[39;00m\n\u001b[0;32m--> 657\u001b[0m     \u001b[38;5;28;01mreturn\u001b[39;00m \u001b[43mnanops\u001b[49m\u001b[38;5;241;43m.\u001b[39;49m\u001b[43mnanargmax\u001b[49m\u001b[43m(\u001b[49m\u001b[43m  \u001b[49m\u001b[38;5;66;43;03m# type: ignore[return-value]\u001b[39;49;00m\n\u001b[1;32m    658\u001b[0m \u001b[43m        \u001b[49m\u001b[43mdelegate\u001b[49m\u001b[43m,\u001b[49m\u001b[43m \u001b[49m\u001b[43mskipna\u001b[49m\u001b[38;5;241;43m=\u001b[39;49m\u001b[43mskipna\u001b[49m\n\u001b[1;32m    659\u001b[0m \u001b[43m    \u001b[49m\u001b[43m)\u001b[49m\n",
      "File \u001b[0;32m~/miniconda3/lib/python3.9/site-packages/pandas/core/nanops.py:93\u001b[0m, in \u001b[0;36mdisallow.__call__.<locals>._f\u001b[0;34m(*args, **kwargs)\u001b[0m\n\u001b[1;32m     91\u001b[0m \u001b[38;5;28;01mtry\u001b[39;00m:\n\u001b[1;32m     92\u001b[0m     \u001b[38;5;28;01mwith\u001b[39;00m np\u001b[38;5;241m.\u001b[39merrstate(invalid\u001b[38;5;241m=\u001b[39m\u001b[38;5;124m\"\u001b[39m\u001b[38;5;124mignore\u001b[39m\u001b[38;5;124m\"\u001b[39m):\n\u001b[0;32m---> 93\u001b[0m         \u001b[38;5;28;01mreturn\u001b[39;00m \u001b[43mf\u001b[49m\u001b[43m(\u001b[49m\u001b[38;5;241;43m*\u001b[39;49m\u001b[43margs\u001b[49m\u001b[43m,\u001b[49m\u001b[43m \u001b[49m\u001b[38;5;241;43m*\u001b[39;49m\u001b[38;5;241;43m*\u001b[39;49m\u001b[43mkwargs\u001b[49m\u001b[43m)\u001b[49m\n\u001b[1;32m     94\u001b[0m \u001b[38;5;28;01mexcept\u001b[39;00m \u001b[38;5;167;01mValueError\u001b[39;00m \u001b[38;5;28;01mas\u001b[39;00m e:\n\u001b[1;32m     95\u001b[0m     \u001b[38;5;66;03m# we want to transform an object array\u001b[39;00m\n\u001b[1;32m     96\u001b[0m     \u001b[38;5;66;03m# ValueError message to the more typical TypeError\u001b[39;00m\n\u001b[1;32m     97\u001b[0m     \u001b[38;5;66;03m# e.g. this is normally a disallowed function on\u001b[39;00m\n\u001b[1;32m     98\u001b[0m     \u001b[38;5;66;03m# object arrays that contain strings\u001b[39;00m\n\u001b[1;32m     99\u001b[0m     \u001b[38;5;28;01mif\u001b[39;00m is_object_dtype(args[\u001b[38;5;241m0\u001b[39m]):\n",
      "File \u001b[0;32m~/miniconda3/lib/python3.9/site-packages/pandas/core/nanops.py:1096\u001b[0m, in \u001b[0;36mnanargmax\u001b[0;34m(values, axis, skipna, mask)\u001b[0m\n\u001b[1;32m   1094\u001b[0m values, mask, _, _, _ \u001b[38;5;241m=\u001b[39m _get_values(values, \u001b[38;5;28;01mTrue\u001b[39;00m, fill_value_typ\u001b[38;5;241m=\u001b[39m\u001b[38;5;124m\"\u001b[39m\u001b[38;5;124m-inf\u001b[39m\u001b[38;5;124m\"\u001b[39m, mask\u001b[38;5;241m=\u001b[39mmask)\n\u001b[1;32m   1095\u001b[0m \u001b[38;5;66;03m# error: Need type annotation for 'result'\u001b[39;00m\n\u001b[0;32m-> 1096\u001b[0m result \u001b[38;5;241m=\u001b[39m \u001b[43mvalues\u001b[49m\u001b[38;5;241;43m.\u001b[39;49m\u001b[43margmax\u001b[49m\u001b[43m(\u001b[49m\u001b[43maxis\u001b[49m\u001b[43m)\u001b[49m  \u001b[38;5;66;03m# type: ignore[var-annotated]\u001b[39;00m\n\u001b[1;32m   1097\u001b[0m result \u001b[38;5;241m=\u001b[39m _maybe_arg_null_out(result, axis, mask, skipna)\n\u001b[1;32m   1098\u001b[0m \u001b[38;5;28;01mreturn\u001b[39;00m result\n",
      "\u001b[0;31mValueError\u001b[0m: attempt to get argmax of an empty sequence"
     ]
    }
   ],
   "source": [
    "# fill missing values with mean/median values of the columns or constant values\n",
    "#'''sample usage (median-numeric) : df_boxof = df_boxof.fillna(df_boxof.median(numeric_only=True))'''\n",
    "#'''sample usage (mod-categorical) : df_anidb.aired.fillna(df_anidb.aired.value_counts().idxmax(), inplace=True)'''\n",
    "# recheck the previous samples\n",
    "\n",
    "\n",
    "df_feature.category=df_feature.category.fillna(df_feature.category.value_counts().idxmax(), inplace=True)\n",
    "df_feature.loc[10837:10840] "
   ]
  },
  {
   "cell_type": "markdown",
   "id": "cebddbb5",
   "metadata": {},
   "source": [
    "#### Rating: (Gaia)"
   ]
  },
  {
   "cell_type": "code",
   "execution_count": 24,
   "id": "cb2b96ba",
   "metadata": {
    "ExecuteTime": {
     "end_time": "2022-04-12T18:02:54.104276Z",
     "start_time": "2022-04-12T18:02:54.092819Z"
    }
   },
   "outputs": [
    {
     "data": {
      "text/html": [
       "<div>\n",
       "<style scoped>\n",
       "    .dataframe tbody tr th:only-of-type {\n",
       "        vertical-align: middle;\n",
       "    }\n",
       "\n",
       "    .dataframe tbody tr th {\n",
       "        vertical-align: top;\n",
       "    }\n",
       "\n",
       "    .dataframe thead th {\n",
       "        text-align: right;\n",
       "    }\n",
       "</style>\n",
       "<table border=\"1\" class=\"dataframe\">\n",
       "  <thead>\n",
       "    <tr style=\"text-align: right;\">\n",
       "      <th></th>\n",
       "      <th>app</th>\n",
       "      <th>category</th>\n",
       "      <th>rating</th>\n",
       "      <th>reviews</th>\n",
       "      <th>size</th>\n",
       "      <th>installs</th>\n",
       "      <th>type</th>\n",
       "      <th>price</th>\n",
       "      <th>content_rating</th>\n",
       "      <th>genres</th>\n",
       "      <th>last_updated</th>\n",
       "      <th>current_ver</th>\n",
       "      <th>android_ver</th>\n",
       "    </tr>\n",
       "  </thead>\n",
       "  <tbody>\n",
       "    <tr>\n",
       "      <th>10837</th>\n",
       "      <td>Fr. Mike Schmitz Audio Teachings</td>\n",
       "      <td>None</td>\n",
       "      <td>5.000000</td>\n",
       "      <td>4.0</td>\n",
       "      <td>3.6M</td>\n",
       "      <td>100</td>\n",
       "      <td>Free</td>\n",
       "      <td>0</td>\n",
       "      <td>Everyone</td>\n",
       "      <td>Education</td>\n",
       "      <td>July 6, 2018</td>\n",
       "      <td>1.0</td>\n",
       "      <td>4.1 and up</td>\n",
       "    </tr>\n",
       "    <tr>\n",
       "      <th>10838</th>\n",
       "      <td>Parkinson Exercices FR</td>\n",
       "      <td>None</td>\n",
       "      <td>4.193338</td>\n",
       "      <td>3.0</td>\n",
       "      <td>9.5M</td>\n",
       "      <td>1000</td>\n",
       "      <td>Free</td>\n",
       "      <td>0</td>\n",
       "      <td>Everyone</td>\n",
       "      <td>Medical</td>\n",
       "      <td>January 20, 2017</td>\n",
       "      <td>1.0</td>\n",
       "      <td>2.2 and up</td>\n",
       "    </tr>\n",
       "    <tr>\n",
       "      <th>10839</th>\n",
       "      <td>The SCP Foundation DB fr nn5n</td>\n",
       "      <td>None</td>\n",
       "      <td>4.500000</td>\n",
       "      <td>114.0</td>\n",
       "      <td>Varies with device</td>\n",
       "      <td>1000</td>\n",
       "      <td>Free</td>\n",
       "      <td>0</td>\n",
       "      <td>Mature 17+</td>\n",
       "      <td>Books &amp; Reference</td>\n",
       "      <td>January 19, 2015</td>\n",
       "      <td>Varies with device</td>\n",
       "      <td>Varies with device</td>\n",
       "    </tr>\n",
       "    <tr>\n",
       "      <th>10840</th>\n",
       "      <td>iHoroscope - 2018 Daily Horoscope &amp; Astrology</td>\n",
       "      <td>None</td>\n",
       "      <td>4.500000</td>\n",
       "      <td>398307.0</td>\n",
       "      <td>19M</td>\n",
       "      <td>10000000</td>\n",
       "      <td>Free</td>\n",
       "      <td>0</td>\n",
       "      <td>Everyone</td>\n",
       "      <td>Lifestyle</td>\n",
       "      <td>July 25, 2018</td>\n",
       "      <td>Varies with device</td>\n",
       "      <td>Varies with device</td>\n",
       "    </tr>\n",
       "  </tbody>\n",
       "</table>\n",
       "</div>"
      ],
      "text/plain": [
       "                                                 app category    rating  \\\n",
       "10837               Fr. Mike Schmitz Audio Teachings     None  5.000000   \n",
       "10838                         Parkinson Exercices FR     None  4.193338   \n",
       "10839                  The SCP Foundation DB fr nn5n     None  4.500000   \n",
       "10840  iHoroscope - 2018 Daily Horoscope & Astrology     None  4.500000   \n",
       "\n",
       "        reviews                size  installs  type price content_rating  \\\n",
       "10837       4.0                3.6M       100  Free     0       Everyone   \n",
       "10838       3.0                9.5M      1000  Free     0       Everyone   \n",
       "10839     114.0  Varies with device      1000  Free     0     Mature 17+   \n",
       "10840  398307.0                 19M  10000000  Free     0       Everyone   \n",
       "\n",
       "                  genres      last_updated         current_ver  \\\n",
       "10837          Education      July 6, 2018                 1.0   \n",
       "10838            Medical  January 20, 2017                 1.0   \n",
       "10839  Books & Reference  January 19, 2015  Varies with device   \n",
       "10840          Lifestyle     July 25, 2018  Varies with device   \n",
       "\n",
       "              android_ver  \n",
       "10837          4.1 and up  \n",
       "10838          2.2 and up  \n",
       "10839  Varies with device  \n",
       "10840  Varies with device  "
      ]
     },
     "execution_count": 24,
     "metadata": {},
     "output_type": "execute_result"
    }
   ],
   "source": [
    "# fill missing values\n",
    "\n",
    "# CODE HERE\n",
    "df_feature.rating = df_feature.rating.fillna(df_feature.rating.mean())\n",
    "\n",
    "# recheck the previous samples\n",
    "#df_feature.rating.isnull().sum()\n",
    "df_feature.loc[10837:10840]     #it works!\n"
   ]
  },
  {
   "cell_type": "markdown",
   "id": "ece88a6e",
   "metadata": {},
   "source": [
    "#### Reviews: (Gaia)"
   ]
  },
  {
   "cell_type": "code",
   "execution_count": 25,
   "id": "531ef221",
   "metadata": {
    "ExecuteTime": {
     "end_time": "2022-04-12T18:03:00.434327Z",
     "start_time": "2022-04-12T18:03:00.423295Z"
    }
   },
   "outputs": [
    {
     "data": {
      "text/html": [
       "<div>\n",
       "<style scoped>\n",
       "    .dataframe tbody tr th:only-of-type {\n",
       "        vertical-align: middle;\n",
       "    }\n",
       "\n",
       "    .dataframe tbody tr th {\n",
       "        vertical-align: top;\n",
       "    }\n",
       "\n",
       "    .dataframe thead th {\n",
       "        text-align: right;\n",
       "    }\n",
       "</style>\n",
       "<table border=\"1\" class=\"dataframe\">\n",
       "  <thead>\n",
       "    <tr style=\"text-align: right;\">\n",
       "      <th></th>\n",
       "      <th>app</th>\n",
       "      <th>category</th>\n",
       "      <th>rating</th>\n",
       "      <th>reviews</th>\n",
       "      <th>size</th>\n",
       "      <th>installs</th>\n",
       "      <th>type</th>\n",
       "      <th>price</th>\n",
       "      <th>content_rating</th>\n",
       "      <th>genres</th>\n",
       "      <th>last_updated</th>\n",
       "      <th>current_ver</th>\n",
       "      <th>android_ver</th>\n",
       "    </tr>\n",
       "  </thead>\n",
       "  <tbody>\n",
       "    <tr>\n",
       "      <th>10837</th>\n",
       "      <td>Fr. Mike Schmitz Audio Teachings</td>\n",
       "      <td>None</td>\n",
       "      <td>5.000000</td>\n",
       "      <td>4.0</td>\n",
       "      <td>3.6M</td>\n",
       "      <td>100</td>\n",
       "      <td>Free</td>\n",
       "      <td>0</td>\n",
       "      <td>Everyone</td>\n",
       "      <td>Education</td>\n",
       "      <td>July 6, 2018</td>\n",
       "      <td>1.0</td>\n",
       "      <td>4.1 and up</td>\n",
       "    </tr>\n",
       "    <tr>\n",
       "      <th>10838</th>\n",
       "      <td>Parkinson Exercices FR</td>\n",
       "      <td>None</td>\n",
       "      <td>4.193338</td>\n",
       "      <td>3.0</td>\n",
       "      <td>9.5M</td>\n",
       "      <td>1000</td>\n",
       "      <td>Free</td>\n",
       "      <td>0</td>\n",
       "      <td>Everyone</td>\n",
       "      <td>Medical</td>\n",
       "      <td>January 20, 2017</td>\n",
       "      <td>1.0</td>\n",
       "      <td>2.2 and up</td>\n",
       "    </tr>\n",
       "    <tr>\n",
       "      <th>10839</th>\n",
       "      <td>The SCP Foundation DB fr nn5n</td>\n",
       "      <td>None</td>\n",
       "      <td>4.500000</td>\n",
       "      <td>114.0</td>\n",
       "      <td>Varies with device</td>\n",
       "      <td>1000</td>\n",
       "      <td>Free</td>\n",
       "      <td>0</td>\n",
       "      <td>Mature 17+</td>\n",
       "      <td>Books &amp; Reference</td>\n",
       "      <td>January 19, 2015</td>\n",
       "      <td>Varies with device</td>\n",
       "      <td>Varies with device</td>\n",
       "    </tr>\n",
       "    <tr>\n",
       "      <th>10840</th>\n",
       "      <td>iHoroscope - 2018 Daily Horoscope &amp; Astrology</td>\n",
       "      <td>None</td>\n",
       "      <td>4.500000</td>\n",
       "      <td>398307.0</td>\n",
       "      <td>19M</td>\n",
       "      <td>10000000</td>\n",
       "      <td>Free</td>\n",
       "      <td>0</td>\n",
       "      <td>Everyone</td>\n",
       "      <td>Lifestyle</td>\n",
       "      <td>July 25, 2018</td>\n",
       "      <td>Varies with device</td>\n",
       "      <td>Varies with device</td>\n",
       "    </tr>\n",
       "  </tbody>\n",
       "</table>\n",
       "</div>"
      ],
      "text/plain": [
       "                                                 app category    rating  \\\n",
       "10837               Fr. Mike Schmitz Audio Teachings     None  5.000000   \n",
       "10838                         Parkinson Exercices FR     None  4.193338   \n",
       "10839                  The SCP Foundation DB fr nn5n     None  4.500000   \n",
       "10840  iHoroscope - 2018 Daily Horoscope & Astrology     None  4.500000   \n",
       "\n",
       "        reviews                size  installs  type price content_rating  \\\n",
       "10837       4.0                3.6M       100  Free     0       Everyone   \n",
       "10838       3.0                9.5M      1000  Free     0       Everyone   \n",
       "10839     114.0  Varies with device      1000  Free     0     Mature 17+   \n",
       "10840  398307.0                 19M  10000000  Free     0       Everyone   \n",
       "\n",
       "                  genres      last_updated         current_ver  \\\n",
       "10837          Education      July 6, 2018                 1.0   \n",
       "10838            Medical  January 20, 2017                 1.0   \n",
       "10839  Books & Reference  January 19, 2015  Varies with device   \n",
       "10840          Lifestyle     July 25, 2018  Varies with device   \n",
       "\n",
       "              android_ver  \n",
       "10837          4.1 and up  \n",
       "10838          2.2 and up  \n",
       "10839  Varies with device  \n",
       "10840  Varies with device  "
      ]
     },
     "execution_count": 25,
     "metadata": {},
     "output_type": "execute_result"
    }
   ],
   "source": [
    "# fill missing values\n",
    "\n",
    "df_feature.reviews = df_feature.reviews.fillna(df_feature.rating.mean())\n",
    "\n",
    "# recheck the previous samples\n",
    "\n",
    "df_feature.loc[10837:10840] "
   ]
  },
  {
   "cell_type": "markdown",
   "id": "db9e18bf",
   "metadata": {},
   "source": [
    "#### Size: (Gaia)"
   ]
  },
  {
   "cell_type": "code",
   "execution_count": 26,
   "id": "051b5af7",
   "metadata": {
    "ExecuteTime": {
     "end_time": "2022-04-12T18:03:06.058740Z",
     "start_time": "2022-04-12T18:03:06.045632Z"
    }
   },
   "outputs": [
    {
     "data": {
      "text/html": [
       "<div>\n",
       "<style scoped>\n",
       "    .dataframe tbody tr th:only-of-type {\n",
       "        vertical-align: middle;\n",
       "    }\n",
       "\n",
       "    .dataframe tbody tr th {\n",
       "        vertical-align: top;\n",
       "    }\n",
       "\n",
       "    .dataframe thead th {\n",
       "        text-align: right;\n",
       "    }\n",
       "</style>\n",
       "<table border=\"1\" class=\"dataframe\">\n",
       "  <thead>\n",
       "    <tr style=\"text-align: right;\">\n",
       "      <th></th>\n",
       "      <th>app</th>\n",
       "      <th>category</th>\n",
       "      <th>rating</th>\n",
       "      <th>reviews</th>\n",
       "      <th>size</th>\n",
       "      <th>installs</th>\n",
       "      <th>type</th>\n",
       "      <th>price</th>\n",
       "      <th>content_rating</th>\n",
       "      <th>genres</th>\n",
       "      <th>last_updated</th>\n",
       "      <th>current_ver</th>\n",
       "      <th>android_ver</th>\n",
       "    </tr>\n",
       "  </thead>\n",
       "  <tbody>\n",
       "    <tr>\n",
       "      <th>10837</th>\n",
       "      <td>Fr. Mike Schmitz Audio Teachings</td>\n",
       "      <td>None</td>\n",
       "      <td>5.000000</td>\n",
       "      <td>4.0</td>\n",
       "      <td>3.6M</td>\n",
       "      <td>100</td>\n",
       "      <td>Free</td>\n",
       "      <td>0</td>\n",
       "      <td>Everyone</td>\n",
       "      <td>Education</td>\n",
       "      <td>July 6, 2018</td>\n",
       "      <td>1.0</td>\n",
       "      <td>4.1 and up</td>\n",
       "    </tr>\n",
       "    <tr>\n",
       "      <th>10838</th>\n",
       "      <td>Parkinson Exercices FR</td>\n",
       "      <td>None</td>\n",
       "      <td>4.193338</td>\n",
       "      <td>3.0</td>\n",
       "      <td>9.5M</td>\n",
       "      <td>1000</td>\n",
       "      <td>Free</td>\n",
       "      <td>0</td>\n",
       "      <td>Everyone</td>\n",
       "      <td>Medical</td>\n",
       "      <td>January 20, 2017</td>\n",
       "      <td>1.0</td>\n",
       "      <td>2.2 and up</td>\n",
       "    </tr>\n",
       "    <tr>\n",
       "      <th>10839</th>\n",
       "      <td>The SCP Foundation DB fr nn5n</td>\n",
       "      <td>None</td>\n",
       "      <td>4.500000</td>\n",
       "      <td>114.0</td>\n",
       "      <td>Varies with device</td>\n",
       "      <td>1000</td>\n",
       "      <td>Free</td>\n",
       "      <td>0</td>\n",
       "      <td>Mature 17+</td>\n",
       "      <td>Books &amp; Reference</td>\n",
       "      <td>January 19, 2015</td>\n",
       "      <td>Varies with device</td>\n",
       "      <td>Varies with device</td>\n",
       "    </tr>\n",
       "    <tr>\n",
       "      <th>10840</th>\n",
       "      <td>iHoroscope - 2018 Daily Horoscope &amp; Astrology</td>\n",
       "      <td>None</td>\n",
       "      <td>4.500000</td>\n",
       "      <td>398307.0</td>\n",
       "      <td>19M</td>\n",
       "      <td>10000000</td>\n",
       "      <td>Free</td>\n",
       "      <td>0</td>\n",
       "      <td>Everyone</td>\n",
       "      <td>Lifestyle</td>\n",
       "      <td>July 25, 2018</td>\n",
       "      <td>Varies with device</td>\n",
       "      <td>Varies with device</td>\n",
       "    </tr>\n",
       "  </tbody>\n",
       "</table>\n",
       "</div>"
      ],
      "text/plain": [
       "                                                 app category    rating  \\\n",
       "10837               Fr. Mike Schmitz Audio Teachings     None  5.000000   \n",
       "10838                         Parkinson Exercices FR     None  4.193338   \n",
       "10839                  The SCP Foundation DB fr nn5n     None  4.500000   \n",
       "10840  iHoroscope - 2018 Daily Horoscope & Astrology     None  4.500000   \n",
       "\n",
       "        reviews                size  installs  type price content_rating  \\\n",
       "10837       4.0                3.6M       100  Free     0       Everyone   \n",
       "10838       3.0                9.5M      1000  Free     0       Everyone   \n",
       "10839     114.0  Varies with device      1000  Free     0     Mature 17+   \n",
       "10840  398307.0                 19M  10000000  Free     0       Everyone   \n",
       "\n",
       "                  genres      last_updated         current_ver  \\\n",
       "10837          Education      July 6, 2018                 1.0   \n",
       "10838            Medical  January 20, 2017                 1.0   \n",
       "10839  Books & Reference  January 19, 2015  Varies with device   \n",
       "10840          Lifestyle     July 25, 2018  Varies with device   \n",
       "\n",
       "              android_ver  \n",
       "10837          4.1 and up  \n",
       "10838          2.2 and up  \n",
       "10839  Varies with device  \n",
       "10840  Varies with device  "
      ]
     },
     "execution_count": 26,
     "metadata": {},
     "output_type": "execute_result"
    }
   ],
   "source": [
    "# fill missing values\n",
    "\n",
    "df_feature[\"size\"] = df_feature[\"size\"].fillna(df_feature.size.mean()) \n",
    "\n",
    "# recheck the previous samples\n",
    "\n",
    "df_feature.loc[10837:10840] "
   ]
  },
  {
   "cell_type": "markdown",
   "id": "1b8e345c",
   "metadata": {},
   "source": [
    "#### Installs: (Gaia)"
   ]
  },
  {
   "cell_type": "code",
   "execution_count": 27,
   "id": "6e3d28a6",
   "metadata": {
    "ExecuteTime": {
     "end_time": "2022-04-12T18:03:09.137003Z",
     "start_time": "2022-04-12T18:03:08.875716Z"
    }
   },
   "outputs": [
    {
     "ename": "TypeError",
     "evalue": "Could not convert 10000500000500000050000000100000500005000010000001000000100001000000100000010000000100000100000500050000010000500000010000000100000100000500000100000500001000050000010000010000100000100000500001000001000001000010000050000050000001000050000010000100000100000001000001000010000000100000100000100000100000100000010000010000001000001000001000005000010000010000010000010000100000100000010000010000010000500005000000100000500000050000005000001000000010000050000050000100000100000010000010000005000010000005000001000001000000100000010000010000010000001000001000001000000100000010000001000000500000500000100000500000100000010000050000010000005000001000001000000500001000000100001000000100000100005000010000010000100001000010000000500000100000050000100001000000500005000005000001000001000050001000010000100000500010000010000100001000000500001000010000000050000100000100000001000000001000000010000000100000001000001000000100000005000001000000100000000050000001000001000000050000010000000100000010000005000001000000500000100005000000100000500000050000010000005000005000001000000500000010000000100000100000100000500005000001000000050000100000010000001000000500000100000100000001000000050000000100000005000000100000050000000500000010000000010000001000000500000100000005000000100000050000000100000001000000100000005000000500000050000005000000100000100000010000001000000100000005000000100000050000001000001000000010000001000000100000500000010000001000005000000050000001000001000000500000010000001000000010000000100000010000010000010000000500005000000500000050000001000001000001000000500000100000500000500000100000010000001000000100000100000100000010000001000000010000000100000100000500000050000100000010000005000001000000010000000500005000000500000050000001000001000001000000500000100000500000500000100000010000001000000100000100000100000010000001000000500000010000001000000010000000100000010000010000050000000100000000500000010000100000010000000500000100000050000050000500005000010000001000010000100001000010000100000500000010000010000001000001000000100000010000001000000100000500000050000100000100001000050005000001000000500010005000000100005000010000001000001000000000100000000010000000100000000010000000010000000001000000000500000000500000010000000010000000010000000050000000050000000500000050000001000000001000000010000000100000001000000010000000010000001000000100000005000000100000001000000010000000050000001000000001000000001000000010000001000000001000000005000000001000000010000001000001000000010000000100000005000000005000000500000010000000001000000000500000000100000005000000001000000000100000005000000500000001000000001000000000100000000100000000100000001000000001000000001000000100000001000000010000000100000001000000050000000010000000100000010000000010000000010000001000000100000001000000000100000000500000001000000010000000010000001000000005000000010000000050000000010000001000000100000010000000500000500000100000100000001000000050000005000000001000000100000050000001000000010000001000000010000001000000100000001000000050000001000000050000001000000100000050000001000000100000000100000010000000001000000005000000100000001000000100000010000001000000050000000100005000000100000050000010000000005000000005000000050000000010000000001000000001000000500000010000000100000005000000001000000001000010005010010010010000000100000001000000010000050000050000001000000100000001000000100000005000000500000010000050000010000001000000100001000000100000010000010000000100000010000050000050005000005000000100000010000010000001000000100000100000500000500000500000100000500000500000100000500001000000100000010000010000010000010000100000100000010000010000000500000100000100000050000500000050000010000010000050000010000000100000010000050000010000010000005000000500000500000100000001000010000000100000100000100000050000010000010000001000001000000100000005000050000010000001000001000050000010000001000001000010000100001000000010000005000005000005000001000000100000500000100001000001000005000001000001000000100001000010000001000000010000100000100001000000100000050000100005000005000000100000010005000100050050001000010010000100010010001000100010050050050001001005050005050010500500100100010100105005001010010010101005010010010500100050050110100015010010000500100010510100100000010000010000050001000100000050001000500000050010010000010000005000001000100001005000001000010000100010005005000100001000050000100001000005000100001000100005000000100000100000050001000000001000000010000050000001000000010000050000001000000500000500000100000010000005000000100000050000050000005000001000000100000001000000010000005000000500001000000100000010000001000000100000050000010000005000000100000050000050000010000010000000100000500000010000000500000010000000100000001000000500000010000005000000500000010000000100000001000000100000010000001000000100005000010000001000000100000010000001000000100000010000001000000100000010000001000000100000100000010000010000100005000050000010000010000010000010000100000100000500005000010000010000050000001000000010000000010000000500000010000001000000100000050000001000000010000001000000010000001000000100000001000000500000010000000050000005000000100000050000010000001000000100000001000000010000000100000050000010000001000000500001000000100000100000100000100000100000001000000010000010000100000001000000010000000100000000500000500000050000005000005000000100000001000000050000010000000100000010000001000000100000010000001000001000000010000000500000010000000100000005000000100000010000010000001000100050000010000010000000010000001000000100000005000000010000000500000050000001000000050000001000000000100000000500000010000005000000500000010000001000000100000001000000005000000100000001000000100000005000000050000001000000010000001000000010000001000000050000000100000010000000050000000100000050000005000000010000000010000001000001000000100000010000000100000001000001000001000000100000000100000000500000100000100000100000010000001000000010000001000000010000000100000005000010000001000000010000005000000100000050000001000000100000001000000010000001000000100000010000001000000100000000100000000100000001000000010000000100000001000000010000000100000005000000500000050000050000001000000100000001000000010000001000000500000100000010000001000000100000010000000100000010000000100000001000000100000000100000001000000010000000100000001000000010000000100000005000005000000100000001000000100000010000000500000010000000100000010000000100000100000010000001000000100000010000001000000100000010000000100000010000001000010000000100000100000500000010000000100000001000001000001000000100000010000001000000100000001000001000000010000000100000500000050000050000500000010000001000010000001000001000010000001000001000001000005000010001000000100005005000010010010000010000050010000010010000010010005000100000100010000010010005000050001000001001000100010050010000000100000050000005000000500000010000000500000500000010000000100000010000001000000050000001000000100000010000000100000050000001000000100000050000001000000500000010000001000000100000001000000010000005000000010000000100000010000001000000100000001000000100000000500000010000005000000100000010000000100001000000100000100000100000100000010000001000000001000000100000050000001000005000001000000100000500000100000010000001000001000001000000100000050000100000010000010000000100000100000050000001000000100000100000010000010000001000000500001000000500000050000010000001000000100000050000001000000100000500000100000010000001000000500000100000050000005000001000001000000100000050000005000000500001000000500000010000010000005000001000000500000100000500000001000000100000100000100000010000005000000100000000500001000000010000500000010000000100000001000000500000010000001000000010000000100000010000000500001000000010000001000010000010000001000000010000005000001000000050000050000100000010000001000000500000500000010000005000000100000010000000100000100000005000000500000010000001000000050000001000000100000010000001000000100000100000100000050000500000500000100000100000010000001000001000005000000500000100000100000010000500005000000100005000010000001000000100000001000000100000010000005000000100000001000000050000500000010000010000001000000010000001000000100000100000001000001000000500000010000000100000050000005000000100000001000000010000000500000500000010000001000000010000000100000001000000010000000100000001000000100000001000000100000500000100000500000500000010000001000000050000100000005000001000001000000100000005000001000000050000001000000500000001000005000000100000001000000100000100000001000000500000100000100000001000000500000010000005000001000000100000010000001000000010000000500000010000005000000100000005000001000000010000000100000050000001000000100000001000000010000001000000050000001000000500000010000000100000001000000500000010000010000001000001000000500000500000100000100000010000500000100000100000100000050000001000005000000500000100000001000005000000100000100000010000001000000100000050000001000000100000010000005000001000000050000010000001000000001000000050000000500000050000005000001000000100000010000001000000050000500001000000100000001000000500000050000001000000100000050000005000000100000001000000050000001000000010000005000000010000000100000001000000010000000100000001000000500000100000010000001000001000000010000001000005000050000010000001000005000000010000000100000050000050000001000000100000010000000100000100000100000010000050000001000000500005000001000005000000010000000500000100000010000010000005000001000005000001000000100000050000050000010000010000005000000500000500000050000001000000500000010000005000001000000050000001000000010000010000001000000050000001000000100000010000001000000010000100000005000001000001000000100000010000001000000100000010000050000001000000100000010000005000500000010000100000500000100000010000010000001000001000001000000500000500000500000050000050001000001000050000100000100001000001000000100000500000100000050000100000001000000500000100000010000005000005000001000000100000010000000100000001000000050000010000005000000100000010000000500005000010000100000100010000010000100000500000050000100000001000100000500001000005000010000010000500005000010000010000010000000100001000001000010000500050000050000001000001000000100001000000100050000010000001000001000000100001000000500000500000100000500005000005000001000000100000500000010000000100000100000005000000100000050000001000000100000001000000100000050000001000000050000050000001000000010000001000000100000005000000100000010000000500000001000000500000500000100000050000001000000100000010000010000001000000100000001000000100000010000000500000100000001000000100000010000010000010000000500000100000010000001000000100000100000100000010000001000000010000050000050000010000100000500000010000005000005000001000010000001000001000000050000050000010000100000010000010000000100000500005000100000100000010000050000100000010000010000005000000500000500000100000050000010000001000001000000100000100000000100000000050000000010000000100000005000000010000000010000000050000000050000000010000000050000001000000001000000001000000001000000001000000100000000500000005000000100000000100000010000000050000000500000001000000050000000100000000100000000100000001000000010000000100000000500000010000000500000001000000005000000010000000100000001000000010000000010000000010000000100000000100000000100000000100000000010000000050000000010000000010000000050000000010000000010000000010000000100000000100000000100000005000000010000000100000001000000010000000010000000100000000500000050000000100000000500000000100000000500000001000000010000000010000000100000050000000010000000050000001000000010000000010000001000000001000000001000000001000000010000000010000000010000000100000000100000000100000000100000005000000010000001000000001000000001000000000500000000100000005000000050000000100000000100000000100000000100000000500000000500000005000000050000000100000000100000000100000001000000050000000100000001000000100000005000000500000010000000010000001000000100000001000000050000000500000100000010000000050000005000000100000005000000050000000100000001000000010000000500000001000000010000000050000005000000010000000100000010000000100000010000000100000005000000100000001000000010000005000000500000050000001000000050000005000000100000050000001000000010000001000000500000010000001000000010000000100000001000000100000050000001000000050000001000000010000010000001000000100000100000100000100000100000100000100000100000100000100000500000010000000050000000010000000010000000010000000100000005000000010000000500000010000000500000005000000100000001000000050000001000000010000000500000100000050000005000000050000001000000050000010000005000000050000001000000500000000100000000100000000100000000010000000010000001000000010000000500000001000000001000000001000000001000000001000000050000001000000500000000500000000100000000100000001000000010000000010000000010000000010000000050000000100000001000000010000000010000000500000001000000500000001000000001000000010000000100000000100000000500000005000000001000000001000000001000000050000001000000010000000010000000050000000100000000010000000010000000050000000010000000050000000100000000100000001000000005000000050000000100000005000000050000000100000001000000001000000010000000500000050000000100000005000000050000000100000001000000010000000100000001000001000000010000000100000000100000010000000010000001000000500000010000000100000001000000010000000100000000500000050000001000000010000050000000500000050000000100000005000000001000000005000000100000000100000000100000001000000010000000500000010000000100000000100000000500000005000000100000001000000001000000010000000100000000500000001000000001000000100000000100000001000000001000000010000000050000001000000010000005000000010000000100000005000000050000000500000010000000100000001000000005000000100000001000000001000000005000000050000000100000000500000001000000050000000100000001000000001000000500000050000001000000100000050000001000000100000500000050000000100000050000010000000500000500000010000005000001000000050000010000005000000010000000100000010000000500000010000005000000500000100000001000000100000010000000100000001000000001000000010000000100000010000000100000010000000010000000100000500000010000010000500050000001000001000000100000050000001000000100000010000001000000500000050000050000010000001000000500001000000100000010000000100000100000500000500000500010005001000000001000000010000000010000000100000010000000100000100000001000000500000050000010000000100000010000001000005000050000000500000100000005000001000000100000001000000100000500000010000001000000100000001000000100000001000000050000000100000005000000100000100000005000000100000001000000500000001000000100000001000000100000005000000100000001000000010000000500000010000005000000010000001000000050000050000050000010000010000010000001000010000000500000100000500000100001000010001000000050000001000000100000010000001000001000005000050000010000050000001000100000100050000100010010010005000500010001000010000500010000000100000010000001000000100000100000100000500000010000010001000010000500001000000010000001000000100000010000010000010000050000001000001000100001000050000100000000100000005000000010000000500000010000000500000010000000500000050000001000000005000000100000001000000050000001000000100000001000000050000005000000010000000500000010000001000000050000001000000100000010000001000000010000001000000500000050000001000000010000000100000001000000100000100001000010000100001000050005000100000500001000100005000010001000100001000100010001005000500050010001000010001001000500500010005001000500010000100010000100100050001000010001000100500001000100050005000100010000501000100001000100050050010005000100000010000001000000100000010000005000005000050000001000000100000010000050000010000100000050000050000050000005000050000010000005000001000001000001000001000005000001000001000000100000050000100000010000010000010000010000010000005000010000010000010005000001000000100001000000100010000050000010000050000500000100001000000100000500010000010000010000050001000001000001000005000010001000001000000500010000100005000010000010000100000100000500001000010000500001000010000100005000010000010005000010005000100010001000100000100000100000100005000100001000010000500010001000100050001000010001000050001001000100001000050001005000050001000100001001000100000150101500100500100050100100101010010010100501010010001010010500501001051050101501001010510101100500051010105501105051001001051001010010551050000010000010000001000000100001000100005000050000100010001000005010000010000500500010000500001000001000100000100000500010000001000050010005000100001050000010010000100001000001005000100001000050000100010001001000500005000010010005000010000100000100010000500100000500010000001000000000100000000050000000010000000100000000100000050000000010000010000000010000000100000000010000001000000100000050000001000001000000500000050000001000000500000010000000500000010000005000005000000500001000000010000005000000100000010000001000000010000000100000001000000010000000100000010000000010000001000000050000005000000100000001000000001000000010000000100000001000000005000000010000000500000001000000050000001000000010000000050000005000001000005000000001000000000100000050000010000000100000005000005000000001000000000100000000500000050000000100000010000000500000005000000050000001000000100000000100000001000000001000000010000000100000010000000050000005000000050000000100000001000000010000050000005000000500000001000000010000000100000001000005000000500000005000000010000000100000005000000010000000010000000100000001000000010000000100000050000001000000010000000010000000100000001000000050000001000000001000000010000000050000000100000000500000005000000010000001000000050000005000000100000010000001000000050000000100000001000000010000005000000100000001000000100000001000000100000005000000010000000100000001000000010000000100000001000000010000000100000005000000010000000100000001000000010000000100000000500000010000005000000100000010000001000000100000010000000500000500000100000010000000100000001000000001000000100000001000000050000000500000010000000100000010000000100000005000010000001000000100000001000000010000005000000100000010000001000000050000000100000010000000100000500000100000010000000010000000500000500000500000050000010000010000000100000010000000100000010000000010000000500000010000000500000010000001000000010000000050000001000000100000050000005000001000000010000000010000000100000010000001000000010000000100000001000000010000000100000010000000100000000500000050000050000010000005000000500000010000001000000050000000100000000500000100000010000000100000100000010000000010000001000001000000100000005000000100000000500000010000005000001000000010000005000000100000050000050000100000010000001000000000500000005000000100000001000000010000000500000001000000100000000100000010000050000001000000500000010000001000000500000050000000500000100000001000000050000000500000100000010000001000000001000000100000000500000001000000010000001000000500000010000000100000010000005000000100000001000000010000000010000000100000000100000001000000500000010000000005000000100000001000000050000005000000010000000010000000500000001000000001000000050000001000000001000000010000000010000001000000005000000010000001000000001000000100000010000001000000500000010000000010000000100000010000000500000010000001000000000500000010000000100000005000000500000010000000100000001000000050000001000000100000001000000010000000010000000100000001000000010000005000000050000001000000001000000010000010000000100000000100000000500000001000000001000000100000500000005000000050000000100000005000000100000001000000010000000010000000010000005000000100000001000000010000001000000050000000500000005000000050000000100000001000000010000000050000000100000000100000000100000000100000005000000010000000010000000010000000010000000050000001000000050000000100000000100000010000000100000010000000500000050000001000000010000000010000000100000001000001000000050000005000000010000000100000005000001000000010000005000000500000050000001000000010000001000000050000005000000500000050000005000000100000010000001000000050000001000000010000000500000010000010000001000000100000050000001000005000005000005000001000000100000001000005000000100000100000500000100000001000001000000500000500000010000050000001000000050000000500000050000001000000050000001000000010000001000000050000005000000500000010000000100000100000010000001000001000000100000100000010000001000005000050000010000010000001000001000001000000500001000000100000050000001000000100000050000001000000100000010000000100000050000001000050000100000100000010000000500000010000010000001000010000000500000050000001000000050000005000001000000100000005000000100000001000005000000100000005000000500000005000005000005000001000010000005000000500000010000000100000005000000010000000100000100000005000001000000500000010000005000000100000010000000100000050000005000000100000010000001000000100000001000000050000000500000010000005000001000000100000001000000050000010000000100000000100000050000001000000001000000010000000005000000050000005000000100000000100000005000000100000005000000010000000100000000010000000100000001000000010000001000000100000050000005000001000000001000005000000500000010000001000000100000001000000010000000100000005000000500000010000000100000001000000500000005000000100000050000001000000100000000100000050000001000000500000010000000100000001000000010000001000001000100000500000010000000100000000100000010000005000000500000010000000100000010000010000005000000500000010000001000000500000010000005000000100000010000000500000050000001000000100000010000000100000010000000500000010000001000000100000010000005000000100000500000001000000050000001000000010000001000000010000001000000100000001000000005000000100000010000000010000000500000010000000100000010000010000001000000050000001000000000100000001000000500000010000001000000500000500000100000010000000001000000010000000005000000001000000050000000500000001000000001000000100000001000000001000000001000000001000000050000000500000001000000010000000500000010000000100000010000000100000500000000100000001000000010000005000000100000001000000001000000010000000100000005000000001000000001000000010000000100000001000000010000000100000000100000001000000500000100000001000000050000100000100000100000001000000010000005000000100000010000000500000001000000010000000010000000500000001000000050000005000000010000000500000050000005000000050000001000000050000005000000100000010000001000000100000010000000100000001000000500000010000001000001000000100000500000005000000100000010000005000000010000000100000010000005000000500000010000000500000000100000005000000010000000010000000100000001000000100000000100000001000000100000010000000500000010000001000000100000001000000010000000010000000100000010000001000000010000000010000000100000001000000500000001000000100000000500000010000050000005000000100000010000000050000010000001000000100000050000000100000010000000100000001000000010000000100000001000000010000000100000000100000001000000050000010000000100000001000000100000050000000100000010000000100000000500000100000010000001000000050000005000000500000500000500000010000050000010000010000000010000000500000005000000100000010000001000000100000010000005000000100001000000050000001000000050000001000000050000001000000100000001000000010000000100000001000000010000000100000005000000100000000100000000100000050000005000000010000001000000100000010000005000000100000050000000100000001000000010000000100000010000000100001000001000000010000000100000001000000001000000100000001000000500000000100000001000000001000000010000000001000000010000000100000000100000001000000005000000100000010000000100000000500000001000000001000000010000000050000001000000001000000010000000100000050000000010000000100000005000000001000000001000000050000005000000500000010000000010000000500000001000000010000000050000005000000010000000050000000500000005000000010000000010000005000000010000005000001000000100000010000000100000010000000100000010000000100000010000001000000001000000050000001000000001000000010000001000000010000000010000005000000010000050000001000000010000001000000500000000100000000010000000010000000100000000100000000100000000100000001000000001000000001000000005000000001000000001000000005000000100000050000001000000100000001000000500000010000000100000010000000010000000100000000100000001000000010000000050000010000001000000100000010000001000000500000050000001000000100000005000000500000000100000001000001000000000500000010000000010000050000000010000001000000100000050000005000000001000050000001000010000001000010000100000100005000100000050000500001000001000000100000100001000000100000010000500001000050000100000050000010000010000010000010000010000100000100000050005000001000001000050000010000100000100000010000010000010000100000100000010000001000001000001000000100000100001000000500000001000000500000001000010000000100000010000000100000010000001000000100000005000000500000100000001000000500000050000001000000100000005000000100000050000001000000500000001000000100000100000001000000100000005000001000000100000001000001000000500000500000500000010000010000001000000000100000010000000100000010000001000000001000000010000000010000050000010000000010000000500000001000000100000010000000100000050000001000000100000001000000050000000100000000010000000100000050000000500000001000000500000005000000100000050000001000000100000010000001000000010000000100000005000000001000000500100000010000001000000100001000005000000005000000100000001000000100000001000000010000001000000100000001000000100000050000001000000100000005000000100000001000000100000005000000010000005000001000000100000001000000010000010000000001000000010000000500000000100000005000005000001000000100000010000001000000500000050000005000010000001000000100000010000005000000500000000100000010000005000000100000010000005000001000000100001000000100000000050000005000000001000000100000100000010000050000001000000100000010000005000000100000001000001000000100000001000000100000010000001000000010000000100000100000050000005000005000000100000010000000100000010000000100000005000000001000000010000000100000010000000100000010000000100000010000010000001000000500000050000001000000100000010000000100000005000000100000001000000010000000001000000500000050000000010000000050000001000000010000000500000050000001000000100000000500000005000001000000010000001000000100000010000000100000010000050000005000000500000050000001000000100000010000001000000100000100000100000010000005000000100000010000005000000100000010000005000000100000050000001000000100000010000000100000500000010000001000000100000005000010000001000000500000050000000010000000500000001000000100000050000010000000500000005000000500000000100000000100000010000100000000100000005000000050000010000500000000100000000100005000005000000050000050000001000000001000000000100000000100000050000010000000500000005000000050000100000000010000000100000000500000000100000000100000000010000000050000000100000000100000000100000001000000010000000050000050000010000000500000005000000010000000010000000100000001000000500000050000001000000000500000010000000050000010000000500000500000000500000010000000500000100000010000001000000001000000005000000100000000010000001000000001000000001000000100000010000000500001000000005000000010000000010000100001000000010010000000100500000001000050000010000005000100001000500000001005000050000500000000500001000000005000000010000000010000000100010005000500000001000005000010005005001000000001000000001000000100000050000100000100000005000050000000010000001000000000100005000010000001000000050000100010000100000500000000100001000000100001000001000500050000500010000100000500010000000010000100000100000500001000100000500050005000050001000010000500010000000010000000010000000100000001000000010000000010000000050000000500000000100000000500000000500000001000000001000000001000005000000010000050000000050000000100000001000000001000000001000000100000000100000000100000000100000500000100000000500000001000000001000000100000001000000050000001000001000000100000000100000001000000050000001000000001000000010000000010000001000000050000050000010000000100000000100000500000100000000100000000100000500000010000000010000000010000000100000005000001000000100000500000050000001000000000500000100000000010000000010000000100000000100000000100000010000000005000000001000000005000000010000500000100000010000000010000050005000050000000010000050000500005000001000500005000000001000000005000005000500000001010000050005005000001000005000005100005000010500000105001000000050001000010000000005000000050000000500000000500000005000000100000000010000000010000010000000001000000100000500010000100050000000500000010001000005000001000001001001000050000500010000000005000050005005000050005000010500100010000100100000000500000010000010000000100000001000001000000005000500010000005001000500000100005000100100000050005000000100010000100001000010000000500001000000100100010000100000000500005000010000100000050000100000000110000000500000500000050000000050000050000000100000010000001000000001000000100000000500000100000005000000010000000100000000010000000010000005000000500000010000000500000010000000500000010000000100000001000000100000010000000010000000100000000100000100005000000010000100000005000000010001000000001000010000010000005000000010000000100050000101000100000001000500100010000100010010001000010000100005001000000005000050000010000100000500000001000000010000010000000100010000010000010000010000050050001000000500000100000100010001000000010001000000001000100010000010000500010050001000100005000100000010000010000100100001000010000100000001000000005000000050000000500000050000000500000001000000050000010000000010000005000050000100000100000001000000500000100000010000000010000000100000100000500001000000010000000100000500000001000000010000000100000010000100000010000005000000010000050000000100001000001000100001000005000100005000050005000000001000001000010000001000000010000010000100001000010000010000100001000000010000100000010000050000001000000100000050000010000001000010000000100005000010000001000100000100000100005000100000010000050000005000000100001000000100000010005000001000050000100000050000100010000010000100000100000100005000010005000100001000010000001000000001000000001000010000010000001000000010000500001000010000010050000100500001000000500000500010000001000001000005000500000100000001000005000010000000100000001000000001000100510010001000001000000100105001100100001050001000000001001000010050000500150001000010000000010001000001001000100001000001000050010001000010001000050005001010000500010000050000010000005000005000001000050000100000010000001000000010000001000000050050000010000010001005000100001000001000050000010000100000100000500000001000000010001000501000010000500050001000001000000001000001000010001000100050000010001000001000000500010001000100001000050000510000100010100000100050110500050100000500010000010005000500001000001001001000005001050000000010000001000000001000000100000010001000001000000010000000010000000100000010001000000001000000500000005000005000050000100000010010000000010000000010000000500000001000000010000000100000000500000001000000100000010000100000100000010000001000000050000001000000001000000050000050000000100001000000010000100000001000000500000010000010000100000001000500050005000000100001000100001000001000000500050000100000010000001000000500000500000010000000100000001000000001000000005000001000050001000001000050000500005000010000010005000001000010000050000050001000010000100000100001000005000010000000100005000005000100001000001000001000010000010000010000050000010000050001000010000000100000050000000100000500000050000000010000001000005000001000000010000000010000000500000001000000500000005000000010000010000000050000050001000001000000100000100000100000100000000501000000100005000010000100010000050000050005000100005000010000010000010000100000000500050001000000005001000000001000000050001000000001000500000005000010000000500000001000010000000500010000010000000100001000000100001000000500050000005000010000000100000005000000100001000000010000100000000500000005000000500000010000000010000050000001000005000000100000500005000100000001000000100000010000100000100000050000001000000010005000001000010000001000001000010000001000000500000500050000100000505000001000000100001000001000100000010000001000000100000100000500000100000100001000001000001000000500000005000001000000010000000100000000500000001000000010000000010000000100000001000000500000050000005000000500000010000000010000000010000000100000010000000050000100000001000000010000000500000050000000100000010000005000000010000000100000010000000050000001000001000000010000001000000500000050000100001000001000100000500000100000010000100000010000500000010000001000010000100100000050000010100000500010000001000050000001000000050000010000000100010000001000000050000001000000010000000100000010000000010000010000010000050000100000000100000005000100000001000000500000001000000100001000005000001000010000010001000010000050050000500000001000010000001000100000000100001000000100010001000000100000010000100000010000050000050000010000010000005000001000005000100001000000500001000001000010000100001000005000500005000500001000000100000100001000001000005000010000100001000010000001000001000000010000001000001000005000010005000010000010001000010000005000001000000050000010000001000000100005000001000000050000000100000010000500005000010000001000050000100000010000500001000000100001000001000100001000000100001000001000001000100000500010000001005000000500000500001000500005000000100001000001000001000100000100000100000500000010100000001000000100000050000005000010000050001000010000010000005000005000050000010000001000001000000100000100000050000500005000001000001000000100010000500000010001000100000100000100001000010000100001010000000100001000010000005000001005000010000100050000001000100001000100000001000010000500010010000000100010000010000100001000500000010000000500010010050010000500050100000000100000001005000001001000000050000001000100000010001000000100500000010001000000010010000000100000001000000050000001000000001000000010000001000000500000100000050010000100001000500050010000100010000100010005000100000100500010001001010010001000010001001000100501001000105050501005001000010010010010000100100055001105000010010000010010010005010050100005000010050100100100001001001000001001005000100501001001001005005010000050150100100100100101000001001005015010010500005010010000001000005000050001000000100050000100000010000100000100005000050000100000010000100000010000500010010001000100100010000010000050010000001000100000500010000500000010000000100100000100100100050001005001000100005001000050000005000050000100000100001000000100010010100100000010500100001005005001010001000100100101010100001001001001005050001005501000501010000055051010500000101010050010000010000010050000050000100010000100050001001000010000000500001000050010000005005001001000100100000001000000010000105000105001000100010100500010000500000001005000000100050000100000005000050000100010000100001000010000000500005000001000000010000000100000001000000100000100000050000100000010000010000005000000100000500000050000010000500005000001000000100000010000100000010000050000100000005000050000100000100000001000001000001000010000000100001000050000100010005000100010000500010000001000100010000100001000050001000050001000001000100000100000100000500000100001000000100000010000000100000100000001000000010000000500000010000000100000001000000010000005000000100000005000000500000010000000001000000050000001000000100000001000000100000100000050001000100000010000100100000001000001000000100000100000100000010001000000010000000100000000100000001000000050000001000000500000050000001000000050000001000001000000010000001000000010000000100000100000001000000050000001000000100000010000000500000001000010000010000010000000500000010000000100001000000010000001000000500010001000001000010000100001000050001005000100050001000100005000001000001000101000001000010000500010000100001000010000001005005000100010055000010100000010005000050001000101000000100010000001000005000050000010000010100101500500100001000100000005010001010510500000005000100001000000100000001000000050000000100000005000000100000010000000500000010000000100000050000005000000100001000001000000500000010000005000010000000100000050000001000000010000010001000000010000050000500000010000000100000010000010000050000000100001000001000010000100001000000500010000100050001000010000001000000500010000500001000100000100050001000000100005000010000100000050000005010000010000010000001000001000010000000100000001000005000050000050000100050000001000000010000000500000050000001000000010000000100000005000000005000000100000005000000500000010000000050000005000000100000050000000500000005000000100000010000000100000001000000050000000500000050000010000001000000100000001000000010000005000000500000050000005000000100000050000001000000500000100000500000010000001000000100000010000001000001000000010000010000005000001000005000000100000100000100000500000100000100001000001000005000010000001000000001000000100000010000100010000001000005000010000010000100001000100000100000010000010000010001000010010000010000100050000100001000100100010000005000001000100005000500010000010001000010000100100000010001000000100005000010000100000000100000100000100005000100010001000000010001000000010000100000500010000010000005000010005000100010000000500005000010000100050000000100000005000010000100005000100010000100000010000000500050100000001000000100100000100000100010000005000100100000100000500100000500005001000000100010000050000101000100000510050010010050005000010000005000000100010001000005000100000001000010000000100000100000010100000100000100000100010010001000000100000100001000005000001000010000001000010000100000100500010000050000100100010005050050001050005100001000000101050000500005010000100100100011000001000010001000505000005001000100010050000050100500050001005000100500110001010500000110001001000010010000101000010110001000010000010000101000100010510000000001100001000000100000005000000100000001000000010000000100000001000000050000005000000100000001000001000010000001000000100000500000500010000100001000010000100050050010000010000100010000500100005000010001000010000100010010001000010000100000010000010005000100001000005000100001000050000100010000001000500500010005000500000110010000100001100001005100010000100100000100001000010000500001000100000100005000050000500001000010010001050050000100000010000010000000100000100000000105000000100000100000005000500000100010000010001000100100050005000000500005010050010050010000001000500005000100005010501000050010001000001000100010010005001001000100010050500100000500100100010050000001000000100005000100000050000050000010000100005000500000500001010005000100001000001000100001000100010000500500100100010000050000500050000100005001000050000010000050001001000001000005000500000100001000000100000500500010010500100100000100000100000005000001000001000000001001000500001000001000000010000010001000050000001000001000000100050000000500000001000005000000050000005000500010000010000000100005000000010000010000000100000001000000500000010000001000000010010000000100000001000100001000010000500001000000500001000005000000100000001000010001000005000010005000000100000100000050000010001000100010001000005000100000010005000100005010505000050000100100000100000010000010001000010005001000100005001000001000100100010000510005000100001000000010001000500100010050001001000101001001010010001010001000100000500001005005001000100000010000005001000500100100010010100010010000005000000101000005000010001010000000100000100500000010001000010500000501000000100000050000001000001000010000101000001001000001000000001000005000010000000500005010000010000005000001000000010000005000000100001000001000005001000001000000100001000100010000105001000100000101010001010050010001000001001011010001000105000100005000100050000500001001000000500001000100005005000110501005001000005000001000001000010005000100001000000001000100001001000010000100100001100010001000010000000500050001000000100000010000000501000000010000000100000001010500000001000000010000000100000005000000050000005000000100000001000000100000001000000050000005000000100000500000100001000050000500100001005001000500050000100100010010000500000100005000000100500001000000010500100100000050010010000050010510000000101000000010010100000010000005100100000100001000001000001000005000001000001000005000000500000010001000005000500010000500050100505010010000010001000050010010000000010000010001000101000010001000010001000100005000100005000010000100005100001005000100100100001000100005055000001000010000100000100001000010000010000001000000500010000100000100000101000005000010000100000100000100010000100010010000500000100500005000501001010000500100100010010051000010001000010001005010105001000010000010000000010000005000010000005000010000010010010001000050010010000100005000010010000010001000100100010100001000005500100100000100050015001050010100100000010000001000501000010010001001010500100010000000500000500010000050000010010000010000010000100100001050000050001000010001001000010000500010001001050005000010000500050001000010005000100010005050005000010005000100001000100001000100001000050001000100050101000000001000001000000100010000500000005000000010001000000001001000050010000010100050000001000000010000100000010001000000100100000010001000100000005000000100000001000050000005000100000005000000050000000100000010000100001000010000500000010000005000001000100010000001000001000000010001000010005010000500010000100001000500100010050100100050000050001000100010001010001000005000010001000100010001000050100150000010000100000010000005000100000010050001000100100000010001000500050100010005050000001001005010000500050000500010000010000050100000001000500000500010000001001000010000000100000050000501005000000100501005101000500000010000010000001000000100000500001000000010000050005000100100001000500500010000010010000100000050001000050101000001001000510050000505000100001000100000001000001000010500100000500000010000001000000100001000000010000100000001000001000000500001000100000050000050501000500005000100101001001000010001001005000100050000500100501000005010000500001000010100010000050100000101000000100000100001000010001000000100050000001000001000000100050000050001000010000100005000500000500001000010000000100000010001000005005005000000500500100000010001000000500000100010000100001000005001000010010000500010000005000010010500100100010005000010010550001000000100010000100001000101001010010001010000100010000005001010005010010001050100100010010005001005050010001010010500000001000100001000100000000100100100100500500100000050010001001000001001005001005010010010010101001010500000100500100000105050100000005000000100000100005000000100000500001100051000000100000050100000100050001000100005000010000010000100050005001000001000010000010005000500010000001001001000000500100101001000000501010000100010000100000100050000500100050001000010100100010000005000001001050000105050001000010000001000010050001001000010010010050100100010005000500010010001000110000500100010000010050000001000000500100000005000000100000010001000010000001000000010000000500010000001000050000050000050000010001000000500000500005000000100000050000050000010000000100000010000010000010000001000000100000001000000100000010000050000000500000010000001000005000001000001000005000001000000100000010000010000050000050000050000005000050000010000050000001000001000000100000100000100000050000010000010000010000001000000100000010000001000010010000010001001001000100001000100010500005010100010100000500100001000500010000005001000100100010005000500005001000100001005000001001000100050001000505001000010000100000001000100000500000050001000010001010000010000001005001000100001000010500010001000000100000100500010000100100100000010000100000100000500000001001000000100010001000001000050000500100000101005001000000501000105010000010001000100500101001001000100100010501000010010101005050005005005000055005000000100001000000500000105005000010010010010005500100001050010000100500101005005001005005000100005100010000010010005005100550100050005050510000100001000100001001000010001000010050001000010005001001000500005000010001000100000501000500100100010010050005000000050010010010000000501505010001000000010110010005500000010000010001000010050000001000001000100100010010010050010050010010010001001010010100100010000100010010010050100100000001001001005010010010100100500100100500500001000050000001000050001000100010000500010000010010000100010010000100100050050010001000500050005000010010050010010010000105001000100010000100001005050010001050100010000010005000100050001000000010000001000005005000050005100010001000000505001000010100005000100000010100010050000010000050000010000050000001000100000010000010000500001000050000100010001000010005000001000001005000001001500100500050001000010101001000001010000050010010100050100100505100010001000105000100001000005050000001050010100050000000100050001000050000001001000100100001000010000001000000500010000001001000500500000100100100000100000500000100100000100000005000010001010005005000050000100000050010100000001001000000101010000000105010000010000500000010000001000000500000100000001000050000100000100000005001000050000100001001001050000005000100050005005050001000000101001010001000005000100010100500001010500000010001000010000000100000010000105100001000001000001000001000100005000000010010101010005000500000100000500000100010001000050005000000010000100100010000000500000011100500100000005500010101000010100100501005000000001000000001000001000000005000000010000001000000050000005000000100000100000500000500000010000010000000010000010000005000000010000001000010000010000010000010000100000500001000001000005000005001000050000010000100001000000100001000000010000100000100000500000100000010000500010010100000001000001000010000010000010000100000010000000100000500000100000010000000500000010000005000000100000010000000500000050000010000001000000500000010000000100000010000001000000100000010000001000005000001000005000000100005000000100000010000500001000010000100000010001001000000100001000050001000010010000001000010000010001000050001000500010001000010000001000010001000001000010000100050000500001000500000100050010000100000050001000100001005005000000100001000000100100010001000100010000001000005000010000100000500100005000001000010001000100010000010100050005000100000010000500001000010000010000005005001000000101000100100100100010000010000100100100000050010050010000005001001000055000100500000010000100010000001000100100000100010000050050010105005000105510000010000010100001100100000500000100001000100001000000010100001001010000050000500000050000001000005010001005010000010010000010001000010000005000000100000005000001000001000005001000001000010000005000005001001001000000500010000100000050000050000100005000005000100001001000100055000100100001000005000050005000000100100100500500005000100050100100000010000000010000005000001000000100000005000000100010000010000100000100000500001000050000100500010000050000010000100100010000010000100001010000005000001000100000010010000500010000500001000505000010000500000500010000010000500001000050005000010050000500001000500010000100010001010001000500100050001000010000100000500010001001005000500001000010010001000010001000100001001001000000100501000001000010050001001000100050501001001000050100000100001000010001000005000010000100001000010000100001000010000100005000050000500001000010000100005000010000050000100001000500001000050001005000000500001000000500000010000000100000001000000001000000050000010000001000010000010000001000000100000100005000005000100000100000100001000050000100000100000100000100010000005000010000001000001000500010000001000010000100000500010000500010000010000100001000010000500001000100010000010000500050000100001000005000500050000005000005000500001000010000010010500000010000010050000500010010000005001001001001000010100501000000500500050001001000000100101015000001000100000100010000010005000005000050000100000005000500000100010000005000000500000050001000001000100001000010000001000010000100001000500005001000100010005001000005005000500100001050001001001000050050500101005050100500100050500000100001000005010001000550010000000010000005000010000010050005000000500100010010000100100010001001005000010005000100100100100101010000005005100100000010010101000000010000005000100000051000005000001000010000100001000000100000001000001000010000100010000001000010000500000100000100000101000000101010005000050000500001051010001000151000010000010100010000010010000010500105000500100000100100005000001000000100010000100000100000005000000100000005000000010000500000010000005000000100000001000000100000001000000500000010000000100000001000000050000100000005000000100001000000010000000100000001000000050000001000000010000000500005000010000000500000050005000005000100010000100001000010050050500000100010000500500100050010000100001000100010000101000010000500050001001000010100001001000001050001000100010001001100010000100000001000000500000010000000500000500000050000100001000000010000001000010005000000100010000005000500000001001000000050050005000010005000000100010000500001000000050000000500000100500010000050500050050050100010000500050001050001000000010000000100000005000000100000001000000050000001000000100000001000000050000000100000010000000100000010000000500000010000000100000010000000050000000500000005000000500000001000000010000000500000010000000100000001000001000100100000001000050010001000010050000100010500100100100100010001010010050050010000100105000005051010000000101010010050000010005110500000050010050000001000001000010000501000100000010000100010001000100100000005001000010000101000100000050010000100010050000010010010010000100101001010000100100001001000000050000001000000050000000500000010000010005000000100000001000000100000010000000100000100005000010010000005000001000100000010000100050000001000005000001000000010000500000010000005010000001000001000000010000010000010001000000010000000100010010000000100000010000001000000001000000050000000100000001000000050000010000000010000000100000500000050000010000000100000001000000001000000500000001000000050000000100000001000000001000000010000000500000010000000100000001000000100000100000100000100000010001000100050000100050001000010000100000100010000500001000010001000005001000000500001000001000110050000100001001010100001010000001000100005001000500501001001001000001105000010000000500000050000000100000001000001000000100000001000000100000010005000000100005000500000010100000100000005000000100001000000100000010000005000010000000100001000000010000001000001000000100000010000001000010000500050001000005000100010001000500010000100010001010005000100010001001000010005000510100100500050000050500100500010010050510101001001010000100001000100505000010000101000005005000100000101050500101001001005000510105000010000010000010000001100000001000001000500000500005000010000005000050000100005000000500000010000001000000100000000100000010000000100000001000000050000001000000100000001000000001000005000000500000001000000010000001000000100000001000000100000100000005000001000000100000100000010000005000001000001000000100000050000010000010000000010000001000001000005000010000001000001000001000000100000001000000100000100000005000001000010000050000010000001000005000500000500001000001000001000050000010000050001000001000001000100000010005000100010000100001000001000005000010050001000001000010000100005000500010001000050000050001000500010000500001000001000001000050000010050000100010000100001000001000010000001000001000000050011000001000000100000010000010000500000100000100000100000100000100000100000001000010000010000001000000100000010000001000000100000010001000000100100000100000001000500000001000000010000000050000001000005000001000000100000010000001000000100000005000001000000100000001000000100005000005000001000000010000005000000100005005000010000010000010000001000000100005000010000010010000001000001000010000100010000100000005000010000001000000100050000010000050000100000050001000000100000010000001000000050000010000005000005000000500000100000010000001000005000005000050000100000500100050000100100505001000005010001000001010001005001000000100000010000000100055001000010100100000101000000500000010000100100010050050100050010000100050005001000000500100010000001000000010001001000101010105001005011000100000001000005000000100010100050010010000000100010010000010000500001000050000010000000010000001000000001000000010000000100000010000010000000100000010000005000000100000500005000005000005000000100000050000100000500001000001000005000010000050000500005000050005000000100000500001000000010000000500010000100000001000000500001000010005000100001000010000100010001000050100050000100001000000100000100500050000100001005000010000100010010000010001000100100010000500050000010000050100100500101000050001000100010000010000010000010000001000001000010000100001000001000100000010000500001001050001000100001000100010005000001000010005001000100001001001000105000100000100001001000100100010010000101050050001000010050010500000500000100005000500050000010000050001001000500010000001000100001000001000100000101000050000500100010000500500050001000050005000500010100505005050105001001005000505001000010000500001001000100001005000100105010001001010000500005000010000501000010000010000100100000005010000001000001000001000001000010000101000050000100000100001100050000110000050005000010000100100010000001000001010000010005000100001001001000500050010001000005001000010000100010000100005001000010001000050001010100001500000005000000050000000100000001000000010000000100000001000000001000000050000010000001000000050000005000001000500000010000001000000100000005000000100000050000001000000010000000100000010000000010000001000001000001000000100000010000001000000100000001001000010000101005010005000001000100000100100000050005050001010000000100000100050100010000050001010100000110000100000100010051000100001010100010000500010000500001000001000005100001000100000010000005000100010000010000050010001000010000105000010000010050100010010001000501000010001001000010050010500005010010010500500100100010000100100010010110001101001000005000010000100005000100000500001000005000100005000050000100010000100010010001005000100050010000500501005000100100500100050100500100501500001000010005100005000100010010001001000000100000001001000050000100050100010001001000001001000100005001000105010010001050100000100000001000000100000100001001000010000001000000500000001000100000100000050000050000050000100000100000010000001000000100000500001000000100000001000010000000100000010000010000100100010010001000005010050000010050005000000100001000000100000010000000500001000050000050000005000001000000010000005000001000000100000500000010000000500000050000005000005000001000000010000010000000100000100000100000001000000010000100000010000050000001000010000005010010010100001001000100005101010050500010000500000100000050001010000001000000500000010100000001000050000500010000001000500000010000000100000001000000100050000100100000010010000005001000100000010001000000110000000101000000100000050100510000001000000500000010000001000010010000010000005000010001000000500000100000010000100000050000005000005000001000000100010000500005000500000100001000001000005000001000000100000100000050000100000100000010000100010000500100001000050000000100505000500050005001000101000100001010010500100050010010001000000010005000010000000100000010000001000100050001000000100500110000001000100000010050000001000000010000001000001000010000010000010000010000050000010000050000100000010001000000100000010000010000100000500000010000010000100000100000010000000100000001000005000000100000100001000005000000100000100000001000000500000010000000100000100000005000000500000500000100000005000001000000100000500000500000100000010005000000500000100000010000005000005000100000500000050000010000010000005000005000000010000001000000050000050000005000000100000500000500000100000100000001000000010000000100000100010000000100000005000000100000001000000100000010000000100000001000000100000005000000100000001000000100000100000005000001000000010000000100000001000000500000010000000500000050000001000000100000050000005000000010000000100000005000000100001000100001010001001010010501001010001010101000010501501010000005000000100100100000001001000000050000010010000001000000100000050050000000100000010000000100000010000000100000050000010000001000000500000005000010010010050050000100100010100501001000100100505000100500000100000010000050010001010501005005000000100001000005001000000100010000100100100000100000001010000000100001000000100000100000010000010000010000000500500010000001000001000005000050000500000100005000001000050000100010000100010000010001000050001000500050000010000001000005000001000005000001050000500050001000100005001000001000001000500001000100050000001000000050005001000000100000005000001000000010000010000010000001000000100000050000010000010000001000000100000050000010001000005000500001000100005000010000500500010000001000100100100005000000050000010010000000500005000000100005001000000010000010000050000001000000100000001000050050001000001000001000005000000050000100000100000500005000000500000010000001000000005000000050000000100000000010000000100000050000005000010000000500000050000000100000001000000010000000100000001000000050000001000000050000005000000050000001000000010000050000100010001000005000010005000100010001000100500010000100001000500001000010000100100505001000001000010000001000100010005005001000500001000100010010010005000000501000500050101000100010501001001001010001001000100100010000100010105000050101010051000010001005000000100101000000100001000000100000500001000005000050000100010000100010001000500010000100010001010010001001000100010010005500050001000100000010005000001000500100000100000100000001000000100000010005000000500500000100000010000001000000100000100000100000100000005001010000010055010010000010100000010051001010000101000010000010100000105000000010000010000500000050010000000100005000050000010000010000010000000500010000050000005000010000001000000010000005000000100000001000000100000500000010000000100000500000100005000000500005000005000500000500050000500010005000100000100005000500050005010000001000100000100000010000005000001001000001000005000000500050000500500000010001005000000500010000010050005000010000100050500100010010001000100510000100050001005500100010055001000050010000101000000015001005101010005010000100100000010000001000000010000100000100000500100000010050000050000005000010000001000000500000100000010000010000100001000500001000001000001000001000000100005000500000100050000100001000010000500001000000100010000010000005000100005000010000100005000100000500010001000010000010005000050005000100010001001000001000005100000001000000100000050005000100050010000005000000500000010001000000100000001000100010001000000001050000001000000010000000100000010000000100000001000000010000005000000010000005000001000000500000001000001000000100000010000500000100000050000010000050000500000100000001000050000005001000001000005000050000050001000001000005000500010000001000001000005000100010000100000100005050001000001000050010000100001000000100000500000100001000010000100001000000100500001000010000500001000001000000001000001000050010000005000100001000050001000010005000050010010000100001000001005000010000010001000010000050000005005000010000500100001000001000010000050001000010000010001000001000001000010000500100000100010000001010001100000010001000050005000001000010001000010005000100001001000001000050100001000050000100000050000001000500010005000010001050010000000010010500100100100010001000100010010010010001000010005001001000500101005010010001001000010050001010001005005000100010000001000101001010100005010000005000000500000010001000000010000100000001050000000500000010000100000010000001000000010000001000000100000005000001000005000000100000050000050000010000001000000500000500000010000500010100100005001000500100010001000500000005000100050010050010010001001100010000001005001000500000010000100500000010001000050000000500001000001005001000000500000010000010000005000001001000001000000100001000010000010000001000050000010000100000010001000010000001000100050000050001000100000100500050000500000500010000010000010000100005000050000010000100000Free100000001000500005000010000100050000500000500000100001001000100100001000500010000001000050010005000000100100100501000010010010010000000100000010000000100000100000001000000050000010000000101000000100000500000001000000500005001001000000101000010000000100000010000010101000000100001010110000010010550100501001010000155010105010105000000010101000055000000510001010051010510100105000055000000100000100010000500001000010000050001000100005000100000500001000010000010005000100050005000100050001000500100010005000500050000100010000050010000100001000100005000010100500050005005000100101000050001001000000500010010000100001005010000010000105010001000100010000010005000100001000500010000000500100001000010001000005000001000010000100000100000010000000010000100001010100000501100010051050101010500101000010005000105101000000101000000105050010010000100000100000100000100000050000001000000100001000010000000100000100010050010010010010010011005010001500501001005001000000001100100000001000000100000010000050000001000001000000010000005000100010000001001000001000000010000100010000005000010000000100000005000050000001000001000010010010010005000500000100000001000000100050010011000500010100010000010005000100000010000100005000500001000000100010001000105000011000001000005001000010010000010001001010110100000100001000010001000000010000500001000000010000500005000050050000500005000010000005000001000100000100000010000005010000050001000100001000000100000100500100500001000000100100100010000500005000001001000001000050001000501010010000100500000050001000010000100000500010000010005001050001001000100010000000 to numeric",
     "output_type": "error",
     "traceback": [
      "\u001b[0;31m---------------------------------------------------------------------------\u001b[0m",
      "\u001b[0;31mValueError\u001b[0m                                Traceback (most recent call last)",
      "File \u001b[0;32m~/miniconda3/lib/python3.9/site-packages/pandas/core/nanops.py:1622\u001b[0m, in \u001b[0;36m_ensure_numeric\u001b[0;34m(x)\u001b[0m\n\u001b[1;32m   1621\u001b[0m \u001b[38;5;28;01mtry\u001b[39;00m:\n\u001b[0;32m-> 1622\u001b[0m     x \u001b[38;5;241m=\u001b[39m \u001b[38;5;28;43mfloat\u001b[39;49m\u001b[43m(\u001b[49m\u001b[43mx\u001b[49m\u001b[43m)\u001b[49m\n\u001b[1;32m   1623\u001b[0m \u001b[38;5;28;01mexcept\u001b[39;00m (\u001b[38;5;167;01mTypeError\u001b[39;00m, \u001b[38;5;167;01mValueError\u001b[39;00m):\n\u001b[1;32m   1624\u001b[0m     \u001b[38;5;66;03m# e.g. \"1+1j\" or \"foo\"\u001b[39;00m\n",
      "\u001b[0;31mValueError\u001b[0m: could not convert string to float: '10000500000500000050000000100000500005000010000001000000100001000000100000010000000100000100000500050000010000500000010000000100000100000500000100000500001000050000010000010000100000100000500001000001000001000010000050000050000001000050000010000100000100000001000001000010000000100000100000100000100000100000010000010000001000001000001000005000010000010000010000010000100000100000010000010000010000500005000000100000500000050000005000001000000010000050000050000100000100000010000010000005000010000005000001000001000000100000010000010000010000001000001000001000000100000010000001000000500000500000100000500000100000010000050000010000005000001000001000000500001000000100001000000100000100005000010000010000100001000010000000500000100000050000100001000000500005000005000001000001000050001000010000100000500010000010000100001000000500001000010000000050000100000100000001000000001000000010000000100000001000001000000100000005000001000000100000000050000001000001000000050000010000000100000010000005000001000000500000100005000000100000500000050000010000005000005000001000000500000010000000100000100000100000500005000001000000050000100000010000001000000500000100000100000001000000050000000100000005000000100000050000000500000010000000010000001000000500000100000005000000100000050000000100000001000000100000005000000500000050000005000000100000100000010000001000000100000005000000100000050000001000001000000010000001000000100000500000010000001000005000000050000001000001000000500000010000001000000010000000100000010000010000010000000500005000000500000050000001000001000001000000500000100000500000500000100000010000001000000100000100000100000010000001000000010000000100000100000500000050000100000010000005000001000000010000000500005000000500000050000001000001000001000000500000100000500000500000100000010000001000000100000100000100000010000001000000500000010000001000000010000000100000010000010000050000000100000000500000010000100000010000000500000100000050000050000500005000010000001000010000100001000010000100000500000010000010000001000001000000100000010000001000000100000500000050000100000100001000050005000001000000500010005000000100005000010000001000001000000000100000000010000000100000000010000000010000000001000000000500000000500000010000000010000000010000000050000000050000000500000050000001000000001000000010000000100000001000000010000000010000001000000100000005000000100000001000000010000000050000001000000001000000001000000010000001000000001000000005000000001000000010000001000001000000010000000100000005000000005000000500000010000000001000000000500000000100000005000000001000000000100000005000000500000001000000001000000000100000000100000000100000001000000001000000001000000100000001000000010000000100000001000000050000000010000000100000010000000010000000010000001000000100000001000000000100000000500000001000000010000000010000001000000005000000010000000050000000010000001000000100000010000000500000500000100000100000001000000050000005000000001000000100000050000001000000010000001000000010000001000000100000001000000050000001000000050000001000000100000050000001000000100000000100000010000000001000000005000000100000001000000100000010000001000000050000000100005000000100000050000010000000005000000005000000050000000010000000001000000001000000500000010000000100000005000000001000000001000010005010010010010000000100000001000000010000050000050000001000000100000001000000100000005000000500000010000050000010000001000000100001000000100000010000010000000100000010000050000050005000005000000100000010000010000001000000100000100000500000500000500000100000500000500000100000500001000000100000010000010000010000010000100000100000010000010000000500000100000100000050000500000050000010000010000050000010000000100000010000050000010000010000005000000500000500000100000001000010000000100000100000100000050000010000010000001000001000000100000005000050000010000001000001000050000010000001000001000010000100001000000010000005000005000005000001000000100000500000100001000001000005000001000001000000100001000010000001000000010000100000100001000000100000050000100005000005000000100000010005000100050050001000010010000100010010001000100010050050050001001005050005050010500500100100010100105005001010010010101005010010010500100050050110100015010010000500100010510100100000010000010000050001000100000050001000500000050010010000010000005000001000100001005000001000010000100010005005000100001000050000100001000005000100001000100005000000100000100000050001000000001000000010000050000001000000010000050000001000000500000500000100000010000005000000100000050000050000005000001000000100000001000000010000005000000500001000000100000010000001000000100000050000010000005000000100000050000050000010000010000000100000500000010000000500000010000000100000001000000500000010000005000000500000010000000100000001000000100000010000001000000100005000010000001000000100000010000001000000100000010000001000000100000010000001000000100000100000010000010000100005000050000010000010000010000010000100000100000500005000010000010000050000001000000010000000010000000500000010000001000000100000050000001000000010000001000000010000001000000100000001000000500000010000000050000005000000100000050000010000001000000100000001000000010000000100000050000010000001000000500001000000100000100000100000100000100000001000000010000010000100000001000000010000000100000000500000500000050000005000005000000100000001000000050000010000000100000010000001000000100000010000001000001000000010000000500000010000000100000005000000100000010000010000001000100050000010000010000000010000001000000100000005000000010000000500000050000001000000050000001000000000100000000500000010000005000000500000010000001000000100000001000000005000000100000001000000100000005000000050000001000000010000001000000010000001000000050000000100000010000000050000000100000050000005000000010000000010000001000001000000100000010000000100000001000001000001000000100000000100000000500000100000100000100000010000001000000010000001000000010000000100000005000010000001000000010000005000000100000050000001000000100000001000000010000001000000100000010000001000000100000000100000000100000001000000010000000100000001000000010000000100000005000000500000050000050000001000000100000001000000010000001000000500000100000010000001000000100000010000000100000010000000100000001000000100000000100000001000000010000000100000001000000010000000100000005000005000000100000001000000100000010000000500000010000000100000010000000100000100000010000001000000100000010000001000000100000010000000100000010000001000010000000100000100000500000010000000100000001000001000001000000100000010000001000000100000001000001000000010000000100000500000050000050000500000010000001000010000001000001000010000001000001000001000005000010001000000100005005000010010010000010000050010000010010000010010005000100000100010000010010005000050001000001001000100010050010000000100000050000005000000500000010000000500000500000010000000100000010000001000000050000001000000100000010000000100000050000001000000100000050000001000000500000010000001000000100000001000000010000005000000010000000100000010000001000000100000001000000100000000500000010000005000000100000010000000100001000000100000100000100000100000010000001000000001000000100000050000001000005000001000000100000500000100000010000001000001000001000000100000050000100000010000010000000100000100000050000001000000100000100000010000010000001000000500001000000500000050000010000001000000100000050000001000000100000500000100000010000001000000500000100000050000005000001000001000000100000050000005000000500001000000500000010000010000005000001000000500000100000500000001000000100000100000100000010000005000000100000000500001000000010000500000010000000100000001000000500000010000001000000010000000100000010000000500001000000010000001000010000010000001000000010000005000001000000050000050000100000010000001000000500000500000010000005000000100000010000000100000100000005000000500000010000001000000050000001000000100000010000001000000100000100000100000050000500000500000100000100000010000001000001000005000000500000100000100000010000500005000000100005000010000001000000100000001000000100000010000005000000100000001000000050000500000010000010000001000000010000001000000100000100000001000001000000500000010000000100000050000005000000100000001000000010000000500000500000010000001000000010000000100000001000000010000000100000001000000100000001000000100000500000100000500000500000010000001000000050000100000005000001000001000000100000005000001000000050000001000000500000001000005000000100000001000000100000100000001000000500000100000100000001000000500000010000005000001000000100000010000001000000010000000500000010000005000000100000005000001000000010000000100000050000001000000100000001000000010000001000000050000001000000500000010000000100000001000000500000010000010000001000001000000500000500000100000100000010000500000100000100000100000050000001000005000000500000100000001000005000000100000100000010000001000000100000050000001000000100000010000005000001000000050000010000001000000001000000050000000500000050000005000001000000100000010000001000000050000500001000000100000001000000500000050000001000000100000050000005000000100000001000000050000001000000010000005000000010000000100000001000000010000000100000001000000500000100000010000001000001000000010000001000005000050000010000001000005000000010000000100000050000050000001000000100000010000000100000100000100000010000050000001000000500005000001000005000000010000000500000100000010000010000005000001000005000001000000100000050000050000010000010000005000000500000500000050000001000000500000010000005000001000000050000001000000010000010000001000000050000001000000100000010000001000000010000100000005000001000001000000100000010000001000000100000010000050000001000000100000010000005000500000010000100000500000100000010000010000001000001000001000000500000500000500000050000050001000001000050000100000100001000001000000100000500000100000050000100000001000000500000100000010000005000005000001000000100000010000000100000001000000050000010000005000000100000010000000500005000010000100000100010000010000100000500000050000100000001000100000500001000005000010000010000500005000010000010000010000000100001000001000010000500050000050000001000001000000100001000000100050000010000001000001000000100001000000500000500000100000500005000005000001000000100000500000010000000100000100000005000000100000050000001000000100000001000000100000050000001000000050000050000001000000010000001000000100000005000000100000010000000500000001000000500000500000100000050000001000000100000010000010000001000000100000001000000100000010000000500000100000001000000100000010000010000010000000500000100000010000001000000100000100000100000010000001000000010000050000050000010000100000500000010000005000005000001000010000001000001000000050000050000010000100000010000010000000100000500005000100000100000010000050000100000010000010000005000000500000500000100000050000010000001000001000000100000100000000100000000050000000010000000100000005000000010000000010000000050000000050000000010000000050000001000000001000000001000000001000000001000000100000000500000005000000100000000100000010000000050000000500000001000000050000000100000000100000000100000001000000010000000100000000500000010000000500000001000000005000000010000000100000001000000010000000010000000010000000100000000100000000100000000100000000010000000050000000010000000010000000050000000010000000010000000010000000100000000100000000100000005000000010000000100000001000000010000000010000000100000000500000050000000100000000500000000100000000500000001000000010000000010000000100000050000000010000000050000001000000010000000010000001000000001000000001000000001000000010000000010000000010000000100000000100000000100000000100000005000000010000001000000001000000001000000000500000000100000005000000050000000100000000100000000100000000100000000500000000500000005000000050000000100000000100000000100000001000000050000000100000001000000100000005000000500000010000000010000001000000100000001000000050000000500000100000010000000050000005000000100000005000000050000000100000001000000010000000500000001000000010000000050000005000000010000000100000010000000100000010000000100000005000000100000001000000010000005000000500000050000001000000050000005000000100000050000001000000010000001000000500000010000001000000010000000100000001000000100000050000001000000050000001000000010000010000001000000100000100000100000100000100000100000100000100000100000100000500000010000000050000000010000000010000000010000000100000005000000010000000500000010000000500000005000000100000001000000050000001000000010000000500000100000050000005000000050000001000000050000010000005000000050000001000000500000000100000000100000000100000000010000000010000001000000010000000500000001000000001000000001000000001000000001000000050000001000000500000000500000000100000000100000001000000010000000010000000010000000010000000050000000100000001000000010000000010000000500000001000000500000001000000001000000010000000100000000100000000500000005000000001000000001000000001000000050000001000000010000000010000000050000000100000000010000000010000000050000000010000000050000000100000000100000001000000005000000050000000100000005000000050000000100000001000000001000000010000000500000050000000100000005000000050000000100000001000000010000000100000001000001000000010000000100000000100000010000000010000001000000500000010000000100000001000000010000000100000000500000050000001000000010000050000000500000050000000100000005000000001000000005000000100000000100000000100000001000000010000000500000010000000100000000100000000500000005000000100000001000000001000000010000000100000000500000001000000001000000100000000100000001000000001000000010000000050000001000000010000005000000010000000100000005000000050000000500000010000000100000001000000005000000100000001000000001000000005000000050000000100000000500000001000000050000000100000001000000001000000500000050000001000000100000050000001000000100000500000050000000100000050000010000000500000500000010000005000001000000050000010000005000000010000000100000010000000500000010000005000000500000100000001000000100000010000000100000001000000001000000010000000100000010000000100000010000000010000000100000500000010000010000500050000001000001000000100000050000001000000100000010000001000000500000050000050000010000001000000500001000000100000010000000100000100000500000500000500010005001000000001000000010000000010000000100000010000000100000100000001000000500000050000010000000100000010000001000005000050000000500000100000005000001000000100000001000000100000500000010000001000000100000001000000100000001000000050000000100000005000000100000100000005000000100000001000000500000001000000100000001000000100000005000000100000001000000010000000500000010000005000000010000001000000050000050000050000010000010000010000001000010000000500000100000500000100001000010001000000050000001000000100000010000001000001000005000050000010000050000001000100000100050000100010010010005000500010001000010000500010000000100000010000001000000100000100000100000500000010000010001000010000500001000000010000001000000100000010000010000010000050000001000001000100001000050000100000000100000005000000010000000500000010000000500000010000000500000050000001000000005000000100000001000000050000001000000100000001000000050000005000000010000000500000010000001000000050000001000000100000010000001000000010000001000000500000050000001000000010000000100000001000000100000100001000010000100001000050005000100000500001000100005000010001000100001000100010001005000500050010001000010001001000500500010005001000500010000100010000100100050001000010001000100500001000100050005000100010000501000100001000100050050010005000100000010000001000000100000010000005000005000050000001000000100000010000050000010000100000050000050000050000005000050000010000005000001000001000001000001000005000001000001000000100000050000100000010000010000010000010000010000005000010000010000010005000001000000100001000000100010000050000010000050000500000100001000000100000500010000010000010000050001000001000001000005000010001000001000000500010000100005000010000010000100000100000500001000010000500001000010000100005000010000010005000010005000100010001000100000100000100000100005000100001000010000500010001000100050001000010001000050001001000100001000050001005000050001000100001001000100000150101500100500100050100100101010010010100501010010001010010500501001051050101501001010510101100500051010105501105051001001051001010010551050000010000010000001000000100001000100005000050000100010001000005010000010000500500010000500001000001000100000100000500010000001000050010005000100001050000010010000100001000001005000100001000050000100010001001000500005000010010005000010000100000100010000500100000500010000001000000000100000000050000000010000000100000000100000050000000010000010000000010000000100000000010000001000000100000050000001000001000000500000050000001000000500000010000000500000010000005000005000000500001000000010000005000000100000010000001000000010000000100000001000000010000000100000010000000010000001000000050000005000000100000001000000001000000010000000100000001000000005000000010000000500000001000000050000001000000010000000050000005000001000005000000001000000000100000050000010000000100000005000005000000001000000000100000000500000050000000100000010000000500000005000000050000001000000100000000100000001000000001000000010000000100000010000000050000005000000050000000100000001000000010000050000005000000500000001000000010000000100000001000005000000500000005000000010000000100000005000000010000000010000000100000001000000010000000100000050000001000000010000000010000000100000001000000050000001000000001000000010000000050000000100000000500000005000000010000001000000050000005000000100000010000001000000050000000100000001000000010000005000000100000001000000100000001000000100000005000000010000000100000001000000010000000100000001000000010000000100000005000000010000000100000001000000010000000100000000500000010000005000000100000010000001000000100000010000000500000500000100000010000000100000001000000001000000100000001000000050000000500000010000000100000010000000100000005000010000001000000100000001000000010000005000000100000010000001000000050000000100000010000000100000500000100000010000000010000000500000500000500000050000010000010000000100000010000000100000010000000010000000500000010000000500000010000001000000010000000050000001000000100000050000005000001000000010000000010000000100000010000001000000010000000100000001000000010000000100000010000000100000000500000050000050000010000005000000500000010000001000000050000000100000000500000100000010000000100000100000010000000010000001000001000000100000005000000100000000500000010000005000001000000010000005000000100000050000050000100000010000001000000000500000005000000100000001000000010000000500000001000000100000000100000010000050000001000000500000010000001000000500000050000000500000100000001000000050000000500000100000010000001000000001000000100000000500000001000000010000001000000500000010000000100000010000005000000100000001000000010000000010000000100000000100000001000000500000010000000005000000100000001000000050000005000000010000000010000000500000001000000001000000050000001000000001000000010000000010000001000000005000000010000001000000001000000100000010000001000000500000010000000010000000100000010000000500000010000001000000000500000010000000100000005000000500000010000000100000001000000050000001000000100000001000000010000000010000000100000001000000010000005000000050000001000000001000000010000010000000100000000100000000500000001000000001000000100000500000005000000050000000100000005000000100000001000000010000000010000000010000005000000100000001000000010000001000000050000000500000005000000050000000100000001000000010000000050000000100000000100000000100000000100000005000000010000000010000000010000000010000000050000001000000050000000100000000100000010000000100000010000000500000050000001000000010000000010000000100000001000001000000050000005000000010000000100000005000001000000010000005000000500000050000001000000010000001000000050000005000000500000050000005000000100000010000001000000050000001000000010000000500000010000010000001000000100000050000001000005000005000005000001000000100000001000005000000100000100000500000100000001000001000000500000500000010000050000001000000050000000500000050000001000000050000001000000010000001000000050000005000000500000010000000100000100000010000001000001000000100000100000010000001000005000050000010000010000001000001000001000000500001000000100000050000001000000100000050000001000000100000010000000100000050000001000050000100000100000010000000500000010000010000001000010000000500000050000001000000050000005000001000000100000005000000100000001000005000000100000005000000500000005000005000005000001000010000005000000500000010000000100000005000000010000000100000100000005000001000000500000010000005000000100000010000000100000050000005000000100000010000001000000100000001000000050000000500000010000005000001000000100000001000000050000010000000100000000100000050000001000000001000000010000000005000000050000005000000100000000100000005000000100000005000000010000000100000000010000000100000001000000010000001000000100000050000005000001000000001000005000000500000010000001000000100000001000000010000000100000005000000500000010000000100000001000000500000005000000100000050000001000000100000000100000050000001000000500000010000000100000001000000010000001000001000100000500000010000000100000000100000010000005000000500000010000000100000010000010000005000000500000010000001000000500000010000005000000100000010000000500000050000001000000100000010000000100000010000000500000010000001000000100000010000005000000100000500000001000000050000001000000010000001000000010000001000000100000001000000005000000100000010000000010000000500000010000000100000010000010000001000000050000001000000000100000001000000500000010000001000000500000500000100000010000000001000000010000000005000000001000000050000000500000001000000001000000100000001000000001000000001000000001000000050000000500000001000000010000000500000010000000100000010000000100000500000000100000001000000010000005000000100000001000000001000000010000000100000005000000001000000001000000010000000100000001000000010000000100000000100000001000000500000100000001000000050000100000100000100000001000000010000005000000100000010000000500000001000000010000000010000000500000001000000050000005000000010000000500000050000005000000050000001000000050000005000000100000010000001000000100000010000000100000001000000500000010000001000001000000100000500000005000000100000010000005000000010000000100000010000005000000500000010000000500000000100000005000000010000000010000000100000001000000100000000100000001000000100000010000000500000010000001000000100000001000000010000000010000000100000010000001000000010000000010000000100000001000000500000001000000100000000500000010000050000005000000100000010000000050000010000001000000100000050000000100000010000000100000001000000010000000100000001000000010000000100000000100000001000000050000010000000100000001000000100000050000000100000010000000100000000500000100000010000001000000050000005000000500000500000500000010000050000010000010000000010000000500000005000000100000010000001000000100000010000005000000100001000000050000001000000050000001000000050000001000000100000001000000010000000100000001000000010000000100000005000000100000000100000000100000050000005000000010000001000000100000010000005000000100000050000000100000001000000010000000100000010000000100001000001000000010000000100000001000000001000000100000001000000500000000100000001000000001000000010000000001000000010000000100000000100000001000000005000000100000010000000100000000500000001000000001000000010000000050000001000000001000000010000000100000050000000010000000100000005000000001000000001000000050000005000000500000010000000010000000500000001000000010000000050000005000000010000000050000000500000005000000010000000010000005000000010000005000001000000100000010000000100000010000000100000010000000100000010000001000000001000000050000001000000001000000010000001000000010000000010000005000000010000050000001000000010000001000000500000000100000000010000000010000000100000000100000000100000000100000001000000001000000001000000005000000001000000001000000005000000100000050000001000000100000001000000500000010000000100000010000000010000000100000000100000001000000010000000050000010000001000000100000010000001000000500000050000001000000100000005000000500000000100000001000001000000000500000010000000010000050000000010000001000000100000050000005000000001000050000001000010000001000010000100000100005000100000050000500001000001000000100000100001000000100000010000500001000050000100000050000010000010000010000010000010000100000100000050005000001000001000050000010000100000100000010000010000010000100000100000010000001000001000001000000100000100001000000500000001000000500000001000010000000100000010000000100000010000001000000100000005000000500000100000001000000500000050000001000000100000005000000100000050000001000000500000001000000100000100000001000000100000005000001000000100000001000001000000500000500000500000010000010000001000000000100000010000000100000010000001000000001000000010000000010000050000010000000010000000500000001000000100000010000000100000050000001000000100000001000000050000000100000000010000000100000050000000500000001000000500000005000000100000050000001000000100000010000001000000010000000100000005000000001000000500100000010000001000000100001000005000000005000000100000001000000100000001000000010000001000000100000001000000100000050000001000000100000005000000100000001000000100000005000000010000005000001000000100000001000000010000010000000001000000010000000500000000100000005000005000001000000100000010000001000000500000050000005000010000001000000100000010000005000000500000000100000010000005000000100000010000005000001000000100001000000100000000050000005000000001000000100000100000010000050000001000000100000010000005000000100000001000001000000100000001000000100000010000001000000010000000100000100000050000005000005000000100000010000000100000010000000100000005000000001000000010000000100000010000000100000010000000100000010000010000001000000500000050000001000000100000010000000100000005000000100000001000000010000000001000000500000050000000010000000050000001000000010000000500000050000001000000100000000500000005000001000000010000001000000100000010000000100000010000050000005000000500000050000001000000100000010000001000000100000100000100000010000005000000100000010000005000000100000010000005000000100000050000001000000100000010000000100000500000010000001000000100000005000010000001000000500000050000000010000000500000001000000100000050000010000000500000005000000500000000100000000100000010000100000000100000005000000050000010000500000000100000000100005000005000000050000050000001000000001000000000100000000100000050000010000000500000005000000050000100000000010000000100000000500000000100000000100000000010000000050000000100000000100000000100000001000000010000000050000050000010000000500000005000000010000000010000000100000001000000500000050000001000000000500000010000000050000010000000500000500000000500000010000000500000100000010000001000000001000000005000000100000000010000001000000001000000001000000100000010000000500001000000005000000010000000010000100001000000010010000000100500000001000050000010000005000100001000500000001005000050000500000000500001000000005000000010000000010000000100010005000500000001000005000010005005001000000001000000001000000100000050000100000100000005000050000000010000001000000000100005000010000001000000050000100010000100000500000000100001000000100001000001000500050000500010000100000500010000000010000100000100000500001000100000500050005000050001000010000500010000000010000000010000000100000001000000010000000010000000050000000500000000100000000500000000500000001000000001000000001000005000000010000050000000050000000100000001000000001000000001000000100000000100000000100000000100000500000100000000500000001000000001000000100000001000000050000001000001000000100000000100000001000000050000001000000001000000010000000010000001000000050000050000010000000100000000100000500000100000000100000000100000500000010000000010000000010000000100000005000001000000100000500000050000001000000000500000100000000010000000010000000100000000100000000100000010000000005000000001000000005000000010000500000100000010000000010000050005000050000000010000050000500005000001000500005000000001000000005000005000500000001010000050005005000001000005000005100005000010500000105001000000050001000010000000005000000050000000500000000500000005000000100000000010000000010000010000000001000000100000500010000100050000000500000010001000005000001000001001001000050000500010000000005000050005005000050005000010500100010000100100000000500000010000010000000100000001000001000000005000500010000005001000500000100005000100100000050005000000100010000100001000010000000500001000000100100010000100000000500005000010000100000050000100000000110000000500000500000050000000050000050000000100000010000001000000001000000100000000500000100000005000000010000000100000000010000000010000005000000500000010000000500000010000000500000010000000100000001000000100000010000000010000000100000000100000100005000000010000100000005000000010001000000001000010000010000005000000010000000100050000101000100000001000500100010000100010010001000010000100005001000000005000050000010000100000500000001000000010000010000000100010000010000010000010000050050001000000500000100000100010001000000010001000000001000100010000010000500010050001000100005000100000010000010000100100001000010000100000001000000005000000050000000500000050000000500000001000000050000010000000010000005000050000100000100000001000000500000100000010000000010000000100000100000500001000000010000000100000500000001000000010000000100000010000100000010000005000000010000050000000100001000001000100001000005000100005000050005000000001000001000010000001000000010000010000100001000010000010000100001000000010000100000010000050000001000000100000050000010000001000010000000100005000010000001000100000100000100005000100000010000050000005000000100001000000100000010005000001000050000100000050000100010000010000100000100000100005000010005000100001000010000001000000001000000001000010000010000001000000010000500001000010000010050000100500001000000500000500010000001000001000005000500000100000001000005000010000000100000001000000001000100510010001000001000000100105001100100001050001000000001001000010050000500150001000010000000010001000001001000100001000001000050010001000010001000050005001010000500010000050000010000005000005000001000050000100000010000001000000010000001000000050050000010000010001005000100001000001000050000010000100000100000500000001000000010001000501000010000500050001000001000000001000001000010001000100050000010001000001000000500010001000100001000050000510000100010100000100050110500050100000500010000010005000500001000001001001000005001050000000010000001000000001000000100000010001000001000000010000000010000000100000010001000000001000000500000005000005000050000100000010010000000010000000010000000500000001000000010000000100000000500000001000000100000010000100000100000010000001000000050000001000000001000000050000050000000100001000000010000100000001000000500000010000010000100000001000500050005000000100001000100001000001000000500050000100000010000001000000500000500000010000000100000001000000001000000005000001000050001000001000050000500005000010000010005000001000010000050000050001000010000100000100001000005000010000000100005000005000100001000001000001000010000010000010000050000010000050001000010000000100000050000000100000500000050000000010000001000005000001000000010000000010000000500000001000000500000005000000010000010000000050000050001000001000000100000100000100000100000000501000000100005000010000100010000050000050005000100005000010000010000010000100000000500050001000000005001000000001000000050001000000001000500000005000010000000500000001000010000000500010000010000000100001000000100001000000500050000005000010000000100000005000000100001000000010000100000000500000005000000500000010000000010000050000001000005000000100000500005000100000001000000100000010000100000100000050000001000000010005000001000010000001000001000010000001000000500000500050000100000505000001000000100001000001000100000010000001000000100000100000500000100000100001000001000001000000500000005000001000000010000000100000000500000001000000010000000010000000100000001000000500000050000005000000500000010000000010000000010000000100000010000000050000100000001000000010000000500000050000000100000010000005000000010000000100000010000000050000001000001000000010000001000000500000050000100001000001000100000500000100000010000100000010000500000010000001000010000100100000050000010100000500010000001000050000001000000050000010000000100010000001000000050000001000000010000000100000010000000010000010000010000050000100000000100000005000100000001000000500000001000000100001000005000001000010000010001000010000050050000500000001000010000001000100000000100001000000100010001000000100000010000100000010000050000050000010000010000005000001000005000100001000000500001000001000010000100001000005000500005000500001000000100000100001000001000005000010000100001000010000001000001000000010000001000001000005000010005000010000010001000010000005000001000000050000010000001000000100005000001000000050000000100000010000500005000010000001000050000100000010000500001000000100001000001000100001000000100001000001000001000100000500010000001005000000500000500001000500005000000100001000001000001000100000100000100000500000010100000001000000100000050000005000010000050001000010000010000005000005000050000010000001000001000000100000100000050000500005000001000001000000100010000500000010001000100000100000100001000010000100001010000000100001000010000005000001005000010000100050000001000100001000100000001000010000500010010000000100010000010000100001000500000010000000500010010050010000500050100000000100000001005000001001000000050000001000100000010001000000100500000010001000000010010000000100000001000000050000001000000001000000010000001000000500000100000050010000100001000500050010000100010000100010005000100000100500010001001010010001000010001001000100501001000105050501005001000010010010010000100100055001105000010010000010010010005010050100005000010050100100100001001001000001001005000100501001001001005005010000050150100100100100101000001001005015010010500005010010000001000005000050001000000100050000100000010000100000100005000050000100000010000100000010000500010010001000100100010000010000050010000001000100000500010000500000010000000100100000100100100050001005001000100005001000050000005000050000100000100001000000100010010100100000010500100001005005001010001000100100101010100001001001001005050001005501000501010000055051010500000101010050010000010000010050000050000100010000100050001001000010000000500001000050010000005005001001000100100000001000000010000105000105001000100010100500010000500000001005000000100050000100000005000050000100010000100001000010000000500005000001000000010000000100000001000000100000100000050000100000010000010000005000000100000500000050000010000500005000001000000100000010000100000010000050000100000005000050000100000100000001000001000001000010000000100001000050000100010005000100010000500010000001000100010000100001000050001000050001000001000100000100000100000500000100001000000100000010000000100000100000001000000010000000500000010000000100000001000000010000005000000100000005000000500000010000000001000000050000001000000100000001000000100000100000050001000100000010000100100000001000001000000100000100000100000010001000000010000000100000000100000001000000050000001000000500000050000001000000050000001000001000000010000001000000010000000100000100000001000000050000001000000100000010000000500000001000010000010000010000000500000010000000100001000000010000001000000500010001000001000010000100001000050001005000100050001000100005000001000001000101000001000010000500010000100001000010000001005005000100010055000010100000010005000050001000101000000100010000001000005000050000010000010100101500500100001000100000005010001010510500000005000100001000000100000001000000050000000100000005000000100000010000000500000010000000100000050000005000000100001000001000000500000010000005000010000000100000050000001000000010000010001000000010000050000500000010000000100000010000010000050000000100001000001000010000100001000000500010000100050001000010000001000000500010000500001000100000100050001000000100005000010000100000050000005010000010000010000001000001000010000000100000001000005000050000050000100050000001000000010000000500000050000001000000010000000100000005000000005000000100000005000000500000010000000050000005000000100000050000000500000005000000100000010000000100000001000000050000000500000050000010000001000000100000001000000010000005000000500000050000005000000100000050000001000000500000100000500000010000001000000100000010000001000001000000010000010000005000001000005000000100000100000100000500000100000100001000001000005000010000001000000001000000100000010000100010000001000005000010000010000100001000100000100000010000010000010001000010010000010000100050000100001000100100010000005000001000100005000500010000010001000010000100100000010001000000100005000010000100000000100000100000100005000100010001000000010001000000010000100000500010000010000005000010005000100010000000500005000010000100050000000100000005000010000100005000100010000100000010000000500050100000001000000100100000100000100010000005000100100000100000500100000500005001000000100010000050000101000100000510050010010050005000010000005000000100010001000005000100000001000010000000100000100000010100000100000100000100010010001000000100000100001000005000001000010000001000010000100000100500010000050000100100010005050050001050005100001000000101050000500005010000100100100011000001000010001000505000005001000100010050000050100500050001005000100500110001010500000110001001000010010000101000010110001000010000010000101000100010510000000001100001000000100000005000000100000001000000010000000100000001000000050000005000000100000001000001000010000001000000100000500000500010000100001000010000100050050010000010000100010000500100005000010001000010000100010010001000010000100000010000010005000100001000005000100001000050000100010000001000500500010005000500000110010000100001100001005100010000100100000100001000010000500001000100000100005000050000500001000010010001050050000100000010000010000000100000100000000105000000100000100000005000500000100010000010001000100100050005000000500005010050010050010000001000500005000100005010501000050010001000001000100010010005001001000100010050500100000500100100010050000001000000100005000100000050000050000010000100005000500000500001010005000100001000001000100001000100010000500500100100010000050000500050000100005001000050000010000050001001000001000005000500000100001000000100000500500010010500100100000100000100000005000001000001000000001001000500001000001000000010000010001000050000001000001000000100050000000500000001000005000000050000005000500010000010000000100005000000010000010000000100000001000000500000010000001000000010010000000100000001000100001000010000500001000000500001000005000000100000001000010001000005000010005000000100000100000050000010001000100010001000005000100000010005000100005010505000050000100100000100000010000010001000010005001000100005001000001000100100010000510005000100001000000010001000500100010050001001000101001001010010001010001000100000500001005005001000100000010000005001000500100100010010100010010000005000000101000005000010001010000000100000100500000010001000010500000501000000100000050000001000001000010000101000001001000001000000001000005000010000000500005010000010000005000001000000010000005000000100001000001000005001000001000000100001000100010000105001000100000101010001010050010001000001001011010001000105000100005000100050000500001001000000500001000100005005000110501005001000005000001000001000010005000100001000000001000100001001000010000100100001100010001000010000000500050001000000100000010000000501000000010000000100000001010500000001000000010000000100000005000000050000005000000100000001000000100000001000000050000005000000100000500000100001000050000500100001005001000500050000100100010010000500000100005000000100500001000000010500100100000050010010000050010510000000101000000010010100000010000005100100000100001000001000001000005000001000001000005000000500000010001000005000500010000500050100505010010000010001000050010010000000010000010001000101000010001000010001000100005000100005000010000100005100001005000100100100001000100005055000001000010000100000100001000010000010000001000000500010000100000100000101000005000010000100000100000100010000100010010000500000100500005000501001010000500100100010010051000010001000010001005010105001000010000010000000010000005000010000005000010000010010010001000050010010000100005000010010000010001000100100010100001000005500100100000100050015001050010100100000010000001000501000010010001001010500100010000000500000500010000050000010010000010000010000100100001050000050001000010001001000010000500010001001050005000010000500050001000010005000100010005050005000010005000100001000100001000100001000050001000100050101000000001000001000000100010000500000005000000010001000000001001000050010000010100050000001000000010000100000010001000000100100000010001000100000005000000100000001000050000005000100000005000000050000000100000010000100001000010000500000010000005000001000100010000001000001000000010001000010005010000500010000100001000500100010050100100050000050001000100010001010001000005000010001000100010001000050100150000010000100000010000005000100000010050001000100100000010001000500050100010005050000001001005010000500050000500010000010000050100000001000500000500010000001001000010000000100000050000501005000000100501005101000500000010000010000001000000100000500001000000010000050005000100100001000500500010000010010000100000050001000050101000001001000510050000505000100001000100000001000001000010500100000500000010000001000000100001000000010000100000001000001000000500001000100000050000050501000500005000100101001001000010001001005000100050000500100501000005010000500001000010100010000050100000101000000100000100001000010001000000100050000001000001000000100050000050001000010000100005000500000500001000010000000100000010001000005005005000000500500100000010001000000500000100010000100001000005001000010010000500010000005000010010500100100010005000010010550001000000100010000100001000101001010010001010000100010000005001010005010010001050100100010010005001005050010001010010500000001000100001000100000000100100100100500500100000050010001001000001001005001005010010010010101001010500000100500100000105050100000005000000100000100005000000100000500001100051000000100000050100000100050001000100005000010000010000100050005001000001000010000010005000500010000001001001000000500100101001000000501010000100010000100000100050000500100050001000010100100010000005000001001050000105050001000010000001000010050001001000010010010050100100010005000500010010001000110000500100010000010050000001000000500100000005000000100000010001000010000001000000010000000500010000001000050000050000050000010001000000500000500005000000100000050000050000010000000100000010000010000010000001000000100000001000000100000010000050000000500000010000001000005000001000001000005000001000000100000010000010000050000050000050000005000050000010000050000001000001000000100000100000100000050000010000010000010000001000000100000010000001000010010000010001001001000100001000100010500005010100010100000500100001000500010000005001000100100010005000500005001000100001005000001001000100050001000505001000010000100000001000100000500000050001000010001010000010000001005001000100001000010500010001000000100000100500010000100100100000010000100000100000500000001001000000100010001000001000050000500100000101005001000000501000105010000010001000100500101001001000100100010501000010010101005050005005005000055005000000100001000000500000105005000010010010010005500100001050010000100500101005005001005005000100005100010000010010005005100550100050005050510000100001000100001001000010001000010050001000010005001001000500005000010001000100000501000500100100010010050005000000050010010010000000501505010001000000010110010005500000010000010001000010050000001000001000100100010010010050010050010010010001001010010100100010000100010010010050100100000001001001005010010010100100500100100500500001000050000001000050001000100010000500010000010010000100010010000100100050050010001000500050005000010010050010010010000105001000100010000100001005050010001050100010000010005000100050001000000010000001000005005000050005100010001000000505001000010100005000100000010100010050000010000050000010000050000001000100000010000010000500001000050000100010001000010005000001000001005000001001500100500050001000010101001000001010000050010010100050100100505100010001000105000100001000005050000001050010100050000000100050001000050000001001000100100001000010000001000000500010000001001000500500000100100100000100000500000100100000100000005000010001010005005000050000100000050010100000001001000000101010000000105010000010000500000010000001000000500000100000001000050000100000100000005001000050000100001001001050000005000100050005005050001000000101001010001000005000100010100500001010500000010001000010000000100000010000105100001000001000001000001000100005000000010010101010005000500000100000500000100010001000050005000000010000100100010000000500000011100500100000005500010101000010100100501005000000001000000001000001000000005000000010000001000000050000005000000100000100000500000500000010000010000000010000010000005000000010000001000010000010000010000010000100000500001000001000005000005001000050000010000100001000000100001000000010000100000100000500000100000010000500010010100000001000001000010000010000010000100000010000000100000500000100000010000000500000010000005000000100000010000000500000050000010000001000000500000010000000100000010000001000000100000010000001000005000001000005000000100005000000100000010000500001000010000100000010001001000000100001000050001000010010000001000010000010001000050001000500010001000010000001000010001000001000010000100050000500001000500000100050010000100000050001000100001005005000000100001000000100100010001000100010000001000005000010000100000500100005000001000010001000100010000010100050005000100000010000500001000010000010000005005001000000101000100100100100010000010000100100100000050010050010000005001001000055000100500000010000100010000001000100100000100010000050050010105005000105510000010000010100001100100000500000100001000100001000000010100001001010000050000500000050000001000005010001005010000010010000010001000010000005000000100000005000001000001000005001000001000010000005000005001001001000000500010000100000050000050000100005000005000100001001000100055000100100001000005000050005000000100100100500500005000100050100100000010000000010000005000001000000100000005000000100010000010000100000100000500001000050000100500010000050000010000100100010000010000100001010000005000001000100000010010000500010000500001000505000010000500000500010000010000500001000050005000010050000500001000500010000100010001010001000500100050001000010000100000500010001001005000500001000010010001000010001000100001001001000000100501000001000010050001001000100050501001001000050100000100001000010001000005000010000100001000010000100001000010000100005000050000500001000010000100005000010000050000100001000500001000050001005000000500001000000500000010000000100000001000000001000000050000010000001000010000010000001000000100000100005000005000100000100000100001000050000100000100000100000100010000005000010000001000001000500010000001000010000100000500010000500010000010000100001000010000500001000100010000010000500050000100001000005000500050000005000005000500001000010000010010500000010000010050000500010010000005001001001001000010100501000000500500050001001000000100101015000001000100000100010000010005000005000050000100000005000500000100010000005000000500000050001000001000100001000010000001000010000100001000500005001000100010005001000005005000500100001050001001001000050050500101005050100500100050500000100001000005010001000550010000000010000005000010000010050005000000500100010010000100100010001001005000010005000100100100100101010000005005100100000010010101000000010000005000100000051000005000001000010000100001000000100000001000001000010000100010000001000010000500000100000100000101000000101010005000050000500001051010001000151000010000010100010000010010000010500105000500100000100100005000001000000100010000100000100000005000000100000005000000010000500000010000005000000100000001000000100000001000000500000010000000100000001000000050000100000005000000100001000000010000000100000001000000050000001000000010000000500005000010000000500000050005000005000100010000100001000010050050500000100010000500500100050010000100001000100010000101000010000500050001001000010100001001000001050001000100010001001100010000100000001000000500000010000000500000500000050000100001000000010000001000010005000000100010000005000500000001001000000050050005000010005000000100010000500001000000050000000500000100500010000050500050050050100010000500050001050001000000010000000100000005000000100000001000000050000001000000100000001000000050000000100000010000000100000010000000500000010000000100000010000000050000000500000005000000500000001000000010000000500000010000000100000001000001000100100000001000050010001000010050000100010500100100100100010001010010050050010000100105000005051010000000101010010050000010005110500000050010050000001000001000010000501000100000010000100010001000100100000005001000010000101000100000050010000100010050000010010010010000100101001010000100100001001000000050000001000000050000000500000010000010005000000100000001000000100000010000000100000100005000010010000005000001000100000010000100050000001000005000001000000010000500000010000005010000001000001000000010000010000010001000000010000000100010010000000100000010000001000000001000000050000000100000001000000050000010000000010000000100000500000050000010000000100000001000000001000000500000001000000050000000100000001000000001000000010000000500000010000000100000001000000100000100000100000100000010001000100050000100050001000010000100000100010000500001000010001000005001000000500001000001000110050000100001001010100001010000001000100005001000500501001001001000001105000010000000500000050000000100000001000001000000100000001000000100000010005000000100005000500000010100000100000005000000100001000000100000010000005000010000000100001000000010000001000001000000100000010000001000010000500050001000005000100010001000500010000100010001010005000100010001001000010005000510100100500050000050500100500010010050510101001001010000100001000100505000010000101000005005000100000101050500101001001005000510105000010000010000010000001100000001000001000500000500005000010000005000050000100005000000500000010000001000000100000000100000010000000100000001000000050000001000000100000001000000001000005000000500000001000000010000001000000100000001000000100000100000005000001000000100000100000010000005000001000001000000100000050000010000010000000010000001000001000005000010000001000001000001000000100000001000000100000100000005000001000010000050000010000001000005000500000500001000001000001000050000010000050001000001000001000100000010005000100010000100001000001000005000010050001000001000010000100005000500010001000050000050001000500010000500001000001000001000050000010050000100010000100001000001000010000001000001000000050011000001000000100000010000010000500000100000100000100000100000100000100000001000010000010000001000000100000010000001000000100000010001000000100100000100000001000500000001000000010000000050000001000005000001000000100000010000001000000100000005000001000000100000001000000100005000005000001000000010000005000000100005005000010000010000010000001000000100005000010000010010000001000001000010000100010000100000005000010000001000000100050000010000050000100000050001000000100000010000001000000050000010000005000005000000500000100000010000001000005000005000050000100000500100050000100100505001000005010001000001010001005001000000100000010000000100055001000010100100000101000000500000010000100100010050050100050010000100050005001000000500100010000001000000010001001000101010105001005011000100000001000005000000100010100050010010000000100010010000010000500001000050000010000000010000001000000001000000010000000100000010000010000000100000010000005000000100000500005000005000005000000100000050000100000500001000001000005000010000050000500005000050005000000100000500001000000010000000500010000100000001000000500001000010005000100001000010000100010001000050100050000100001000000100000100500050000100001005000010000100010010000010001000100100010000500050000010000050100100500101000050001000100010000010000010000010000001000001000010000100001000001000100000010000500001001050001000100001000100010005000001000010005001000100001001001000105000100000100001001000100100010010000101050050001000010050010500000500000100005000500050000010000050001001000500010000001000100001000001000100000101000050000500100010000500500050001000050005000500010100505005050105001001005000505001000010000500001001000100001005000100105010001001010000500005000010000501000010000010000100100000005010000001000001000001000001000010000101000050000100000100001100050000110000050005000010000100100010000001000001010000010005000100001001001000500050010001000005001000010000100010000100005001000010001000050001010100001500000005000000050000000100000001000000010000000100000001000000001000000050000010000001000000050000005000001000500000010000001000000100000005000000100000050000001000000010000000100000010000000010000001000001000001000000100000010000001000000100000001001000010000101005010005000001000100000100100000050005050001010000000100000100050100010000050001010100000110000100000100010051000100001010100010000500010000500001000001000005100001000100000010000005000100010000010000050010001000010000105000010000010050100010010001000501000010001001000010050010500005010010010500500100100010000100100010010110001101001000005000010000100005000100000500001000005000100005000050000100010000100010010001005000100050010000500501005000100100500100050100500100501500001000010005100005000100010010001001000000100000001001000050000100050100010001001000001001000100005001000105010010001050100000100000001000000100000100001001000010000001000000500000001000100000100000050000050000050000100000100000010000001000000100000500001000000100000001000010000000100000010000010000100100010010001000005010050000010050005000000100001000000100000010000000500001000050000050000005000001000000010000005000001000000100000500000010000000500000050000005000005000001000000010000010000000100000100000100000001000000010000100000010000050000001000010000005010010010100001001000100005101010050500010000500000100000050001010000001000000500000010100000001000050000500010000001000500000010000000100000001000000100050000100100000010010000005001000100000010001000000110000000101000000100000050100510000001000000500000010000001000010010000010000005000010001000000500000100000010000100000050000005000005000001000000100010000500005000500000100001000001000005000001000000100000100000050000100000100000010000100010000500100001000050000000100505000500050005001000101000100001010010500100050010010001000000010005000010000000100000010000001000100050001000000100500110000001000100000010050000001000000010000001000001000010000010000010000010000050000010000050000100000010001000000100000010000010000100000500000010000010000100000100000010000000100000001000005000000100000100001000005000000100000100000001000000500000010000000100000100000005000000500000500000100000005000001000000100000500000500000100000010005000000500000100000010000005000005000100000500000050000010000010000005000005000000010000001000000050000050000005000000100000500000500000100000100000001000000010000000100000100010000000100000005000000100000001000000100000010000000100000001000000100000005000000100000001000000100000100000005000001000000010000000100000001000000500000010000000500000050000001000000100000050000005000000010000000100000005000000100001000100001010001001010010501001010001010101000010501501010000005000000100100100000001001000000050000010010000001000000100000050050000000100000010000000100000010000000100000050000010000001000000500000005000010010010050050000100100010100501001000100100505000100500000100000010000050010001010501005005000000100001000005001000000100010000100100100000100000001010000000100001000000100000100000010000010000010000000500500010000001000001000005000050000500000100005000001000050000100010000100010000010001000050001000500050000010000001000005000001000005000001050000500050001000100005001000001000001000500001000100050000001000000050005001000000100000005000001000000010000010000010000001000000100000050000010000010000001000000100000050000010001000005000500001000100005000010000500500010000001000100100100005000000050000010010000000500005000000100005001000000010000010000050000001000000100000001000050050001000001000001000005000000050000100000100000500005000000500000010000001000000005000000050000000100000000010000000100000050000005000010000000500000050000000100000001000000010000000100000001000000050000001000000050000005000000050000001000000010000050000100010001000005000010005000100010001000100500010000100001000500001000010000100100505001000001000010000001000100010005005001000500001000100010010010005000000501000500050101000100010501001001001010001001000100100010000100010105000050101010051000010001005000000100101000000100001000000100000500001000005000050000100010000100010001000500010000100010001010010001001000100010010005500050001000100000010005000001000500100000100000100000001000000100000010005000000500500000100000010000001000000100000100000100000100000005001010000010055010010000010100000010051001010000101000010000010100000105000000010000010000500000050010000000100005000050000010000010000010000000500010000050000005000010000001000000010000005000000100000001000000100000500000010000000100000500000100005000000500005000005000500000500050000500010005000100000100005000500050005010000001000100000100000010000005000001001000001000005000000500050000500500000010001005000000500010000010050005000010000100050500100010010001000100510000100050001005500100010055001000050010000101000000015001005101010005010000100100000010000001000000010000100000100000500100000010050000050000005000010000001000000500000100000010000010000100001000500001000001000001000001000000100005000500000100050000100001000010000500001000000100010000010000005000100005000010000100005000100000500010001000010000010005000050005000100010001001000001000005100000001000000100000050005000100050010000005000000500000010001000000100000001000100010001000000001050000001000000010000000100000010000000100000001000000010000005000000010000005000001000000500000001000001000000100000010000500000100000050000010000050000500000100000001000050000005001000001000005000050000050001000001000005000500010000001000001000005000100010000100000100005050001000001000050010000100001000000100000500000100001000010000100001000000100500001000010000500001000001000000001000001000050010000005000100001000050001000010005000050010010000100001000001005000010000010001000010000050000005005000010000500100001000001000010000050001000010000010001000001000001000010000500100000100010000001010001100000010001000050005000001000010001000010005000100001001000001000050100001000050000100000050000001000500010005000010001050010000000010010500100100100010001000100010010010010001000010005001001000500101005010010001001000010050001010001005005000100010000001000101001010100005010000005000000500000010001000000010000100000001050000000500000010000100000010000001000000010000001000000100000005000001000005000000100000050000050000010000001000000500000500000010000500010100100005001000500100010001000500000005000100050010050010010001001100010000001005001000500000010000100500000010001000050000000500001000001005001000000500000010000010000005000001001000001000000100001000010000010000001000050000010000100000010001000010000001000100050000050001000100000100500050000500000500010000010000010000100005000050000010000100000Free100000001000500005000010000100050000500000500000100001001000100100001000500010000001000050010005000000100100100501000010010010010000000100000010000000100000100000001000000050000010000000101000000100000500000001000000500005001001000000101000010000000100000010000010101000000100001010110000010010550100501001010000155010105010105000000010101000055000000510001010051010510100105000055000000100000100010000500001000010000050001000100005000100000500001000010000010005000100050005000100050001000500100010005000500050000100010000050010000100001000100005000010100500050005005000100101000050001001000000500010010000100001005010000010000105010001000100010000010005000100001000500010000000500100001000010001000005000001000010000100000100000010000000010000100001010100000501100010051050101010500101000010005000105101000000101000000105050010010000100000100000100000100000050000001000000100001000010000000100000100010050010010010010010011005010001500501001005001000000001100100000001000000100000010000050000001000001000000010000005000100010000001001000001000000010000100010000005000010000000100000005000050000001000001000010010010010005000500000100000001000000100050010011000500010100010000010005000100000010000100005000500001000000100010001000105000011000001000005001000010010000010001001010110100000100001000010001000000010000500001000000010000500005000050050000500005000010000005000001000100000100000010000005010000050001000100001000000100000100500100500001000000100100100010000500005000001001000001000050001000501010010000100500000050001000010000100000500010000010005001050001001000100010000000'",
      "\nDuring handling of the above exception, another exception occurred:\n",
      "\u001b[0;31mValueError\u001b[0m                                Traceback (most recent call last)",
      "File \u001b[0;32m~/miniconda3/lib/python3.9/site-packages/pandas/core/nanops.py:1626\u001b[0m, in \u001b[0;36m_ensure_numeric\u001b[0;34m(x)\u001b[0m\n\u001b[1;32m   1625\u001b[0m \u001b[38;5;28;01mtry\u001b[39;00m:\n\u001b[0;32m-> 1626\u001b[0m     x \u001b[38;5;241m=\u001b[39m \u001b[38;5;28;43mcomplex\u001b[39;49m\u001b[43m(\u001b[49m\u001b[43mx\u001b[49m\u001b[43m)\u001b[49m\n\u001b[1;32m   1627\u001b[0m \u001b[38;5;28;01mexcept\u001b[39;00m \u001b[38;5;167;01mValueError\u001b[39;00m \u001b[38;5;28;01mas\u001b[39;00m err:\n\u001b[1;32m   1628\u001b[0m     \u001b[38;5;66;03m# e.g. \"foo\"\u001b[39;00m\n",
      "\u001b[0;31mValueError\u001b[0m: complex() arg is a malformed string",
      "\nThe above exception was the direct cause of the following exception:\n",
      "\u001b[0;31mTypeError\u001b[0m                                 Traceback (most recent call last)",
      "Input \u001b[0;32mIn [27]\u001b[0m, in \u001b[0;36m<module>\u001b[0;34m\u001b[0m\n\u001b[1;32m      1\u001b[0m \u001b[38;5;66;03m# fill missing values\u001b[39;00m\n\u001b[0;32m----> 2\u001b[0m df_feature\u001b[38;5;241m.\u001b[39minstalls \u001b[38;5;241m=\u001b[39m df_feature\u001b[38;5;241m.\u001b[39minstalls\u001b[38;5;241m.\u001b[39mfillna(\u001b[43mdf_feature\u001b[49m\u001b[38;5;241;43m.\u001b[39;49m\u001b[43minstalls\u001b[49m\u001b[38;5;241;43m.\u001b[39;49m\u001b[43mmean\u001b[49m\u001b[43m(\u001b[49m\u001b[43m)\u001b[49m)\n\u001b[1;32m      4\u001b[0m \u001b[38;5;66;03m# recheck the previous samples\u001b[39;00m\n\u001b[1;32m      5\u001b[0m \n\u001b[1;32m      6\u001b[0m \u001b[38;5;66;03m# CODE HERE\u001b[39;00m\n\u001b[1;32m      7\u001b[0m \u001b[38;5;28mtype\u001b[39m(df_feature\u001b[38;5;241m.\u001b[39minstalls[\u001b[38;5;241m5\u001b[39m])\n",
      "File \u001b[0;32m~/miniconda3/lib/python3.9/site-packages/pandas/core/generic.py:11127\u001b[0m, in \u001b[0;36mNDFrame._add_numeric_operations.<locals>.mean\u001b[0;34m(self, axis, skipna, level, numeric_only, **kwargs)\u001b[0m\n\u001b[1;32m  11109\u001b[0m \u001b[38;5;129m@doc\u001b[39m(\n\u001b[1;32m  11110\u001b[0m     _num_doc,\n\u001b[1;32m  11111\u001b[0m     desc\u001b[38;5;241m=\u001b[39m\u001b[38;5;124m\"\u001b[39m\u001b[38;5;124mReturn the mean of the values over the requested axis.\u001b[39m\u001b[38;5;124m\"\u001b[39m,\n\u001b[0;32m   (...)\u001b[0m\n\u001b[1;32m  11125\u001b[0m     \u001b[38;5;241m*\u001b[39m\u001b[38;5;241m*\u001b[39mkwargs,\n\u001b[1;32m  11126\u001b[0m ):\n\u001b[0;32m> 11127\u001b[0m     \u001b[38;5;28;01mreturn\u001b[39;00m \u001b[43mNDFrame\u001b[49m\u001b[38;5;241;43m.\u001b[39;49m\u001b[43mmean\u001b[49m\u001b[43m(\u001b[49m\u001b[38;5;28;43mself\u001b[39;49m\u001b[43m,\u001b[49m\u001b[43m \u001b[49m\u001b[43maxis\u001b[49m\u001b[43m,\u001b[49m\u001b[43m \u001b[49m\u001b[43mskipna\u001b[49m\u001b[43m,\u001b[49m\u001b[43m \u001b[49m\u001b[43mlevel\u001b[49m\u001b[43m,\u001b[49m\u001b[43m \u001b[49m\u001b[43mnumeric_only\u001b[49m\u001b[43m,\u001b[49m\u001b[43m \u001b[49m\u001b[38;5;241;43m*\u001b[39;49m\u001b[38;5;241;43m*\u001b[39;49m\u001b[43mkwargs\u001b[49m\u001b[43m)\u001b[49m\n",
      "File \u001b[0;32m~/miniconda3/lib/python3.9/site-packages/pandas/core/generic.py:10697\u001b[0m, in \u001b[0;36mNDFrame.mean\u001b[0;34m(self, axis, skipna, level, numeric_only, **kwargs)\u001b[0m\n\u001b[1;32m  10689\u001b[0m \u001b[38;5;28;01mdef\u001b[39;00m \u001b[38;5;21mmean\u001b[39m(\n\u001b[1;32m  10690\u001b[0m     \u001b[38;5;28mself\u001b[39m,\n\u001b[1;32m  10691\u001b[0m     axis: Axis \u001b[38;5;241m|\u001b[39m \u001b[38;5;28;01mNone\u001b[39;00m \u001b[38;5;241m|\u001b[39m lib\u001b[38;5;241m.\u001b[39mNoDefault \u001b[38;5;241m=\u001b[39m lib\u001b[38;5;241m.\u001b[39mno_default,\n\u001b[0;32m   (...)\u001b[0m\n\u001b[1;32m  10695\u001b[0m     \u001b[38;5;241m*\u001b[39m\u001b[38;5;241m*\u001b[39mkwargs,\n\u001b[1;32m  10696\u001b[0m ) \u001b[38;5;241m-\u001b[39m\u001b[38;5;241m>\u001b[39m Series \u001b[38;5;241m|\u001b[39m \u001b[38;5;28mfloat\u001b[39m:\n\u001b[0;32m> 10697\u001b[0m     \u001b[38;5;28;01mreturn\u001b[39;00m \u001b[38;5;28;43mself\u001b[39;49m\u001b[38;5;241;43m.\u001b[39;49m\u001b[43m_stat_function\u001b[49m\u001b[43m(\u001b[49m\n\u001b[1;32m  10698\u001b[0m \u001b[43m        \u001b[49m\u001b[38;5;124;43m\"\u001b[39;49m\u001b[38;5;124;43mmean\u001b[39;49m\u001b[38;5;124;43m\"\u001b[39;49m\u001b[43m,\u001b[49m\u001b[43m \u001b[49m\u001b[43mnanops\u001b[49m\u001b[38;5;241;43m.\u001b[39;49m\u001b[43mnanmean\u001b[49m\u001b[43m,\u001b[49m\u001b[43m \u001b[49m\u001b[43maxis\u001b[49m\u001b[43m,\u001b[49m\u001b[43m \u001b[49m\u001b[43mskipna\u001b[49m\u001b[43m,\u001b[49m\u001b[43m \u001b[49m\u001b[43mlevel\u001b[49m\u001b[43m,\u001b[49m\u001b[43m \u001b[49m\u001b[43mnumeric_only\u001b[49m\u001b[43m,\u001b[49m\u001b[43m \u001b[49m\u001b[38;5;241;43m*\u001b[39;49m\u001b[38;5;241;43m*\u001b[39;49m\u001b[43mkwargs\u001b[49m\n\u001b[1;32m  10699\u001b[0m \u001b[43m    \u001b[49m\u001b[43m)\u001b[49m\n",
      "File \u001b[0;32m~/miniconda3/lib/python3.9/site-packages/pandas/core/generic.py:10649\u001b[0m, in \u001b[0;36mNDFrame._stat_function\u001b[0;34m(self, name, func, axis, skipna, level, numeric_only, **kwargs)\u001b[0m\n\u001b[1;32m  10639\u001b[0m     warnings\u001b[38;5;241m.\u001b[39mwarn(\n\u001b[1;32m  10640\u001b[0m         \u001b[38;5;124m\"\u001b[39m\u001b[38;5;124mUsing the level keyword in DataFrame and Series aggregations is \u001b[39m\u001b[38;5;124m\"\u001b[39m\n\u001b[1;32m  10641\u001b[0m         \u001b[38;5;124m\"\u001b[39m\u001b[38;5;124mdeprecated and will be removed in a future version. Use groupby \u001b[39m\u001b[38;5;124m\"\u001b[39m\n\u001b[0;32m   (...)\u001b[0m\n\u001b[1;32m  10644\u001b[0m         stacklevel\u001b[38;5;241m=\u001b[39mfind_stack_level(),\n\u001b[1;32m  10645\u001b[0m     )\n\u001b[1;32m  10646\u001b[0m     \u001b[38;5;28;01mreturn\u001b[39;00m \u001b[38;5;28mself\u001b[39m\u001b[38;5;241m.\u001b[39m_agg_by_level(\n\u001b[1;32m  10647\u001b[0m         name, axis\u001b[38;5;241m=\u001b[39maxis, level\u001b[38;5;241m=\u001b[39mlevel, skipna\u001b[38;5;241m=\u001b[39mskipna, numeric_only\u001b[38;5;241m=\u001b[39mnumeric_only\n\u001b[1;32m  10648\u001b[0m     )\n\u001b[0;32m> 10649\u001b[0m \u001b[38;5;28;01mreturn\u001b[39;00m \u001b[38;5;28;43mself\u001b[39;49m\u001b[38;5;241;43m.\u001b[39;49m\u001b[43m_reduce\u001b[49m\u001b[43m(\u001b[49m\n\u001b[1;32m  10650\u001b[0m \u001b[43m    \u001b[49m\u001b[43mfunc\u001b[49m\u001b[43m,\u001b[49m\u001b[43m \u001b[49m\u001b[43mname\u001b[49m\u001b[38;5;241;43m=\u001b[39;49m\u001b[43mname\u001b[49m\u001b[43m,\u001b[49m\u001b[43m \u001b[49m\u001b[43maxis\u001b[49m\u001b[38;5;241;43m=\u001b[39;49m\u001b[43maxis\u001b[49m\u001b[43m,\u001b[49m\u001b[43m \u001b[49m\u001b[43mskipna\u001b[49m\u001b[38;5;241;43m=\u001b[39;49m\u001b[43mskipna\u001b[49m\u001b[43m,\u001b[49m\u001b[43m \u001b[49m\u001b[43mnumeric_only\u001b[49m\u001b[38;5;241;43m=\u001b[39;49m\u001b[43mnumeric_only\u001b[49m\n\u001b[1;32m  10651\u001b[0m \u001b[43m\u001b[49m\u001b[43m)\u001b[49m\n",
      "File \u001b[0;32m~/miniconda3/lib/python3.9/site-packages/pandas/core/series.py:4471\u001b[0m, in \u001b[0;36mSeries._reduce\u001b[0;34m(self, op, name, axis, skipna, numeric_only, filter_type, **kwds)\u001b[0m\n\u001b[1;32m   4467\u001b[0m     \u001b[38;5;28;01mraise\u001b[39;00m \u001b[38;5;167;01mNotImplementedError\u001b[39;00m(\n\u001b[1;32m   4468\u001b[0m         \u001b[38;5;124mf\u001b[39m\u001b[38;5;124m\"\u001b[39m\u001b[38;5;124mSeries.\u001b[39m\u001b[38;5;132;01m{\u001b[39;00mname\u001b[38;5;132;01m}\u001b[39;00m\u001b[38;5;124m does not implement \u001b[39m\u001b[38;5;132;01m{\u001b[39;00mkwd_name\u001b[38;5;132;01m}\u001b[39;00m\u001b[38;5;124m.\u001b[39m\u001b[38;5;124m\"\u001b[39m\n\u001b[1;32m   4469\u001b[0m     )\n\u001b[1;32m   4470\u001b[0m \u001b[38;5;28;01mwith\u001b[39;00m np\u001b[38;5;241m.\u001b[39merrstate(\u001b[38;5;28mall\u001b[39m\u001b[38;5;241m=\u001b[39m\u001b[38;5;124m\"\u001b[39m\u001b[38;5;124mignore\u001b[39m\u001b[38;5;124m\"\u001b[39m):\n\u001b[0;32m-> 4471\u001b[0m     \u001b[38;5;28;01mreturn\u001b[39;00m \u001b[43mop\u001b[49m\u001b[43m(\u001b[49m\u001b[43mdelegate\u001b[49m\u001b[43m,\u001b[49m\u001b[43m \u001b[49m\u001b[43mskipna\u001b[49m\u001b[38;5;241;43m=\u001b[39;49m\u001b[43mskipna\u001b[49m\u001b[43m,\u001b[49m\u001b[43m \u001b[49m\u001b[38;5;241;43m*\u001b[39;49m\u001b[38;5;241;43m*\u001b[39;49m\u001b[43mkwds\u001b[49m\u001b[43m)\u001b[49m\n",
      "File \u001b[0;32m~/miniconda3/lib/python3.9/site-packages/pandas/core/nanops.py:93\u001b[0m, in \u001b[0;36mdisallow.__call__.<locals>._f\u001b[0;34m(*args, **kwargs)\u001b[0m\n\u001b[1;32m     91\u001b[0m \u001b[38;5;28;01mtry\u001b[39;00m:\n\u001b[1;32m     92\u001b[0m     \u001b[38;5;28;01mwith\u001b[39;00m np\u001b[38;5;241m.\u001b[39merrstate(invalid\u001b[38;5;241m=\u001b[39m\u001b[38;5;124m\"\u001b[39m\u001b[38;5;124mignore\u001b[39m\u001b[38;5;124m\"\u001b[39m):\n\u001b[0;32m---> 93\u001b[0m         \u001b[38;5;28;01mreturn\u001b[39;00m \u001b[43mf\u001b[49m\u001b[43m(\u001b[49m\u001b[38;5;241;43m*\u001b[39;49m\u001b[43margs\u001b[49m\u001b[43m,\u001b[49m\u001b[43m \u001b[49m\u001b[38;5;241;43m*\u001b[39;49m\u001b[38;5;241;43m*\u001b[39;49m\u001b[43mkwargs\u001b[49m\u001b[43m)\u001b[49m\n\u001b[1;32m     94\u001b[0m \u001b[38;5;28;01mexcept\u001b[39;00m \u001b[38;5;167;01mValueError\u001b[39;00m \u001b[38;5;28;01mas\u001b[39;00m e:\n\u001b[1;32m     95\u001b[0m     \u001b[38;5;66;03m# we want to transform an object array\u001b[39;00m\n\u001b[1;32m     96\u001b[0m     \u001b[38;5;66;03m# ValueError message to the more typical TypeError\u001b[39;00m\n\u001b[1;32m     97\u001b[0m     \u001b[38;5;66;03m# e.g. this is normally a disallowed function on\u001b[39;00m\n\u001b[1;32m     98\u001b[0m     \u001b[38;5;66;03m# object arrays that contain strings\u001b[39;00m\n\u001b[1;32m     99\u001b[0m     \u001b[38;5;28;01mif\u001b[39;00m is_object_dtype(args[\u001b[38;5;241m0\u001b[39m]):\n",
      "File \u001b[0;32m~/miniconda3/lib/python3.9/site-packages/pandas/core/nanops.py:155\u001b[0m, in \u001b[0;36mbottleneck_switch.__call__.<locals>.f\u001b[0;34m(values, axis, skipna, **kwds)\u001b[0m\n\u001b[1;32m    153\u001b[0m         result \u001b[38;5;241m=\u001b[39m alt(values, axis\u001b[38;5;241m=\u001b[39maxis, skipna\u001b[38;5;241m=\u001b[39mskipna, \u001b[38;5;241m*\u001b[39m\u001b[38;5;241m*\u001b[39mkwds)\n\u001b[1;32m    154\u001b[0m \u001b[38;5;28;01melse\u001b[39;00m:\n\u001b[0;32m--> 155\u001b[0m     result \u001b[38;5;241m=\u001b[39m \u001b[43malt\u001b[49m\u001b[43m(\u001b[49m\u001b[43mvalues\u001b[49m\u001b[43m,\u001b[49m\u001b[43m \u001b[49m\u001b[43maxis\u001b[49m\u001b[38;5;241;43m=\u001b[39;49m\u001b[43maxis\u001b[49m\u001b[43m,\u001b[49m\u001b[43m \u001b[49m\u001b[43mskipna\u001b[49m\u001b[38;5;241;43m=\u001b[39;49m\u001b[43mskipna\u001b[49m\u001b[43m,\u001b[49m\u001b[43m \u001b[49m\u001b[38;5;241;43m*\u001b[39;49m\u001b[38;5;241;43m*\u001b[39;49m\u001b[43mkwds\u001b[49m\u001b[43m)\u001b[49m\n\u001b[1;32m    157\u001b[0m \u001b[38;5;28;01mreturn\u001b[39;00m result\n",
      "File \u001b[0;32m~/miniconda3/lib/python3.9/site-packages/pandas/core/nanops.py:410\u001b[0m, in \u001b[0;36m_datetimelike_compat.<locals>.new_func\u001b[0;34m(values, axis, skipna, mask, **kwargs)\u001b[0m\n\u001b[1;32m    407\u001b[0m \u001b[38;5;28;01mif\u001b[39;00m datetimelike \u001b[38;5;129;01mand\u001b[39;00m mask \u001b[38;5;129;01mis\u001b[39;00m \u001b[38;5;28;01mNone\u001b[39;00m:\n\u001b[1;32m    408\u001b[0m     mask \u001b[38;5;241m=\u001b[39m isna(values)\n\u001b[0;32m--> 410\u001b[0m result \u001b[38;5;241m=\u001b[39m \u001b[43mfunc\u001b[49m\u001b[43m(\u001b[49m\u001b[43mvalues\u001b[49m\u001b[43m,\u001b[49m\u001b[43m \u001b[49m\u001b[43maxis\u001b[49m\u001b[38;5;241;43m=\u001b[39;49m\u001b[43maxis\u001b[49m\u001b[43m,\u001b[49m\u001b[43m \u001b[49m\u001b[43mskipna\u001b[49m\u001b[38;5;241;43m=\u001b[39;49m\u001b[43mskipna\u001b[49m\u001b[43m,\u001b[49m\u001b[43m \u001b[49m\u001b[43mmask\u001b[49m\u001b[38;5;241;43m=\u001b[39;49m\u001b[43mmask\u001b[49m\u001b[43m,\u001b[49m\u001b[43m \u001b[49m\u001b[38;5;241;43m*\u001b[39;49m\u001b[38;5;241;43m*\u001b[39;49m\u001b[43mkwargs\u001b[49m\u001b[43m)\u001b[49m\n\u001b[1;32m    412\u001b[0m \u001b[38;5;28;01mif\u001b[39;00m datetimelike:\n\u001b[1;32m    413\u001b[0m     result \u001b[38;5;241m=\u001b[39m _wrap_results(result, orig_values\u001b[38;5;241m.\u001b[39mdtype, fill_value\u001b[38;5;241m=\u001b[39miNaT)\n",
      "File \u001b[0;32m~/miniconda3/lib/python3.9/site-packages/pandas/core/nanops.py:698\u001b[0m, in \u001b[0;36mnanmean\u001b[0;34m(values, axis, skipna, mask)\u001b[0m\n\u001b[1;32m    695\u001b[0m     dtype_count \u001b[38;5;241m=\u001b[39m dtype\n\u001b[1;32m    697\u001b[0m count \u001b[38;5;241m=\u001b[39m _get_counts(values\u001b[38;5;241m.\u001b[39mshape, mask, axis, dtype\u001b[38;5;241m=\u001b[39mdtype_count)\n\u001b[0;32m--> 698\u001b[0m the_sum \u001b[38;5;241m=\u001b[39m \u001b[43m_ensure_numeric\u001b[49m\u001b[43m(\u001b[49m\u001b[43mvalues\u001b[49m\u001b[38;5;241;43m.\u001b[39;49m\u001b[43msum\u001b[49m\u001b[43m(\u001b[49m\u001b[43maxis\u001b[49m\u001b[43m,\u001b[49m\u001b[43m \u001b[49m\u001b[43mdtype\u001b[49m\u001b[38;5;241;43m=\u001b[39;49m\u001b[43mdtype_sum\u001b[49m\u001b[43m)\u001b[49m\u001b[43m)\u001b[49m\n\u001b[1;32m    700\u001b[0m \u001b[38;5;28;01mif\u001b[39;00m axis \u001b[38;5;129;01mis\u001b[39;00m \u001b[38;5;129;01mnot\u001b[39;00m \u001b[38;5;28;01mNone\u001b[39;00m \u001b[38;5;129;01mand\u001b[39;00m \u001b[38;5;28mgetattr\u001b[39m(the_sum, \u001b[38;5;124m\"\u001b[39m\u001b[38;5;124mndim\u001b[39m\u001b[38;5;124m\"\u001b[39m, \u001b[38;5;28;01mFalse\u001b[39;00m):\n\u001b[1;32m    701\u001b[0m     count \u001b[38;5;241m=\u001b[39m cast(np\u001b[38;5;241m.\u001b[39mndarray, count)\n",
      "File \u001b[0;32m~/miniconda3/lib/python3.9/site-packages/pandas/core/nanops.py:1629\u001b[0m, in \u001b[0;36m_ensure_numeric\u001b[0;34m(x)\u001b[0m\n\u001b[1;32m   1626\u001b[0m             x \u001b[38;5;241m=\u001b[39m \u001b[38;5;28mcomplex\u001b[39m(x)\n\u001b[1;32m   1627\u001b[0m         \u001b[38;5;28;01mexcept\u001b[39;00m \u001b[38;5;167;01mValueError\u001b[39;00m \u001b[38;5;28;01mas\u001b[39;00m err:\n\u001b[1;32m   1628\u001b[0m             \u001b[38;5;66;03m# e.g. \"foo\"\u001b[39;00m\n\u001b[0;32m-> 1629\u001b[0m             \u001b[38;5;28;01mraise\u001b[39;00m \u001b[38;5;167;01mTypeError\u001b[39;00m(\u001b[38;5;124mf\u001b[39m\u001b[38;5;124m\"\u001b[39m\u001b[38;5;124mCould not convert \u001b[39m\u001b[38;5;132;01m{\u001b[39;00mx\u001b[38;5;132;01m}\u001b[39;00m\u001b[38;5;124m to numeric\u001b[39m\u001b[38;5;124m\"\u001b[39m) \u001b[38;5;28;01mfrom\u001b[39;00m \u001b[38;5;21;01merr\u001b[39;00m\n\u001b[1;32m   1630\u001b[0m \u001b[38;5;28;01mreturn\u001b[39;00m x\n",
      "\u001b[0;31mTypeError\u001b[0m: Could not convert 10000500000500000050000000100000500005000010000001000000100001000000100000010000000100000100000500050000010000500000010000000100000100000500000100000500001000050000010000010000100000100000500001000001000001000010000050000050000001000050000010000100000100000001000001000010000000100000100000100000100000100000010000010000001000001000001000005000010000010000010000010000100000100000010000010000010000500005000000100000500000050000005000001000000010000050000050000100000100000010000010000005000010000005000001000001000000100000010000010000010000001000001000001000000100000010000001000000500000500000100000500000100000010000050000010000005000001000001000000500001000000100001000000100000100005000010000010000100001000010000000500000100000050000100001000000500005000005000001000001000050001000010000100000500010000010000100001000000500001000010000000050000100000100000001000000001000000010000000100000001000001000000100000005000001000000100000000050000001000001000000050000010000000100000010000005000001000000500000100005000000100000500000050000010000005000005000001000000500000010000000100000100000100000500005000001000000050000100000010000001000000500000100000100000001000000050000000100000005000000100000050000000500000010000000010000001000000500000100000005000000100000050000000100000001000000100000005000000500000050000005000000100000100000010000001000000100000005000000100000050000001000001000000010000001000000100000500000010000001000005000000050000001000001000000500000010000001000000010000000100000010000010000010000000500005000000500000050000001000001000001000000500000100000500000500000100000010000001000000100000100000100000010000001000000010000000100000100000500000050000100000010000005000001000000010000000500005000000500000050000001000001000001000000500000100000500000500000100000010000001000000100000100000100000010000001000000500000010000001000000010000000100000010000010000050000000100000000500000010000100000010000000500000100000050000050000500005000010000001000010000100001000010000100000500000010000010000001000001000000100000010000001000000100000500000050000100000100001000050005000001000000500010005000000100005000010000001000001000000000100000000010000000100000000010000000010000000001000000000500000000500000010000000010000000010000000050000000050000000500000050000001000000001000000010000000100000001000000010000000010000001000000100000005000000100000001000000010000000050000001000000001000000001000000010000001000000001000000005000000001000000010000001000001000000010000000100000005000000005000000500000010000000001000000000500000000100000005000000001000000000100000005000000500000001000000001000000000100000000100000000100000001000000001000000001000000100000001000000010000000100000001000000050000000010000000100000010000000010000000010000001000000100000001000000000100000000500000001000000010000000010000001000000005000000010000000050000000010000001000000100000010000000500000500000100000100000001000000050000005000000001000000100000050000001000000010000001000000010000001000000100000001000000050000001000000050000001000000100000050000001000000100000000100000010000000001000000005000000100000001000000100000010000001000000050000000100005000000100000050000010000000005000000005000000050000000010000000001000000001000000500000010000000100000005000000001000000001000010005010010010010000000100000001000000010000050000050000001000000100000001000000100000005000000500000010000050000010000001000000100001000000100000010000010000000100000010000050000050005000005000000100000010000010000001000000100000100000500000500000500000100000500000500000100000500001000000100000010000010000010000010000100000100000010000010000000500000100000100000050000500000050000010000010000050000010000000100000010000050000010000010000005000000500000500000100000001000010000000100000100000100000050000010000010000001000001000000100000005000050000010000001000001000050000010000001000001000010000100001000000010000005000005000005000001000000100000500000100001000001000005000001000001000000100001000010000001000000010000100000100001000000100000050000100005000005000000100000010005000100050050001000010010000100010010001000100010050050050001001005050005050010500500100100010100105005001010010010101005010010010500100050050110100015010010000500100010510100100000010000010000050001000100000050001000500000050010010000010000005000001000100001005000001000010000100010005005000100001000050000100001000005000100001000100005000000100000100000050001000000001000000010000050000001000000010000050000001000000500000500000100000010000005000000100000050000050000005000001000000100000001000000010000005000000500001000000100000010000001000000100000050000010000005000000100000050000050000010000010000000100000500000010000000500000010000000100000001000000500000010000005000000500000010000000100000001000000100000010000001000000100005000010000001000000100000010000001000000100000010000001000000100000010000001000000100000100000010000010000100005000050000010000010000010000010000100000100000500005000010000010000050000001000000010000000010000000500000010000001000000100000050000001000000010000001000000010000001000000100000001000000500000010000000050000005000000100000050000010000001000000100000001000000010000000100000050000010000001000000500001000000100000100000100000100000100000001000000010000010000100000001000000010000000100000000500000500000050000005000005000000100000001000000050000010000000100000010000001000000100000010000001000001000000010000000500000010000000100000005000000100000010000010000001000100050000010000010000000010000001000000100000005000000010000000500000050000001000000050000001000000000100000000500000010000005000000500000010000001000000100000001000000005000000100000001000000100000005000000050000001000000010000001000000010000001000000050000000100000010000000050000000100000050000005000000010000000010000001000001000000100000010000000100000001000001000001000000100000000100000000500000100000100000100000010000001000000010000001000000010000000100000005000010000001000000010000005000000100000050000001000000100000001000000010000001000000100000010000001000000100000000100000000100000001000000010000000100000001000000010000000100000005000000500000050000050000001000000100000001000000010000001000000500000100000010000001000000100000010000000100000010000000100000001000000100000000100000001000000010000000100000001000000010000000100000005000005000000100000001000000100000010000000500000010000000100000010000000100000100000010000001000000100000010000001000000100000010000000100000010000001000010000000100000100000500000010000000100000001000001000001000000100000010000001000000100000001000001000000010000000100000500000050000050000500000010000001000010000001000001000010000001000001000001000005000010001000000100005005000010010010000010000050010000010010000010010005000100000100010000010010005000050001000001001000100010050010000000100000050000005000000500000010000000500000500000010000000100000010000001000000050000001000000100000010000000100000050000001000000100000050000001000000500000010000001000000100000001000000010000005000000010000000100000010000001000000100000001000000100000000500000010000005000000100000010000000100001000000100000100000100000100000010000001000000001000000100000050000001000005000001000000100000500000100000010000001000001000001000000100000050000100000010000010000000100000100000050000001000000100000100000010000010000001000000500001000000500000050000010000001000000100000050000001000000100000500000100000010000001000000500000100000050000005000001000001000000100000050000005000000500001000000500000010000010000005000001000000500000100000500000001000000100000100000100000010000005000000100000000500001000000010000500000010000000100000001000000500000010000001000000010000000100000010000000500001000000010000001000010000010000001000000010000005000001000000050000050000100000010000001000000500000500000010000005000000100000010000000100000100000005000000500000010000001000000050000001000000100000010000001000000100000100000100000050000500000500000100000100000010000001000001000005000000500000100000100000010000500005000000100005000010000001000000100000001000000100000010000005000000100000001000000050000500000010000010000001000000010000001000000100000100000001000001000000500000010000000100000050000005000000100000001000000010000000500000500000010000001000000010000000100000001000000010000000100000001000000100000001000000100000500000100000500000500000010000001000000050000100000005000001000001000000100000005000001000000050000001000000500000001000005000000100000001000000100000100000001000000500000100000100000001000000500000010000005000001000000100000010000001000000010000000500000010000005000000100000005000001000000010000000100000050000001000000100000001000000010000001000000050000001000000500000010000000100000001000000500000010000010000001000001000000500000500000100000100000010000500000100000100000100000050000001000005000000500000100000001000005000000100000100000010000001000000100000050000001000000100000010000005000001000000050000010000001000000001000000050000000500000050000005000001000000100000010000001000000050000500001000000100000001000000500000050000001000000100000050000005000000100000001000000050000001000000010000005000000010000000100000001000000010000000100000001000000500000100000010000001000001000000010000001000005000050000010000001000005000000010000000100000050000050000001000000100000010000000100000100000100000010000050000001000000500005000001000005000000010000000500000100000010000010000005000001000005000001000000100000050000050000010000010000005000000500000500000050000001000000500000010000005000001000000050000001000000010000010000001000000050000001000000100000010000001000000010000100000005000001000001000000100000010000001000000100000010000050000001000000100000010000005000500000010000100000500000100000010000010000001000001000001000000500000500000500000050000050001000001000050000100000100001000001000000100000500000100000050000100000001000000500000100000010000005000005000001000000100000010000000100000001000000050000010000005000000100000010000000500005000010000100000100010000010000100000500000050000100000001000100000500001000005000010000010000500005000010000010000010000000100001000001000010000500050000050000001000001000000100001000000100050000010000001000001000000100001000000500000500000100000500005000005000001000000100000500000010000000100000100000005000000100000050000001000000100000001000000100000050000001000000050000050000001000000010000001000000100000005000000100000010000000500000001000000500000500000100000050000001000000100000010000010000001000000100000001000000100000010000000500000100000001000000100000010000010000010000000500000100000010000001000000100000100000100000010000001000000010000050000050000010000100000500000010000005000005000001000010000001000001000000050000050000010000100000010000010000000100000500005000100000100000010000050000100000010000010000005000000500000500000100000050000010000001000001000000100000100000000100000000050000000010000000100000005000000010000000010000000050000000050000000010000000050000001000000001000000001000000001000000001000000100000000500000005000000100000000100000010000000050000000500000001000000050000000100000000100000000100000001000000010000000100000000500000010000000500000001000000005000000010000000100000001000000010000000010000000010000000100000000100000000100000000100000000010000000050000000010000000010000000050000000010000000010000000010000000100000000100000000100000005000000010000000100000001000000010000000010000000100000000500000050000000100000000500000000100000000500000001000000010000000010000000100000050000000010000000050000001000000010000000010000001000000001000000001000000001000000010000000010000000010000000100000000100000000100000000100000005000000010000001000000001000000001000000000500000000100000005000000050000000100000000100000000100000000100000000500000000500000005000000050000000100000000100000000100000001000000050000000100000001000000100000005000000500000010000000010000001000000100000001000000050000000500000100000010000000050000005000000100000005000000050000000100000001000000010000000500000001000000010000000050000005000000010000000100000010000000100000010000000100000005000000100000001000000010000005000000500000050000001000000050000005000000100000050000001000000010000001000000500000010000001000000010000000100000001000000100000050000001000000050000001000000010000010000001000000100000100000100000100000100000100000100000100000100000100000500000010000000050000000010000000010000000010000000100000005000000010000000500000010000000500000005000000100000001000000050000001000000010000000500000100000050000005000000050000001000000050000010000005000000050000001000000500000000100000000100000000100000000010000000010000001000000010000000500000001000000001000000001000000001000000001000000050000001000000500000000500000000100000000100000001000000010000000010000000010000000010000000050000000100000001000000010000000010000000500000001000000500000001000000001000000010000000100000000100000000500000005000000001000000001000000001000000050000001000000010000000010000000050000000100000000010000000010000000050000000010000000050000000100000000100000001000000005000000050000000100000005000000050000000100000001000000001000000010000000500000050000000100000005000000050000000100000001000000010000000100000001000001000000010000000100000000100000010000000010000001000000500000010000000100000001000000010000000100000000500000050000001000000010000050000000500000050000000100000005000000001000000005000000100000000100000000100000001000000010000000500000010000000100000000100000000500000005000000100000001000000001000000010000000100000000500000001000000001000000100000000100000001000000001000000010000000050000001000000010000005000000010000000100000005000000050000000500000010000000100000001000000005000000100000001000000001000000005000000050000000100000000500000001000000050000000100000001000000001000000500000050000001000000100000050000001000000100000500000050000000100000050000010000000500000500000010000005000001000000050000010000005000000010000000100000010000000500000010000005000000500000100000001000000100000010000000100000001000000001000000010000000100000010000000100000010000000010000000100000500000010000010000500050000001000001000000100000050000001000000100000010000001000000500000050000050000010000001000000500001000000100000010000000100000100000500000500000500010005001000000001000000010000000010000000100000010000000100000100000001000000500000050000010000000100000010000001000005000050000000500000100000005000001000000100000001000000100000500000010000001000000100000001000000100000001000000050000000100000005000000100000100000005000000100000001000000500000001000000100000001000000100000005000000100000001000000010000000500000010000005000000010000001000000050000050000050000010000010000010000001000010000000500000100000500000100001000010001000000050000001000000100000010000001000001000005000050000010000050000001000100000100050000100010010010005000500010001000010000500010000000100000010000001000000100000100000100000500000010000010001000010000500001000000010000001000000100000010000010000010000050000001000001000100001000050000100000000100000005000000010000000500000010000000500000010000000500000050000001000000005000000100000001000000050000001000000100000001000000050000005000000010000000500000010000001000000050000001000000100000010000001000000010000001000000500000050000001000000010000000100000001000000100000100001000010000100001000050005000100000500001000100005000010001000100001000100010001005000500050010001000010001001000500500010005001000500010000100010000100100050001000010001000100500001000100050005000100010000501000100001000100050050010005000100000010000001000000100000010000005000005000050000001000000100000010000050000010000100000050000050000050000005000050000010000005000001000001000001000001000005000001000001000000100000050000100000010000010000010000010000010000005000010000010000010005000001000000100001000000100010000050000010000050000500000100001000000100000500010000010000010000050001000001000001000005000010001000001000000500010000100005000010000010000100000100000500001000010000500001000010000100005000010000010005000010005000100010001000100000100000100000100005000100001000010000500010001000100050001000010001000050001001000100001000050001005000050001000100001001000100000150101500100500100050100100101010010010100501010010001010010500501001051050101501001010510101100500051010105501105051001001051001010010551050000010000010000001000000100001000100005000050000100010001000005010000010000500500010000500001000001000100000100000500010000001000050010005000100001050000010010000100001000001005000100001000050000100010001001000500005000010010005000010000100000100010000500100000500010000001000000000100000000050000000010000000100000000100000050000000010000010000000010000000100000000010000001000000100000050000001000001000000500000050000001000000500000010000000500000010000005000005000000500001000000010000005000000100000010000001000000010000000100000001000000010000000100000010000000010000001000000050000005000000100000001000000001000000010000000100000001000000005000000010000000500000001000000050000001000000010000000050000005000001000005000000001000000000100000050000010000000100000005000005000000001000000000100000000500000050000000100000010000000500000005000000050000001000000100000000100000001000000001000000010000000100000010000000050000005000000050000000100000001000000010000050000005000000500000001000000010000000100000001000005000000500000005000000010000000100000005000000010000000010000000100000001000000010000000100000050000001000000010000000010000000100000001000000050000001000000001000000010000000050000000100000000500000005000000010000001000000050000005000000100000010000001000000050000000100000001000000010000005000000100000001000000100000001000000100000005000000010000000100000001000000010000000100000001000000010000000100000005000000010000000100000001000000010000000100000000500000010000005000000100000010000001000000100000010000000500000500000100000010000000100000001000000001000000100000001000000050000000500000010000000100000010000000100000005000010000001000000100000001000000010000005000000100000010000001000000050000000100000010000000100000500000100000010000000010000000500000500000500000050000010000010000000100000010000000100000010000000010000000500000010000000500000010000001000000010000000050000001000000100000050000005000001000000010000000010000000100000010000001000000010000000100000001000000010000000100000010000000100000000500000050000050000010000005000000500000010000001000000050000000100000000500000100000010000000100000100000010000000010000001000001000000100000005000000100000000500000010000005000001000000010000005000000100000050000050000100000010000001000000000500000005000000100000001000000010000000500000001000000100000000100000010000050000001000000500000010000001000000500000050000000500000100000001000000050000000500000100000010000001000000001000000100000000500000001000000010000001000000500000010000000100000010000005000000100000001000000010000000010000000100000000100000001000000500000010000000005000000100000001000000050000005000000010000000010000000500000001000000001000000050000001000000001000000010000000010000001000000005000000010000001000000001000000100000010000001000000500000010000000010000000100000010000000500000010000001000000000500000010000000100000005000000500000010000000100000001000000050000001000000100000001000000010000000010000000100000001000000010000005000000050000001000000001000000010000010000000100000000100000000500000001000000001000000100000500000005000000050000000100000005000000100000001000000010000000010000000010000005000000100000001000000010000001000000050000000500000005000000050000000100000001000000010000000050000000100000000100000000100000000100000005000000010000000010000000010000000010000000050000001000000050000000100000000100000010000000100000010000000500000050000001000000010000000010000000100000001000001000000050000005000000010000000100000005000001000000010000005000000500000050000001000000010000001000000050000005000000500000050000005000000100000010000001000000050000001000000010000000500000010000010000001000000100000050000001000005000005000005000001000000100000001000005000000100000100000500000100000001000001000000500000500000010000050000001000000050000000500000050000001000000050000001000000010000001000000050000005000000500000010000000100000100000010000001000001000000100000100000010000001000005000050000010000010000001000001000001000000500001000000100000050000001000000100000050000001000000100000010000000100000050000001000050000100000100000010000000500000010000010000001000010000000500000050000001000000050000005000001000000100000005000000100000001000005000000100000005000000500000005000005000005000001000010000005000000500000010000000100000005000000010000000100000100000005000001000000500000010000005000000100000010000000100000050000005000000100000010000001000000100000001000000050000000500000010000005000001000000100000001000000050000010000000100000000100000050000001000000001000000010000000005000000050000005000000100000000100000005000000100000005000000010000000100000000010000000100000001000000010000001000000100000050000005000001000000001000005000000500000010000001000000100000001000000010000000100000005000000500000010000000100000001000000500000005000000100000050000001000000100000000100000050000001000000500000010000000100000001000000010000001000001000100000500000010000000100000000100000010000005000000500000010000000100000010000010000005000000500000010000001000000500000010000005000000100000010000000500000050000001000000100000010000000100000010000000500000010000001000000100000010000005000000100000500000001000000050000001000000010000001000000010000001000000100000001000000005000000100000010000000010000000500000010000000100000010000010000001000000050000001000000000100000001000000500000010000001000000500000500000100000010000000001000000010000000005000000001000000050000000500000001000000001000000100000001000000001000000001000000001000000050000000500000001000000010000000500000010000000100000010000000100000500000000100000001000000010000005000000100000001000000001000000010000000100000005000000001000000001000000010000000100000001000000010000000100000000100000001000000500000100000001000000050000100000100000100000001000000010000005000000100000010000000500000001000000010000000010000000500000001000000050000005000000010000000500000050000005000000050000001000000050000005000000100000010000001000000100000010000000100000001000000500000010000001000001000000100000500000005000000100000010000005000000010000000100000010000005000000500000010000000500000000100000005000000010000000010000000100000001000000100000000100000001000000100000010000000500000010000001000000100000001000000010000000010000000100000010000001000000010000000010000000100000001000000500000001000000100000000500000010000050000005000000100000010000000050000010000001000000100000050000000100000010000000100000001000000010000000100000001000000010000000100000000100000001000000050000010000000100000001000000100000050000000100000010000000100000000500000100000010000001000000050000005000000500000500000500000010000050000010000010000000010000000500000005000000100000010000001000000100000010000005000000100001000000050000001000000050000001000000050000001000000100000001000000010000000100000001000000010000000100000005000000100000000100000000100000050000005000000010000001000000100000010000005000000100000050000000100000001000000010000000100000010000000100001000001000000010000000100000001000000001000000100000001000000500000000100000001000000001000000010000000001000000010000000100000000100000001000000005000000100000010000000100000000500000001000000001000000010000000050000001000000001000000010000000100000050000000010000000100000005000000001000000001000000050000005000000500000010000000010000000500000001000000010000000050000005000000010000000050000000500000005000000010000000010000005000000010000005000001000000100000010000000100000010000000100000010000000100000010000001000000001000000050000001000000001000000010000001000000010000000010000005000000010000050000001000000010000001000000500000000100000000010000000010000000100000000100000000100000000100000001000000001000000001000000005000000001000000001000000005000000100000050000001000000100000001000000500000010000000100000010000000010000000100000000100000001000000010000000050000010000001000000100000010000001000000500000050000001000000100000005000000500000000100000001000001000000000500000010000000010000050000000010000001000000100000050000005000000001000050000001000010000001000010000100000100005000100000050000500001000001000000100000100001000000100000010000500001000050000100000050000010000010000010000010000010000100000100000050005000001000001000050000010000100000100000010000010000010000100000100000010000001000001000001000000100000100001000000500000001000000500000001000010000000100000010000000100000010000001000000100000005000000500000100000001000000500000050000001000000100000005000000100000050000001000000500000001000000100000100000001000000100000005000001000000100000001000001000000500000500000500000010000010000001000000000100000010000000100000010000001000000001000000010000000010000050000010000000010000000500000001000000100000010000000100000050000001000000100000001000000050000000100000000010000000100000050000000500000001000000500000005000000100000050000001000000100000010000001000000010000000100000005000000001000000500100000010000001000000100001000005000000005000000100000001000000100000001000000010000001000000100000001000000100000050000001000000100000005000000100000001000000100000005000000010000005000001000000100000001000000010000010000000001000000010000000500000000100000005000005000001000000100000010000001000000500000050000005000010000001000000100000010000005000000500000000100000010000005000000100000010000005000001000000100001000000100000000050000005000000001000000100000100000010000050000001000000100000010000005000000100000001000001000000100000001000000100000010000001000000010000000100000100000050000005000005000000100000010000000100000010000000100000005000000001000000010000000100000010000000100000010000000100000010000010000001000000500000050000001000000100000010000000100000005000000100000001000000010000000001000000500000050000000010000000050000001000000010000000500000050000001000000100000000500000005000001000000010000001000000100000010000000100000010000050000005000000500000050000001000000100000010000001000000100000100000100000010000005000000100000010000005000000100000010000005000000100000050000001000000100000010000000100000500000010000001000000100000005000010000001000000500000050000000010000000500000001000000100000050000010000000500000005000000500000000100000000100000010000100000000100000005000000050000010000500000000100000000100005000005000000050000050000001000000001000000000100000000100000050000010000000500000005000000050000100000000010000000100000000500000000100000000100000000010000000050000000100000000100000000100000001000000010000000050000050000010000000500000005000000010000000010000000100000001000000500000050000001000000000500000010000000050000010000000500000500000000500000010000000500000100000010000001000000001000000005000000100000000010000001000000001000000001000000100000010000000500001000000005000000010000000010000100001000000010010000000100500000001000050000010000005000100001000500000001005000050000500000000500001000000005000000010000000010000000100010005000500000001000005000010005005001000000001000000001000000100000050000100000100000005000050000000010000001000000000100005000010000001000000050000100010000100000500000000100001000000100001000001000500050000500010000100000500010000000010000100000100000500001000100000500050005000050001000010000500010000000010000000010000000100000001000000010000000010000000050000000500000000100000000500000000500000001000000001000000001000005000000010000050000000050000000100000001000000001000000001000000100000000100000000100000000100000500000100000000500000001000000001000000100000001000000050000001000001000000100000000100000001000000050000001000000001000000010000000010000001000000050000050000010000000100000000100000500000100000000100000000100000500000010000000010000000010000000100000005000001000000100000500000050000001000000000500000100000000010000000010000000100000000100000000100000010000000005000000001000000005000000010000500000100000010000000010000050005000050000000010000050000500005000001000500005000000001000000005000005000500000001010000050005005000001000005000005100005000010500000105001000000050001000010000000005000000050000000500000000500000005000000100000000010000000010000010000000001000000100000500010000100050000000500000010001000005000001000001001001000050000500010000000005000050005005000050005000010500100010000100100000000500000010000010000000100000001000001000000005000500010000005001000500000100005000100100000050005000000100010000100001000010000000500001000000100100010000100000000500005000010000100000050000100000000110000000500000500000050000000050000050000000100000010000001000000001000000100000000500000100000005000000010000000100000000010000000010000005000000500000010000000500000010000000500000010000000100000001000000100000010000000010000000100000000100000100005000000010000100000005000000010001000000001000010000010000005000000010000000100050000101000100000001000500100010000100010010001000010000100005001000000005000050000010000100000500000001000000010000010000000100010000010000010000010000050050001000000500000100000100010001000000010001000000001000100010000010000500010050001000100005000100000010000010000100100001000010000100000001000000005000000050000000500000050000000500000001000000050000010000000010000005000050000100000100000001000000500000100000010000000010000000100000100000500001000000010000000100000500000001000000010000000100000010000100000010000005000000010000050000000100001000001000100001000005000100005000050005000000001000001000010000001000000010000010000100001000010000010000100001000000010000100000010000050000001000000100000050000010000001000010000000100005000010000001000100000100000100005000100000010000050000005000000100001000000100000010005000001000050000100000050000100010000010000100000100000100005000010005000100001000010000001000000001000000001000010000010000001000000010000500001000010000010050000100500001000000500000500010000001000001000005000500000100000001000005000010000000100000001000000001000100510010001000001000000100105001100100001050001000000001001000010050000500150001000010000000010001000001001000100001000001000050010001000010001000050005001010000500010000050000010000005000005000001000050000100000010000001000000010000001000000050050000010000010001005000100001000001000050000010000100000100000500000001000000010001000501000010000500050001000001000000001000001000010001000100050000010001000001000000500010001000100001000050000510000100010100000100050110500050100000500010000010005000500001000001001001000005001050000000010000001000000001000000100000010001000001000000010000000010000000100000010001000000001000000500000005000005000050000100000010010000000010000000010000000500000001000000010000000100000000500000001000000100000010000100000100000010000001000000050000001000000001000000050000050000000100001000000010000100000001000000500000010000010000100000001000500050005000000100001000100001000001000000500050000100000010000001000000500000500000010000000100000001000000001000000005000001000050001000001000050000500005000010000010005000001000010000050000050001000010000100000100001000005000010000000100005000005000100001000001000001000010000010000010000050000010000050001000010000000100000050000000100000500000050000000010000001000005000001000000010000000010000000500000001000000500000005000000010000010000000050000050001000001000000100000100000100000100000000501000000100005000010000100010000050000050005000100005000010000010000010000100000000500050001000000005001000000001000000050001000000001000500000005000010000000500000001000010000000500010000010000000100001000000100001000000500050000005000010000000100000005000000100001000000010000100000000500000005000000500000010000000010000050000001000005000000100000500005000100000001000000100000010000100000100000050000001000000010005000001000010000001000001000010000001000000500000500050000100000505000001000000100001000001000100000010000001000000100000100000500000100000100001000001000001000000500000005000001000000010000000100000000500000001000000010000000010000000100000001000000500000050000005000000500000010000000010000000010000000100000010000000050000100000001000000010000000500000050000000100000010000005000000010000000100000010000000050000001000001000000010000001000000500000050000100001000001000100000500000100000010000100000010000500000010000001000010000100100000050000010100000500010000001000050000001000000050000010000000100010000001000000050000001000000010000000100000010000000010000010000010000050000100000000100000005000100000001000000500000001000000100001000005000001000010000010001000010000050050000500000001000010000001000100000000100001000000100010001000000100000010000100000010000050000050000010000010000005000001000005000100001000000500001000001000010000100001000005000500005000500001000000100000100001000001000005000010000100001000010000001000001000000010000001000001000005000010005000010000010001000010000005000001000000050000010000001000000100005000001000000050000000100000010000500005000010000001000050000100000010000500001000000100001000001000100001000000100001000001000001000100000500010000001005000000500000500001000500005000000100001000001000001000100000100000100000500000010100000001000000100000050000005000010000050001000010000010000005000005000050000010000001000001000000100000100000050000500005000001000001000000100010000500000010001000100000100000100001000010000100001010000000100001000010000005000001005000010000100050000001000100001000100000001000010000500010010000000100010000010000100001000500000010000000500010010050010000500050100000000100000001005000001001000000050000001000100000010001000000100500000010001000000010010000000100000001000000050000001000000001000000010000001000000500000100000050010000100001000500050010000100010000100010005000100000100500010001001010010001000010001001000100501001000105050501005001000010010010010000100100055001105000010010000010010010005010050100005000010050100100100001001001000001001005000100501001001001005005010000050150100100100100101000001001005015010010500005010010000001000005000050001000000100050000100000010000100000100005000050000100000010000100000010000500010010001000100100010000010000050010000001000100000500010000500000010000000100100000100100100050001005001000100005001000050000005000050000100000100001000000100010010100100000010500100001005005001010001000100100101010100001001001001005050001005501000501010000055051010500000101010050010000010000010050000050000100010000100050001001000010000000500001000050010000005005001001000100100000001000000010000105000105001000100010100500010000500000001005000000100050000100000005000050000100010000100001000010000000500005000001000000010000000100000001000000100000100000050000100000010000010000005000000100000500000050000010000500005000001000000100000010000100000010000050000100000005000050000100000100000001000001000001000010000000100001000050000100010005000100010000500010000001000100010000100001000050001000050001000001000100000100000100000500000100001000000100000010000000100000100000001000000010000000500000010000000100000001000000010000005000000100000005000000500000010000000001000000050000001000000100000001000000100000100000050001000100000010000100100000001000001000000100000100000100000010001000000010000000100000000100000001000000050000001000000500000050000001000000050000001000001000000010000001000000010000000100000100000001000000050000001000000100000010000000500000001000010000010000010000000500000010000000100001000000010000001000000500010001000001000010000100001000050001005000100050001000100005000001000001000101000001000010000500010000100001000010000001005005000100010055000010100000010005000050001000101000000100010000001000005000050000010000010100101500500100001000100000005010001010510500000005000100001000000100000001000000050000000100000005000000100000010000000500000010000000100000050000005000000100001000001000000500000010000005000010000000100000050000001000000010000010001000000010000050000500000010000000100000010000010000050000000100001000001000010000100001000000500010000100050001000010000001000000500010000500001000100000100050001000000100005000010000100000050000005010000010000010000001000001000010000000100000001000005000050000050000100050000001000000010000000500000050000001000000010000000100000005000000005000000100000005000000500000010000000050000005000000100000050000000500000005000000100000010000000100000001000000050000000500000050000010000001000000100000001000000010000005000000500000050000005000000100000050000001000000500000100000500000010000001000000100000010000001000001000000010000010000005000001000005000000100000100000100000500000100000100001000001000005000010000001000000001000000100000010000100010000001000005000010000010000100001000100000100000010000010000010001000010010000010000100050000100001000100100010000005000001000100005000500010000010001000010000100100000010001000000100005000010000100000000100000100000100005000100010001000000010001000000010000100000500010000010000005000010005000100010000000500005000010000100050000000100000005000010000100005000100010000100000010000000500050100000001000000100100000100000100010000005000100100000100000500100000500005001000000100010000050000101000100000510050010010050005000010000005000000100010001000005000100000001000010000000100000100000010100000100000100000100010010001000000100000100001000005000001000010000001000010000100000100500010000050000100100010005050050001050005100001000000101050000500005010000100100100011000001000010001000505000005001000100010050000050100500050001005000100500110001010500000110001001000010010000101000010110001000010000010000101000100010510000000001100001000000100000005000000100000001000000010000000100000001000000050000005000000100000001000001000010000001000000100000500000500010000100001000010000100050050010000010000100010000500100005000010001000010000100010010001000010000100000010000010005000100001000005000100001000050000100010000001000500500010005000500000110010000100001100001005100010000100100000100001000010000500001000100000100005000050000500001000010010001050050000100000010000010000000100000100000000105000000100000100000005000500000100010000010001000100100050005000000500005010050010050010000001000500005000100005010501000050010001000001000100010010005001001000100010050500100000500100100010050000001000000100005000100000050000050000010000100005000500000500001010005000100001000001000100001000100010000500500100100010000050000500050000100005001000050000010000050001001000001000005000500000100001000000100000500500010010500100100000100000100000005000001000001000000001001000500001000001000000010000010001000050000001000001000000100050000000500000001000005000000050000005000500010000010000000100005000000010000010000000100000001000000500000010000001000000010010000000100000001000100001000010000500001000000500001000005000000100000001000010001000005000010005000000100000100000050000010001000100010001000005000100000010005000100005010505000050000100100000100000010000010001000010005001000100005001000001000100100010000510005000100001000000010001000500100010050001001000101001001010010001010001000100000500001005005001000100000010000005001000500100100010010100010010000005000000101000005000010001010000000100000100500000010001000010500000501000000100000050000001000001000010000101000001001000001000000001000005000010000000500005010000010000005000001000000010000005000000100001000001000005001000001000000100001000100010000105001000100000101010001010050010001000001001011010001000105000100005000100050000500001001000000500001000100005005000110501005001000005000001000001000010005000100001000000001000100001001000010000100100001100010001000010000000500050001000000100000010000000501000000010000000100000001010500000001000000010000000100000005000000050000005000000100000001000000100000001000000050000005000000100000500000100001000050000500100001005001000500050000100100010010000500000100005000000100500001000000010500100100000050010010000050010510000000101000000010010100000010000005100100000100001000001000001000005000001000001000005000000500000010001000005000500010000500050100505010010000010001000050010010000000010000010001000101000010001000010001000100005000100005000010000100005100001005000100100100001000100005055000001000010000100000100001000010000010000001000000500010000100000100000101000005000010000100000100000100010000100010010000500000100500005000501001010000500100100010010051000010001000010001005010105001000010000010000000010000005000010000005000010000010010010001000050010010000100005000010010000010001000100100010100001000005500100100000100050015001050010100100000010000001000501000010010001001010500100010000000500000500010000050000010010000010000010000100100001050000050001000010001001000010000500010001001050005000010000500050001000010005000100010005050005000010005000100001000100001000100001000050001000100050101000000001000001000000100010000500000005000000010001000000001001000050010000010100050000001000000010000100000010001000000100100000010001000100000005000000100000001000050000005000100000005000000050000000100000010000100001000010000500000010000005000001000100010000001000001000000010001000010005010000500010000100001000500100010050100100050000050001000100010001010001000005000010001000100010001000050100150000010000100000010000005000100000010050001000100100000010001000500050100010005050000001001005010000500050000500010000010000050100000001000500000500010000001001000010000000100000050000501005000000100501005101000500000010000010000001000000100000500001000000010000050005000100100001000500500010000010010000100000050001000050101000001001000510050000505000100001000100000001000001000010500100000500000010000001000000100001000000010000100000001000001000000500001000100000050000050501000500005000100101001001000010001001005000100050000500100501000005010000500001000010100010000050100000101000000100000100001000010001000000100050000001000001000000100050000050001000010000100005000500000500001000010000000100000010001000005005005000000500500100000010001000000500000100010000100001000005001000010010000500010000005000010010500100100010005000010010550001000000100010000100001000101001010010001010000100010000005001010005010010001050100100010010005001005050010001010010500000001000100001000100000000100100100100500500100000050010001001000001001005001005010010010010101001010500000100500100000105050100000005000000100000100005000000100000500001100051000000100000050100000100050001000100005000010000010000100050005001000001000010000010005000500010000001001001000000500100101001000000501010000100010000100000100050000500100050001000010100100010000005000001001050000105050001000010000001000010050001001000010010010050100100010005000500010010001000110000500100010000010050000001000000500100000005000000100000010001000010000001000000010000000500010000001000050000050000050000010001000000500000500005000000100000050000050000010000000100000010000010000010000001000000100000001000000100000010000050000000500000010000001000005000001000001000005000001000000100000010000010000050000050000050000005000050000010000050000001000001000000100000100000100000050000010000010000010000001000000100000010000001000010010000010001001001000100001000100010500005010100010100000500100001000500010000005001000100100010005000500005001000100001005000001001000100050001000505001000010000100000001000100000500000050001000010001010000010000001005001000100001000010500010001000000100000100500010000100100100000010000100000100000500000001001000000100010001000001000050000500100000101005001000000501000105010000010001000100500101001001000100100010501000010010101005050005005005000055005000000100001000000500000105005000010010010010005500100001050010000100500101005005001005005000100005100010000010010005005100550100050005050510000100001000100001001000010001000010050001000010005001001000500005000010001000100000501000500100100010010050005000000050010010010000000501505010001000000010110010005500000010000010001000010050000001000001000100100010010010050010050010010010001001010010100100010000100010010010050100100000001001001005010010010100100500100100500500001000050000001000050001000100010000500010000010010000100010010000100100050050010001000500050005000010010050010010010000105001000100010000100001005050010001050100010000010005000100050001000000010000001000005005000050005100010001000000505001000010100005000100000010100010050000010000050000010000050000001000100000010000010000500001000050000100010001000010005000001000001005000001001500100500050001000010101001000001010000050010010100050100100505100010001000105000100001000005050000001050010100050000000100050001000050000001001000100100001000010000001000000500010000001001000500500000100100100000100000500000100100000100000005000010001010005005000050000100000050010100000001001000000101010000000105010000010000500000010000001000000500000100000001000050000100000100000005001000050000100001001001050000005000100050005005050001000000101001010001000005000100010100500001010500000010001000010000000100000010000105100001000001000001000001000100005000000010010101010005000500000100000500000100010001000050005000000010000100100010000000500000011100500100000005500010101000010100100501005000000001000000001000001000000005000000010000001000000050000005000000100000100000500000500000010000010000000010000010000005000000010000001000010000010000010000010000100000500001000001000005000005001000050000010000100001000000100001000000010000100000100000500000100000010000500010010100000001000001000010000010000010000100000010000000100000500000100000010000000500000010000005000000100000010000000500000050000010000001000000500000010000000100000010000001000000100000010000001000005000001000005000000100005000000100000010000500001000010000100000010001001000000100001000050001000010010000001000010000010001000050001000500010001000010000001000010001000001000010000100050000500001000500000100050010000100000050001000100001005005000000100001000000100100010001000100010000001000005000010000100000500100005000001000010001000100010000010100050005000100000010000500001000010000010000005005001000000101000100100100100010000010000100100100000050010050010000005001001000055000100500000010000100010000001000100100000100010000050050010105005000105510000010000010100001100100000500000100001000100001000000010100001001010000050000500000050000001000005010001005010000010010000010001000010000005000000100000005000001000001000005001000001000010000005000005001001001000000500010000100000050000050000100005000005000100001001000100055000100100001000005000050005000000100100100500500005000100050100100000010000000010000005000001000000100000005000000100010000010000100000100000500001000050000100500010000050000010000100100010000010000100001010000005000001000100000010010000500010000500001000505000010000500000500010000010000500001000050005000010050000500001000500010000100010001010001000500100050001000010000100000500010001001005000500001000010010001000010001000100001001001000000100501000001000010050001001000100050501001001000050100000100001000010001000005000010000100001000010000100001000010000100005000050000500001000010000100005000010000050000100001000500001000050001005000000500001000000500000010000000100000001000000001000000050000010000001000010000010000001000000100000100005000005000100000100000100001000050000100000100000100000100010000005000010000001000001000500010000001000010000100000500010000500010000010000100001000010000500001000100010000010000500050000100001000005000500050000005000005000500001000010000010010500000010000010050000500010010000005001001001001000010100501000000500500050001001000000100101015000001000100000100010000010005000005000050000100000005000500000100010000005000000500000050001000001000100001000010000001000010000100001000500005001000100010005001000005005000500100001050001001001000050050500101005050100500100050500000100001000005010001000550010000000010000005000010000010050005000000500100010010000100100010001001005000010005000100100100100101010000005005100100000010010101000000010000005000100000051000005000001000010000100001000000100000001000001000010000100010000001000010000500000100000100000101000000101010005000050000500001051010001000151000010000010100010000010010000010500105000500100000100100005000001000000100010000100000100000005000000100000005000000010000500000010000005000000100000001000000100000001000000500000010000000100000001000000050000100000005000000100001000000010000000100000001000000050000001000000010000000500005000010000000500000050005000005000100010000100001000010050050500000100010000500500100050010000100001000100010000101000010000500050001001000010100001001000001050001000100010001001100010000100000001000000500000010000000500000500000050000100001000000010000001000010005000000100010000005000500000001001000000050050005000010005000000100010000500001000000050000000500000100500010000050500050050050100010000500050001050001000000010000000100000005000000100000001000000050000001000000100000001000000050000000100000010000000100000010000000500000010000000100000010000000050000000500000005000000500000001000000010000000500000010000000100000001000001000100100000001000050010001000010050000100010500100100100100010001010010050050010000100105000005051010000000101010010050000010005110500000050010050000001000001000010000501000100000010000100010001000100100000005001000010000101000100000050010000100010050000010010010010000100101001010000100100001001000000050000001000000050000000500000010000010005000000100000001000000100000010000000100000100005000010010000005000001000100000010000100050000001000005000001000000010000500000010000005010000001000001000000010000010000010001000000010000000100010010000000100000010000001000000001000000050000000100000001000000050000010000000010000000100000500000050000010000000100000001000000001000000500000001000000050000000100000001000000001000000010000000500000010000000100000001000000100000100000100000100000010001000100050000100050001000010000100000100010000500001000010001000005001000000500001000001000110050000100001001010100001010000001000100005001000500501001001001000001105000010000000500000050000000100000001000001000000100000001000000100000010005000000100005000500000010100000100000005000000100001000000100000010000005000010000000100001000000010000001000001000000100000010000001000010000500050001000005000100010001000500010000100010001010005000100010001001000010005000510100100500050000050500100500010010050510101001001010000100001000100505000010000101000005005000100000101050500101001001005000510105000010000010000010000001100000001000001000500000500005000010000005000050000100005000000500000010000001000000100000000100000010000000100000001000000050000001000000100000001000000001000005000000500000001000000010000001000000100000001000000100000100000005000001000000100000100000010000005000001000001000000100000050000010000010000000010000001000001000005000010000001000001000001000000100000001000000100000100000005000001000010000050000010000001000005000500000500001000001000001000050000010000050001000001000001000100000010005000100010000100001000001000005000010050001000001000010000100005000500010001000050000050001000500010000500001000001000001000050000010050000100010000100001000001000010000001000001000000050011000001000000100000010000010000500000100000100000100000100000100000100000001000010000010000001000000100000010000001000000100000010001000000100100000100000001000500000001000000010000000050000001000005000001000000100000010000001000000100000005000001000000100000001000000100005000005000001000000010000005000000100005005000010000010000010000001000000100005000010000010010000001000001000010000100010000100000005000010000001000000100050000010000050000100000050001000000100000010000001000000050000010000005000005000000500000100000010000001000005000005000050000100000500100050000100100505001000005010001000001010001005001000000100000010000000100055001000010100100000101000000500000010000100100010050050100050010000100050005001000000500100010000001000000010001001000101010105001005011000100000001000005000000100010100050010010000000100010010000010000500001000050000010000000010000001000000001000000010000000100000010000010000000100000010000005000000100000500005000005000005000000100000050000100000500001000001000005000010000050000500005000050005000000100000500001000000010000000500010000100000001000000500001000010005000100001000010000100010001000050100050000100001000000100000100500050000100001005000010000100010010000010001000100100010000500050000010000050100100500101000050001000100010000010000010000010000001000001000010000100001000001000100000010000500001001050001000100001000100010005000001000010005001000100001001001000105000100000100001001000100100010010000101050050001000010050010500000500000100005000500050000010000050001001000500010000001000100001000001000100000101000050000500100010000500500050001000050005000500010100505005050105001001005000505001000010000500001001000100001005000100105010001001010000500005000010000501000010000010000100100000005010000001000001000001000001000010000101000050000100000100001100050000110000050005000010000100100010000001000001010000010005000100001001001000500050010001000005001000010000100010000100005001000010001000050001010100001500000005000000050000000100000001000000010000000100000001000000001000000050000010000001000000050000005000001000500000010000001000000100000005000000100000050000001000000010000000100000010000000010000001000001000001000000100000010000001000000100000001001000010000101005010005000001000100000100100000050005050001010000000100000100050100010000050001010100000110000100000100010051000100001010100010000500010000500001000001000005100001000100000010000005000100010000010000050010001000010000105000010000010050100010010001000501000010001001000010050010500005010010010500500100100010000100100010010110001101001000005000010000100005000100000500001000005000100005000050000100010000100010010001005000100050010000500501005000100100500100050100500100501500001000010005100005000100010010001001000000100000001001000050000100050100010001001000001001000100005001000105010010001050100000100000001000000100000100001001000010000001000000500000001000100000100000050000050000050000100000100000010000001000000100000500001000000100000001000010000000100000010000010000100100010010001000005010050000010050005000000100001000000100000010000000500001000050000050000005000001000000010000005000001000000100000500000010000000500000050000005000005000001000000010000010000000100000100000100000001000000010000100000010000050000001000010000005010010010100001001000100005101010050500010000500000100000050001010000001000000500000010100000001000050000500010000001000500000010000000100000001000000100050000100100000010010000005001000100000010001000000110000000101000000100000050100510000001000000500000010000001000010010000010000005000010001000000500000100000010000100000050000005000005000001000000100010000500005000500000100001000001000005000001000000100000100000050000100000100000010000100010000500100001000050000000100505000500050005001000101000100001010010500100050010010001000000010005000010000000100000010000001000100050001000000100500110000001000100000010050000001000000010000001000001000010000010000010000010000050000010000050000100000010001000000100000010000010000100000500000010000010000100000100000010000000100000001000005000000100000100001000005000000100000100000001000000500000010000000100000100000005000000500000500000100000005000001000000100000500000500000100000010005000000500000100000010000005000005000100000500000050000010000010000005000005000000010000001000000050000050000005000000100000500000500000100000100000001000000010000000100000100010000000100000005000000100000001000000100000010000000100000001000000100000005000000100000001000000100000100000005000001000000010000000100000001000000500000010000000500000050000001000000100000050000005000000010000000100000005000000100001000100001010001001010010501001010001010101000010501501010000005000000100100100000001001000000050000010010000001000000100000050050000000100000010000000100000010000000100000050000010000001000000500000005000010010010050050000100100010100501001000100100505000100500000100000010000050010001010501005005000000100001000005001000000100010000100100100000100000001010000000100001000000100000100000010000010000010000000500500010000001000001000005000050000500000100005000001000050000100010000100010000010001000050001000500050000010000001000005000001000005000001050000500050001000100005001000001000001000500001000100050000001000000050005001000000100000005000001000000010000010000010000001000000100000050000010000010000001000000100000050000010001000005000500001000100005000010000500500010000001000100100100005000000050000010010000000500005000000100005001000000010000010000050000001000000100000001000050050001000001000001000005000000050000100000100000500005000000500000010000001000000005000000050000000100000000010000000100000050000005000010000000500000050000000100000001000000010000000100000001000000050000001000000050000005000000050000001000000010000050000100010001000005000010005000100010001000100500010000100001000500001000010000100100505001000001000010000001000100010005005001000500001000100010010010005000000501000500050101000100010501001001001010001001000100100010000100010105000050101010051000010001005000000100101000000100001000000100000500001000005000050000100010000100010001000500010000100010001010010001001000100010010005500050001000100000010005000001000500100000100000100000001000000100000010005000000500500000100000010000001000000100000100000100000100000005001010000010055010010000010100000010051001010000101000010000010100000105000000010000010000500000050010000000100005000050000010000010000010000000500010000050000005000010000001000000010000005000000100000001000000100000500000010000000100000500000100005000000500005000005000500000500050000500010005000100000100005000500050005010000001000100000100000010000005000001001000001000005000000500050000500500000010001005000000500010000010050005000010000100050500100010010001000100510000100050001005500100010055001000050010000101000000015001005101010005010000100100000010000001000000010000100000100000500100000010050000050000005000010000001000000500000100000010000010000100001000500001000001000001000001000000100005000500000100050000100001000010000500001000000100010000010000005000100005000010000100005000100000500010001000010000010005000050005000100010001001000001000005100000001000000100000050005000100050010000005000000500000010001000000100000001000100010001000000001050000001000000010000000100000010000000100000001000000010000005000000010000005000001000000500000001000001000000100000010000500000100000050000010000050000500000100000001000050000005001000001000005000050000050001000001000005000500010000001000001000005000100010000100000100005050001000001000050010000100001000000100000500000100001000010000100001000000100500001000010000500001000001000000001000001000050010000005000100001000050001000010005000050010010000100001000001005000010000010001000010000050000005005000010000500100001000001000010000050001000010000010001000001000001000010000500100000100010000001010001100000010001000050005000001000010001000010005000100001001000001000050100001000050000100000050000001000500010005000010001050010000000010010500100100100010001000100010010010010001000010005001001000500101005010010001001000010050001010001005005000100010000001000101001010100005010000005000000500000010001000000010000100000001050000000500000010000100000010000001000000010000001000000100000005000001000005000000100000050000050000010000001000000500000500000010000500010100100005001000500100010001000500000005000100050010050010010001001100010000001005001000500000010000100500000010001000050000000500001000001005001000000500000010000010000005000001001000001000000100001000010000010000001000050000010000100000010001000010000001000100050000050001000100000100500050000500000500010000010000010000100005000050000010000100000Free100000001000500005000010000100050000500000500000100001001000100100001000500010000001000050010005000000100100100501000010010010010000000100000010000000100000100000001000000050000010000000101000000100000500000001000000500005001001000000101000010000000100000010000010101000000100001010110000010010550100501001010000155010105010105000000010101000055000000510001010051010510100105000055000000100000100010000500001000010000050001000100005000100000500001000010000010005000100050005000100050001000500100010005000500050000100010000050010000100001000100005000010100500050005005000100101000050001001000000500010010000100001005010000010000105010001000100010000010005000100001000500010000000500100001000010001000005000001000010000100000100000010000000010000100001010100000501100010051050101010500101000010005000105101000000101000000105050010010000100000100000100000100000050000001000000100001000010000000100000100010050010010010010010011005010001500501001005001000000001100100000001000000100000010000050000001000001000000010000005000100010000001001000001000000010000100010000005000010000000100000005000050000001000001000010010010010005000500000100000001000000100050010011000500010100010000010005000100000010000100005000500001000000100010001000105000011000001000005001000010010000010001001010110100000100001000010001000000010000500001000000010000500005000050050000500005000010000005000001000100000100000010000005010000050001000100001000000100000100500100500001000000100100100010000500005000001001000001000050001000501010010000100500000050001000010000100000500010000010005001050001001000100010000000 to numeric"
     ]
    }
   ],
   "source": [
    "# fill missing values\n",
    "df_feature.installs = df_feature.installs.fillna(df_feature.installs.mean())\n",
    "\n",
    "# recheck the previous samples\n",
    "\n",
    "# CODE HERE\n",
    "type(df_feature.installs[5])"
   ]
  },
  {
   "cell_type": "markdown",
   "id": "2046bd03",
   "metadata": {},
   "source": [
    "#### Type: (Gaia)"
   ]
  },
  {
   "cell_type": "code",
   "execution_count": 11,
   "id": "b3474271",
   "metadata": {
    "ExecuteTime": {
     "end_time": "2022-04-12T18:37:32.522090Z",
     "start_time": "2022-04-12T18:37:32.509738Z"
    }
   },
   "outputs": [
    {
     "data": {
      "text/plain": [
       "'Free'"
      ]
     },
     "execution_count": 11,
     "metadata": {},
     "output_type": "execute_result"
    }
   ],
   "source": [
    "# fill missing values\n",
    "df_feature[df_feature['type'].isna()] #9148\n",
    "df_feature.type=df_feature.type.fillna(df_feature.type.value_counts().idxmax())\n",
    "   \n",
    "# recheck the previous samples (checking the only row with nan)  \n",
    "df_feature[df_feature['type'].isna()]\n",
    "df_feature.type.loc[9148]"
   ]
  },
  {
   "cell_type": "markdown",
   "id": "fcb787a9",
   "metadata": {},
   "source": [
    "#### Price: (Beste)"
   ]
  },
  {
   "cell_type": "code",
   "execution_count": 17,
   "id": "495195b6",
   "metadata": {},
   "outputs": [],
   "source": [
    "# fill missing values\n",
    "df_feature.price.fillna(df_feature.price.value_counts().idxmax(), inplace=True)"
   ]
  },
  {
   "cell_type": "markdown",
   "id": "78a2751d",
   "metadata": {},
   "source": [
    "#### Content Rating: (Beste)"
   ]
  },
  {
   "cell_type": "code",
   "execution_count": null,
   "id": "46f7c597",
   "metadata": {},
   "outputs": [],
   "source": [
    "# fill missing values\n",
    "df_feature.content_rating.fillna((df_feature.content_rating.mean()), inplace=True)\n",
    "\n",
    "# recheck the previous samples\n",
    "df_feature.loc[10837:10840]"
   ]
  },
  {
   "cell_type": "markdown",
   "id": "009975b9",
   "metadata": {},
   "source": [
    "#### Genres: (Beste)"
   ]
  },
  {
   "cell_type": "code",
   "execution_count": null,
   "id": "9ccc93e3",
   "metadata": {},
   "outputs": [],
   "source": [
    "# fill missing values\n",
    "\n",
    "# CODE HERE\n",
    "\n",
    "# recheck the previous samples\n",
    "\n",
    "# CODE HERE"
   ]
  },
  {
   "cell_type": "markdown",
   "id": "d01f4ac4",
   "metadata": {},
   "source": [
    "#### Last Updated: (Beste)"
   ]
  },
  {
   "cell_type": "code",
   "execution_count": null,
   "id": "cf703ea7",
   "metadata": {},
   "outputs": [],
   "source": [
    "# fill missing values\n",
    "\n",
    "# CODE HERE\n",
    "\n",
    "# recheck the previous samples\n",
    "\n",
    "# CODE HERE"
   ]
  },
  {
   "cell_type": "markdown",
   "id": "8c730ee1",
   "metadata": {},
   "source": [
    "#### Current Verison: (Beste)"
   ]
  },
  {
   "cell_type": "code",
   "execution_count": null,
   "id": "930e9a8c",
   "metadata": {},
   "outputs": [],
   "source": [
    "# fill missing values\n",
    "\n",
    "# CODE HERE\n",
    "\n",
    "# recheck the previous samples\n",
    "\n",
    "# CODE HERE"
   ]
  },
  {
   "cell_type": "markdown",
   "id": "1478c751",
   "metadata": {},
   "source": [
    "#### Android Version: (Beste)"
   ]
  },
  {
   "cell_type": "code",
   "execution_count": null,
   "id": "eda2ecd7",
   "metadata": {},
   "outputs": [],
   "source": [
    "# fill missing values\n",
    "\n",
    "# CODE HERE\n",
    "\n",
    "# recheck the previous samples\n",
    "\n",
    "# CODE HERE"
   ]
  },
  {
   "cell_type": "markdown",
   "id": "56089841",
   "metadata": {},
   "source": [
    "### 4.2) Review Data"
   ]
  },
  {
   "cell_type": "code",
   "execution_count": 11,
   "id": "340ab23a",
   "metadata": {},
   "outputs": [
    {
     "data": {
      "text/plain": [
       "array([    2,     7,    15, ..., 64292, 64293, 64294], dtype=int64)"
      ]
     },
     "execution_count": 11,
     "metadata": {},
     "output_type": "execute_result"
    }
   ],
   "source": [
    "# check some sample row locations for empty cells to view: np.where(df_feature.isnull())\n",
    "np.unique(np.where(df_review.isnull())[0])"
   ]
  },
  {
   "cell_type": "code",
   "execution_count": 12,
   "id": "cafbcee9",
   "metadata": {},
   "outputs": [
    {
     "data": {
      "text/html": [
       "<div>\n",
       "<style scoped>\n",
       "    .dataframe tbody tr th:only-of-type {\n",
       "        vertical-align: middle;\n",
       "    }\n",
       "\n",
       "    .dataframe tbody tr th {\n",
       "        vertical-align: top;\n",
       "    }\n",
       "\n",
       "    .dataframe thead th {\n",
       "        text-align: right;\n",
       "    }\n",
       "</style>\n",
       "<table border=\"1\" class=\"dataframe\">\n",
       "  <thead>\n",
       "    <tr style=\"text-align: right;\">\n",
       "      <th></th>\n",
       "      <th>app</th>\n",
       "      <th>translated_review</th>\n",
       "      <th>sentiment</th>\n",
       "      <th>sentiment_polarity</th>\n",
       "      <th>sentiment_subjectivity</th>\n",
       "    </tr>\n",
       "  </thead>\n",
       "  <tbody>\n",
       "    <tr>\n",
       "      <th>2</th>\n",
       "      <td>10 Best Foods for You</td>\n",
       "      <td>NaN</td>\n",
       "      <td>NaN</td>\n",
       "      <td>NaN</td>\n",
       "      <td>NaN</td>\n",
       "    </tr>\n",
       "    <tr>\n",
       "      <th>3</th>\n",
       "      <td>10 Best Foods for You</td>\n",
       "      <td>Works great especially going grocery store</td>\n",
       "      <td>Positive</td>\n",
       "      <td>0.4</td>\n",
       "      <td>0.875</td>\n",
       "    </tr>\n",
       "    <tr>\n",
       "      <th>4</th>\n",
       "      <td>10 Best Foods for You</td>\n",
       "      <td>Best idea us</td>\n",
       "      <td>Positive</td>\n",
       "      <td>1.0</td>\n",
       "      <td>0.300</td>\n",
       "    </tr>\n",
       "    <tr>\n",
       "      <th>5</th>\n",
       "      <td>10 Best Foods for You</td>\n",
       "      <td>Best way</td>\n",
       "      <td>Positive</td>\n",
       "      <td>1.0</td>\n",
       "      <td>0.300</td>\n",
       "    </tr>\n",
       "    <tr>\n",
       "      <th>6</th>\n",
       "      <td>10 Best Foods for You</td>\n",
       "      <td>Amazing</td>\n",
       "      <td>Positive</td>\n",
       "      <td>0.6</td>\n",
       "      <td>0.900</td>\n",
       "    </tr>\n",
       "    <tr>\n",
       "      <th>7</th>\n",
       "      <td>10 Best Foods for You</td>\n",
       "      <td>NaN</td>\n",
       "      <td>NaN</td>\n",
       "      <td>NaN</td>\n",
       "      <td>NaN</td>\n",
       "    </tr>\n",
       "  </tbody>\n",
       "</table>\n",
       "</div>"
      ],
      "text/plain": [
       "                     app                           translated_review  \\\n",
       "2  10 Best Foods for You                                         NaN   \n",
       "3  10 Best Foods for You  Works great especially going grocery store   \n",
       "4  10 Best Foods for You                                Best idea us   \n",
       "5  10 Best Foods for You                                    Best way   \n",
       "6  10 Best Foods for You                                     Amazing   \n",
       "7  10 Best Foods for You                                         NaN   \n",
       "\n",
       "  sentiment  sentiment_polarity  sentiment_subjectivity  \n",
       "2       NaN                 NaN                     NaN  \n",
       "3  Positive                 0.4                   0.875  \n",
       "4  Positive                 1.0                   0.300  \n",
       "5  Positive                 1.0                   0.300  \n",
       "6  Positive                 0.6                   0.900  \n",
       "7       NaN                 NaN                     NaN  "
      ]
     },
     "execution_count": 12,
     "metadata": {},
     "output_type": "execute_result"
    }
   ],
   "source": [
    "# print some interval with empties to check the imputation results later\n",
    "df_review.loc[2:7]"
   ]
  },
  {
   "cell_type": "markdown",
   "id": "d03d0513",
   "metadata": {},
   "source": [
    "#### Translated Review: (Gaia)"
   ]
  },
  {
   "cell_type": "code",
   "execution_count": 47,
   "id": "2f6c7987",
   "metadata": {
    "ExecuteTime": {
     "end_time": "2022-04-12T17:47:51.434912Z",
     "start_time": "2022-04-12T17:47:51.414620Z"
    }
   },
   "outputs": [
    {
     "data": {
      "text/html": [
       "<div>\n",
       "<style scoped>\n",
       "    .dataframe tbody tr th:only-of-type {\n",
       "        vertical-align: middle;\n",
       "    }\n",
       "\n",
       "    .dataframe tbody tr th {\n",
       "        vertical-align: top;\n",
       "    }\n",
       "\n",
       "    .dataframe thead th {\n",
       "        text-align: right;\n",
       "    }\n",
       "</style>\n",
       "<table border=\"1\" class=\"dataframe\">\n",
       "  <thead>\n",
       "    <tr style=\"text-align: right;\">\n",
       "      <th></th>\n",
       "      <th>app</th>\n",
       "      <th>translated_review</th>\n",
       "      <th>sentiment</th>\n",
       "      <th>sentiment_polarity</th>\n",
       "      <th>sentiment_subjectivity</th>\n",
       "    </tr>\n",
       "  </thead>\n",
       "  <tbody>\n",
       "    <tr>\n",
       "      <th>3</th>\n",
       "      <td>10 Best Foods for You</td>\n",
       "      <td>Works great especially going grocery store</td>\n",
       "      <td>Positive</td>\n",
       "      <td>0.4</td>\n",
       "      <td>0.875</td>\n",
       "    </tr>\n",
       "    <tr>\n",
       "      <th>4</th>\n",
       "      <td>10 Best Foods for You</td>\n",
       "      <td>Best idea us</td>\n",
       "      <td>Positive</td>\n",
       "      <td>1.0</td>\n",
       "      <td>0.300</td>\n",
       "    </tr>\n",
       "    <tr>\n",
       "      <th>5</th>\n",
       "      <td>10 Best Foods for You</td>\n",
       "      <td>Best way</td>\n",
       "      <td>Positive</td>\n",
       "      <td>1.0</td>\n",
       "      <td>0.300</td>\n",
       "    </tr>\n",
       "    <tr>\n",
       "      <th>6</th>\n",
       "      <td>10 Best Foods for You</td>\n",
       "      <td>Amazing</td>\n",
       "      <td>Positive</td>\n",
       "      <td>0.6</td>\n",
       "      <td>0.900</td>\n",
       "    </tr>\n",
       "  </tbody>\n",
       "</table>\n",
       "</div>"
      ],
      "text/plain": [
       "                     app                           translated_review  \\\n",
       "3  10 Best Foods for You  Works great especially going grocery store   \n",
       "4  10 Best Foods for You                                Best idea us   \n",
       "5  10 Best Foods for You                                    Best way   \n",
       "6  10 Best Foods for You                                     Amazing   \n",
       "\n",
       "  sentiment  sentiment_polarity  sentiment_subjectivity  \n",
       "3  Positive                 0.4                   0.875  \n",
       "4  Positive                 1.0                   0.300  \n",
       "5  Positive                 1.0                   0.300  \n",
       "6  Positive                 0.6                   0.900  "
      ]
     },
     "execution_count": 47,
     "metadata": {},
     "output_type": "execute_result"
    }
   ],
   "source": [
    "# in this case we can delete the rows with NaN values in this column.\n",
    "\n",
    "df_review=df_review.dropna(subset=['translated_review'])\n",
    "\n",
    "# recheck the previous samples\n",
    "\n",
    "df_review.loc[2:7]"
   ]
  },
  {
   "cell_type": "markdown",
   "id": "c9e01afe",
   "metadata": {},
   "source": [
    "#### Sentiment: (Gaia)"
   ]
  },
  {
   "cell_type": "code",
   "execution_count": 50,
   "id": "a866dfcf",
   "metadata": {
    "ExecuteTime": {
     "end_time": "2022-04-12T17:48:33.029194Z",
     "start_time": "2022-04-12T17:48:33.009779Z"
    }
   },
   "outputs": [
    {
     "ename": "AttributeError",
     "evalue": "'NoneType' object has no attribute 'sentiment'",
     "output_type": "error",
     "traceback": [
      "\u001b[0;31m---------------------------------------------------------------------------\u001b[0m",
      "\u001b[0;31mAttributeError\u001b[0m                            Traceback (most recent call last)",
      "Input \u001b[0;32mIn [50]\u001b[0m, in \u001b[0;36m<module>\u001b[0;34m\u001b[0m\n\u001b[1;32m      1\u001b[0m \u001b[38;5;66;03m# fill missing values\u001b[39;00m\n\u001b[0;32m----> 3\u001b[0m df_review\u001b[38;5;241m=\u001b[39m\u001b[43mdf_review\u001b[49m\u001b[38;5;241;43m.\u001b[39;49m\u001b[43msentiment\u001b[49m\u001b[38;5;241m.\u001b[39mfillna(\u001b[38;5;124m'\u001b[39m\u001b[38;5;124mNeutral\u001b[39m\u001b[38;5;124m'\u001b[39m, inplace\u001b[38;5;241m=\u001b[39m\u001b[38;5;28;01mTrue\u001b[39;00m) \u001b[38;5;66;03m#in this case it makes more sense to use Neutral instead o the\u001b[39;00m\n\u001b[1;32m      4\u001b[0m \u001b[38;5;66;03m#most used categorical value\u001b[39;00m\n\u001b[1;32m      5\u001b[0m \n\u001b[1;32m      6\u001b[0m \u001b[38;5;66;03m# recheck the previous samples\u001b[39;00m\n\u001b[1;32m      8\u001b[0m df_review\u001b[38;5;241m.\u001b[39mloc[\u001b[38;5;241m2\u001b[39m:\u001b[38;5;241m7\u001b[39m]\n",
      "\u001b[0;31mAttributeError\u001b[0m: 'NoneType' object has no attribute 'sentiment'"
     ]
    }
   ],
   "source": [
    "# fill missing values\n",
    "\n",
    "df_review=df_review.sentiment.fillna('Neutral', inplace=True) #in this case it makes more sense to use Neutral instead o the\n",
    "#most used categorical value\n",
    "\n",
    "# recheck the previous samples\n",
    "\n",
    "df_review.loc[2:7]"
   ]
  },
  {
   "cell_type": "markdown",
   "id": "f52cf5c1",
   "metadata": {},
   "source": [
    "#### Sentiment Polarity: (Beste)"
   ]
  },
  {
   "cell_type": "code",
   "execution_count": null,
   "id": "de5ef1f3",
   "metadata": {},
   "outputs": [],
   "source": [
    "# fill missing values\n",
    "\n",
    "# CODE HERE\n",
    "\n",
    "# recheck the previous samples\n",
    "\n",
    "# CODE HERE"
   ]
  },
  {
   "cell_type": "markdown",
   "id": "bf42d4fa",
   "metadata": {},
   "source": [
    "#### Sentiment Subjectivity: (Beste)"
   ]
  },
  {
   "cell_type": "code",
   "execution_count": null,
   "id": "c8c72f34",
   "metadata": {},
   "outputs": [],
   "source": [
    "# fill missing values\n",
    "\n",
    "# CODE HERE\n",
    "\n",
    "# recheck the previous samples\n",
    "\n",
    "# CODE HERE"
   ]
  },
  {
   "cell_type": "markdown",
   "id": "a4588988",
   "metadata": {},
   "source": [
    "After completing the imputation, we will check for the remaining empty cells."
   ]
  },
  {
   "cell_type": "code",
   "execution_count": null,
   "id": "638a3cc1",
   "metadata": {},
   "outputs": [],
   "source": [
    "# check if there are any empty entries left\n",
    "# print(\"Anidb:\", df_anidb.isnull().values.sum(), \"empty entries.\")\n",
    "# print(\"Boxoffice:\", df_boxof.isnull().values.sum(), \"empty entries.\")"
   ]
  },
  {
   "cell_type": "code",
   "execution_count": null,
   "id": "f2cc6952",
   "metadata": {},
   "outputs": [],
   "source": [
    "# check if there are any empty entries left\n",
    "plotEmpty([\"Feature\", \"Review\"], df_feature, df_review)"
   ]
  },
  {
   "cell_type": "code",
   "execution_count": 13,
   "id": "cceb3b33",
   "metadata": {},
   "outputs": [
    {
     "data": {
      "text/html": [
       "<style type=\"text/css\">\n",
       "</style>\n",
       "<table id=\"T_580be_\" style='display:inline'>\n",
       "  <caption>Feature</caption>\n",
       "  <thead>\n",
       "    <tr>\n",
       "      <th class=\"blank level0\" >&nbsp;</th>\n",
       "      <th class=\"col_heading level0 col0\" >rating</th>\n",
       "    </tr>\n",
       "  </thead>\n",
       "  <tbody>\n",
       "    <tr>\n",
       "      <th id=\"T_580be_level0_row0\" class=\"row_heading level0 row0\" >count</th>\n",
       "      <td id=\"T_580be_row0_col0\" class=\"data row0 col0\" >9367.000000</td>\n",
       "    </tr>\n",
       "    <tr>\n",
       "      <th id=\"T_580be_level0_row1\" class=\"row_heading level0 row1\" >mean</th>\n",
       "      <td id=\"T_580be_row1_col0\" class=\"data row1 col0\" >4.193338</td>\n",
       "    </tr>\n",
       "    <tr>\n",
       "      <th id=\"T_580be_level0_row2\" class=\"row_heading level0 row2\" >std</th>\n",
       "      <td id=\"T_580be_row2_col0\" class=\"data row2 col0\" >0.537431</td>\n",
       "    </tr>\n",
       "    <tr>\n",
       "      <th id=\"T_580be_level0_row3\" class=\"row_heading level0 row3\" >min</th>\n",
       "      <td id=\"T_580be_row3_col0\" class=\"data row3 col0\" >1.000000</td>\n",
       "    </tr>\n",
       "    <tr>\n",
       "      <th id=\"T_580be_level0_row4\" class=\"row_heading level0 row4\" >25%</th>\n",
       "      <td id=\"T_580be_row4_col0\" class=\"data row4 col0\" >4.000000</td>\n",
       "    </tr>\n",
       "    <tr>\n",
       "      <th id=\"T_580be_level0_row5\" class=\"row_heading level0 row5\" >50%</th>\n",
       "      <td id=\"T_580be_row5_col0\" class=\"data row5 col0\" >4.300000</td>\n",
       "    </tr>\n",
       "    <tr>\n",
       "      <th id=\"T_580be_level0_row6\" class=\"row_heading level0 row6\" >75%</th>\n",
       "      <td id=\"T_580be_row6_col0\" class=\"data row6 col0\" >4.500000</td>\n",
       "    </tr>\n",
       "    <tr>\n",
       "      <th id=\"T_580be_level0_row7\" class=\"row_heading level0 row7\" >max</th>\n",
       "      <td id=\"T_580be_row7_col0\" class=\"data row7 col0\" >19.000000</td>\n",
       "    </tr>\n",
       "  </tbody>\n",
       "</table>\n",
       "&nbsp;&nbsp;&nbsp;&nbsp;&nbsp;&nbsp;&nbsp;&nbsp;&nbsp;&nbsp;<style type=\"text/css\">\n",
       "</style>\n",
       "<table id=\"T_4c047_\" style='display:inline'>\n",
       "  <caption>Review</caption>\n",
       "  <thead>\n",
       "    <tr>\n",
       "      <th class=\"blank level0\" >&nbsp;</th>\n",
       "      <th class=\"col_heading level0 col0\" >sentiment_polarity</th>\n",
       "      <th class=\"col_heading level0 col1\" >sentiment_subjectivity</th>\n",
       "    </tr>\n",
       "  </thead>\n",
       "  <tbody>\n",
       "    <tr>\n",
       "      <th id=\"T_4c047_level0_row0\" class=\"row_heading level0 row0\" >count</th>\n",
       "      <td id=\"T_4c047_row0_col0\" class=\"data row0 col0\" >37432.000000</td>\n",
       "      <td id=\"T_4c047_row0_col1\" class=\"data row0 col1\" >37432.000000</td>\n",
       "    </tr>\n",
       "    <tr>\n",
       "      <th id=\"T_4c047_level0_row1\" class=\"row_heading level0 row1\" >mean</th>\n",
       "      <td id=\"T_4c047_row1_col0\" class=\"data row1 col0\" >0.182146</td>\n",
       "      <td id=\"T_4c047_row1_col1\" class=\"data row1 col1\" >0.492704</td>\n",
       "    </tr>\n",
       "    <tr>\n",
       "      <th id=\"T_4c047_level0_row2\" class=\"row_heading level0 row2\" >std</th>\n",
       "      <td id=\"T_4c047_row2_col0\" class=\"data row2 col0\" >0.351301</td>\n",
       "      <td id=\"T_4c047_row2_col1\" class=\"data row2 col1\" >0.259949</td>\n",
       "    </tr>\n",
       "    <tr>\n",
       "      <th id=\"T_4c047_level0_row3\" class=\"row_heading level0 row3\" >min</th>\n",
       "      <td id=\"T_4c047_row3_col0\" class=\"data row3 col0\" >-1.000000</td>\n",
       "      <td id=\"T_4c047_row3_col1\" class=\"data row3 col1\" >0.000000</td>\n",
       "    </tr>\n",
       "    <tr>\n",
       "      <th id=\"T_4c047_level0_row4\" class=\"row_heading level0 row4\" >25%</th>\n",
       "      <td id=\"T_4c047_row4_col0\" class=\"data row4 col0\" >0.000000</td>\n",
       "      <td id=\"T_4c047_row4_col1\" class=\"data row4 col1\" >0.357143</td>\n",
       "    </tr>\n",
       "    <tr>\n",
       "      <th id=\"T_4c047_level0_row5\" class=\"row_heading level0 row5\" >50%</th>\n",
       "      <td id=\"T_4c047_row5_col0\" class=\"data row5 col0\" >0.150000</td>\n",
       "      <td id=\"T_4c047_row5_col1\" class=\"data row5 col1\" >0.514286</td>\n",
       "    </tr>\n",
       "    <tr>\n",
       "      <th id=\"T_4c047_level0_row6\" class=\"row_heading level0 row6\" >75%</th>\n",
       "      <td id=\"T_4c047_row6_col0\" class=\"data row6 col0\" >0.400000</td>\n",
       "      <td id=\"T_4c047_row6_col1\" class=\"data row6 col1\" >0.650000</td>\n",
       "    </tr>\n",
       "    <tr>\n",
       "      <th id=\"T_4c047_level0_row7\" class=\"row_heading level0 row7\" >max</th>\n",
       "      <td id=\"T_4c047_row7_col0\" class=\"data row7 col0\" >1.000000</td>\n",
       "      <td id=\"T_4c047_row7_col1\" class=\"data row7 col1\" >1.000000</td>\n",
       "    </tr>\n",
       "  </tbody>\n",
       "</table>\n",
       "&nbsp;&nbsp;&nbsp;&nbsp;&nbsp;&nbsp;&nbsp;&nbsp;&nbsp;&nbsp;"
      ]
     },
     "metadata": {},
     "output_type": "display_data"
    }
   ],
   "source": [
    "# create a function for side by side printing of dataframes\n",
    "def print_stacked(names, *dfs):\n",
    "    stacked = \"\"\n",
    "    for idx, df in enumerate(dfs):\n",
    "        stacked += df.style.set_table_attributes(\"style='display:inline'\").set_caption(names[idx])._repr_html_() + \"&nbsp;\"*10\n",
    "    display_html(stacked, raw=True)\n",
    "\n",
    "# observe numerical columns description of both tables\n",
    "print_stacked([\"Feature\", \"Review\"], df_feature.describe(), df_review.describe())"
   ]
  },
  {
   "cell_type": "markdown",
   "id": "111acfa5",
   "metadata": {},
   "source": [
    "## 5) Extract Date\n",
    "We will extract the date information from strings given in various formats.\n",
    "\n",
    "#### Feature Data:"
   ]
  },
  {
   "cell_type": "code",
   "execution_count": null,
   "id": "c6765092",
   "metadata": {},
   "outputs": [],
   "source": [
    "# replace missing dates"
   ]
  },
  {
   "cell_type": "code",
   "execution_count": null,
   "id": "6185f43f",
   "metadata": {},
   "outputs": [],
   "source": [
    "# extract the year in a new column 'update_year'\n",
    "df_feature.insert(loc=(df_feature.columns.get_loc('last_updated')),\n",
    "                        column='update_year', \n",
    "                        value=df_feature.last_updated.dt.year)\n",
    "\n",
    "# extract the month in a new column 'update_month'\n",
    "df_feature.insert(loc=(df_feature.columns.get_loc('last_updated')),\n",
    "                        column='update_month', \n",
    "                        value=df_feature.last_updated.dt.month)\n",
    "\n",
    "# extract the day in a new column 'update_day'\n",
    "df_feature.insert(loc=(df_feature.columns.get_loc('last_updated')),\n",
    "                        column='update_day', \n",
    "                        value=df_feature.last_updated.dt.day)\n",
    "\n",
    "# extract the day name in a new column 'update_weekday'\n",
    "df_feature.insert(loc=(df_feature.columns.get_loc('last_updated')),\n",
    "                        column='update_weekday', \n",
    "                        value=df_feature.last_updated.dt.day_name())"
   ]
  },
  {
   "cell_type": "code",
   "execution_count": null,
   "id": "7f3dca2b",
   "metadata": {},
   "outputs": [],
   "source": [
    "# observe generated columns with datatime content\n",
    "\n",
    "# CODE HERE"
   ]
  },
  {
   "cell_type": "markdown",
   "id": "7bb7a579",
   "metadata": {},
   "source": [
    "## 6) Join Data\n",
    "\n",
    "The data sets **Feature** and **Review** include different information for common apps. Thus, we will match the titles for existing entries in both sets and obtain a final set with all the combined information."
   ]
  },
  {
   "cell_type": "code",
   "execution_count": null,
   "id": "a5b9dd8c",
   "metadata": {},
   "outputs": [],
   "source": [
    "# create a copy to do not alter the original data\n",
    "temp = df_feature[['app']].copy()\n",
    "\n",
    "# drop duplicates of app in case any --> unnecessary, can be removed\n",
    "temp = temp.drop_duplicates(subset=['app'])\n",
    "unique_apps_f = temp['app'].tolist()\n",
    "\n",
    "# print sorted unique app\n",
    "temp.sort_values(by=['app'], ascending=True)"
   ]
  },
  {
   "cell_type": "code",
   "execution_count": null,
   "id": "e0659698",
   "metadata": {},
   "outputs": [],
   "source": [
    "# similarly create a copy of review set to do not alter the original data\n",
    "temp_r = df_review[['app']].copy()\n",
    "\n",
    "# drop duplicates of titles in case any --> unnecessary, can be removed\n",
    "temp_r = temp_r.drop_duplicates(subset=['app'])\n",
    "unique_apps_r = temp_r['app'].tolist()\n",
    "\n",
    "# print sorted unique titles\n",
    "temp_r.sort_values(by=['app'], ascending=True)"
   ]
  },
  {
   "cell_type": "code",
   "execution_count": null,
   "id": "ca6e0718",
   "metadata": {},
   "outputs": [],
   "source": [
    "# get a list of intersecting apps\n",
    "matches = list(set(unique_apps_f) & set(unique_apps_r))"
   ]
  },
  {
   "cell_type": "code",
   "execution_count": null,
   "id": "7ce298b3",
   "metadata": {},
   "outputs": [],
   "source": [
    "# filter dataframes for only matching apps\n",
    "df_f_part = df_feature[df_feature.app.isin(list(matches.values()))]\n",
    "df_r_part = df_review[df_review.app.isin(list(matches.keys()))]\n",
    "\n",
    "# merge two tables using the app column\n",
    "# TODO: 2 join with all and with avg from review part\n",
    "result = pd.merge(df_f_part, df_r_part, on=\"app\")"
   ]
  }
 ],
 "metadata": {
  "kernelspec": {
   "display_name": "Python 3 (ipykernel)",
   "language": "python",
   "name": "python3"
  },
  "language_info": {
   "codemirror_mode": {
    "name": "ipython",
    "version": 3
   },
   "file_extension": ".py",
   "mimetype": "text/x-python",
   "name": "python",
   "nbconvert_exporter": "python",
   "pygments_lexer": "ipython3",
   "version": "3.9.10"
  },
  "toc": {
   "base_numbering": 1,
   "nav_menu": {},
   "number_sections": true,
   "sideBar": true,
   "skip_h1_title": false,
   "title_cell": "Table of Contents",
   "title_sidebar": "Contents",
   "toc_cell": false,
   "toc_position": {},
   "toc_section_display": true,
   "toc_window_display": false
  },
  "varInspector": {
   "cols": {
    "lenName": 16,
    "lenType": 16,
    "lenVar": 40
   },
   "kernels_config": {
    "python": {
     "delete_cmd_postfix": "",
     "delete_cmd_prefix": "del ",
     "library": "var_list.py",
     "varRefreshCmd": "print(var_dic_list())"
    },
    "r": {
     "delete_cmd_postfix": ") ",
     "delete_cmd_prefix": "rm(",
     "library": "var_list.r",
     "varRefreshCmd": "cat(var_dic_list()) "
    }
   },
   "types_to_exclude": [
    "module",
    "function",
    "builtin_function_or_method",
    "instance",
    "_Feature"
   ],
   "window_display": false
  }
 },
 "nbformat": 4,
 "nbformat_minor": 5
}
