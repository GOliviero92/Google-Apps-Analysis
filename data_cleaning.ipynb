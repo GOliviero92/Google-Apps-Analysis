{
 "cells": [
  {
   "cell_type": "markdown",
   "id": "a1cb0659",
   "metadata": {},
   "source": [
    "# **Google Play Store Apps** - Data Cleaning\n",
    "\n",
    "This notebook includes the procedure of cleaning data with pandas methods on google play store apps data obtained from [Kaggle](https://www.kaggle.com/datasets/lava18/google-play-store-apps).\n",
    "\n",
    "## 1) Import Libraries"
   ]
  },
  {
   "cell_type": "code",
   "execution_count": null,
   "id": "ec3287bb",
   "metadata": {
    "ExecuteTime": {
     "end_time": "2022-04-13T06:42:55.445446Z",
     "start_time": "2022-04-13T06:42:55.445433Z"
    }
   },
   "outputs": [],
   "source": [
    "# import necessary libraries\n",
    "import numpy as np\n",
    "import pandas as pd\n",
    "import seaborn as sns\n",
    "import matplotlib.pyplot as plt\n",
    "import missingno as msno\n",
    "from IPython.display import display_html\n",
    "from packaging.version import parse, Version, LegacyVersion\n",
    "from packaging.utils import canonicalize_version\n",
    "import os, re"
   ]
  },
  {
   "cell_type": "markdown",
   "id": "c0137843",
   "metadata": {},
   "source": [
    "## 2) Data Acquisition\n",
    "\n",
    "Google play store apps data is acquired from [Kaggle](https://www.kaggle.com/datasets/lava18/google-play-store-apps) as two csv files *googleplaystore.csv* for app features and *googleplaystore_user_reviews.csv* for app reviews. We will load these datasets into two dataframes ***df_feature*** and ***df_review***.\n",
    "\n",
    "#### Feature Data:"
   ]
  },
  {
   "cell_type": "code",
   "execution_count": null,
   "id": "ed89d1f7",
   "metadata": {
    "ExecuteTime": {
     "end_time": "2022-04-13T06:42:55.447596Z",
     "start_time": "2022-04-13T06:42:55.447575Z"
    }
   },
   "outputs": [],
   "source": [
    "# load the feature data\n",
    "# df_feature = pd.read_csv('data/googleplaystore.csv', na_values = ['NaN', 'Varies with device'])\n",
    "df_feature = pd.read_csv('googleplaystore.csv')\n",
    "\n",
    "# sample feature data\n",
    "df_feature.head()"
   ]
  },
  {
   "cell_type": "code",
   "execution_count": null,
   "id": "c6a22b55",
   "metadata": {
    "ExecuteTime": {
     "end_time": "2022-04-13T06:42:55.449456Z",
     "start_time": "2022-04-13T06:42:55.449409Z"
    }
   },
   "outputs": [],
   "source": [
    "# observe the new dataframe details\n",
    "df_feature.info(verbose=True)"
   ]
  },
  {
   "cell_type": "code",
   "execution_count": null,
   "id": "14e2e76e",
   "metadata": {
    "ExecuteTime": {
     "end_time": "2022-04-13T06:42:55.452588Z",
     "start_time": "2022-04-13T06:42:55.452564Z"
    }
   },
   "outputs": [],
   "source": [
    "# missing values, show only columns with some empty\n",
    "df_feature.isna().sum().iloc[df_feature.isna().sum().to_numpy().nonzero()]"
   ]
  },
  {
   "cell_type": "code",
   "execution_count": null,
   "id": "b7b7b492",
   "metadata": {
    "ExecuteTime": {
     "end_time": "2022-04-13T06:42:55.454173Z",
     "start_time": "2022-04-13T06:42:55.454151Z"
    }
   },
   "outputs": [],
   "source": [
    "# missingno for features dataset, confirms the observations from previous cell\n",
    "msno.bar(df_feature, figsize=(8, 4), fontsize=11)"
   ]
  },
  {
   "cell_type": "markdown",
   "id": "44f1907a",
   "metadata": {},
   "source": [
    "#### Review Data:"
   ]
  },
  {
   "cell_type": "code",
   "execution_count": null,
   "id": "63251392",
   "metadata": {
    "ExecuteTime": {
     "end_time": "2022-04-13T06:42:55.455690Z",
     "start_time": "2022-04-13T06:42:55.455669Z"
    }
   },
   "outputs": [],
   "source": [
    "# load the review data\n",
    "# df_review = pd.read_csv('data/googleplaystore_user_reviews.csv', na_values = ['nan'])\n",
    "df_review=pd.read_csv('googleplaystore_user_reviews.csv')\n",
    "\n",
    "# sample review data\n",
    "df_review.head()"
   ]
  },
  {
   "cell_type": "code",
   "execution_count": null,
   "id": "14d5b426",
   "metadata": {
    "ExecuteTime": {
     "end_time": "2022-04-13T06:42:55.457045Z",
     "start_time": "2022-04-13T06:42:55.457026Z"
    }
   },
   "outputs": [],
   "source": [
    "# observe the new dataframe details\n",
    "df_review.info(verbose=True)\n",
    "\n",
    "# Observations (Gaia): the last three column are very consistent. Interesting to notice that there are 5 translated reviews\n",
    "# less than the sentiment columns values, and yet still those 5 non-existent reviews have been evaluated. How is it possible?"
   ]
  },
  {
   "cell_type": "code",
   "execution_count": null,
   "id": "74c43c93",
   "metadata": {
    "ExecuteTime": {
     "end_time": "2022-04-13T06:42:55.460179Z",
     "start_time": "2022-04-13T06:42:55.460160Z"
    }
   },
   "outputs": [],
   "source": [
    "# missing values, show only columns with some empty\n",
    "df_review.isna().sum().iloc[df_review.isna().sum().to_numpy().nonzero()]"
   ]
  },
  {
   "cell_type": "code",
   "execution_count": null,
   "id": "422b4986",
   "metadata": {
    "ExecuteTime": {
     "end_time": "2022-04-13T06:42:55.460948Z",
     "start_time": "2022-04-13T06:42:55.460937Z"
    }
   },
   "outputs": [],
   "source": [
    "# missingno for features dataset, confirms the observations from previous cell\n",
    "# ms.matrix(df_review)\n",
    "msno.bar(df_review, figsize=(2, 4), fontsize=11)"
   ]
  },
  {
   "cell_type": "code",
   "execution_count": null,
   "id": "d37e4a5d",
   "metadata": {
    "ExecuteTime": {
     "end_time": "2022-04-13T06:42:55.463331Z",
     "start_time": "2022-04-13T06:42:55.463315Z"
    }
   },
   "outputs": [],
   "source": [
    "# THIS CODE CAN BE USED AFTER DATA CLEANING, DO NOT RUN FOR NOW\n",
    "\n",
    "# save raw data for emergency uses\n",
    "#if not os.path.exists('data'):\n",
    "#    os.mkdir('data')\n",
    "#df_feature.to_csv(os.path.join('data', 'raw_feature.csv'), encoding='utf-8-sig')\n",
    "#df_review.to_csv(os.path.join('data', 'raw_review.csv'), encoding='utf-8-sig')"
   ]
  },
  {
   "cell_type": "markdown",
   "id": "50402843",
   "metadata": {},
   "source": [
    "## 3) Data Conversion and Feature Split\n",
    "We rename columns as code friendly for easier access. We will convert the 'object' type columns into str or numeric to perform imputation later by splitting the columns with multiple meaningful contents into separate columns."
   ]
  },
  {
   "cell_type": "code",
   "execution_count": null,
   "id": "15248fe0",
   "metadata": {
    "ExecuteTime": {
     "end_time": "2022-04-13T06:42:55.464692Z",
     "start_time": "2022-04-13T06:42:55.464678Z"
    }
   },
   "outputs": [],
   "source": [
    "# rename columns to remove spaces\n",
    "df_feature.columns = df_feature.columns.str.lower().str.replace(' ','_')\n",
    "df_review.columns = df_review.columns.str.lower().str.replace(' ','_')\n",
    "\n",
    "# show new column names\n",
    "print(\"Feature:\", end=\" \")\n",
    "print(*df_feature.columns.values, sep = \", \", end=\"\\n\")\n",
    "print(\"Review:\", end=\" \")\n",
    "print(*df_review.columns.values, sep = \", \", end=\"\\n\")"
   ]
  },
  {
   "cell_type": "markdown",
   "id": "f36b5eed",
   "metadata": {},
   "source": [
    "### 3.1) Feature Data\n",
    "\n",
    "The columns **category**, **rating**, **type** were already available for further operations without any conversion or split. We have worked on remaining columns of Feature data as below:"
   ]
  },
  {
   "cell_type": "markdown",
   "id": "afaa6d51",
   "metadata": {},
   "source": [
    "#### Reviews: (Gaia)"
   ]
  },
  {
   "cell_type": "code",
   "execution_count": null,
   "id": "9d5c6d9c",
   "metadata": {
    "ExecuteTime": {
     "end_time": "2022-04-13T06:42:55.467358Z",
     "start_time": "2022-04-13T06:42:55.467342Z"
    }
   },
   "outputs": [],
   "source": [
    "# convert to numeric by assigning errors as NaN\n",
    "df_feature.reviews = df_feature.reviews.apply(pd.to_numeric, errors='coerce')\n",
    "\n",
    "# recheck column info\n",
    "df_feature.reviews.info()"
   ]
  },
  {
   "cell_type": "markdown",
   "id": "03e52824",
   "metadata": {},
   "source": [
    "#### Size: (Gaia)"
   ]
  },
  {
   "cell_type": "code",
   "execution_count": null,
   "id": "319f322d",
   "metadata": {
    "ExecuteTime": {
     "end_time": "2022-04-13T06:42:55.469842Z",
     "start_time": "2022-04-13T06:42:55.469813Z"
    }
   },
   "outputs": [],
   "source": [
    "# remove size unit\n",
    "df_feature['size'] = pd.to_numeric(df_feature['size'].replace(r\"M\", \"\", regex=True), errors='coerce')\n",
    "\n",
    "# recheck column info\n",
    "df_feature[\"size\"].info()"
   ]
  },
  {
   "cell_type": "code",
   "execution_count": null,
   "id": "072a634b",
   "metadata": {
    "ExecuteTime": {
     "end_time": "2022-04-13T06:42:55.472209Z",
     "start_time": "2022-04-13T06:42:55.472195Z"
    }
   },
   "outputs": [],
   "source": [
    "df_feature.iloc[[1,1450,2144,10472]]"
   ]
  },
  {
   "cell_type": "markdown",
   "id": "e315d923",
   "metadata": {},
   "source": [
    "#### Installs: (Gaia)"
   ]
  },
  {
   "cell_type": "code",
   "execution_count": null,
   "id": "8f59ea20",
   "metadata": {
    "ExecuteTime": {
     "end_time": "2022-04-13T06:42:55.475251Z",
     "start_time": "2022-04-13T06:42:55.475235Z"
    }
   },
   "outputs": [],
   "source": [
    "# replace plus sign and comma with empty to remove it\n",
    "df_feature.installs = pd.to_numeric(df_feature.installs.replace(('\\+|,|'), '', regex=True), errors='coerce')\n",
    "\n",
    "# recheck column info\n",
    "df_feature.installs.info()"
   ]
  },
  {
   "cell_type": "markdown",
   "id": "6cb15364",
   "metadata": {},
   "source": [
    "#### Price: (Beste)\n",
    "All price information include a numeric value and the currency sign. Thus, we will remove the currency sign and set the price information as float."
   ]
  },
  {
   "cell_type": "code",
   "execution_count": null,
   "id": "782806d6",
   "metadata": {
    "ExecuteTime": {
     "end_time": "2022-04-13T06:42:55.476900Z",
     "start_time": "2022-04-13T06:42:55.476886Z"
    }
   },
   "outputs": [],
   "source": [
    "# replace currency sign with empty to remove it\n",
    "df_feature.price = pd.to_numeric(df_feature.price.str.replace(r\"$\", \"\", regex=True), errors='coerce')\n",
    "\n",
    "# recheck the previous samples\n",
    "df_feature.loc[475:477]"
   ]
  },
  {
   "cell_type": "markdown",
   "id": "dab8ec7e",
   "metadata": {},
   "source": [
    "#### Content Rating: (Beste)\n",
    "Ref: https://www.esrb.org/ratings-guide/"
   ]
  },
  {
   "cell_type": "code",
   "execution_count": null,
   "id": "64282b57",
   "metadata": {
    "ExecuteTime": {
     "end_time": "2022-04-13T06:42:55.479566Z",
     "start_time": "2022-04-13T06:42:55.479553Z"
    }
   },
   "outputs": [],
   "source": [
    "# see unique content_rating types\n",
    "df_feature.content_rating.unique()"
   ]
  },
  {
   "cell_type": "code",
   "execution_count": null,
   "id": "2b0b30ee",
   "metadata": {
    "ExecuteTime": {
     "end_time": "2022-04-13T06:42:55.481313Z",
     "start_time": "2022-04-13T06:42:55.481299Z"
    }
   },
   "outputs": [],
   "source": [
    "# find examples where it is \"Unrated\"\n",
    "np.where(df_feature.content_rating.str.contains(\"Unrated\"))"
   ]
  },
  {
   "cell_type": "code",
   "execution_count": null,
   "id": "cf094f14",
   "metadata": {
    "ExecuteTime": {
     "end_time": "2022-04-13T06:42:55.482472Z",
     "start_time": "2022-04-13T06:42:55.482460Z"
    }
   },
   "outputs": [],
   "source": [
    "# replace Unrated as missing (np.nan)\n",
    "df_feature.content_rating.replace('Unrated', np.NaN, inplace=True)\n",
    "\n",
    "# recheck the previous samples\n",
    "df_feature.loc[7311:7313]"
   ]
  },
  {
   "cell_type": "code",
   "execution_count": null,
   "id": "3c771b89",
   "metadata": {
    "ExecuteTime": {
     "end_time": "2022-04-13T06:42:55.485026Z",
     "start_time": "2022-04-13T06:42:55.485014Z"
    }
   },
   "outputs": [],
   "source": [
    "# see unique content_rating types\n",
    "df_feature.content_rating.unique()"
   ]
  },
  {
   "cell_type": "markdown",
   "id": "2770132c",
   "metadata": {},
   "source": [
    "#### Genres: (Beste)\n",
    "Since the genre includes one or more categories, we will split the column to be able to use these categorical tags. "
   ]
  },
  {
   "cell_type": "code",
   "execution_count": null,
   "id": "c7f8b3d8",
   "metadata": {
    "ExecuteTime": {
     "end_time": "2022-04-13T06:42:55.487749Z",
     "start_time": "2022-04-13T06:42:55.487736Z"
    }
   },
   "outputs": [],
   "source": [
    "# split genre tags as list items with delimeters ; and & and remove the items with comma (February 11, 2018)\n",
    "df_feature.genres = df_feature.genres.apply(lambda x: list(filter(lambda y:re.findall(r'^[^,]+$', y), list(set(list(map(str.strip, x.replace('&',';').split(';'))))))))\n",
    "\n",
    "# fix specific examples: \"Editors\", \"Home\" and \"Educational\"\n",
    "df_feature.genres = df_feature.genres.apply(lambda x: list(set([y.replace('Editors', 'Video Editors').replace('Home','House').replace('Educational','Education') for y in x])))\n",
    "\n",
    "# recheck the previous samples\n",
    "df_feature.iloc[[1,1450,2144,10472]]"
   ]
  },
  {
   "cell_type": "code",
   "execution_count": null,
   "id": "3369e57f",
   "metadata": {
    "ExecuteTime": {
     "end_time": "2022-04-13T06:42:55.489337Z",
     "start_time": "2022-04-13T06:42:55.489327Z"
    }
   },
   "outputs": [],
   "source": [
    "# unique tags are below, should ve also separate at & and remove similar ones (education:educational, house:home)\n",
    "df_feature.genres.explode().unique()"
   ]
  },
  {
   "cell_type": "markdown",
   "id": "2b6f6177",
   "metadata": {},
   "source": [
    "#### Last Updated: (Beste)"
   ]
  },
  {
   "cell_type": "code",
   "execution_count": null,
   "id": "f9158910",
   "metadata": {
    "ExecuteTime": {
     "end_time": "2022-04-13T06:42:55.490518Z",
     "start_time": "2022-04-13T06:42:55.490500Z"
    }
   },
   "outputs": [],
   "source": [
    "# transform not unique date string of the data into datetime form\n",
    "df_feature.last_updated = pd.to_datetime(df_feature.last_updated, errors='coerce')\n",
    "\n",
    "# extract the year in a new column 'update_year'\n",
    "df_feature.insert(loc=(df_feature.columns.get_loc('last_updated')),\n",
    "                        column='update_year', \n",
    "                        value=df_feature.last_updated.dt.year)\n",
    "\n",
    "# extract the month in a new column 'update_month'\n",
    "df_feature.insert(loc=(df_feature.columns.get_loc('last_updated')),\n",
    "                        column='update_month', \n",
    "                        value=df_feature.last_updated.dt.month)\n",
    "\n",
    "# extract the day in a new column 'update_day'\n",
    "df_feature.insert(loc=(df_feature.columns.get_loc('last_updated')),\n",
    "                        column='update_day', \n",
    "                        value=df_feature.last_updated.dt.day)\n",
    "\n",
    "# extract the day name in a new column 'update_weekday'\n",
    "df_feature.insert(loc=(df_feature.columns.get_loc('last_updated')),\n",
    "                        column='update_weekday', \n",
    "                        value=df_feature.last_updated.dt.day_name())\n",
    "\n",
    "# observe generated columns with datatime content (list of col vals to get the list of related column names)\n",
    "df_feature.loc[:,list(df_feature.columns.values)[10:15]].head()"
   ]
  },
  {
   "cell_type": "markdown",
   "id": "2b6de4e0",
   "metadata": {},
   "source": [
    "#### Current Version: (Beste)"
   ]
  },
  {
   "cell_type": "code",
   "execution_count": null,
   "id": "4ec8e706",
   "metadata": {
    "ExecuteTime": {
     "end_time": "2022-04-13T06:42:55.495057Z",
     "start_time": "2022-04-13T06:42:55.494999Z"
    }
   },
   "outputs": [],
   "source": [
    "# rename varying version with a shorter name\n",
    "df_feature.current_ver = df_feature.current_ver.str.replace(r\"Varies with device\", \"Varies\", regex=True)\n",
    "\n",
    "# set version string as version object (to be able to compare or sort later)\n",
    "df_feature.current_ver = df_feature.current_ver.apply(lambda x: x if pd.isna(x) else parse(canonicalize_version(x)))"
   ]
  },
  {
   "cell_type": "code",
   "execution_count": null,
   "id": "f6446ea7",
   "metadata": {
    "ExecuteTime": {
     "end_time": "2022-04-13T06:42:55.497832Z",
     "start_time": "2022-04-13T06:42:55.497820Z"
    }
   },
   "outputs": [],
   "source": [
    "# recheck the previous samples\n",
    "df_feature.loc[7311:7314]"
   ]
  },
  {
   "cell_type": "markdown",
   "id": "d5a6cf90",
   "metadata": {},
   "source": [
    "#### Android Version: (Beste)"
   ]
  },
  {
   "cell_type": "code",
   "execution_count": null,
   "id": "5b36f51a",
   "metadata": {
    "ExecuteTime": {
     "end_time": "2022-04-13T06:42:55.498960Z",
     "start_time": "2022-04-13T06:42:55.498941Z"
    }
   },
   "outputs": [],
   "source": [
    "# rename varying version with a shorter name\n",
    "df_feature.android_ver = df_feature.android_ver.str.replace(r\"Varies with device\", \"Varies\", regex=True)\n",
    "\n",
    "# crop \"and up\" from version number\n",
    "df_feature.android_ver = df_feature.android_ver.str.split(\"and up\", expand=True)[0]\n",
    "\n",
    "# set version string as version object (to be able to compare or sort later)\n",
    "df_feature.android_ver = df_feature.android_ver.apply(lambda x: x if pd.isna(x) else parse(canonicalize_version(x)))"
   ]
  },
  {
   "cell_type": "code",
   "execution_count": null,
   "id": "5c2ff647",
   "metadata": {
    "ExecuteTime": {
     "end_time": "2022-04-13T06:42:55.501592Z",
     "start_time": "2022-04-13T06:42:55.501571Z"
    }
   },
   "outputs": [],
   "source": [
    "# recheck the previous samples\n",
    "df_feature.loc[7311:7314]"
   ]
  },
  {
   "cell_type": "markdown",
   "id": "994d534a",
   "metadata": {},
   "source": [
    "### 3.2) Review Data\n",
    "All Review set columns were already available for further operations without any conversion or split. So we did not perform any column specific operation here. \n",
    "\n",
    "**NOTE:** *The sentiment function of textblob returns two properties, polarity, and subjectivity.*\n",
    "*Polarity is float which lies in the range of [-1,1] where 1 means positive statement and -1 means a negative statement. Subjective sentences generally refer to personal opinion, emotion or judgment whereas objective refers to factual information. Subjectivity is also a float which lies in the range of [0,1].*"
   ]
  },
  {
   "cell_type": "markdown",
   "id": "8446b12b",
   "metadata": {},
   "source": [
    "## 4) Data Imputation\n",
    "We check the initial empty cell rates per column within the data frame for further operations."
   ]
  },
  {
   "cell_type": "code",
   "execution_count": null,
   "id": "37acdfb1",
   "metadata": {
    "ExecuteTime": {
     "end_time": "2022-04-13T06:42:55.503215Z",
     "start_time": "2022-04-13T06:42:55.503203Z"
    }
   },
   "outputs": [],
   "source": [
    "# using missingno library to review missing values\n",
    "msno.matrix(df_feature, figsize=(15, 3), fontsize=11)\n",
    "msno.matrix(df_review, figsize=(15, 3), fontsize=11)"
   ]
  },
  {
   "cell_type": "code",
   "execution_count": null,
   "id": "1eb58814",
   "metadata": {
    "ExecuteTime": {
     "end_time": "2022-04-13T06:42:55.504698Z",
     "start_time": "2022-04-13T06:42:55.504679Z"
    }
   },
   "outputs": [],
   "source": [
    "# Additional plotting to see missing value percentage by columns\n",
    "# TODO: parametrize the text alignment and graph colors\n",
    "def findEmpty(df):\n",
    "    percentages = []\n",
    "    labels = []\n",
    "    str_ = \"\"\n",
    "\n",
    "    # iterate over data\n",
    "    for col in df.columns:\n",
    "        # percentage of null cells in the whole column\n",
    "        p_missing = np.mean(df[col].isnull())\n",
    "        # sum of null cells in the whole column\n",
    "        missing = df[col].isnull().sum()\n",
    "        percentages.append(p_missing*100)\n",
    "        labels.append(col)\n",
    "        # generate a string to print out results with numbers\n",
    "        if(missing):\n",
    "            str_ += \"\\n\" + col + \" - \" + str(missing) + \" / \" + str(len(df[col]))\n",
    "    return percentages, labels, str_\n",
    "\n",
    "def plotEmpty(names, *dfs):\n",
    "    # common plot calls\n",
    "    text_kwargs = dict(ha='left', va='top', fontsize=11)\n",
    "    plt.figure(num=None, figsize=(len(dfs)*6, 4))\n",
    "    \n",
    "    # color list to change color on each graph\n",
    "    colors = ['skyblue','teal','pink','turquoise','maroon','navyblue']\n",
    "    \n",
    "    for idx, df in enumerate(dfs):\n",
    "        percentages, labels, str_ = findEmpty(df)\n",
    "        \n",
    "        # plot results with bar plot\n",
    "        ticks = list(range(1, len(labels)+1))\n",
    "        plt.subplot(1, len(dfs), idx+1)\n",
    "        plt.bar(ticks, percentages, color=colors[idx])\n",
    "        plt.xticks(ticks, labels, rotation=75)\n",
    "        plt.ylim(0, 120)\n",
    "        plt.text(0.5, 125, str_, **text_kwargs)\n",
    "        for index, value in enumerate(percentages):\n",
    "            plt.text(index+1, value, str(int(value)), ha='center', va='bottom')\n",
    "        plt.ylabel('Percentages')\n",
    "        plt.title(names[idx]+' Empty Cell Percentages')\n",
    "        \n",
    "    plt.show()"
   ]
  },
  {
   "cell_type": "code",
   "execution_count": null,
   "id": "662fbbd7",
   "metadata": {
    "ExecuteTime": {
     "end_time": "2022-04-13T06:42:55.506045Z",
     "start_time": "2022-04-13T06:42:55.506034Z"
    }
   },
   "outputs": [],
   "source": [
    "# plot empty columns of datasets\n",
    "plotEmpty([\"Feature\", \"Review\"], df_feature, df_review)"
   ]
  },
  {
   "cell_type": "markdown",
   "id": "169af953",
   "metadata": {},
   "source": [
    "Here we see that some columns of Features set have very few numbers of missing entries. For those, we will drop the rows with missing entries. For larger amount of missing entries (or not missing but unusual values as in \"Varies\") we will apply individual solutions."
   ]
  },
  {
   "cell_type": "code",
   "execution_count": null,
   "id": "d6757e19",
   "metadata": {
    "ExecuteTime": {
     "end_time": "2022-04-13T06:42:55.507024Z",
     "start_time": "2022-04-13T06:42:55.507006Z"
    }
   },
   "outputs": [],
   "source": [
    "# drop rows with nan values in price, content_rating, last_updated, current_ver, android_ver \n",
    "nan_cols = df_feature.reviews.isnull() | df_feature.installs.isnull() | df_feature[\"type\"].isnull() | df_feature.price.isnull() | df_feature.content_rating.isnull() | df_feature.last_updated.isnull() | df_feature.current_ver.isnull() | df_feature.android_ver.isnull()\n",
    "df_feature.drop(df_feature[nan_cols].index, inplace=True)\n",
    "\n",
    "# check missing values\n",
    "msno.bar(df_feature, figsize=(8, 4), fontsize=11)"
   ]
  },
  {
   "cell_type": "markdown",
   "id": "a336c2cf",
   "metadata": {},
   "source": [
    "For reviews, if a row misses translated_review we will drop the row sice the sentiment analysis is invalid without a text."
   ]
  },
  {
   "cell_type": "code",
   "execution_count": null,
   "id": "dd05a456",
   "metadata": {
    "ExecuteTime": {
     "end_time": "2022-04-13T06:42:55.509741Z",
     "start_time": "2022-04-13T06:42:55.509718Z"
    }
   },
   "outputs": [],
   "source": [
    "# drop rows with nan values in sentiment, sentiment_polarity and sentiment_subjectivity \n",
    "df_review.dropna(subset=['translated_review'], inplace=True)\n",
    "\n",
    "# check missing values\n",
    "msno.bar(df_review, figsize=(2, 4), fontsize=11)"
   ]
  },
  {
   "cell_type": "markdown",
   "id": "8855c870",
   "metadata": {},
   "source": [
    "After dropping the empty rows, we may now fill NaN values with column specific solutions. There is only rating column which require some imputation.\n",
    "\n",
    "### 4.1) Feature Data"
   ]
  },
  {
   "cell_type": "code",
   "execution_count": null,
   "id": "099314f0",
   "metadata": {
    "ExecuteTime": {
     "end_time": "2022-04-13T06:42:55.512959Z",
     "start_time": "2022-04-13T06:42:55.512945Z"
    }
   },
   "outputs": [],
   "source": [
    "# check some sample row locations for empty cells to view: np.where(df_feature.isnull())\n",
    "# df_feature.iloc[np.unique(np.where(df_feature.isnull())[0])].head(3) # only rating is missing\n",
    "\n",
    "# print some interval with empties to check the imputation results later\n",
    "df_feature.loc[123:126]"
   ]
  },
  {
   "cell_type": "markdown",
   "id": "cebddbb5",
   "metadata": {},
   "source": [
    "#### Rating: (Gaia)"
   ]
  },
  {
   "cell_type": "code",
   "execution_count": null,
   "id": "cb2b96ba",
   "metadata": {
    "ExecuteTime": {
     "end_time": "2022-04-13T06:42:55.515883Z",
     "start_time": "2022-04-13T06:42:55.515868Z"
    }
   },
   "outputs": [],
   "source": [
    "# fill missing values\n",
    "df_feature.rating = df_feature.rating.fillna(df_feature.rating.mean())\n",
    "\n",
    "# recheck the previous samples\n",
    "df_feature.loc[123:126]"
   ]
  },
  {
   "cell_type": "markdown",
   "id": "a4588988",
   "metadata": {},
   "source": [
    "After completing the imputation, we will check for the remaining empty cells."
   ]
  },
  {
   "cell_type": "code",
   "execution_count": null,
   "id": "638a3cc1",
   "metadata": {
    "ExecuteTime": {
     "end_time": "2022-04-13T06:42:55.517378Z",
     "start_time": "2022-04-13T06:42:55.517366Z"
    }
   },
   "outputs": [],
   "source": [
    "# check if there are any empty entries left\n",
    "print(\"Feature:\", df_feature.isnull().values.sum(), \"empty entries.\")\n",
    "print(\"Review:\", df_review.isnull().values.sum(), \"empty entries.\")"
   ]
  },
  {
   "cell_type": "code",
   "execution_count": null,
   "id": "f2cc6952",
   "metadata": {
    "ExecuteTime": {
     "end_time": "2022-04-13T06:42:55.519004Z",
     "start_time": "2022-04-13T06:42:55.518994Z"
    }
   },
   "outputs": [],
   "source": [
    "# check if there are any empty entries left\n",
    "plotEmpty([\"Feature\", \"Review\"], df_feature, df_review)"
   ]
  },
  {
   "cell_type": "code",
   "execution_count": null,
   "id": "cceb3b33",
   "metadata": {
    "ExecuteTime": {
     "end_time": "2022-04-13T06:42:55.520487Z",
     "start_time": "2022-04-13T06:42:55.520477Z"
    }
   },
   "outputs": [],
   "source": [
    "# create a function for side by side printing of dataframes\n",
    "def print_stacked(names, *dfs):\n",
    "    stacked = \"\"\n",
    "    for idx, df in enumerate(dfs):\n",
    "        stacked += df.style.set_table_attributes(\"style='display:inline'\").set_caption(names[idx])._repr_html_() + \"&nbsp;\"*10\n",
    "    display_html(stacked, raw=True)\n",
    "\n",
    "# selected columns for Feature set\n",
    "sel_col = [\"rating\", \"reviews\", \"size\", \"installs\", \"price\"]\n",
    "\n",
    "# observe numerical columns description of both tables\n",
    "print_stacked([\"Feature\", \"Review\"], df_feature[sel_col].describe(), df_review.describe())"
   ]
  },
  {
   "cell_type": "markdown",
   "id": "7bb7a579",
   "metadata": {},
   "source": [
    "## 6) Join Data\n",
    "\n",
    "The data sets **Feature** and **Review** include different information for common apps. Thus, we will match the titles for existing entries in both sets and obtain a final set with all the combined information."
   ]
  },
  {
   "cell_type": "code",
   "execution_count": null,
   "id": "a5b9dd8c",
   "metadata": {
    "ExecuteTime": {
     "end_time": "2022-04-13T06:42:55.521150Z",
     "start_time": "2022-04-13T06:42:55.521140Z"
    }
   },
   "outputs": [],
   "source": [
    "# create a copy to do not alter the original data\n",
    "temp = df_feature.copy()\n",
    "\n",
    "# drop duplicates of app in case any\n",
    "temp = temp.drop_duplicates(subset=['app'])\n",
    "unique_apps_f = temp['app'].tolist()\n",
    "\n",
    "# check for duplicated entries in Feature set\n",
    "print(\"Initially duplicated entries in Feature set:\",df_feature.duplicated(subset=['app']).sum())\n",
    "# check for duplicated entries\n",
    "print(\"Remaining duplicated entries in Feature set:\",temp.duplicated(subset=['app']).sum())"
   ]
  },
  {
   "cell_type": "code",
   "execution_count": null,
   "id": "e0659698",
   "metadata": {
    "ExecuteTime": {
     "end_time": "2022-04-13T06:42:55.521957Z",
     "start_time": "2022-04-13T06:42:55.521948Z"
    }
   },
   "outputs": [],
   "source": [
    "# similarly create a copy of review set to do not alter the original data\n",
    "temp_r = df_review.copy()\n",
    "\n",
    "# drop duplicates of titles in case any\n",
    "temp_r = temp_r.drop_duplicates()\n",
    "unique_apps_r = temp_r['app'].tolist()\n",
    "\n",
    "# check for duplicated entries in Review set\n",
    "print(\"Initially duplicated entries in Review set:\",df_review.duplicated().sum())\n",
    "# check for duplicated entries\n",
    "print(\"Remaining duplicated entries in Review set:\",temp_r.duplicated().sum())"
   ]
  },
  {
   "cell_type": "code",
   "execution_count": null,
   "id": "73195c04",
   "metadata": {
    "ExecuteTime": {
     "end_time": "2022-04-13T06:42:55.523195Z",
     "start_time": "2022-04-13T06:42:55.523185Z"
    }
   },
   "outputs": [],
   "source": [
    "# get a list of intersecting apps\n",
    "matches = list(set(unique_apps_f) & set(unique_apps_r))\n",
    "\n",
    "print(\"Unique app names with feature:\",len(set(unique_apps_f)),\\\n",
    "      \"\\nUnique app names with review:\", len(set(unique_apps_r)),\\\n",
    "      \"\\nMatching unique apps with features and reviews\",len(matches))"
   ]
  },
  {
   "cell_type": "code",
   "execution_count": null,
   "id": "7ce298b3",
   "metadata": {
    "ExecuteTime": {
     "end_time": "2022-04-13T06:42:55.524996Z",
     "start_time": "2022-04-13T06:42:55.524983Z"
    }
   },
   "outputs": [],
   "source": [
    "# filter dataframes for only matching apps\n",
    "df_f_part = temp[temp.app.isin(list(matches))]\n",
    "df_r_part = temp_r[temp_r.app.isin(list(matches))]"
   ]
  },
  {
   "cell_type": "markdown",
   "id": "d4374bfa",
   "metadata": {},
   "source": [
    "##### Merge 1: OUTER (keep repeated rows of features)"
   ]
  },
  {
   "cell_type": "code",
   "execution_count": null,
   "id": "a350d83d",
   "metadata": {
    "ExecuteTime": {
     "end_time": "2022-04-13T06:42:55.528790Z",
     "start_time": "2022-04-13T06:42:55.528778Z"
    }
   },
   "outputs": [],
   "source": [
    "# MERGE TYPE 1: OUTER MERGE (keep repeated rows of features)\n",
    "result_outer = pd.merge(df_f_part, df_r_part, how=\"outer\", on=[\"app\", \"app\"])\n",
    "result_outer.head()"
   ]
  },
  {
   "cell_type": "markdown",
   "id": "136b4f61",
   "metadata": {},
   "source": [
    "##### Merge 2: AVERAGE (keep average of review sentiment columns)"
   ]
  },
  {
   "cell_type": "code",
   "execution_count": null,
   "id": "cebe92f8",
   "metadata": {
    "ExecuteTime": {
     "end_time": "2022-04-13T06:42:55.529534Z",
     "start_time": "2022-04-13T06:42:55.529524Z"
    }
   },
   "outputs": [],
   "source": [
    "# MERGE TYPE 2: AVERAGE MERGE (keep average of review sentiment columns)\n",
    "# groupby reviews on app name by taking average of numeric columns\n",
    "df_r_part_avg = df_r_part.groupby(\"app\", as_index=False).mean()\n",
    "\n",
    "# insert sentiment by average polarity as new column\n",
    "df_r_part_avg.insert(loc=(df_r_part_avg.columns.get_loc('sentiment_polarity')),\\\n",
    "                     column='sentiment',\\\n",
    "                     value=(np.where(df_r_part_avg.sentiment_polarity > 0,\"Positive\",\\\n",
    "                                     np.where(df_r_part_avg.sentiment_polarity < 0, \"Negative\", \"Neutral\"))))\n",
    "\n",
    "# observe the averaged results for reviews\n",
    "df_r_part_avg.head()"
   ]
  },
  {
   "cell_type": "code",
   "execution_count": null,
   "id": "65ac53d6",
   "metadata": {
    "ExecuteTime": {
     "end_time": "2022-04-13T06:42:55.530894Z",
     "start_time": "2022-04-13T06:42:55.530883Z"
    }
   },
   "outputs": [],
   "source": [
    "# merge tables with inner to keep intersection\n",
    "result_avg = pd.merge(df_f_part, df_r_part_avg, how=\"inner\", on=[\"app\", \"app\"])\n",
    "result_avg.head()"
   ]
  },
  {
   "cell_type": "code",
   "execution_count": null,
   "id": "9f9e69e6",
   "metadata": {
    "ExecuteTime": {
     "end_time": "2022-04-13T06:42:55.533095Z",
     "start_time": "2022-04-13T06:42:55.533084Z"
    }
   },
   "outputs": [],
   "source": [
    "# store variables for dataframes in the IPython databaseto start analysis on a clear notebook\n",
    "%store df_feature\n",
    "%store df_review\n",
    "%store result_outer\n",
    "%store result_avg"
   ]
  },
  {
   "cell_type": "code",
   "execution_count": null,
   "id": "1950175a",
   "metadata": {},
   "outputs": [],
   "source": []
  }
 ],
 "metadata": {
  "kernelspec": {
   "display_name": "Python 3 (ipykernel)",
   "language": "python",
   "name": "python3"
  },
  "language_info": {
   "codemirror_mode": {
    "name": "ipython",
    "version": 3
   },
   "file_extension": ".py",
   "mimetype": "text/x-python",
   "name": "python",
   "nbconvert_exporter": "python",
   "pygments_lexer": "ipython3",
   "version": "3.9.10"
  },
  "toc": {
   "base_numbering": 1,
   "nav_menu": {},
   "number_sections": true,
   "sideBar": true,
   "skip_h1_title": false,
   "title_cell": "Table of Contents",
   "title_sidebar": "Contents",
   "toc_cell": false,
   "toc_position": {},
   "toc_section_display": true,
   "toc_window_display": false
  },
  "varInspector": {
   "cols": {
    "lenName": 16,
    "lenType": 16,
    "lenVar": 40
   },
   "kernels_config": {
    "python": {
     "delete_cmd_postfix": "",
     "delete_cmd_prefix": "del ",
     "library": "var_list.py",
     "varRefreshCmd": "print(var_dic_list())"
    },
    "r": {
     "delete_cmd_postfix": ") ",
     "delete_cmd_prefix": "rm(",
     "library": "var_list.r",
     "varRefreshCmd": "cat(var_dic_list()) "
    }
   },
   "types_to_exclude": [
    "module",
    "function",
    "builtin_function_or_method",
    "instance",
    "_Feature"
   ],
   "window_display": false
  }
 },
 "nbformat": 4,
 "nbformat_minor": 5
}
